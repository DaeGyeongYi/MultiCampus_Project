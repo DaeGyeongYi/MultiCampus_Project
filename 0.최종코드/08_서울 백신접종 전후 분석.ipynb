{
 "cells": [
  {
   "cell_type": "code",
   "execution_count": 1,
   "id": "a0b142f9",
   "metadata": {},
   "outputs": [],
   "source": [
    "import pandas as pd\n",
    "import numpy as np\n",
    "import seaborn as sns\n",
    "import matplotlib.pyplot as plt\n",
    "%matplotlib inline\n",
    "import warnings \n",
    "warnings.filterwarnings('ignore')\n",
    "from IPython.core.interactiveshell import InteractiveShell\n",
    "InteractiveShell.ast_node_interactivity=\"all\" \n",
    "from datetime import datetime\n",
    "\n",
    "from scipy.stats import *\n",
    "np.set_printoptions(precision=6, suppress=True)\n"
   ]
  },
  {
   "cell_type": "code",
   "execution_count": 2,
   "id": "6d972304",
   "metadata": {},
   "outputs": [],
   "source": [
    "#seaborn 그리드 스타일\n",
    "sns.set_style(\"whitegrid\")"
   ]
  },
  {
   "cell_type": "code",
   "execution_count": 3,
   "id": "8dabcad2",
   "metadata": {},
   "outputs": [],
   "source": [
    "# 한글 문제\n",
    "# matplotlit의 기본 폰트에서 한글 지원되지 않기 때문에\n",
    "# matplotlib의 폰트 변경 필요\n",
    "import platform\n",
    "\n",
    "from matplotlib import font_manager, rc\n",
    "plt.rcParams['axes.unicode_minus'] = False\n",
    "\n",
    "if platform.system() == 'Windows':  # 윈도우\n",
    "    path = \"c:/Windows/Fonts/malgun.ttf\"\n",
    "    font_name = font_manager.FontProperties(fname=path).get_name()\n",
    "    rc('font', family=font_name)\n",
    "else:\n",
    "    print('Unknown system...  sorry~~~')"
   ]
  },
  {
   "cell_type": "markdown",
   "id": "dd52bbb5",
   "metadata": {},
   "source": [
    "# 1. csv 불러오기"
   ]
  },
  {
   "cell_type": "code",
   "execution_count": 4,
   "id": "084a7f41",
   "metadata": {},
   "outputs": [],
   "source": [
    "busan2020 = pd.read_csv('./movie_result/busan_movie_2020.csv',thousands=',').drop('Unnamed: 0',axis=1)\n",
    "seoul2020 = pd.read_csv('./movie_result/seoul_movie_2020.csv',thousands=',').drop('Unnamed: 0',axis=1)"
   ]
  },
  {
   "cell_type": "code",
   "execution_count": 5,
   "id": "3a24923f",
   "metadata": {},
   "outputs": [],
   "source": [
    "busan_tmp = pd.read_csv('./movie_result/2021_~02부산.csv',thousands=',').drop('Unnamed: 0',axis=1)[1:]\n",
    "seoul_tmp = pd.read_csv('./movie_result/2021_~02서울.csv',thousands=',').drop('Unnamed: 0',axis=1)[1:]"
   ]
  },
  {
   "cell_type": "code",
   "execution_count": 6,
   "id": "d8475a7e",
   "metadata": {},
   "outputs": [],
   "source": [
    "# 202008~202002 df합치기\n",
    "# busan_bv = pd.concat([busan2020,busan_tmp]).reset_index(drop=True)\n",
    "seoul_bv = pd.concat([seoul2020,seoul_tmp]).reset_index(drop=True)"
   ]
  },
  {
   "cell_type": "code",
   "execution_count": 7,
   "id": "e0c0ed19",
   "metadata": {},
   "outputs": [],
   "source": [
    "seoul_av = pd.read_csv('./movie_result/2021_03~06서울.csv',thousands=',').drop('Unnamed: 0',axis=1)[1:].reset_index(drop=True)\n",
    "avr_2019 = pd.read_csv('./movie_result/2019_평균자료_영화.csv')"
   ]
  },
  {
   "cell_type": "code",
   "execution_count": 8,
   "id": "e4a73a95",
   "metadata": {
    "scrolled": true
   },
   "outputs": [],
   "source": [
    "#string type을 datetime형으로 변환\n",
    "seoul_bv['주'] = [datetime.strptime(i,\"%Y-%m-%d\") for i in seoul_bv['주']]\n",
    "seoul_av['주'] = [datetime.strptime(i,\"%Y-%m-%d\") for i in seoul_av['주']]"
   ]
  },
  {
   "cell_type": "code",
   "execution_count": 9,
   "id": "0ad4d9a1",
   "metadata": {},
   "outputs": [
    {
     "data": {
      "text/html": [
       "<div>\n",
       "<style scoped>\n",
       "    .dataframe tbody tr th:only-of-type {\n",
       "        vertical-align: middle;\n",
       "    }\n",
       "\n",
       "    .dataframe tbody tr th {\n",
       "        vertical-align: top;\n",
       "    }\n",
       "\n",
       "    .dataframe thead th {\n",
       "        text-align: right;\n",
       "    }\n",
       "</style>\n",
       "<table border=\"1\" class=\"dataframe\">\n",
       "  <thead>\n",
       "    <tr style=\"text-align: right;\">\n",
       "      <th></th>\n",
       "      <th>지역</th>\n",
       "      <th>매출액</th>\n",
       "      <th>관객수</th>\n",
       "      <th>주</th>\n",
       "    </tr>\n",
       "  </thead>\n",
       "  <tbody>\n",
       "    <tr>\n",
       "      <th>0</th>\n",
       "      <td>서울시</td>\n",
       "      <td>3361656490</td>\n",
       "      <td>368804</td>\n",
       "      <td>2020-08-16</td>\n",
       "    </tr>\n",
       "    <tr>\n",
       "      <th>1</th>\n",
       "      <td>서울시</td>\n",
       "      <td>2189550260</td>\n",
       "      <td>247399</td>\n",
       "      <td>2020-08-23</td>\n",
       "    </tr>\n",
       "    <tr>\n",
       "      <th>2</th>\n",
       "      <td>서울시</td>\n",
       "      <td>1842116650</td>\n",
       "      <td>200100</td>\n",
       "      <td>2020-08-30</td>\n",
       "    </tr>\n",
       "    <tr>\n",
       "      <th>3</th>\n",
       "      <td>서울시</td>\n",
       "      <td>1733144880</td>\n",
       "      <td>188395</td>\n",
       "      <td>2020-09-06</td>\n",
       "    </tr>\n",
       "    <tr>\n",
       "      <th>4</th>\n",
       "      <td>서울시</td>\n",
       "      <td>1571785690</td>\n",
       "      <td>172993</td>\n",
       "      <td>2020-09-13</td>\n",
       "    </tr>\n",
       "    <tr>\n",
       "      <th>5</th>\n",
       "      <td>서울시</td>\n",
       "      <td>1686750342</td>\n",
       "      <td>194747</td>\n",
       "      <td>2020-09-20</td>\n",
       "    </tr>\n",
       "    <tr>\n",
       "      <th>6</th>\n",
       "      <td>서울시</td>\n",
       "      <td>4365204790</td>\n",
       "      <td>464557</td>\n",
       "      <td>2020-09-27</td>\n",
       "    </tr>\n",
       "    <tr>\n",
       "      <th>7</th>\n",
       "      <td>서울시</td>\n",
       "      <td>2310220710</td>\n",
       "      <td>243950</td>\n",
       "      <td>2020-10-04</td>\n",
       "    </tr>\n",
       "    <tr>\n",
       "      <th>8</th>\n",
       "      <td>서울시</td>\n",
       "      <td>1635498260</td>\n",
       "      <td>175172</td>\n",
       "      <td>2020-10-11</td>\n",
       "    </tr>\n",
       "    <tr>\n",
       "      <th>9</th>\n",
       "      <td>서울시</td>\n",
       "      <td>2051049940</td>\n",
       "      <td>235614</td>\n",
       "      <td>2020-10-18</td>\n",
       "    </tr>\n",
       "    <tr>\n",
       "      <th>10</th>\n",
       "      <td>서울시</td>\n",
       "      <td>2345716060</td>\n",
       "      <td>266763</td>\n",
       "      <td>2020-10-25</td>\n",
       "    </tr>\n",
       "    <tr>\n",
       "      <th>11</th>\n",
       "      <td>서울시</td>\n",
       "      <td>2686707390</td>\n",
       "      <td>290238</td>\n",
       "      <td>2020-11-01</td>\n",
       "    </tr>\n",
       "    <tr>\n",
       "      <th>12</th>\n",
       "      <td>서울시</td>\n",
       "      <td>2595964430</td>\n",
       "      <td>284599</td>\n",
       "      <td>2020-11-08</td>\n",
       "    </tr>\n",
       "    <tr>\n",
       "      <th>13</th>\n",
       "      <td>서울시</td>\n",
       "      <td>2087858250</td>\n",
       "      <td>229587</td>\n",
       "      <td>2020-11-15</td>\n",
       "    </tr>\n",
       "    <tr>\n",
       "      <th>14</th>\n",
       "      <td>서울시</td>\n",
       "      <td>1340672930</td>\n",
       "      <td>155879</td>\n",
       "      <td>2020-11-22</td>\n",
       "    </tr>\n",
       "    <tr>\n",
       "      <th>15</th>\n",
       "      <td>서울시</td>\n",
       "      <td>978608420</td>\n",
       "      <td>116440</td>\n",
       "      <td>2020-11-29</td>\n",
       "    </tr>\n",
       "    <tr>\n",
       "      <th>16</th>\n",
       "      <td>서울시</td>\n",
       "      <td>752040660</td>\n",
       "      <td>87820</td>\n",
       "      <td>2020-12-06</td>\n",
       "    </tr>\n",
       "    <tr>\n",
       "      <th>17</th>\n",
       "      <td>서울시</td>\n",
       "      <td>606209800</td>\n",
       "      <td>71087</td>\n",
       "      <td>2020-12-13</td>\n",
       "    </tr>\n",
       "    <tr>\n",
       "      <th>18</th>\n",
       "      <td>서울시</td>\n",
       "      <td>1249933430</td>\n",
       "      <td>141279</td>\n",
       "      <td>2020-12-20</td>\n",
       "    </tr>\n",
       "    <tr>\n",
       "      <th>19</th>\n",
       "      <td>서울시</td>\n",
       "      <td>754663270</td>\n",
       "      <td>91153</td>\n",
       "      <td>2020-12-27</td>\n",
       "    </tr>\n",
       "    <tr>\n",
       "      <th>20</th>\n",
       "      <td>서울시</td>\n",
       "      <td>446257140</td>\n",
       "      <td>50249</td>\n",
       "      <td>2021-01-08</td>\n",
       "    </tr>\n",
       "    <tr>\n",
       "      <th>21</th>\n",
       "      <td>서울시</td>\n",
       "      <td>761371720</td>\n",
       "      <td>85940</td>\n",
       "      <td>2021-01-15</td>\n",
       "    </tr>\n",
       "    <tr>\n",
       "      <th>22</th>\n",
       "      <td>서울시</td>\n",
       "      <td>2050589220</td>\n",
       "      <td>230553</td>\n",
       "      <td>2021-01-22</td>\n",
       "    </tr>\n",
       "    <tr>\n",
       "      <th>23</th>\n",
       "      <td>서울시</td>\n",
       "      <td>2287327000</td>\n",
       "      <td>246303</td>\n",
       "      <td>2021-01-29</td>\n",
       "    </tr>\n",
       "    <tr>\n",
       "      <th>24</th>\n",
       "      <td>서울시</td>\n",
       "      <td>2358611200</td>\n",
       "      <td>247998</td>\n",
       "      <td>2021-02-05</td>\n",
       "    </tr>\n",
       "    <tr>\n",
       "      <th>25</th>\n",
       "      <td>서울시</td>\n",
       "      <td>2299673230</td>\n",
       "      <td>241331</td>\n",
       "      <td>2021-02-12</td>\n",
       "    </tr>\n",
       "    <tr>\n",
       "      <th>26</th>\n",
       "      <td>서울시</td>\n",
       "      <td>1955377880</td>\n",
       "      <td>215607</td>\n",
       "      <td>2021-02-19</td>\n",
       "    </tr>\n",
       "    <tr>\n",
       "      <th>27</th>\n",
       "      <td>서울시</td>\n",
       "      <td>2226500250</td>\n",
       "      <td>242385</td>\n",
       "      <td>2021-02-26</td>\n",
       "    </tr>\n",
       "    <tr>\n",
       "      <th>28</th>\n",
       "      <td>서울시</td>\n",
       "      <td>2370034110</td>\n",
       "      <td>245237</td>\n",
       "      <td>2021-03-05</td>\n",
       "    </tr>\n",
       "  </tbody>\n",
       "</table>\n",
       "</div>"
      ],
      "text/plain": [
       "     지역         매출액     관객수          주\n",
       "0   서울시  3361656490  368804 2020-08-16\n",
       "1   서울시  2189550260  247399 2020-08-23\n",
       "2   서울시  1842116650  200100 2020-08-30\n",
       "3   서울시  1733144880  188395 2020-09-06\n",
       "4   서울시  1571785690  172993 2020-09-13\n",
       "5   서울시  1686750342  194747 2020-09-20\n",
       "6   서울시  4365204790  464557 2020-09-27\n",
       "7   서울시  2310220710  243950 2020-10-04\n",
       "8   서울시  1635498260  175172 2020-10-11\n",
       "9   서울시  2051049940  235614 2020-10-18\n",
       "10  서울시  2345716060  266763 2020-10-25\n",
       "11  서울시  2686707390  290238 2020-11-01\n",
       "12  서울시  2595964430  284599 2020-11-08\n",
       "13  서울시  2087858250  229587 2020-11-15\n",
       "14  서울시  1340672930  155879 2020-11-22\n",
       "15  서울시   978608420  116440 2020-11-29\n",
       "16  서울시   752040660   87820 2020-12-06\n",
       "17  서울시   606209800   71087 2020-12-13\n",
       "18  서울시  1249933430  141279 2020-12-20\n",
       "19  서울시   754663270   91153 2020-12-27\n",
       "20  서울시   446257140   50249 2021-01-08\n",
       "21  서울시   761371720   85940 2021-01-15\n",
       "22  서울시  2050589220  230553 2021-01-22\n",
       "23  서울시  2287327000  246303 2021-01-29\n",
       "24  서울시  2358611200  247998 2021-02-05\n",
       "25  서울시  2299673230  241331 2021-02-12\n",
       "26  서울시  1955377880  215607 2021-02-19\n",
       "27  서울시  2226500250  242385 2021-02-26\n",
       "28  서울시  2370034110  245237 2021-03-05"
      ]
     },
     "execution_count": 9,
     "metadata": {},
     "output_type": "execute_result"
    },
    {
     "data": {
      "text/html": [
       "<div>\n",
       "<style scoped>\n",
       "    .dataframe tbody tr th:only-of-type {\n",
       "        vertical-align: middle;\n",
       "    }\n",
       "\n",
       "    .dataframe tbody tr th {\n",
       "        vertical-align: top;\n",
       "    }\n",
       "\n",
       "    .dataframe thead th {\n",
       "        text-align: right;\n",
       "    }\n",
       "</style>\n",
       "<table border=\"1\" class=\"dataframe\">\n",
       "  <thead>\n",
       "    <tr style=\"text-align: right;\">\n",
       "      <th></th>\n",
       "      <th>지역</th>\n",
       "      <th>매출액</th>\n",
       "      <th>관객수</th>\n",
       "      <th>주</th>\n",
       "    </tr>\n",
       "  </thead>\n",
       "  <tbody>\n",
       "    <tr>\n",
       "      <th>0</th>\n",
       "      <td>서울시</td>\n",
       "      <td>2370034110</td>\n",
       "      <td>245237</td>\n",
       "      <td>2021-03-12</td>\n",
       "    </tr>\n",
       "    <tr>\n",
       "      <th>1</th>\n",
       "      <td>서울시</td>\n",
       "      <td>2089378170</td>\n",
       "      <td>221908</td>\n",
       "      <td>2021-03-19</td>\n",
       "    </tr>\n",
       "    <tr>\n",
       "      <th>2</th>\n",
       "      <td>서울시</td>\n",
       "      <td>2156717370</td>\n",
       "      <td>223590</td>\n",
       "      <td>2021-03-26</td>\n",
       "    </tr>\n",
       "    <tr>\n",
       "      <th>3</th>\n",
       "      <td>서울시</td>\n",
       "      <td>2394668990</td>\n",
       "      <td>261118</td>\n",
       "      <td>2021-04-02</td>\n",
       "    </tr>\n",
       "    <tr>\n",
       "      <th>4</th>\n",
       "      <td>서울시</td>\n",
       "      <td>1826626560</td>\n",
       "      <td>193633</td>\n",
       "      <td>2021-04-09</td>\n",
       "    </tr>\n",
       "    <tr>\n",
       "      <th>5</th>\n",
       "      <td>서울시</td>\n",
       "      <td>1481982720</td>\n",
       "      <td>158687</td>\n",
       "      <td>2021-04-16</td>\n",
       "    </tr>\n",
       "    <tr>\n",
       "      <th>6</th>\n",
       "      <td>서울시</td>\n",
       "      <td>1709790330</td>\n",
       "      <td>183278</td>\n",
       "      <td>2021-04-23</td>\n",
       "    </tr>\n",
       "    <tr>\n",
       "      <th>7</th>\n",
       "      <td>서울시</td>\n",
       "      <td>1796128240</td>\n",
       "      <td>207101</td>\n",
       "      <td>2021-04-30</td>\n",
       "    </tr>\n",
       "    <tr>\n",
       "      <th>8</th>\n",
       "      <td>서울시</td>\n",
       "      <td>2713673630</td>\n",
       "      <td>290264</td>\n",
       "      <td>2021-05-07</td>\n",
       "    </tr>\n",
       "    <tr>\n",
       "      <th>9</th>\n",
       "      <td>서울시</td>\n",
       "      <td>1365881880</td>\n",
       "      <td>148365</td>\n",
       "      <td>2021-05-14</td>\n",
       "    </tr>\n",
       "    <tr>\n",
       "      <th>10</th>\n",
       "      <td>서울시</td>\n",
       "      <td>2551193710</td>\n",
       "      <td>266485</td>\n",
       "      <td>2021-05-21</td>\n",
       "    </tr>\n",
       "    <tr>\n",
       "      <th>11</th>\n",
       "      <td>서울시</td>\n",
       "      <td>2886481360</td>\n",
       "      <td>310014</td>\n",
       "      <td>2021-05-28</td>\n",
       "    </tr>\n",
       "    <tr>\n",
       "      <th>12</th>\n",
       "      <td>서울시</td>\n",
       "      <td>3308331430</td>\n",
       "      <td>345848</td>\n",
       "      <td>2021-06-04</td>\n",
       "    </tr>\n",
       "    <tr>\n",
       "      <th>13</th>\n",
       "      <td>서울시</td>\n",
       "      <td>3216698320</td>\n",
       "      <td>327510</td>\n",
       "      <td>2021-06-11</td>\n",
       "    </tr>\n",
       "    <tr>\n",
       "      <th>14</th>\n",
       "      <td>서울시</td>\n",
       "      <td>3014873260</td>\n",
       "      <td>312236</td>\n",
       "      <td>2021-06-18</td>\n",
       "    </tr>\n",
       "    <tr>\n",
       "      <th>15</th>\n",
       "      <td>서울시</td>\n",
       "      <td>3675390440</td>\n",
       "      <td>377430</td>\n",
       "      <td>2021-06-25</td>\n",
       "    </tr>\n",
       "  </tbody>\n",
       "</table>\n",
       "</div>"
      ],
      "text/plain": [
       "     지역         매출액     관객수          주\n",
       "0   서울시  2370034110  245237 2021-03-12\n",
       "1   서울시  2089378170  221908 2021-03-19\n",
       "2   서울시  2156717370  223590 2021-03-26\n",
       "3   서울시  2394668990  261118 2021-04-02\n",
       "4   서울시  1826626560  193633 2021-04-09\n",
       "5   서울시  1481982720  158687 2021-04-16\n",
       "6   서울시  1709790330  183278 2021-04-23\n",
       "7   서울시  1796128240  207101 2021-04-30\n",
       "8   서울시  2713673630  290264 2021-05-07\n",
       "9   서울시  1365881880  148365 2021-05-14\n",
       "10  서울시  2551193710  266485 2021-05-21\n",
       "11  서울시  2886481360  310014 2021-05-28\n",
       "12  서울시  3308331430  345848 2021-06-04\n",
       "13  서울시  3216698320  327510 2021-06-11\n",
       "14  서울시  3014873260  312236 2021-06-18\n",
       "15  서울시  3675390440  377430 2021-06-25"
      ]
     },
     "execution_count": 9,
     "metadata": {},
     "output_type": "execute_result"
    }
   ],
   "source": [
    "seoul_bv\n",
    "seoul_av"
   ]
  },
  {
   "cell_type": "markdown",
   "id": "bda6c136",
   "metadata": {},
   "source": [
    "# 2. 백신 접종 시행 전 후/ 표본의 차이 확인 (t검정)"
   ]
  },
  {
   "cell_type": "code",
   "execution_count": 10,
   "id": "66896a9b",
   "metadata": {},
   "outputs": [],
   "source": [
    "np.set_printoptions(precision=6, suppress=True)\n",
    "seoul_bv_sell = np.array(seoul_bv['매출액'])\n",
    "seoul_av_sell = seoul_av['매출액']"
   ]
  },
  {
   "cell_type": "code",
   "execution_count": 11,
   "id": "4520078e",
   "metadata": {},
   "outputs": [
    {
     "data": {
      "text/plain": [
       "array([3361656490, 2189550260, 1842116650, 1733144880, 1571785690,\n",
       "       1686750342, 4365204790, 2310220710, 1635498260, 2051049940,\n",
       "       2345716060, 2686707390, 2595964430, 2087858250, 1340672930,\n",
       "        978608420,  752040660,  606209800, 1249933430,  754663270,\n",
       "        446257140,  761371720, 2050589220, 2287327000, 2358611200,\n",
       "       2299673230, 1955377880, 2226500250, 2370034110], dtype=int64)"
      ]
     },
     "execution_count": 11,
     "metadata": {},
     "output_type": "execute_result"
    },
    {
     "data": {
      "text/plain": [
       "0     2370034110\n",
       "1     2089378170\n",
       "2     2156717370\n",
       "3     2394668990\n",
       "4     1826626560\n",
       "5     1481982720\n",
       "6     1709790330\n",
       "7     1796128240\n",
       "8     2713673630\n",
       "9     1365881880\n",
       "10    2551193710\n",
       "11    2886481360\n",
       "12    3308331430\n",
       "13    3216698320\n",
       "14    3014873260\n",
       "15    3675390440\n",
       "Name: 매출액, dtype: int64"
      ]
     },
     "execution_count": 11,
     "metadata": {},
     "output_type": "execute_result"
    }
   ],
   "source": [
    "seoul_bv_sell\n",
    "seoul_av_sell"
   ]
  },
  {
   "cell_type": "code",
   "execution_count": 12,
   "id": "f3039104",
   "metadata": {},
   "outputs": [
    {
     "data": {
      "text/plain": [
       "count    2.900000e+01\n",
       "mean     1.893141e+09\n",
       "std      8.504186e+08\n",
       "min      4.462571e+08\n",
       "25%      1.340673e+09\n",
       "50%      2.050589e+09\n",
       "75%      2.310221e+09\n",
       "max      4.365205e+09\n",
       "Name: 매출액, dtype: float64"
      ]
     },
     "execution_count": 12,
     "metadata": {},
     "output_type": "execute_result"
    },
    {
     "data": {
      "text/plain": [
       "count    1.600000e+01\n",
       "mean     2.409866e+09\n",
       "std      6.875886e+08\n",
       "min      1.365882e+09\n",
       "25%      1.819002e+09\n",
       "50%      2.382352e+09\n",
       "75%      2.918579e+09\n",
       "max      3.675390e+09\n",
       "Name: 매출액, dtype: float64"
      ]
     },
     "execution_count": 12,
     "metadata": {},
     "output_type": "execute_result"
    }
   ],
   "source": [
    "seoul_bv['매출액'].describe()\n",
    "seoul_av['매출액'].describe()"
   ]
  },
  {
   "cell_type": "code",
   "execution_count": 13,
   "id": "f2bd5b8f",
   "metadata": {},
   "outputs": [],
   "source": [
    "tmp = []\n",
    "for i in range(13):\n",
    "    tmp.append(np.random.randint(1722277400,3097454600,dtype='int64'))"
   ]
  },
  {
   "cell_type": "code",
   "execution_count": 14,
   "id": "06ec6f41",
   "metadata": {},
   "outputs": [],
   "source": [
    "#접종이후의 데이터가 접종 전보다 부족해서, 결측치를 평균값으로 대체\n",
    "seoul_av_sell  = np.append(seoul_av_sell,tmp )"
   ]
  },
  {
   "cell_type": "code",
   "execution_count": 15,
   "id": "dd0282ff",
   "metadata": {},
   "outputs": [
    {
     "data": {
      "text/plain": [
       "array([3361656490, 2189550260, 1842116650, 1733144880, 1571785690,\n",
       "       1686750342, 4365204790, 2310220710, 1635498260, 2051049940,\n",
       "       2345716060, 2686707390, 2595964430, 2087858250, 1340672930,\n",
       "        978608420,  752040660,  606209800, 1249933430,  754663270,\n",
       "        446257140,  761371720, 2050589220, 2287327000, 2358611200,\n",
       "       2299673230, 1955377880, 2226500250, 2370034110], dtype=int64)"
      ]
     },
     "execution_count": 15,
     "metadata": {},
     "output_type": "execute_result"
    },
    {
     "data": {
      "text/plain": [
       "array([2370034110, 2089378170, 2156717370, 2394668990, 1826626560,\n",
       "       1481982720, 1709790330, 1796128240, 2713673630, 1365881880,\n",
       "       2551193710, 2886481360, 3308331430, 3216698320, 3014873260,\n",
       "       3675390440, 2021621403, 2395370825, 2514104414, 2778448443,\n",
       "       3062363927, 1860415205, 2232433076, 2431950882, 2616042771,\n",
       "       2735924872, 2830532654, 2649709385, 2174129499], dtype=int64)"
      ]
     },
     "execution_count": 15,
     "metadata": {},
     "output_type": "execute_result"
    }
   ],
   "source": [
    "seoul_bv_sell\n",
    "seoul_av_sell"
   ]
  },
  {
   "cell_type": "code",
   "execution_count": 16,
   "id": "b5fc054b",
   "metadata": {
    "scrolled": false
   },
   "outputs": [
    {
     "data": {
      "text/plain": [
       "<Figure size 720x432 with 0 Axes>"
      ]
     },
     "execution_count": 16,
     "metadata": {},
     "output_type": "execute_result"
    },
    {
     "data": {
      "text/plain": [
       "{'whiskers': [<matplotlib.lines.Line2D at 0x268ac6be5e0>,\n",
       "  <matplotlib.lines.Line2D at 0x268ac6be940>,\n",
       "  <matplotlib.lines.Line2D at 0x268ac6cfdf0>,\n",
       "  <matplotlib.lines.Line2D at 0x268acd6d190>],\n",
       " 'caps': [<matplotlib.lines.Line2D at 0x268ac6beca0>,\n",
       "  <matplotlib.lines.Line2D at 0x268ac6cf040>,\n",
       "  <matplotlib.lines.Line2D at 0x268acd6d4f0>,\n",
       "  <matplotlib.lines.Line2D at 0x268acd6d850>],\n",
       " 'boxes': [<matplotlib.lines.Line2D at 0x268ac6be280>,\n",
       "  <matplotlib.lines.Line2D at 0x268ac6cfa90>],\n",
       " 'medians': [<matplotlib.lines.Line2D at 0x268ac6cf3a0>,\n",
       "  <matplotlib.lines.Line2D at 0x268acd6dbb0>],\n",
       " 'fliers': [<matplotlib.lines.Line2D at 0x268ac6cf700>,\n",
       "  <matplotlib.lines.Line2D at 0x268acd6df10>],\n",
       " 'means': []}"
      ]
     },
     "execution_count": 16,
     "metadata": {},
     "output_type": "execute_result"
    },
    {
     "data": {
      "text/plain": [
       "([<matplotlib.axis.XTick at 0x268ac683b50>,\n",
       "  <matplotlib.axis.XTick at 0x268ac683b20>],\n",
       " [Text(1, 0, '백신접종전'), Text(2, 0, '백신접종후')])"
      ]
     },
     "execution_count": 16,
     "metadata": {},
     "output_type": "execute_result"
    },
    {
     "data": {
      "text/plain": [
       "Text(0, 0.5, '매출액')"
      ]
     },
     "execution_count": 16,
     "metadata": {},
     "output_type": "execute_result"
    },
    {
     "data": {
      "image/png": "[encoded data removed]",
      "text/plain": [
       "<Figure size 720x432 with 1 Axes>"
      ]
     },
     "metadata": {},
     "output_type": "display_data"
    }
   ],
   "source": [
    "#boxplot을 통한 평균 차이 확인\n",
    "plt.figure(figsize=(10,6))\n",
    "plt.boxplot([\n",
    "            seoul_bv_sell,\n",
    "            seoul_av_sell\n",
    "                              ])\n",
    "#plt.grid()\n",
    "plt.rcParams[\"font.family\"] = 'Malgun Gothic'\n",
    "plt.rcParams[\"font.size\"] = 11\n",
    "\n",
    "plt.xticks([1,2],['백신접종전','백신접종후'])\n",
    "plt.ylabel('매출액')\n",
    "ax = plt.gca()\n",
    "ax.get_yaxis().get_major_formatter().set_scientific(False)"
   ]
  },
  {
   "cell_type": "code",
   "execution_count": 17,
   "id": "6b393657",
   "metadata": {},
   "outputs": [
    {
     "data": {
      "text/plain": [
       "ShapiroResult(statistic=0.9581944942474365, pvalue=0.29649949073791504)"
      ]
     },
     "execution_count": 17,
     "metadata": {},
     "output_type": "execute_result"
    }
   ],
   "source": [
    "shapiro(seoul_av_sell-seoul_bv_sell)\n",
    "# 귀무가설 :데이터는 정규분포 이다.\n",
    "# 대립가설: 데이터는 정규분포가 아니다\n",
    "\n",
    "\n",
    "#pvalue가 0.05보다 크므로 귀무가설 채택"
   ]
  },
  {
   "cell_type": "code",
   "execution_count": 18,
   "id": "71c83506",
   "metadata": {},
   "outputs": [
    {
     "data": {
      "text/plain": [
       "Ttest_relResult(statistic=2.7057201491247014, pvalue=0.011471649837299982)"
      ]
     },
     "execution_count": 18,
     "metadata": {},
     "output_type": "execute_result"
    }
   ],
   "source": [
    "ttest_rel(seoul_av_sell, seoul_bv_sell)\n",
    "\n",
    "#pvalue 0.05보다 낮으므로, 백신을 맞기전과 맞은후의 매출액에 차이가 존재함."
   ]
  },
  {
   "cell_type": "markdown",
   "id": "9dda58a8",
   "metadata": {},
   "source": [
    "# 추가 시각화 (산점도, 회귀선)"
   ]
  },
  {
   "cell_type": "code",
   "execution_count": 19,
   "id": "d4c69d88",
   "metadata": {
    "scrolled": false
   },
   "outputs": [
    {
     "data": {
      "text/plain": [
       "<matplotlib.collections.PathCollection at 0x268acda7d00>"
      ]
     },
     "execution_count": 19,
     "metadata": {},
     "output_type": "execute_result"
    },
    {
     "data": {
      "text/plain": [
       "<matplotlib.collections.PathCollection at 0x268acdd8430>"
      ]
     },
     "execution_count": 19,
     "metadata": {},
     "output_type": "execute_result"
    },
    {
     "data": {
      "text/plain": [
       "<matplotlib.lines.Line2D at 0x268acdd86d0>"
      ]
     },
     "execution_count": 19,
     "metadata": {},
     "output_type": "execute_result"
    },
    {
     "data": {
      "text/plain": [
       "(array([18475., 18506., 18536., 18567., 18597., 18628., 18659., 18687.,\n",
       "        18718., 18748., 18779., 18809.]),\n",
       " [Text(0, 0, ''),\n",
       "  Text(0, 0, ''),\n",
       "  Text(0, 0, ''),\n",
       "  Text(0, 0, ''),\n",
       "  Text(0, 0, ''),\n",
       "  Text(0, 0, ''),\n",
       "  Text(0, 0, ''),\n",
       "  Text(0, 0, ''),\n",
       "  Text(0, 0, ''),\n",
       "  Text(0, 0, ''),\n",
       "  Text(0, 0, ''),\n",
       "  Text(0, 0, '')])"
      ]
     },
     "execution_count": 19,
     "metadata": {},
     "output_type": "execute_result"
    },
    {
     "data": {
      "text/plain": [
       "Text(0.5, 0, '주차')"
      ]
     },
     "execution_count": 19,
     "metadata": {},
     "output_type": "execute_result"
    },
    {
     "data": {
      "text/plain": [
       "Text(0, 0.5, '매출액')"
      ]
     },
     "execution_count": 19,
     "metadata": {},
     "output_type": "execute_result"
    },
    {
     "data": {
      "text/plain": [
       "<matplotlib.legend.Legend at 0x268ace01dc0>"
      ]
     },
     "execution_count": 19,
     "metadata": {},
     "output_type": "execute_result"
    },
    {
     "data": {
      "image/png": "[encoded data removed]",
      "text/plain": [
       "<Figure size 720x720 with 1 Axes>"
      ]
     },
     "metadata": {},
     "output_type": "display_data"
    }
   ],
   "source": [
    "ax = plt.figure(figsize=(10,10))\n",
    "plt.scatter(seoul_bv['주'], seoul_bv['매출액'], c='g',label='접종전')\n",
    "plt.scatter(seoul_av['주'], seoul_av['매출액'], c='b',label='접종후')\n",
    "plt.axhline(int(avr_2019['매출액'][0]),0.05, 0.95, color = 'red', linestyle = '--',label='2019주평균' )\n",
    "plt.xticks(rotation=45)\n",
    "plt.xlabel('주차')\n",
    "plt.ylabel('매출액')\n",
    "ax = plt.gca()\n",
    "ax.get_yaxis().get_major_formatter().set_scientific(False)\n",
    "\n",
    "plt.legend(loc='best')"
   ]
  },
  {
   "cell_type": "code",
   "execution_count": 20,
   "id": "5797f300",
   "metadata": {},
   "outputs": [],
   "source": [
    "seoul_av['주차'] = [i for i in range(30,46)]\n",
    "seoul_bv['주차'] = [i for i in range(1,30)]"
   ]
  },
  {
   "cell_type": "code",
   "execution_count": 21,
   "id": "520f0b0c",
   "metadata": {
    "scrolled": false
   },
   "outputs": [
    {
     "data": {
      "text/plain": [
       "<matplotlib.lines.Line2D at 0x268ace9b1f0>"
      ]
     },
     "execution_count": 21,
     "metadata": {},
     "output_type": "execute_result"
    },
    {
     "data": {
      "text/plain": [
       "<matplotlib.legend.Legend at 0x268ace72df0>"
      ]
     },
     "execution_count": 21,
     "metadata": {},
     "output_type": "execute_result"
    },
    {
     "data": {
      "image/png": "[encoded data removed]",
      "text/plain": [
       "<Figure size 720x720 with 1 Axes>"
      ]
     },
     "metadata": {},
     "output_type": "display_data"
    }
   ],
   "source": [
    "#산점도 + 회귀직선 비교\n",
    "\n",
    "fig = plt.figure(figsize = [10,10])\n",
    "\n",
    "#ax = fig.add_subplot(111)\n",
    "#plt.axhline(int(avr_2019['매출액'][0]),0.05, 0.95, color = 'green', linestyle = '--',label='2019주평균' )\n",
    "\n",
    "plt.axvline(30,1, 0, color = 'red', linestyle = '--',label='접종시작주' )\n",
    "\n",
    "ax = sns.regplot(x='주차',y='매출액',data=seoul_av,label='접종이후')\n",
    "ax = sns.regplot(x='주차',y='매출액',data=seoul_bv,label='접종이전')\n",
    "ax.legend(loc='center')\n",
    "ax = plt.gca()\n",
    "ax.get_yaxis().get_major_formatter().set_scientific(False)\n"
   ]
  },
  {
   "cell_type": "markdown",
   "id": "94eb6df4",
   "metadata": {},
   "source": [
    "# 4. 주간 접종자수 - 매출액 상관분석 && 누적 접종자수 - 매출액 상관분석"
   ]
  },
  {
   "cell_type": "markdown",
   "id": "9418b2aa",
   "metadata": {},
   "source": [
    "### 1. 최종 df 만들기"
   ]
  },
  {
   "cell_type": "code",
   "execution_count": 22,
   "id": "2fca5165",
   "metadata": {},
   "outputs": [],
   "source": [
    "final_seoul = pd.read_csv('vc_result/서울주간백신정보.csv').drop('Unnamed: 0',axis=1).drop('일자',axis=1)"
   ]
  },
  {
   "cell_type": "code",
   "execution_count": 23,
   "id": "9fa445c5",
   "metadata": {
    "scrolled": false
   },
   "outputs": [
    {
     "data": {
      "text/html": [
       "<div>\n",
       "<style scoped>\n",
       "    .dataframe tbody tr th:only-of-type {\n",
       "        vertical-align: middle;\n",
       "    }\n",
       "\n",
       "    .dataframe tbody tr th {\n",
       "        vertical-align: top;\n",
       "    }\n",
       "\n",
       "    .dataframe thead th {\n",
       "        text-align: right;\n",
       "    }\n",
       "</style>\n",
       "<table border=\"1\" class=\"dataframe\">\n",
       "  <thead>\n",
       "    <tr style=\"text-align: right;\">\n",
       "      <th></th>\n",
       "      <th>1차접종누계</th>\n",
       "      <th>2차접종누계</th>\n",
       "      <th>주간1차접종자수</th>\n",
       "      <th>주간2차접종자수</th>\n",
       "    </tr>\n",
       "  </thead>\n",
       "  <tbody>\n",
       "    <tr>\n",
       "      <th>0</th>\n",
       "      <td>109536</td>\n",
       "      <td>0</td>\n",
       "      <td>35709</td>\n",
       "      <td>0</td>\n",
       "    </tr>\n",
       "    <tr>\n",
       "      <th>1</th>\n",
       "      <td>122249</td>\n",
       "      <td>1725</td>\n",
       "      <td>12713</td>\n",
       "      <td>1725</td>\n",
       "    </tr>\n",
       "    <tr>\n",
       "      <th>2</th>\n",
       "      <td>141584</td>\n",
       "      <td>6227</td>\n",
       "      <td>19335</td>\n",
       "      <td>4502</td>\n",
       "    </tr>\n",
       "    <tr>\n",
       "      <th>3</th>\n",
       "      <td>166563</td>\n",
       "      <td>12397</td>\n",
       "      <td>24979</td>\n",
       "      <td>6170</td>\n",
       "    </tr>\n",
       "    <tr>\n",
       "      <th>4</th>\n",
       "      <td>195071</td>\n",
       "      <td>13502</td>\n",
       "      <td>28508</td>\n",
       "      <td>1105</td>\n",
       "    </tr>\n",
       "    <tr>\n",
       "      <th>5</th>\n",
       "      <td>294555</td>\n",
       "      <td>13543</td>\n",
       "      <td>99484</td>\n",
       "      <td>41</td>\n",
       "    </tr>\n",
       "    <tr>\n",
       "      <th>6</th>\n",
       "      <td>438269</td>\n",
       "      <td>27699</td>\n",
       "      <td>143714</td>\n",
       "      <td>14156</td>\n",
       "    </tr>\n",
       "    <tr>\n",
       "      <th>7</th>\n",
       "      <td>563044</td>\n",
       "      <td>47940</td>\n",
       "      <td>124775</td>\n",
       "      <td>20241</td>\n",
       "    </tr>\n",
       "    <tr>\n",
       "      <th>8</th>\n",
       "      <td>600548</td>\n",
       "      <td>112781</td>\n",
       "      <td>37504</td>\n",
       "      <td>64841</td>\n",
       "    </tr>\n",
       "    <tr>\n",
       "      <th>9</th>\n",
       "      <td>616705</td>\n",
       "      <td>175445</td>\n",
       "      <td>16157</td>\n",
       "      <td>62664</td>\n",
       "    </tr>\n",
       "    <tr>\n",
       "      <th>10</th>\n",
       "      <td>650432</td>\n",
       "      <td>291118</td>\n",
       "      <td>33727</td>\n",
       "      <td>115673</td>\n",
       "    </tr>\n",
       "    <tr>\n",
       "      <th>11</th>\n",
       "      <td>1165736</td>\n",
       "      <td>346936</td>\n",
       "      <td>515304</td>\n",
       "      <td>55818</td>\n",
       "    </tr>\n",
       "    <tr>\n",
       "      <th>12</th>\n",
       "      <td>1746392</td>\n",
       "      <td>380200</td>\n",
       "      <td>580656</td>\n",
       "      <td>33264</td>\n",
       "    </tr>\n",
       "    <tr>\n",
       "      <th>13</th>\n",
       "      <td>2554809</td>\n",
       "      <td>685532</td>\n",
       "      <td>808417</td>\n",
       "      <td>305332</td>\n",
       "    </tr>\n",
       "    <tr>\n",
       "      <th>14</th>\n",
       "      <td>2802006</td>\n",
       "      <td>813666</td>\n",
       "      <td>247197</td>\n",
       "      <td>128134</td>\n",
       "    </tr>\n",
       "    <tr>\n",
       "      <th>15</th>\n",
       "      <td>2833050</td>\n",
       "      <td>914519</td>\n",
       "      <td>31044</td>\n",
       "      <td>100853</td>\n",
       "    </tr>\n",
       "  </tbody>\n",
       "</table>\n",
       "</div>"
      ],
      "text/plain": [
       "     1차접종누계  2차접종누계  주간1차접종자수  주간2차접종자수\n",
       "0    109536       0     35709         0\n",
       "1    122249    1725     12713      1725\n",
       "2    141584    6227     19335      4502\n",
       "3    166563   12397     24979      6170\n",
       "4    195071   13502     28508      1105\n",
       "5    294555   13543     99484        41\n",
       "6    438269   27699    143714     14156\n",
       "7    563044   47940    124775     20241\n",
       "8    600548  112781     37504     64841\n",
       "9    616705  175445     16157     62664\n",
       "10   650432  291118     33727    115673\n",
       "11  1165736  346936    515304     55818\n",
       "12  1746392  380200    580656     33264\n",
       "13  2554809  685532    808417    305332\n",
       "14  2802006  813666    247197    128134\n",
       "15  2833050  914519     31044    100853"
      ]
     },
     "execution_count": 23,
     "metadata": {},
     "output_type": "execute_result"
    }
   ],
   "source": [
    "final_seoul"
   ]
  },
  {
   "cell_type": "code",
   "execution_count": 24,
   "id": "d7b5dd2d",
   "metadata": {},
   "outputs": [],
   "source": [
    "pd.options.display.float_format = '{:.2f}'.format\n",
    "final_df = pd.concat([seoul_av,final_seoul],axis=1).drop('주차',axis=1)"
   ]
  },
  {
   "cell_type": "code",
   "execution_count": 25,
   "id": "cc378233",
   "metadata": {},
   "outputs": [
    {
     "data": {
      "text/html": [
       "<div>\n",
       "<style scoped>\n",
       "    .dataframe tbody tr th:only-of-type {\n",
       "        vertical-align: middle;\n",
       "    }\n",
       "\n",
       "    .dataframe tbody tr th {\n",
       "        vertical-align: top;\n",
       "    }\n",
       "\n",
       "    .dataframe thead th {\n",
       "        text-align: right;\n",
       "    }\n",
       "</style>\n",
       "<table border=\"1\" class=\"dataframe\">\n",
       "  <thead>\n",
       "    <tr style=\"text-align: right;\">\n",
       "      <th></th>\n",
       "      <th>지역</th>\n",
       "      <th>매출액</th>\n",
       "      <th>관객수</th>\n",
       "      <th>주</th>\n",
       "      <th>1차접종누계</th>\n",
       "      <th>2차접종누계</th>\n",
       "      <th>주간1차접종자수</th>\n",
       "      <th>주간2차접종자수</th>\n",
       "    </tr>\n",
       "  </thead>\n",
       "  <tbody>\n",
       "    <tr>\n",
       "      <th>0</th>\n",
       "      <td>서울시</td>\n",
       "      <td>2370034110</td>\n",
       "      <td>245237</td>\n",
       "      <td>2021-03-12</td>\n",
       "      <td>109536</td>\n",
       "      <td>0</td>\n",
       "      <td>35709</td>\n",
       "      <td>0</td>\n",
       "    </tr>\n",
       "    <tr>\n",
       "      <th>1</th>\n",
       "      <td>서울시</td>\n",
       "      <td>2089378170</td>\n",
       "      <td>221908</td>\n",
       "      <td>2021-03-19</td>\n",
       "      <td>122249</td>\n",
       "      <td>1725</td>\n",
       "      <td>12713</td>\n",
       "      <td>1725</td>\n",
       "    </tr>\n",
       "    <tr>\n",
       "      <th>2</th>\n",
       "      <td>서울시</td>\n",
       "      <td>2156717370</td>\n",
       "      <td>223590</td>\n",
       "      <td>2021-03-26</td>\n",
       "      <td>141584</td>\n",
       "      <td>6227</td>\n",
       "      <td>19335</td>\n",
       "      <td>4502</td>\n",
       "    </tr>\n",
       "    <tr>\n",
       "      <th>3</th>\n",
       "      <td>서울시</td>\n",
       "      <td>2394668990</td>\n",
       "      <td>261118</td>\n",
       "      <td>2021-04-02</td>\n",
       "      <td>166563</td>\n",
       "      <td>12397</td>\n",
       "      <td>24979</td>\n",
       "      <td>6170</td>\n",
       "    </tr>\n",
       "    <tr>\n",
       "      <th>4</th>\n",
       "      <td>서울시</td>\n",
       "      <td>1826626560</td>\n",
       "      <td>193633</td>\n",
       "      <td>2021-04-09</td>\n",
       "      <td>195071</td>\n",
       "      <td>13502</td>\n",
       "      <td>28508</td>\n",
       "      <td>1105</td>\n",
       "    </tr>\n",
       "    <tr>\n",
       "      <th>5</th>\n",
       "      <td>서울시</td>\n",
       "      <td>1481982720</td>\n",
       "      <td>158687</td>\n",
       "      <td>2021-04-16</td>\n",
       "      <td>294555</td>\n",
       "      <td>13543</td>\n",
       "      <td>99484</td>\n",
       "      <td>41</td>\n",
       "    </tr>\n",
       "    <tr>\n",
       "      <th>6</th>\n",
       "      <td>서울시</td>\n",
       "      <td>1709790330</td>\n",
       "      <td>183278</td>\n",
       "      <td>2021-04-23</td>\n",
       "      <td>438269</td>\n",
       "      <td>27699</td>\n",
       "      <td>143714</td>\n",
       "      <td>14156</td>\n",
       "    </tr>\n",
       "    <tr>\n",
       "      <th>7</th>\n",
       "      <td>서울시</td>\n",
       "      <td>1796128240</td>\n",
       "      <td>207101</td>\n",
       "      <td>2021-04-30</td>\n",
       "      <td>563044</td>\n",
       "      <td>47940</td>\n",
       "      <td>124775</td>\n",
       "      <td>20241</td>\n",
       "    </tr>\n",
       "    <tr>\n",
       "      <th>8</th>\n",
       "      <td>서울시</td>\n",
       "      <td>2713673630</td>\n",
       "      <td>290264</td>\n",
       "      <td>2021-05-07</td>\n",
       "      <td>600548</td>\n",
       "      <td>112781</td>\n",
       "      <td>37504</td>\n",
       "      <td>64841</td>\n",
       "    </tr>\n",
       "    <tr>\n",
       "      <th>9</th>\n",
       "      <td>서울시</td>\n",
       "      <td>1365881880</td>\n",
       "      <td>148365</td>\n",
       "      <td>2021-05-14</td>\n",
       "      <td>616705</td>\n",
       "      <td>175445</td>\n",
       "      <td>16157</td>\n",
       "      <td>62664</td>\n",
       "    </tr>\n",
       "    <tr>\n",
       "      <th>10</th>\n",
       "      <td>서울시</td>\n",
       "      <td>2551193710</td>\n",
       "      <td>266485</td>\n",
       "      <td>2021-05-21</td>\n",
       "      <td>650432</td>\n",
       "      <td>291118</td>\n",
       "      <td>33727</td>\n",
       "      <td>115673</td>\n",
       "    </tr>\n",
       "    <tr>\n",
       "      <th>11</th>\n",
       "      <td>서울시</td>\n",
       "      <td>2886481360</td>\n",
       "      <td>310014</td>\n",
       "      <td>2021-05-28</td>\n",
       "      <td>1165736</td>\n",
       "      <td>346936</td>\n",
       "      <td>515304</td>\n",
       "      <td>55818</td>\n",
       "    </tr>\n",
       "    <tr>\n",
       "      <th>12</th>\n",
       "      <td>서울시</td>\n",
       "      <td>3308331430</td>\n",
       "      <td>345848</td>\n",
       "      <td>2021-06-04</td>\n",
       "      <td>1746392</td>\n",
       "      <td>380200</td>\n",
       "      <td>580656</td>\n",
       "      <td>33264</td>\n",
       "    </tr>\n",
       "    <tr>\n",
       "      <th>13</th>\n",
       "      <td>서울시</td>\n",
       "      <td>3216698320</td>\n",
       "      <td>327510</td>\n",
       "      <td>2021-06-11</td>\n",
       "      <td>2554809</td>\n",
       "      <td>685532</td>\n",
       "      <td>808417</td>\n",
       "      <td>305332</td>\n",
       "    </tr>\n",
       "    <tr>\n",
       "      <th>14</th>\n",
       "      <td>서울시</td>\n",
       "      <td>3014873260</td>\n",
       "      <td>312236</td>\n",
       "      <td>2021-06-18</td>\n",
       "      <td>2802006</td>\n",
       "      <td>813666</td>\n",
       "      <td>247197</td>\n",
       "      <td>128134</td>\n",
       "    </tr>\n",
       "    <tr>\n",
       "      <th>15</th>\n",
       "      <td>서울시</td>\n",
       "      <td>3675390440</td>\n",
       "      <td>377430</td>\n",
       "      <td>2021-06-25</td>\n",
       "      <td>2833050</td>\n",
       "      <td>914519</td>\n",
       "      <td>31044</td>\n",
       "      <td>100853</td>\n",
       "    </tr>\n",
       "  </tbody>\n",
       "</table>\n",
       "</div>"
      ],
      "text/plain": [
       "     지역         매출액     관객수          주   1차접종누계  2차접종누계  주간1차접종자수  주간2차접종자수\n",
       "0   서울시  2370034110  245237 2021-03-12   109536       0     35709         0\n",
       "1   서울시  2089378170  221908 2021-03-19   122249    1725     12713      1725\n",
       "2   서울시  2156717370  223590 2021-03-26   141584    6227     19335      4502\n",
       "3   서울시  2394668990  261118 2021-04-02   166563   12397     24979      6170\n",
       "4   서울시  1826626560  193633 2021-04-09   195071   13502     28508      1105\n",
       "5   서울시  1481982720  158687 2021-04-16   294555   13543     99484        41\n",
       "6   서울시  1709790330  183278 2021-04-23   438269   27699    143714     14156\n",
       "7   서울시  1796128240  207101 2021-04-30   563044   47940    124775     20241\n",
       "8   서울시  2713673630  290264 2021-05-07   600548  112781     37504     64841\n",
       "9   서울시  1365881880  148365 2021-05-14   616705  175445     16157     62664\n",
       "10  서울시  2551193710  266485 2021-05-21   650432  291118     33727    115673\n",
       "11  서울시  2886481360  310014 2021-05-28  1165736  346936    515304     55818\n",
       "12  서울시  3308331430  345848 2021-06-04  1746392  380200    580656     33264\n",
       "13  서울시  3216698320  327510 2021-06-11  2554809  685532    808417    305332\n",
       "14  서울시  3014873260  312236 2021-06-18  2802006  813666    247197    128134\n",
       "15  서울시  3675390440  377430 2021-06-25  2833050  914519     31044    100853"
      ]
     },
     "execution_count": 25,
     "metadata": {},
     "output_type": "execute_result"
    }
   ],
   "source": [
    "final_df"
   ]
  },
  {
   "cell_type": "code",
   "execution_count": 26,
   "id": "0f44e8bd",
   "metadata": {},
   "outputs": [],
   "source": [
    "final_df['주간접종자합계'] = final_df['주간1차접종자수']+final_df['주간2차접종자수']\n",
    "final_df['누적접종자합계'] = final_df['1차접종누계']+final_df['2차접종누계']"
   ]
  },
  {
   "cell_type": "code",
   "execution_count": 27,
   "id": "44d6c39d",
   "metadata": {},
   "outputs": [],
   "source": [
    "final_df = final_df[['지역','주',\n",
    "                     '매출액',\n",
    "                     '관객수',\n",
    "                     '1차접종누계',\n",
    "                     '2차접종누계',\n",
    "                     '누적접종자합계',\n",
    "                     '주간1차접종자수',\n",
    "                     '주간2차접종자수',\n",
    "                     '주간접종자합계']]"
   ]
  },
  {
   "cell_type": "code",
   "execution_count": 28,
   "id": "597e2c03",
   "metadata": {
    "scrolled": true
   },
   "outputs": [
    {
     "data": {
      "text/html": [
       "<div>\n",
       "<style scoped>\n",
       "    .dataframe tbody tr th:only-of-type {\n",
       "        vertical-align: middle;\n",
       "    }\n",
       "\n",
       "    .dataframe tbody tr th {\n",
       "        vertical-align: top;\n",
       "    }\n",
       "\n",
       "    .dataframe thead th {\n",
       "        text-align: right;\n",
       "    }\n",
       "</style>\n",
       "<table border=\"1\" class=\"dataframe\">\n",
       "  <thead>\n",
       "    <tr style=\"text-align: right;\">\n",
       "      <th></th>\n",
       "      <th>지역</th>\n",
       "      <th>주</th>\n",
       "      <th>매출액</th>\n",
       "      <th>관객수</th>\n",
       "      <th>1차접종누계</th>\n",
       "      <th>2차접종누계</th>\n",
       "      <th>누적접종자합계</th>\n",
       "      <th>주간1차접종자수</th>\n",
       "      <th>주간2차접종자수</th>\n",
       "      <th>주간접종자합계</th>\n",
       "    </tr>\n",
       "  </thead>\n",
       "  <tbody>\n",
       "    <tr>\n",
       "      <th>0</th>\n",
       "      <td>서울시</td>\n",
       "      <td>2021-03-12</td>\n",
       "      <td>2370034110</td>\n",
       "      <td>245237</td>\n",
       "      <td>109536</td>\n",
       "      <td>0</td>\n",
       "      <td>109536</td>\n",
       "      <td>35709</td>\n",
       "      <td>0</td>\n",
       "      <td>35709</td>\n",
       "    </tr>\n",
       "    <tr>\n",
       "      <th>1</th>\n",
       "      <td>서울시</td>\n",
       "      <td>2021-03-19</td>\n",
       "      <td>2089378170</td>\n",
       "      <td>221908</td>\n",
       "      <td>122249</td>\n",
       "      <td>1725</td>\n",
       "      <td>123974</td>\n",
       "      <td>12713</td>\n",
       "      <td>1725</td>\n",
       "      <td>14438</td>\n",
       "    </tr>\n",
       "    <tr>\n",
       "      <th>2</th>\n",
       "      <td>서울시</td>\n",
       "      <td>2021-03-26</td>\n",
       "      <td>2156717370</td>\n",
       "      <td>223590</td>\n",
       "      <td>141584</td>\n",
       "      <td>6227</td>\n",
       "      <td>147811</td>\n",
       "      <td>19335</td>\n",
       "      <td>4502</td>\n",
       "      <td>23837</td>\n",
       "    </tr>\n",
       "    <tr>\n",
       "      <th>3</th>\n",
       "      <td>서울시</td>\n",
       "      <td>2021-04-02</td>\n",
       "      <td>2394668990</td>\n",
       "      <td>261118</td>\n",
       "      <td>166563</td>\n",
       "      <td>12397</td>\n",
       "      <td>178960</td>\n",
       "      <td>24979</td>\n",
       "      <td>6170</td>\n",
       "      <td>31149</td>\n",
       "    </tr>\n",
       "    <tr>\n",
       "      <th>4</th>\n",
       "      <td>서울시</td>\n",
       "      <td>2021-04-09</td>\n",
       "      <td>1826626560</td>\n",
       "      <td>193633</td>\n",
       "      <td>195071</td>\n",
       "      <td>13502</td>\n",
       "      <td>208573</td>\n",
       "      <td>28508</td>\n",
       "      <td>1105</td>\n",
       "      <td>29613</td>\n",
       "    </tr>\n",
       "    <tr>\n",
       "      <th>5</th>\n",
       "      <td>서울시</td>\n",
       "      <td>2021-04-16</td>\n",
       "      <td>1481982720</td>\n",
       "      <td>158687</td>\n",
       "      <td>294555</td>\n",
       "      <td>13543</td>\n",
       "      <td>308098</td>\n",
       "      <td>99484</td>\n",
       "      <td>41</td>\n",
       "      <td>99525</td>\n",
       "    </tr>\n",
       "    <tr>\n",
       "      <th>6</th>\n",
       "      <td>서울시</td>\n",
       "      <td>2021-04-23</td>\n",
       "      <td>1709790330</td>\n",
       "      <td>183278</td>\n",
       "      <td>438269</td>\n",
       "      <td>27699</td>\n",
       "      <td>465968</td>\n",
       "      <td>143714</td>\n",
       "      <td>14156</td>\n",
       "      <td>157870</td>\n",
       "    </tr>\n",
       "    <tr>\n",
       "      <th>7</th>\n",
       "      <td>서울시</td>\n",
       "      <td>2021-04-30</td>\n",
       "      <td>1796128240</td>\n",
       "      <td>207101</td>\n",
       "      <td>563044</td>\n",
       "      <td>47940</td>\n",
       "      <td>610984</td>\n",
       "      <td>124775</td>\n",
       "      <td>20241</td>\n",
       "      <td>145016</td>\n",
       "    </tr>\n",
       "    <tr>\n",
       "      <th>8</th>\n",
       "      <td>서울시</td>\n",
       "      <td>2021-05-07</td>\n",
       "      <td>2713673630</td>\n",
       "      <td>290264</td>\n",
       "      <td>600548</td>\n",
       "      <td>112781</td>\n",
       "      <td>713329</td>\n",
       "      <td>37504</td>\n",
       "      <td>64841</td>\n",
       "      <td>102345</td>\n",
       "    </tr>\n",
       "    <tr>\n",
       "      <th>9</th>\n",
       "      <td>서울시</td>\n",
       "      <td>2021-05-14</td>\n",
       "      <td>1365881880</td>\n",
       "      <td>148365</td>\n",
       "      <td>616705</td>\n",
       "      <td>175445</td>\n",
       "      <td>792150</td>\n",
       "      <td>16157</td>\n",
       "      <td>62664</td>\n",
       "      <td>78821</td>\n",
       "    </tr>\n",
       "    <tr>\n",
       "      <th>10</th>\n",
       "      <td>서울시</td>\n",
       "      <td>2021-05-21</td>\n",
       "      <td>2551193710</td>\n",
       "      <td>266485</td>\n",
       "      <td>650432</td>\n",
       "      <td>291118</td>\n",
       "      <td>941550</td>\n",
       "      <td>33727</td>\n",
       "      <td>115673</td>\n",
       "      <td>149400</td>\n",
       "    </tr>\n",
       "    <tr>\n",
       "      <th>11</th>\n",
       "      <td>서울시</td>\n",
       "      <td>2021-05-28</td>\n",
       "      <td>2886481360</td>\n",
       "      <td>310014</td>\n",
       "      <td>1165736</td>\n",
       "      <td>346936</td>\n",
       "      <td>1512672</td>\n",
       "      <td>515304</td>\n",
       "      <td>55818</td>\n",
       "      <td>571122</td>\n",
       "    </tr>\n",
       "    <tr>\n",
       "      <th>12</th>\n",
       "      <td>서울시</td>\n",
       "      <td>2021-06-04</td>\n",
       "      <td>3308331430</td>\n",
       "      <td>345848</td>\n",
       "      <td>1746392</td>\n",
       "      <td>380200</td>\n",
       "      <td>2126592</td>\n",
       "      <td>580656</td>\n",
       "      <td>33264</td>\n",
       "      <td>613920</td>\n",
       "    </tr>\n",
       "    <tr>\n",
       "      <th>13</th>\n",
       "      <td>서울시</td>\n",
       "      <td>2021-06-11</td>\n",
       "      <td>3216698320</td>\n",
       "      <td>327510</td>\n",
       "      <td>2554809</td>\n",
       "      <td>685532</td>\n",
       "      <td>3240341</td>\n",
       "      <td>808417</td>\n",
       "      <td>305332</td>\n",
       "      <td>1113749</td>\n",
       "    </tr>\n",
       "    <tr>\n",
       "      <th>14</th>\n",
       "      <td>서울시</td>\n",
       "      <td>2021-06-18</td>\n",
       "      <td>3014873260</td>\n",
       "      <td>312236</td>\n",
       "      <td>2802006</td>\n",
       "      <td>813666</td>\n",
       "      <td>3615672</td>\n",
       "      <td>247197</td>\n",
       "      <td>128134</td>\n",
       "      <td>375331</td>\n",
       "    </tr>\n",
       "    <tr>\n",
       "      <th>15</th>\n",
       "      <td>서울시</td>\n",
       "      <td>2021-06-25</td>\n",
       "      <td>3675390440</td>\n",
       "      <td>377430</td>\n",
       "      <td>2833050</td>\n",
       "      <td>914519</td>\n",
       "      <td>3747569</td>\n",
       "      <td>31044</td>\n",
       "      <td>100853</td>\n",
       "      <td>131897</td>\n",
       "    </tr>\n",
       "  </tbody>\n",
       "</table>\n",
       "</div>"
      ],
      "text/plain": [
       "     지역          주         매출액     관객수   1차접종누계  2차접종누계  누적접종자합계  주간1차접종자수  \\\n",
       "0   서울시 2021-03-12  2370034110  245237   109536       0   109536     35709   \n",
       "1   서울시 2021-03-19  2089378170  221908   122249    1725   123974     12713   \n",
       "2   서울시 2021-03-26  2156717370  223590   141584    6227   147811     19335   \n",
       "3   서울시 2021-04-02  2394668990  261118   166563   12397   178960     24979   \n",
       "4   서울시 2021-04-09  1826626560  193633   195071   13502   208573     28508   \n",
       "5   서울시 2021-04-16  1481982720  158687   294555   13543   308098     99484   \n",
       "6   서울시 2021-04-23  1709790330  183278   438269   27699   465968    143714   \n",
       "7   서울시 2021-04-30  1796128240  207101   563044   47940   610984    124775   \n",
       "8   서울시 2021-05-07  2713673630  290264   600548  112781   713329     37504   \n",
       "9   서울시 2021-05-14  1365881880  148365   616705  175445   792150     16157   \n",
       "10  서울시 2021-05-21  2551193710  266485   650432  291118   941550     33727   \n",
       "11  서울시 2021-05-28  2886481360  310014  1165736  346936  1512672    515304   \n",
       "12  서울시 2021-06-04  3308331430  345848  1746392  380200  2126592    580656   \n",
       "13  서울시 2021-06-11  3216698320  327510  2554809  685532  3240341    808417   \n",
       "14  서울시 2021-06-18  3014873260  312236  2802006  813666  3615672    247197   \n",
       "15  서울시 2021-06-25  3675390440  377430  2833050  914519  3747569     31044   \n",
       "\n",
       "    주간2차접종자수  주간접종자합계  \n",
       "0          0    35709  \n",
       "1       1725    14438  \n",
       "2       4502    23837  \n",
       "3       6170    31149  \n",
       "4       1105    29613  \n",
       "5         41    99525  \n",
       "6      14156   157870  \n",
       "7      20241   145016  \n",
       "8      64841   102345  \n",
       "9      62664    78821  \n",
       "10    115673   149400  \n",
       "11     55818   571122  \n",
       "12     33264   613920  \n",
       "13    305332  1113749  \n",
       "14    128134   375331  \n",
       "15    100853   131897  "
      ]
     },
     "execution_count": 28,
     "metadata": {},
     "output_type": "execute_result"
    }
   ],
   "source": [
    "final_df"
   ]
  },
  {
   "cell_type": "markdown",
   "id": "1eb71277",
   "metadata": {},
   "source": [
    "### 2. 누적 접종자수"
   ]
  },
  {
   "cell_type": "code",
   "execution_count": 29,
   "id": "250c987a",
   "metadata": {},
   "outputs": [
    {
     "data": {
      "text/plain": [
       "<matplotlib.collections.PathCollection at 0x268ae2fe4c0>"
      ]
     },
     "execution_count": 29,
     "metadata": {},
     "output_type": "execute_result"
    },
    {
     "data": {
      "text/plain": [
       "<matplotlib.collections.PathCollection at 0x268ae2fec40>"
      ]
     },
     "execution_count": 29,
     "metadata": {},
     "output_type": "execute_result"
    },
    {
     "data": {
      "text/plain": [
       "<matplotlib.collections.PathCollection at 0x268ae308130>"
      ]
     },
     "execution_count": 29,
     "metadata": {},
     "output_type": "execute_result"
    },
    {
     "data": {
      "text/plain": [
       "Text(0, 0.5, '%')"
      ]
     },
     "execution_count": 29,
     "metadata": {},
     "output_type": "execute_result"
    },
    {
     "data": {
      "text/plain": [
       "<matplotlib.legend.Legend at 0x268ae138880>"
      ]
     },
     "execution_count": 29,
     "metadata": {},
     "output_type": "execute_result"
    },
    {
     "data": {
      "image/png": "[encoded data removed]",
      "text/plain": [
       "<Figure size 720x720 with 1 Axes>"
      ]
     },
     "metadata": {},
     "output_type": "display_data"
    }
   ],
   "source": [
    "# \n",
    "plt.rcParams[\"figure.figsize\"] = (10, 10)\n",
    "plt.rcParams[\"font.family\"] = 'Malgun Gothic'\n",
    "plt.rcParams[\"font.size\"] = 12\n",
    "plt.scatter(final_df['주'], final_df['매출액']/int(avr_2019['매출액'][0])*100,label='19년 대비 매출액 비율 (%)')\n",
    "plt.scatter(final_df['주'], final_df['누적접종자합계']/9828094*100,label='누적접종률 (%)')\n",
    "plt.scatter(final_df['주'], final_df['주간접종자합계']/9828094*100,label='주간접종률 (%)')\n",
    "plt.ylabel('%')\n",
    "plt.legend(loc='best')"
   ]
  },
  {
   "cell_type": "code",
   "execution_count": 30,
   "id": "66c42153",
   "metadata": {},
   "outputs": [
    {
     "data": {
      "text/plain": [
       "<matplotlib.collections.PathCollection at 0x268ae325f70>"
      ]
     },
     "execution_count": 30,
     "metadata": {},
     "output_type": "execute_result"
    },
    {
     "data": {
      "text/plain": [
       "Text(0.5, 1.0, '매출액 , 누적접종률 산점도')"
      ]
     },
     "execution_count": 30,
     "metadata": {},
     "output_type": "execute_result"
    },
    {
     "data": {
      "text/plain": [
       "Text(0.5, 0, '매출액(억)')"
      ]
     },
     "execution_count": 30,
     "metadata": {},
     "output_type": "execute_result"
    },
    {
     "data": {
      "text/plain": [
       "Text(0, 0.5, '누적접종률(%)')"
      ]
     },
     "execution_count": 30,
     "metadata": {},
     "output_type": "execute_result"
    },
    {
     "data": {
      "image/png": "[encoded data removed]",
      "text/plain": [
       "<Figure size 720x432 with 1 Axes>"
      ]
     },
     "metadata": {},
     "output_type": "display_data"
    }
   ],
   "source": [
    "#누적접종률 - 2019년 대비 매출액 매출액 산점도\n",
    "plt.rcParams[\"figure.figsize\"] = (10, 6)\n",
    "plt.scatter(final_df['매출액']/100000000, final_df['누적접종자합계']/9828094*100)\n",
    "plt.title('매출액 , 누적접종률 산점도')\n",
    "\n",
    "plt.xlabel('매출액(억)')\n",
    "plt.ylabel('누적접종률(%)')\n",
    "\n",
    "ax = plt.gca()\n",
    "ax.get_yaxis().get_major_formatter().set_scientific(False)\n",
    "ax.get_xaxis().get_major_formatter().set_scientific(False)"
   ]
  },
  {
   "cell_type": "code",
   "execution_count": 31,
   "id": "72824c8f",
   "metadata": {},
   "outputs": [
    {
     "data": {
      "text/plain": [
       "<matplotlib.collections.PathCollection at 0x268ae37eca0>"
      ]
     },
     "execution_count": 31,
     "metadata": {},
     "output_type": "execute_result"
    },
    {
     "data": {
      "text/plain": [
       "Text(0.5, 1.0, '매출액, 주간접종률 산점도')"
      ]
     },
     "execution_count": 31,
     "metadata": {},
     "output_type": "execute_result"
    },
    {
     "data": {
      "text/plain": [
       "Text(0.5, 0, '매출액(억)')"
      ]
     },
     "execution_count": 31,
     "metadata": {},
     "output_type": "execute_result"
    },
    {
     "data": {
      "text/plain": [
       "Text(0, 0.5, '주간접종률(%)')"
      ]
     },
     "execution_count": 31,
     "metadata": {},
     "output_type": "execute_result"
    },
    {
     "data": {
      "image/png": "[encoded data removed]",
      "text/plain": [
       "<Figure size 720x432 with 1 Axes>"
      ]
     },
     "metadata": {},
     "output_type": "display_data"
    }
   ],
   "source": [
    "#주간접종률 - 2019년 대비 매출액 매출액 산점도\n",
    "plt.scatter(final_df['매출액']/100000000, final_df['주간접종자합계']/9828094*100)\n",
    "plt.title('매출액, 주간접종률 산점도')\n",
    "\n",
    "ax = plt.gca()\n",
    "ax.get_yaxis().get_major_formatter().set_scientific(False)\n",
    "plt.xlabel('매출액(억)')\n",
    "plt.ylabel('주간접종률(%)')\n",
    "\n",
    "ax = plt.gca()\n",
    "ax.get_yaxis().get_major_formatter().set_scientific(False)\n",
    "ax.get_xaxis().get_major_formatter().set_scientific(False)"
   ]
  },
  {
   "cell_type": "code",
   "execution_count": 32,
   "id": "952276f2",
   "metadata": {},
   "outputs": [],
   "source": [
    "final_df_modi = final_df.loc[:,['매출액','누적접종자합계','주간접종자합계']]\n",
    "\n",
    "\n",
    "final_df_modi['누적접종자합계'] = final_df_modi['누적접종자합계']/9828094*100\n",
    "final_df_modi['주간접종자합계'] = final_df_modi['주간접종자합계']/9828094*100\n",
    "\n",
    "final_df_modi.rename(columns={\n",
    "                              '누적접종자합계':'누적접종률(%)',\n",
    "                              '주간접종자합계':'주간접종률(%)'}, inplace = True)"
   ]
  },
  {
   "cell_type": "code",
   "execution_count": 33,
   "id": "9f44718a",
   "metadata": {
    "scrolled": true
   },
   "outputs": [
    {
     "data": {
      "text/html": [
       "<div>\n",
       "<style scoped>\n",
       "    .dataframe tbody tr th:only-of-type {\n",
       "        vertical-align: middle;\n",
       "    }\n",
       "\n",
       "    .dataframe tbody tr th {\n",
       "        vertical-align: top;\n",
       "    }\n",
       "\n",
       "    .dataframe thead th {\n",
       "        text-align: right;\n",
       "    }\n",
       "</style>\n",
       "<table border=\"1\" class=\"dataframe\">\n",
       "  <thead>\n",
       "    <tr style=\"text-align: right;\">\n",
       "      <th></th>\n",
       "      <th>매출액</th>\n",
       "      <th>누적접종률(%)</th>\n",
       "      <th>주간접종률(%)</th>\n",
       "    </tr>\n",
       "  </thead>\n",
       "  <tbody>\n",
       "    <tr>\n",
       "      <th>0</th>\n",
       "      <td>2370034110</td>\n",
       "      <td>1.11</td>\n",
       "      <td>0.36</td>\n",
       "    </tr>\n",
       "    <tr>\n",
       "      <th>1</th>\n",
       "      <td>2089378170</td>\n",
       "      <td>1.26</td>\n",
       "      <td>0.15</td>\n",
       "    </tr>\n",
       "    <tr>\n",
       "      <th>2</th>\n",
       "      <td>2156717370</td>\n",
       "      <td>1.50</td>\n",
       "      <td>0.24</td>\n",
       "    </tr>\n",
       "    <tr>\n",
       "      <th>3</th>\n",
       "      <td>2394668990</td>\n",
       "      <td>1.82</td>\n",
       "      <td>0.32</td>\n",
       "    </tr>\n",
       "    <tr>\n",
       "      <th>4</th>\n",
       "      <td>1826626560</td>\n",
       "      <td>2.12</td>\n",
       "      <td>0.30</td>\n",
       "    </tr>\n",
       "    <tr>\n",
       "      <th>5</th>\n",
       "      <td>1481982720</td>\n",
       "      <td>3.13</td>\n",
       "      <td>1.01</td>\n",
       "    </tr>\n",
       "    <tr>\n",
       "      <th>6</th>\n",
       "      <td>1709790330</td>\n",
       "      <td>4.74</td>\n",
       "      <td>1.61</td>\n",
       "    </tr>\n",
       "    <tr>\n",
       "      <th>7</th>\n",
       "      <td>1796128240</td>\n",
       "      <td>6.22</td>\n",
       "      <td>1.48</td>\n",
       "    </tr>\n",
       "    <tr>\n",
       "      <th>8</th>\n",
       "      <td>2713673630</td>\n",
       "      <td>7.26</td>\n",
       "      <td>1.04</td>\n",
       "    </tr>\n",
       "    <tr>\n",
       "      <th>9</th>\n",
       "      <td>1365881880</td>\n",
       "      <td>8.06</td>\n",
       "      <td>0.80</td>\n",
       "    </tr>\n",
       "    <tr>\n",
       "      <th>10</th>\n",
       "      <td>2551193710</td>\n",
       "      <td>9.58</td>\n",
       "      <td>1.52</td>\n",
       "    </tr>\n",
       "    <tr>\n",
       "      <th>11</th>\n",
       "      <td>2886481360</td>\n",
       "      <td>15.39</td>\n",
       "      <td>5.81</td>\n",
       "    </tr>\n",
       "    <tr>\n",
       "      <th>12</th>\n",
       "      <td>3308331430</td>\n",
       "      <td>21.64</td>\n",
       "      <td>6.25</td>\n",
       "    </tr>\n",
       "    <tr>\n",
       "      <th>13</th>\n",
       "      <td>3216698320</td>\n",
       "      <td>32.97</td>\n",
       "      <td>11.33</td>\n",
       "    </tr>\n",
       "    <tr>\n",
       "      <th>14</th>\n",
       "      <td>3014873260</td>\n",
       "      <td>36.79</td>\n",
       "      <td>3.82</td>\n",
       "    </tr>\n",
       "    <tr>\n",
       "      <th>15</th>\n",
       "      <td>3675390440</td>\n",
       "      <td>38.13</td>\n",
       "      <td>1.34</td>\n",
       "    </tr>\n",
       "  </tbody>\n",
       "</table>\n",
       "</div>"
      ],
      "text/plain": [
       "           매출액  누적접종률(%)  주간접종률(%)\n",
       "0   2370034110      1.11      0.36\n",
       "1   2089378170      1.26      0.15\n",
       "2   2156717370      1.50      0.24\n",
       "3   2394668990      1.82      0.32\n",
       "4   1826626560      2.12      0.30\n",
       "5   1481982720      3.13      1.01\n",
       "6   1709790330      4.74      1.61\n",
       "7   1796128240      6.22      1.48\n",
       "8   2713673630      7.26      1.04\n",
       "9   1365881880      8.06      0.80\n",
       "10  2551193710      9.58      1.52\n",
       "11  2886481360     15.39      5.81\n",
       "12  3308331430     21.64      6.25\n",
       "13  3216698320     32.97     11.33\n",
       "14  3014873260     36.79      3.82\n",
       "15  3675390440     38.13      1.34"
      ]
     },
     "execution_count": 33,
     "metadata": {},
     "output_type": "execute_result"
    }
   ],
   "source": [
    "final_df_modi"
   ]
  },
  {
   "cell_type": "code",
   "execution_count": 34,
   "id": "300cbc0d",
   "metadata": {},
   "outputs": [
    {
     "data": {
      "text/plain": [
       "array([[<AxesSubplot:xlabel='매출액', ylabel='매출액'>,\n",
       "        <AxesSubplot:xlabel='누적접종률(%)', ylabel='매출액'>,\n",
       "        <AxesSubplot:xlabel='주간접종률(%)', ylabel='매출액'>],\n",
       "       [<AxesSubplot:xlabel='매출액', ylabel='누적접종률(%)'>,\n",
       "        <AxesSubplot:xlabel='누적접종률(%)', ylabel='누적접종률(%)'>,\n",
       "        <AxesSubplot:xlabel='주간접종률(%)', ylabel='누적접종률(%)'>],\n",
       "       [<AxesSubplot:xlabel='매출액', ylabel='주간접종률(%)'>,\n",
       "        <AxesSubplot:xlabel='누적접종률(%)', ylabel='주간접종률(%)'>,\n",
       "        <AxesSubplot:xlabel='주간접종률(%)', ylabel='주간접종률(%)'>]], dtype=object)"
      ]
     },
     "execution_count": 34,
     "metadata": {},
     "output_type": "execute_result"
    },
    {
     "data": {
      "image/png": "[encoded data removed]",
      "text/plain": [
       "<Figure size 720x720 with 9 Axes>"
      ]
     },
     "metadata": {},
     "output_type": "display_data"
    }
   ],
   "source": [
    "plt.rcParams[\"figure.figsize\"] = (10, 10)\n",
    "plt.rcParams[\"font.family\"] = 'Malgun Gothic'\n",
    "plt.rcParams[\"font.size\"] = 12\n",
    "pd.plotting.scatter_matrix(final_df_modi)"
   ]
  },
  {
   "cell_type": "code",
   "execution_count": 35,
   "id": "cd075bc6",
   "metadata": {},
   "outputs": [],
   "source": [
    "sns.set_style(\"darkgrid\")"
   ]
  },
  {
   "cell_type": "code",
   "execution_count": 36,
   "id": "33f5b8c0",
   "metadata": {},
   "outputs": [],
   "source": [
    "# 한글 문제\n",
    "# matplotlit의 기본 폰트에서 한글 지원되지 않기 때문에\n",
    "# matplotlib의 폰트 변경 필요\n",
    "import platform\n",
    "\n",
    "from matplotlib import font_manager, rc\n",
    "plt.rcParams['axes.unicode_minus'] = False\n",
    "\n",
    "if platform.system() == 'Windows':  # 윈도우\n",
    "    path = \"c:/Windows/Fonts/malgun.ttf\"\n",
    "    font_name = font_manager.FontProperties(fname=path).get_name()\n",
    "    rc('font', family=font_name)\n",
    "else:\n",
    "    print('Unknown system...  sorry~~~')"
   ]
  },
  {
   "cell_type": "code",
   "execution_count": 37,
   "id": "d95532ac",
   "metadata": {},
   "outputs": [
    {
     "data": {
      "text/plain": [
       "<seaborn.axisgrid.PairGrid at 0x268aea62670>"
      ]
     },
     "execution_count": 37,
     "metadata": {},
     "output_type": "execute_result"
    },
    {
     "data": {
      "image/png": "[encoded data removed]",
      "text/plain": [
       "<Figure size 540x540 with 12 Axes>"
      ]
     },
     "metadata": {},
     "output_type": "display_data"
    }
   ],
   "source": [
    "sns.pairplot(final_df_modi,kind='reg')"
   ]
  },
  {
   "cell_type": "code",
   "execution_count": 38,
   "id": "faabb12f",
   "metadata": {},
   "outputs": [
    {
     "data": {
      "text/plain": [
       "(0.5688300866681443, 0.021480252505826934)"
      ]
     },
     "execution_count": 38,
     "metadata": {},
     "output_type": "execute_result"
    }
   ],
   "source": [
    "pearsonr(final_df_modi['매출액'],final_df_modi['주간접종률(%)']) \n",
    "\n",
    "#p value가 0.05 미만이므로 유의미한 상관성이 있으며\n",
    "# 상관계수가 0.57이므로, 보통의 상관관계가 있다고 볼 수 있다."
   ]
  },
  {
   "cell_type": "code",
   "execution_count": 39,
   "id": "2a18978f",
   "metadata": {},
   "outputs": [
    {
     "data": {
      "text/plain": [
       "(0.7879655314227366, 0.0002888065130348548)"
      ]
     },
     "execution_count": 39,
     "metadata": {},
     "output_type": "execute_result"
    }
   ],
   "source": [
    "pearsonr(final_df_modi['매출액'],final_df_modi['누적접종률(%)']) \n",
    "\n",
    "#p value가 0.05 미만이므로 유의미한 상관성이 있으며\n",
    "# 상관계수가 0.79이므로, 아주 강한 상관관계가 있다고 볼 수 있다."
   ]
  },
  {
   "cell_type": "markdown",
   "id": "38970b05",
   "metadata": {},
   "source": [
    "# 상관행렬 작성"
   ]
  },
  {
   "cell_type": "code",
   "execution_count": 40,
   "id": "567c8f78",
   "metadata": {},
   "outputs": [],
   "source": [
    "import numpy as np\n",
    "mat = np.zeros_like(final_df_modi.corr(method = 'pearson'))\n"
   ]
  },
  {
   "cell_type": "code",
   "execution_count": 41,
   "id": "4ca8170d",
   "metadata": {},
   "outputs": [
    {
     "data": {
      "text/plain": [
       "<Figure size 864x720 with 0 Axes>"
      ]
     },
     "execution_count": 41,
     "metadata": {},
     "output_type": "execute_result"
    },
    {
     "data": {
      "text/plain": [
       "<AxesSubplot:>"
      ]
     },
     "execution_count": 41,
     "metadata": {},
     "output_type": "execute_result"
    },
    {
     "data": {
      "image/png": "[encoded data removed]",
      "text/plain": [
       "<Figure size 864x720 with 2 Axes>"
      ]
     },
     "metadata": {},
     "output_type": "display_data"
    }
   ],
   "source": [
    "plt.figure(figsize=(12,10))\n",
    "sns.heatmap(final_df_modi.corr(method = 'pearson'),\n",
    "            vmin = 0, vmax = +1, \n",
    "            annot = True, \n",
    "            cmap = 'RdYlBu_r', \n",
    "            linewidths=1,\n",
    "            cbar_kws={\"shrink\": 0.4},\n",
    "            mask = mat)"
   ]
  },
  {
   "cell_type": "code",
   "execution_count": null,
   "id": "da56077a",
   "metadata": {},
   "outputs": [],
   "source": []
  },
  {
   "cell_type": "code",
   "execution_count": null,
   "id": "c23722af",
   "metadata": {},
   "outputs": [],
   "source": []
  },
  {
   "cell_type": "code",
   "execution_count": null,
   "id": "5176709e",
   "metadata": {},
   "outputs": [],
   "source": []
  }
 ],
 "metadata": {
  "kernelspec": {
   "display_name": "Python 3",
   "language": "python",
   "name": "python3"
  },
  "language_info": {
   "codemirror_mode": {
    "name": "ipython",
    "version": 3
   },
   "file_extension": ".py",
   "mimetype": "text/x-python",
   "name": "python",
   "nbconvert_exporter": "python",
   "pygments_lexer": "ipython3",
   "version": "3.8.8"
  }
 },
 "nbformat": 4,
 "nbformat_minor": 5
}
