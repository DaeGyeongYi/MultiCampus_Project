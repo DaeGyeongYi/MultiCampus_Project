{
 "cells": [
  {
   "cell_type": "code",
   "execution_count": 2,
   "id": "a1705528",
   "metadata": {},
   "outputs": [],
   "source": [
    "import pandas as pd\n",
    "import numpy as np\n",
    "import seaborn as sns"
   ]
  },
  {
   "cell_type": "code",
   "execution_count": 3,
   "id": "fa3dcb4d",
   "metadata": {},
   "outputs": [],
   "source": [
    "#그래프 패키지 \n",
    "import matplotlib.pyplot as plt \n",
    "%matplotlib inline "
   ]
  },
  {
   "cell_type": "code",
   "execution_count": 4,
   "id": "7e244725",
   "metadata": {},
   "outputs": [],
   "source": [
    "# 한글 문제 해결\n",
    "import platform\n",
    "\n",
    "from matplotlib import font_manager, rc\n",
    "plt.rcParams['axes.unicode_minus'] = False\n",
    "\n",
    "if platform.system() == 'Darwin':  # 맥OS \n",
    "    rc('font', family='AppleGothic')\n",
    "elif platform.system() == 'Windows':  # 윈도우\n",
    "    path = \"c:/Windows/Fonts/malgun.ttf\"\n",
    "    font_name = font_manager.FontProperties(fname=path).get_name()\n",
    "    rc('font', family=font_name)\n",
    "else:\n",
    "    print('Unknown system...  sorry~~~')"
   ]
  },
  {
   "cell_type": "code",
   "execution_count": 5,
   "id": "4b5c9c52",
   "metadata": {},
   "outputs": [],
   "source": [
    "# 동시 출력\n",
    "from IPython.core.interactiveshell import InteractiveShell\n",
    "InteractiveShell.ast_node_interactivity=\"all\""
   ]
  },
  {
   "cell_type": "code",
   "execution_count": 8,
   "id": "9ab1a570",
   "metadata": {},
   "outputs": [],
   "source": [
    "raw_seuoul_data_2019 = pd.read_csv(\"./data/movie/2019년_서울_영화관.csv\", encoding='UTF-8')\n",
    "raw_busan_data_2019 = pd.read_csv(\"./data/movie/2019년_부산_영화관.csv\", encoding='UTF-8')"
   ]
  },
  {
   "cell_type": "code",
   "execution_count": 9,
   "id": "62e70910",
   "metadata": {},
   "outputs": [
    {
     "data": {
      "text/html": [
       "<div>\n",
       "<style scoped>\n",
       "    .dataframe tbody tr th:only-of-type {\n",
       "        vertical-align: middle;\n",
       "    }\n",
       "\n",
       "    .dataframe tbody tr th {\n",
       "        vertical-align: top;\n",
       "    }\n",
       "\n",
       "    .dataframe thead th {\n",
       "        text-align: right;\n",
       "    }\n",
       "</style>\n",
       "<table border=\"1\" class=\"dataframe\">\n",
       "  <thead>\n",
       "    <tr style=\"text-align: right;\">\n",
       "      <th></th>\n",
       "      <th>서울시</th>\n",
       "      <th>Unnamed: 1</th>\n",
       "      <th>Unnamed: 2</th>\n",
       "      <th>Unnamed: 3</th>\n",
       "    </tr>\n",
       "  </thead>\n",
       "  <tbody>\n",
       "    <tr>\n",
       "      <th>0</th>\n",
       "      <td>월</td>\n",
       "      <td>상연편수</td>\n",
       "      <td>매출액</td>\n",
       "      <td>관객수</td>\n",
       "    </tr>\n",
       "    <tr>\n",
       "      <th>1</th>\n",
       "      <td>1월</td>\n",
       "      <td>229</td>\n",
       "      <td>38,595,296,956</td>\n",
       "      <td>4,465,221</td>\n",
       "    </tr>\n",
       "    <tr>\n",
       "      <th>2</th>\n",
       "      <td>2월</td>\n",
       "      <td>230</td>\n",
       "      <td>47,274,720,440</td>\n",
       "      <td>5,385,432</td>\n",
       "    </tr>\n",
       "    <tr>\n",
       "      <th>3</th>\n",
       "      <td>3월</td>\n",
       "      <td>248</td>\n",
       "      <td>36,712,399,479</td>\n",
       "      <td>4,106,324</td>\n",
       "    </tr>\n",
       "    <tr>\n",
       "      <th>4</th>\n",
       "      <td>4월</td>\n",
       "      <td>284</td>\n",
       "      <td>31,378,171,902</td>\n",
       "      <td>3,568,534</td>\n",
       "    </tr>\n",
       "  </tbody>\n",
       "</table>\n",
       "</div>"
      ],
      "text/plain": [
       "  서울시 Unnamed: 1      Unnamed: 2 Unnamed: 3\n",
       "0   월       상연편수             매출액        관객수\n",
       "1  1월        229  38,595,296,956  4,465,221\n",
       "2  2월        230  47,274,720,440  5,385,432\n",
       "3  3월        248  36,712,399,479  4,106,324\n",
       "4  4월        284  31,378,171,902  3,568,534"
      ]
     },
     "execution_count": 9,
     "metadata": {},
     "output_type": "execute_result"
    },
    {
     "data": {
      "text/html": [
       "<div>\n",
       "<style scoped>\n",
       "    .dataframe tbody tr th:only-of-type {\n",
       "        vertical-align: middle;\n",
       "    }\n",
       "\n",
       "    .dataframe tbody tr th {\n",
       "        vertical-align: top;\n",
       "    }\n",
       "\n",
       "    .dataframe thead th {\n",
       "        text-align: right;\n",
       "    }\n",
       "</style>\n",
       "<table border=\"1\" class=\"dataframe\">\n",
       "  <thead>\n",
       "    <tr style=\"text-align: right;\">\n",
       "      <th></th>\n",
       "      <th>부산시</th>\n",
       "      <th>Unnamed: 1</th>\n",
       "      <th>Unnamed: 2</th>\n",
       "      <th>Unnamed: 3</th>\n",
       "    </tr>\n",
       "  </thead>\n",
       "  <tbody>\n",
       "    <tr>\n",
       "      <th>0</th>\n",
       "      <td>월</td>\n",
       "      <td>상연편수</td>\n",
       "      <td>매출액</td>\n",
       "      <td>관객수</td>\n",
       "    </tr>\n",
       "    <tr>\n",
       "      <th>1</th>\n",
       "      <td>1월</td>\n",
       "      <td>107</td>\n",
       "      <td>10,633,895,350</td>\n",
       "      <td>1,269,274</td>\n",
       "    </tr>\n",
       "    <tr>\n",
       "      <th>2</th>\n",
       "      <td>2월</td>\n",
       "      <td>94</td>\n",
       "      <td>13,318,043,880</td>\n",
       "      <td>1,558,115</td>\n",
       "    </tr>\n",
       "    <tr>\n",
       "      <th>3</th>\n",
       "      <td>3월</td>\n",
       "      <td>125</td>\n",
       "      <td>8,808,312,160</td>\n",
       "      <td>1,034,366</td>\n",
       "    </tr>\n",
       "    <tr>\n",
       "      <th>4</th>\n",
       "      <td>4월</td>\n",
       "      <td>167</td>\n",
       "      <td>27,513,630,030</td>\n",
       "      <td>3,226,198</td>\n",
       "    </tr>\n",
       "  </tbody>\n",
       "</table>\n",
       "</div>"
      ],
      "text/plain": [
       "  부산시 Unnamed: 1      Unnamed: 2 Unnamed: 3\n",
       "0   월       상연편수             매출액        관객수\n",
       "1  1월        107  10,633,895,350  1,269,274\n",
       "2  2월         94  13,318,043,880  1,558,115\n",
       "3  3월        125   8,808,312,160  1,034,366\n",
       "4  4월        167  27,513,630,030  3,226,198"
      ]
     },
     "execution_count": 9,
     "metadata": {},
     "output_type": "execute_result"
    }
   ],
   "source": [
    "raw_seuoul_data_2019.head()\n",
    "raw_busan_data_2019.head()"
   ]
  },
  {
   "cell_type": "code",
   "execution_count": 10,
   "id": "971ef4a0",
   "metadata": {},
   "outputs": [],
   "source": [
    "raw_seuoul_data_2019.drop([0], inplace=True)\n",
    "raw_busan_data_2019.drop([0], inplace=True)"
   ]
  },
  {
   "cell_type": "code",
   "execution_count": 11,
   "id": "0b47d435",
   "metadata": {},
   "outputs": [],
   "source": [
    "raw_seuoul_data_2019.rename({'Unnamed: 1':'상영편수', 'Unnamed: 2':'매출액', \n",
    "                     'Unnamed: 3':'관객수'}, axis='columns', inplace=True)\n",
    "raw_busan_data_2019.rename({'Unnamed: 1':'상영편수', 'Unnamed: 2':'매출액', \n",
    "                     'Unnamed: 3':'관객수'}, axis='columns', inplace=True)"
   ]
  },
  {
   "cell_type": "code",
   "execution_count": 12,
   "id": "e4f0c55f",
   "metadata": {
    "scrolled": true
   },
   "outputs": [
    {
     "data": {
      "text/html": [
       "<div>\n",
       "<style scoped>\n",
       "    .dataframe tbody tr th:only-of-type {\n",
       "        vertical-align: middle;\n",
       "    }\n",
       "\n",
       "    .dataframe tbody tr th {\n",
       "        vertical-align: top;\n",
       "    }\n",
       "\n",
       "    .dataframe thead th {\n",
       "        text-align: right;\n",
       "    }\n",
       "</style>\n",
       "<table border=\"1\" class=\"dataframe\">\n",
       "  <thead>\n",
       "    <tr style=\"text-align: right;\">\n",
       "      <th></th>\n",
       "      <th>서울시</th>\n",
       "      <th>상영편수</th>\n",
       "      <th>매출액</th>\n",
       "      <th>관객수</th>\n",
       "    </tr>\n",
       "  </thead>\n",
       "  <tbody>\n",
       "    <tr>\n",
       "      <th>1</th>\n",
       "      <td>1월</td>\n",
       "      <td>229</td>\n",
       "      <td>38,595,296,956</td>\n",
       "      <td>4,465,221</td>\n",
       "    </tr>\n",
       "    <tr>\n",
       "      <th>2</th>\n",
       "      <td>2월</td>\n",
       "      <td>230</td>\n",
       "      <td>47,274,720,440</td>\n",
       "      <td>5,385,432</td>\n",
       "    </tr>\n",
       "    <tr>\n",
       "      <th>3</th>\n",
       "      <td>3월</td>\n",
       "      <td>248</td>\n",
       "      <td>36,712,399,479</td>\n",
       "      <td>4,106,324</td>\n",
       "    </tr>\n",
       "    <tr>\n",
       "      <th>4</th>\n",
       "      <td>4월</td>\n",
       "      <td>284</td>\n",
       "      <td>31,378,171,902</td>\n",
       "      <td>3,568,534</td>\n",
       "    </tr>\n",
       "    <tr>\n",
       "      <th>5</th>\n",
       "      <td>5월</td>\n",
       "      <td>285</td>\n",
       "      <td>41,323,495,587</td>\n",
       "      <td>4,603,575</td>\n",
       "    </tr>\n",
       "    <tr>\n",
       "      <th>6</th>\n",
       "      <td>6월</td>\n",
       "      <td>254</td>\n",
       "      <td>54,654,504,528</td>\n",
       "      <td>6,152,619</td>\n",
       "    </tr>\n",
       "    <tr>\n",
       "      <th>7</th>\n",
       "      <td>7월</td>\n",
       "      <td>237</td>\n",
       "      <td>50,933,689,227</td>\n",
       "      <td>5,754,971</td>\n",
       "    </tr>\n",
       "    <tr>\n",
       "      <th>8</th>\n",
       "      <td>8월</td>\n",
       "      <td>232</td>\n",
       "      <td>50,061,863,884</td>\n",
       "      <td>5,742,547</td>\n",
       "    </tr>\n",
       "    <tr>\n",
       "      <th>9</th>\n",
       "      <td>9월</td>\n",
       "      <td>246</td>\n",
       "      <td>30,710,170,878</td>\n",
       "      <td>3,586,230</td>\n",
       "    </tr>\n",
       "    <tr>\n",
       "      <th>10</th>\n",
       "      <td>10월</td>\n",
       "      <td>294</td>\n",
       "      <td>35,432,395,250</td>\n",
       "      <td>4,113,207</td>\n",
       "    </tr>\n",
       "    <tr>\n",
       "      <th>11</th>\n",
       "      <td>11월</td>\n",
       "      <td>357</td>\n",
       "      <td>40,645,337,285</td>\n",
       "      <td>4,665,294</td>\n",
       "    </tr>\n",
       "    <tr>\n",
       "      <th>12</th>\n",
       "      <td>12월</td>\n",
       "      <td>332</td>\n",
       "      <td>48,504,714,031</td>\n",
       "      <td>5,650,698</td>\n",
       "    </tr>\n",
       "  </tbody>\n",
       "</table>\n",
       "</div>"
      ],
      "text/plain": [
       "    서울시 상영편수             매출액        관객수\n",
       "1    1월  229  38,595,296,956  4,465,221\n",
       "2    2월  230  47,274,720,440  5,385,432\n",
       "3    3월  248  36,712,399,479  4,106,324\n",
       "4    4월  284  31,378,171,902  3,568,534\n",
       "5    5월  285  41,323,495,587  4,603,575\n",
       "6    6월  254  54,654,504,528  6,152,619\n",
       "7    7월  237  50,933,689,227  5,754,971\n",
       "8    8월  232  50,061,863,884  5,742,547\n",
       "9    9월  246  30,710,170,878  3,586,230\n",
       "10  10월  294  35,432,395,250  4,113,207\n",
       "11  11월  357  40,645,337,285  4,665,294\n",
       "12  12월  332  48,504,714,031  5,650,698"
      ]
     },
     "execution_count": 12,
     "metadata": {},
     "output_type": "execute_result"
    },
    {
     "data": {
      "text/html": [
       "<div>\n",
       "<style scoped>\n",
       "    .dataframe tbody tr th:only-of-type {\n",
       "        vertical-align: middle;\n",
       "    }\n",
       "\n",
       "    .dataframe tbody tr th {\n",
       "        vertical-align: top;\n",
       "    }\n",
       "\n",
       "    .dataframe thead th {\n",
       "        text-align: right;\n",
       "    }\n",
       "</style>\n",
       "<table border=\"1\" class=\"dataframe\">\n",
       "  <thead>\n",
       "    <tr style=\"text-align: right;\">\n",
       "      <th></th>\n",
       "      <th>부산시</th>\n",
       "      <th>상영편수</th>\n",
       "      <th>매출액</th>\n",
       "      <th>관객수</th>\n",
       "    </tr>\n",
       "  </thead>\n",
       "  <tbody>\n",
       "    <tr>\n",
       "      <th>1</th>\n",
       "      <td>1월</td>\n",
       "      <td>107</td>\n",
       "      <td>10,633,895,350</td>\n",
       "      <td>1,269,274</td>\n",
       "    </tr>\n",
       "    <tr>\n",
       "      <th>2</th>\n",
       "      <td>2월</td>\n",
       "      <td>94</td>\n",
       "      <td>13,318,043,880</td>\n",
       "      <td>1,558,115</td>\n",
       "    </tr>\n",
       "    <tr>\n",
       "      <th>3</th>\n",
       "      <td>3월</td>\n",
       "      <td>125</td>\n",
       "      <td>8,808,312,160</td>\n",
       "      <td>1,034,366</td>\n",
       "    </tr>\n",
       "    <tr>\n",
       "      <th>4</th>\n",
       "      <td>4월</td>\n",
       "      <td>167</td>\n",
       "      <td>27,513,630,030</td>\n",
       "      <td>3,226,198</td>\n",
       "    </tr>\n",
       "    <tr>\n",
       "      <th>5</th>\n",
       "      <td>5월</td>\n",
       "      <td>118</td>\n",
       "      <td>11,059,679,880</td>\n",
       "      <td>1,329,958</td>\n",
       "    </tr>\n",
       "    <tr>\n",
       "      <th>6</th>\n",
       "      <td>6월</td>\n",
       "      <td>113</td>\n",
       "      <td>13,178,339,890</td>\n",
       "      <td>1,558,035</td>\n",
       "    </tr>\n",
       "    <tr>\n",
       "      <th>7</th>\n",
       "      <td>7월</td>\n",
       "      <td>108</td>\n",
       "      <td>12,116,230,330</td>\n",
       "      <td>1,462,385</td>\n",
       "    </tr>\n",
       "    <tr>\n",
       "      <th>8</th>\n",
       "      <td>8월</td>\n",
       "      <td>105</td>\n",
       "      <td>14,804,018,040</td>\n",
       "      <td>1,763,093</td>\n",
       "    </tr>\n",
       "    <tr>\n",
       "      <th>9</th>\n",
       "      <td>9월</td>\n",
       "      <td>115</td>\n",
       "      <td>9,133,831,560</td>\n",
       "      <td>1,084,514</td>\n",
       "    </tr>\n",
       "    <tr>\n",
       "      <th>10</th>\n",
       "      <td>10월</td>\n",
       "      <td>129</td>\n",
       "      <td>8,651,274,240</td>\n",
       "      <td>1,049,570</td>\n",
       "    </tr>\n",
       "    <tr>\n",
       "      <th>11</th>\n",
       "      <td>11월</td>\n",
       "      <td>132</td>\n",
       "      <td>10,463,200,930</td>\n",
       "      <td>1,277,877</td>\n",
       "    </tr>\n",
       "    <tr>\n",
       "      <th>12</th>\n",
       "      <td>12월</td>\n",
       "      <td>118</td>\n",
       "      <td>12,631,076,680</td>\n",
       "      <td>1,544,403</td>\n",
       "    </tr>\n",
       "  </tbody>\n",
       "</table>\n",
       "</div>"
      ],
      "text/plain": [
       "    부산시 상영편수             매출액        관객수\n",
       "1    1월  107  10,633,895,350  1,269,274\n",
       "2    2월   94  13,318,043,880  1,558,115\n",
       "3    3월  125   8,808,312,160  1,034,366\n",
       "4    4월  167  27,513,630,030  3,226,198\n",
       "5    5월  118  11,059,679,880  1,329,958\n",
       "6    6월  113  13,178,339,890  1,558,035\n",
       "7    7월  108  12,116,230,330  1,462,385\n",
       "8    8월  105  14,804,018,040  1,763,093\n",
       "9    9월  115   9,133,831,560  1,084,514\n",
       "10  10월  129   8,651,274,240  1,049,570\n",
       "11  11월  132  10,463,200,930  1,277,877\n",
       "12  12월  118  12,631,076,680  1,544,403"
      ]
     },
     "execution_count": 12,
     "metadata": {},
     "output_type": "execute_result"
    }
   ],
   "source": [
    "raw_seuoul_data_2019\n",
    "raw_busan_data_2019"
   ]
  },
  {
   "cell_type": "code",
   "execution_count": 177,
   "id": "f3724ba8",
   "metadata": {},
   "outputs": [],
   "source": [
    "raw_seuoul_data_2019.to_csv(\"./data/movie/정리/2019_가공_서울_영화관.csv\")\n",
    "raw_busan_data_2019.to_csv(\"./data/movie/정리/2019_가공_부산_영화관.csv\")"
   ]
  },
  {
   "cell_type": "code",
   "execution_count": 13,
   "id": "ad1b7e2c",
   "metadata": {},
   "outputs": [],
   "source": [
    "seuoul_data_2019 = pd.read_csv(\"./data/movie/정리/2019_가공_서울_영화관.csv\", thousands=',', encoding='UTF-8')\n",
    "busan_data_2019 = pd.read_csv(\"./data/movie/정리/2019_가공_부산_영화관.csv\", thousands=',', encoding='UTF-8')"
   ]
  },
  {
   "cell_type": "code",
   "execution_count": 14,
   "id": "a95732fa",
   "metadata": {},
   "outputs": [
    {
     "data": {
      "text/html": [
       "<div>\n",
       "<style scoped>\n",
       "    .dataframe tbody tr th:only-of-type {\n",
       "        vertical-align: middle;\n",
       "    }\n",
       "\n",
       "    .dataframe tbody tr th {\n",
       "        vertical-align: top;\n",
       "    }\n",
       "\n",
       "    .dataframe thead th {\n",
       "        text-align: right;\n",
       "    }\n",
       "</style>\n",
       "<table border=\"1\" class=\"dataframe\">\n",
       "  <thead>\n",
       "    <tr style=\"text-align: right;\">\n",
       "      <th></th>\n",
       "      <th>Unnamed: 0</th>\n",
       "      <th>서울시</th>\n",
       "      <th>상영편수</th>\n",
       "      <th>매출액</th>\n",
       "      <th>관객수</th>\n",
       "    </tr>\n",
       "  </thead>\n",
       "  <tbody>\n",
       "    <tr>\n",
       "      <th>0</th>\n",
       "      <td>1</td>\n",
       "      <td>1월</td>\n",
       "      <td>229</td>\n",
       "      <td>38595296956</td>\n",
       "      <td>4465221</td>\n",
       "    </tr>\n",
       "    <tr>\n",
       "      <th>1</th>\n",
       "      <td>2</td>\n",
       "      <td>2월</td>\n",
       "      <td>230</td>\n",
       "      <td>47274720440</td>\n",
       "      <td>5385432</td>\n",
       "    </tr>\n",
       "    <tr>\n",
       "      <th>2</th>\n",
       "      <td>3</td>\n",
       "      <td>3월</td>\n",
       "      <td>248</td>\n",
       "      <td>36712399479</td>\n",
       "      <td>4106324</td>\n",
       "    </tr>\n",
       "    <tr>\n",
       "      <th>3</th>\n",
       "      <td>4</td>\n",
       "      <td>4월</td>\n",
       "      <td>284</td>\n",
       "      <td>31378171902</td>\n",
       "      <td>3568534</td>\n",
       "    </tr>\n",
       "    <tr>\n",
       "      <th>4</th>\n",
       "      <td>5</td>\n",
       "      <td>5월</td>\n",
       "      <td>285</td>\n",
       "      <td>41323495587</td>\n",
       "      <td>4603575</td>\n",
       "    </tr>\n",
       "  </tbody>\n",
       "</table>\n",
       "</div>"
      ],
      "text/plain": [
       "   Unnamed: 0 서울시  상영편수          매출액      관객수\n",
       "0           1  1월   229  38595296956  4465221\n",
       "1           2  2월   230  47274720440  5385432\n",
       "2           3  3월   248  36712399479  4106324\n",
       "3           4  4월   284  31378171902  3568534\n",
       "4           5  5월   285  41323495587  4603575"
      ]
     },
     "execution_count": 14,
     "metadata": {},
     "output_type": "execute_result"
    },
    {
     "data": {
      "text/html": [
       "<div>\n",
       "<style scoped>\n",
       "    .dataframe tbody tr th:only-of-type {\n",
       "        vertical-align: middle;\n",
       "    }\n",
       "\n",
       "    .dataframe tbody tr th {\n",
       "        vertical-align: top;\n",
       "    }\n",
       "\n",
       "    .dataframe thead th {\n",
       "        text-align: right;\n",
       "    }\n",
       "</style>\n",
       "<table border=\"1\" class=\"dataframe\">\n",
       "  <thead>\n",
       "    <tr style=\"text-align: right;\">\n",
       "      <th></th>\n",
       "      <th>Unnamed: 0</th>\n",
       "      <th>부산시</th>\n",
       "      <th>상영편수</th>\n",
       "      <th>매출액</th>\n",
       "      <th>관객수</th>\n",
       "    </tr>\n",
       "  </thead>\n",
       "  <tbody>\n",
       "    <tr>\n",
       "      <th>0</th>\n",
       "      <td>1</td>\n",
       "      <td>1월</td>\n",
       "      <td>107</td>\n",
       "      <td>10633895350</td>\n",
       "      <td>1269274</td>\n",
       "    </tr>\n",
       "    <tr>\n",
       "      <th>1</th>\n",
       "      <td>2</td>\n",
       "      <td>2월</td>\n",
       "      <td>94</td>\n",
       "      <td>13318043880</td>\n",
       "      <td>1558115</td>\n",
       "    </tr>\n",
       "    <tr>\n",
       "      <th>2</th>\n",
       "      <td>3</td>\n",
       "      <td>3월</td>\n",
       "      <td>125</td>\n",
       "      <td>8808312160</td>\n",
       "      <td>1034366</td>\n",
       "    </tr>\n",
       "    <tr>\n",
       "      <th>3</th>\n",
       "      <td>4</td>\n",
       "      <td>4월</td>\n",
       "      <td>167</td>\n",
       "      <td>27513630030</td>\n",
       "      <td>3226198</td>\n",
       "    </tr>\n",
       "    <tr>\n",
       "      <th>4</th>\n",
       "      <td>5</td>\n",
       "      <td>5월</td>\n",
       "      <td>118</td>\n",
       "      <td>11059679880</td>\n",
       "      <td>1329958</td>\n",
       "    </tr>\n",
       "  </tbody>\n",
       "</table>\n",
       "</div>"
      ],
      "text/plain": [
       "   Unnamed: 0 부산시  상영편수          매출액      관객수\n",
       "0           1  1월   107  10633895350  1269274\n",
       "1           2  2월    94  13318043880  1558115\n",
       "2           3  3월   125   8808312160  1034366\n",
       "3           4  4월   167  27513630030  3226198\n",
       "4           5  5월   118  11059679880  1329958"
      ]
     },
     "execution_count": 14,
     "metadata": {},
     "output_type": "execute_result"
    }
   ],
   "source": [
    "seuoul_data_2019.head()\n",
    "busan_data_2019.head()"
   ]
  },
  {
   "cell_type": "code",
   "execution_count": 15,
   "id": "c36f88e8",
   "metadata": {},
   "outputs": [],
   "source": [
    "seuoul_data_2019.drop(['Unnamed: 0'], axis=1, inplace=True)\n",
    "busan_data_2019.drop(['Unnamed: 0'], axis=1, inplace=True)"
   ]
  },
  {
   "cell_type": "code",
   "execution_count": 16,
   "id": "116fe236",
   "metadata": {},
   "outputs": [
    {
     "data": {
      "text/html": [
       "<div>\n",
       "<style scoped>\n",
       "    .dataframe tbody tr th:only-of-type {\n",
       "        vertical-align: middle;\n",
       "    }\n",
       "\n",
       "    .dataframe tbody tr th {\n",
       "        vertical-align: top;\n",
       "    }\n",
       "\n",
       "    .dataframe thead th {\n",
       "        text-align: right;\n",
       "    }\n",
       "</style>\n",
       "<table border=\"1\" class=\"dataframe\">\n",
       "  <thead>\n",
       "    <tr style=\"text-align: right;\">\n",
       "      <th></th>\n",
       "      <th>서울시</th>\n",
       "      <th>상영편수</th>\n",
       "      <th>매출액</th>\n",
       "      <th>관객수</th>\n",
       "    </tr>\n",
       "  </thead>\n",
       "  <tbody>\n",
       "    <tr>\n",
       "      <th>0</th>\n",
       "      <td>1월</td>\n",
       "      <td>229</td>\n",
       "      <td>38595296956</td>\n",
       "      <td>4465221</td>\n",
       "    </tr>\n",
       "    <tr>\n",
       "      <th>1</th>\n",
       "      <td>2월</td>\n",
       "      <td>230</td>\n",
       "      <td>47274720440</td>\n",
       "      <td>5385432</td>\n",
       "    </tr>\n",
       "    <tr>\n",
       "      <th>2</th>\n",
       "      <td>3월</td>\n",
       "      <td>248</td>\n",
       "      <td>36712399479</td>\n",
       "      <td>4106324</td>\n",
       "    </tr>\n",
       "    <tr>\n",
       "      <th>3</th>\n",
       "      <td>4월</td>\n",
       "      <td>284</td>\n",
       "      <td>31378171902</td>\n",
       "      <td>3568534</td>\n",
       "    </tr>\n",
       "    <tr>\n",
       "      <th>4</th>\n",
       "      <td>5월</td>\n",
       "      <td>285</td>\n",
       "      <td>41323495587</td>\n",
       "      <td>4603575</td>\n",
       "    </tr>\n",
       "  </tbody>\n",
       "</table>\n",
       "</div>"
      ],
      "text/plain": [
       "  서울시  상영편수          매출액      관객수\n",
       "0  1월   229  38595296956  4465221\n",
       "1  2월   230  47274720440  5385432\n",
       "2  3월   248  36712399479  4106324\n",
       "3  4월   284  31378171902  3568534\n",
       "4  5월   285  41323495587  4603575"
      ]
     },
     "execution_count": 16,
     "metadata": {},
     "output_type": "execute_result"
    },
    {
     "data": {
      "text/html": [
       "<div>\n",
       "<style scoped>\n",
       "    .dataframe tbody tr th:only-of-type {\n",
       "        vertical-align: middle;\n",
       "    }\n",
       "\n",
       "    .dataframe tbody tr th {\n",
       "        vertical-align: top;\n",
       "    }\n",
       "\n",
       "    .dataframe thead th {\n",
       "        text-align: right;\n",
       "    }\n",
       "</style>\n",
       "<table border=\"1\" class=\"dataframe\">\n",
       "  <thead>\n",
       "    <tr style=\"text-align: right;\">\n",
       "      <th></th>\n",
       "      <th>부산시</th>\n",
       "      <th>상영편수</th>\n",
       "      <th>매출액</th>\n",
       "      <th>관객수</th>\n",
       "    </tr>\n",
       "  </thead>\n",
       "  <tbody>\n",
       "    <tr>\n",
       "      <th>0</th>\n",
       "      <td>1월</td>\n",
       "      <td>107</td>\n",
       "      <td>10633895350</td>\n",
       "      <td>1269274</td>\n",
       "    </tr>\n",
       "    <tr>\n",
       "      <th>1</th>\n",
       "      <td>2월</td>\n",
       "      <td>94</td>\n",
       "      <td>13318043880</td>\n",
       "      <td>1558115</td>\n",
       "    </tr>\n",
       "    <tr>\n",
       "      <th>2</th>\n",
       "      <td>3월</td>\n",
       "      <td>125</td>\n",
       "      <td>8808312160</td>\n",
       "      <td>1034366</td>\n",
       "    </tr>\n",
       "    <tr>\n",
       "      <th>3</th>\n",
       "      <td>4월</td>\n",
       "      <td>167</td>\n",
       "      <td>27513630030</td>\n",
       "      <td>3226198</td>\n",
       "    </tr>\n",
       "    <tr>\n",
       "      <th>4</th>\n",
       "      <td>5월</td>\n",
       "      <td>118</td>\n",
       "      <td>11059679880</td>\n",
       "      <td>1329958</td>\n",
       "    </tr>\n",
       "  </tbody>\n",
       "</table>\n",
       "</div>"
      ],
      "text/plain": [
       "  부산시  상영편수          매출액      관객수\n",
       "0  1월   107  10633895350  1269274\n",
       "1  2월    94  13318043880  1558115\n",
       "2  3월   125   8808312160  1034366\n",
       "3  4월   167  27513630030  3226198\n",
       "4  5월   118  11059679880  1329958"
      ]
     },
     "execution_count": 16,
     "metadata": {},
     "output_type": "execute_result"
    }
   ],
   "source": [
    "seuoul_data_2019.head()\n",
    "busan_data_2019.head()"
   ]
  },
  {
   "cell_type": "code",
   "execution_count": 17,
   "id": "a2979cd3",
   "metadata": {},
   "outputs": [],
   "source": [
    "pd.set_option('display.float_format', '{:,.2f}'.format)"
   ]
  },
  {
   "cell_type": "code",
   "execution_count": 18,
   "id": "9baff605",
   "metadata": {},
   "outputs": [],
   "source": [
    "seoul_data = {'상영편수' : sum(seuoul_data_2019['상영편수'])/52, \n",
    "              '매출액' : sum(seuoul_data_2019['매출액'])/52, \n",
    "              '관객수' : sum(seuoul_data_2019['관객수'])/52,}\n",
    "\n",
    "busan_data = {'상영편수' : sum(busan_data_2019['상영편수'])/52, \n",
    "              '매출액' : sum(busan_data_2019['매출액'])/52, \n",
    "              '관객수' : sum(busan_data_2019['관객수'])/52,}"
   ]
  },
  {
   "cell_type": "code",
   "execution_count": 19,
   "id": "387c1eea",
   "metadata": {},
   "outputs": [],
   "source": [
    "seoul_2019 = pd.DataFrame(seoul_data, index=[1])\n",
    "busan_2019 = pd.DataFrame(busan_data, index=[1])"
   ]
  },
  {
   "cell_type": "code",
   "execution_count": 21,
   "id": "a1531c1a",
   "metadata": {},
   "outputs": [],
   "source": [
    "movie_avg_2019 = pd.concat([seoul_2019, busan_2019])"
   ]
  },
  {
   "cell_type": "code",
   "execution_count": 22,
   "id": "3cd9cd19",
   "metadata": {},
   "outputs": [],
   "source": [
    "# 인덱스 이름 병경\n",
    "movie_avg_2019.index = ['서울', '부산']"
   ]
  },
  {
   "cell_type": "code",
   "execution_count": 23,
   "id": "00434d57",
   "metadata": {},
   "outputs": [
    {
     "data": {
      "text/html": [
       "<div>\n",
       "<style scoped>\n",
       "    .dataframe tbody tr th:only-of-type {\n",
       "        vertical-align: middle;\n",
       "    }\n",
       "\n",
       "    .dataframe tbody tr th {\n",
       "        vertical-align: top;\n",
       "    }\n",
       "\n",
       "    .dataframe thead th {\n",
       "        text-align: right;\n",
       "    }\n",
       "</style>\n",
       "<table border=\"1\" class=\"dataframe\">\n",
       "  <thead>\n",
       "    <tr style=\"text-align: right;\">\n",
       "      <th></th>\n",
       "      <th>상영편수</th>\n",
       "      <th>매출액</th>\n",
       "      <th>관객수</th>\n",
       "    </tr>\n",
       "  </thead>\n",
       "  <tbody>\n",
       "    <tr>\n",
       "      <th>서울</th>\n",
       "      <td>62.08</td>\n",
       "      <td>9,735,129,989.37</td>\n",
       "      <td>1,111,435.62</td>\n",
       "    </tr>\n",
       "    <tr>\n",
       "      <th>부산</th>\n",
       "      <td>27.52</td>\n",
       "      <td>2,929,067,941.73</td>\n",
       "      <td>349,188.23</td>\n",
       "    </tr>\n",
       "  </tbody>\n",
       "</table>\n",
       "</div>"
      ],
      "text/plain": [
       "    상영편수              매출액          관객수\n",
       "서울 62.08 9,735,129,989.37 1,111,435.62\n",
       "부산 27.52 2,929,067,941.73   349,188.23"
      ]
     },
     "execution_count": 23,
     "metadata": {},
     "output_type": "execute_result"
    }
   ],
   "source": [
    "movie_avg_2019"
   ]
  },
  {
   "cell_type": "code",
   "execution_count": 202,
   "id": "92d42894",
   "metadata": {},
   "outputs": [],
   "source": [
    "movie_avg_2019.to_csv(\"./data/movie/정리/2019_평균자료_영화.csv\")"
   ]
  },
  {
   "cell_type": "markdown",
   "id": "99906300",
   "metadata": {},
   "source": [
    "## 그래프 예시입니다 참고하세요"
   ]
  },
  {
   "cell_type": "code",
   "execution_count": 24,
   "id": "1efb6c74",
   "metadata": {},
   "outputs": [],
   "source": [
    "test = pd.read_csv(\"./data/movie/정리/2019_평균자료_영화.csv\", thousands=',', encoding='UTF-8')"
   ]
  },
  {
   "cell_type": "code",
   "execution_count": 25,
   "id": "ebab7247",
   "metadata": {},
   "outputs": [
    {
     "data": {
      "text/html": [
       "<div>\n",
       "<style scoped>\n",
       "    .dataframe tbody tr th:only-of-type {\n",
       "        vertical-align: middle;\n",
       "    }\n",
       "\n",
       "    .dataframe tbody tr th {\n",
       "        vertical-align: top;\n",
       "    }\n",
       "\n",
       "    .dataframe thead th {\n",
       "        text-align: right;\n",
       "    }\n",
       "</style>\n",
       "<table border=\"1\" class=\"dataframe\">\n",
       "  <thead>\n",
       "    <tr style=\"text-align: right;\">\n",
       "      <th></th>\n",
       "      <th>Unnamed: 0</th>\n",
       "      <th>상영편수</th>\n",
       "      <th>매출액</th>\n",
       "      <th>관객수</th>\n",
       "    </tr>\n",
       "  </thead>\n",
       "  <tbody>\n",
       "    <tr>\n",
       "      <th>0</th>\n",
       "      <td>서울</td>\n",
       "      <td>62.08</td>\n",
       "      <td>9,735,129,989.37</td>\n",
       "      <td>1,111,435.62</td>\n",
       "    </tr>\n",
       "    <tr>\n",
       "      <th>1</th>\n",
       "      <td>부산</td>\n",
       "      <td>27.52</td>\n",
       "      <td>2,929,067,941.73</td>\n",
       "      <td>349,188.23</td>\n",
       "    </tr>\n",
       "  </tbody>\n",
       "</table>\n",
       "</div>"
      ],
      "text/plain": [
       "  Unnamed: 0  상영편수              매출액          관객수\n",
       "0         서울 62.08 9,735,129,989.37 1,111,435.62\n",
       "1         부산 27.52 2,929,067,941.73   349,188.23"
      ]
     },
     "execution_count": 25,
     "metadata": {},
     "output_type": "execute_result"
    }
   ],
   "source": [
    "test"
   ]
  },
  {
   "cell_type": "code",
   "execution_count": null,
   "id": "bcd35b20",
   "metadata": {},
   "outputs": [],
   "source": []
  },
  {
   "cell_type": "code",
   "execution_count": null,
   "id": "4136ea77",
   "metadata": {},
   "outputs": [],
   "source": []
  },
  {
   "cell_type": "markdown",
   "id": "f533a0ad",
   "metadata": {},
   "source": [
    "## 그래프 작성 내용"
   ]
  },
  {
   "cell_type": "code",
   "execution_count": 26,
   "id": "a07e9c3a",
   "metadata": {},
   "outputs": [
    {
     "name": "stderr",
     "output_type": "stream",
     "text": [
      "<ipython-input-26-61449c6c28b3>:1: SettingWithCopyWarning: \n",
      "A value is trying to be set on a copy of a slice from a DataFrame\n",
      "\n",
      "See the caveats in the documentation: https://pandas.pydata.org/pandas-docs/stable/user_guide/indexing.html#returning-a-view-versus-a-copy\n",
      "  test['매출액'][0] = 1500\n"
     ]
    }
   ],
   "source": [
    "test['매출액'][0] = 1500"
   ]
  },
  {
   "cell_type": "code",
   "execution_count": 27,
   "id": "ea79dacf",
   "metadata": {},
   "outputs": [],
   "source": [
    "## 1년 52주 표현\n",
    "weeks = [i for i in range(1,53)]"
   ]
  },
  {
   "cell_type": "markdown",
   "id": "d5aa0163",
   "metadata": {},
   "source": [
    "## 2019년 주 평균 사용 방법 (ㅡ)"
   ]
  },
  {
   "cell_type": "code",
   "execution_count": 61,
   "id": "c685b9b2",
   "metadata": {},
   "outputs": [
    {
     "data": {
      "text/plain": [
       "[<matplotlib.lines.Line2D at 0x221e68576a0>]"
      ]
     },
     "execution_count": 61,
     "metadata": {},
     "output_type": "execute_result"
    },
    {
     "data": {
      "text/plain": [
       "<matplotlib.lines.Line2D at 0x221e681f580>"
      ]
     },
     "execution_count": 61,
     "metadata": {},
     "output_type": "execute_result"
    },
    {
     "data": {
      "text/plain": [
       "<matplotlib.collections.LineCollection at 0x221e6857e50>"
      ]
     },
     "execution_count": 61,
     "metadata": {},
     "output_type": "execute_result"
    },
    {
     "data": {
      "image/png": "[encoded data removed]",
      "text/plain": [
       "<Figure size 432x288 with 1 Axes>"
      ]
     },
     "metadata": {
      "needs_background": "light"
     },
     "output_type": "display_data"
    }
   ],
   "source": [
    "## axhline 방법\n",
    "x = np.arange(0, 53, 1)\n",
    "\n",
    "\n",
    "plt.plot(x, x**2 - 4, 'Blue')\n",
    "\n",
    "plt.axhline(test['매출액'][0], 0.05, 0.99, color='lightgray', linestyle='--', linewidth=2)\n",
    "#plt.axhline(y값, x축시작, x축끝) #(x축은 0 ~ 1 사이의 소수갑으로 표현)\n",
    "plt.hlines(1000, 10,40, color='red', linestyle='solid', linewidth=3)\n",
    "# plt.hlines(y값, x좌표 시작, x좌표 끝)\n",
    "\n",
    "#차이점 : 절대값 입력 / 좌표 입력\n",
    "\n",
    "plt.show()"
   ]
  },
  {
   "cell_type": "code",
   "execution_count": null,
   "id": "915b4ab6",
   "metadata": {},
   "outputs": [],
   "source": []
  },
  {
   "cell_type": "markdown",
   "id": "505e0771",
   "metadata": {},
   "source": [
    "## 거리두기 표현 x축 델타함수 그리기 (ㅣ)"
   ]
  },
  {
   "cell_type": "code",
   "execution_count": 73,
   "id": "44b2e5c3",
   "metadata": {},
   "outputs": [
    {
     "data": {
      "text/plain": [
       "[<matplotlib.lines.Line2D at 0x221e6b1ffa0>]"
      ]
     },
     "execution_count": 73,
     "metadata": {},
     "output_type": "execute_result"
    },
    {
     "data": {
      "text/plain": [
       "<matplotlib.lines.Line2D at 0x221e6a07520>"
      ]
     },
     "execution_count": 73,
     "metadata": {},
     "output_type": "execute_result"
    },
    {
     "data": {
      "text/plain": [
       "<matplotlib.collections.LineCollection at 0x221e6bce820>"
      ]
     },
     "execution_count": 73,
     "metadata": {},
     "output_type": "execute_result"
    },
    {
     "data": {
      "image/png": "[encoded data removed]",
      "text/plain": [
       "<Figure size 432x288 with 1 Axes>"
      ]
     },
     "metadata": {
      "needs_background": "light"
     },
     "output_type": "display_data"
    }
   ],
   "source": [
    "x = np.arange(0, 53, 1)\n",
    "\n",
    "\n",
    "plt.plot(x, x**2 - 4, 'Blue')\n",
    "plt.axvline(30, 0.2, 0.8, color='lightgray', linestyle='--', linewidth=2)\n",
    "# yaxvline(x값, y축 시작, y축 끝, #(y축은 0 ~ 1 사이의 소수갑으로 표현)\n",
    "plt.vlines(20, 500, 1500, color='red', linestyle='solid', linewidth=3)\n",
    "# vlines(x값, y시작 좌표, y끝 좌표)\n"
   ]
  },
  {
   "cell_type": "markdown",
   "id": "098f7dc4",
   "metadata": {},
   "source": [
    "## seanborn 적용 확인"
   ]
  },
  {
   "cell_type": "code",
   "execution_count": 74,
   "id": "6a08b970",
   "metadata": {},
   "outputs": [],
   "source": [
    "data_2019 = pd.read_csv(\"./data/2019_영화관.csv\", thousands=',', encoding='UTF-8')\n",
    "data_2020 = pd.read_csv(\"./data/2020_영화관.csv\", thousands=',', encoding='UTF-8')\n",
    "data_2021 = pd.read_csv(\"./data/2021_영화관.csv\", thousands=',', encoding='UTF-8')"
   ]
  },
  {
   "cell_type": "code",
   "execution_count": 75,
   "id": "20d23852",
   "metadata": {},
   "outputs": [],
   "source": [
    "## split 이후 분리 작업\n",
    "\n",
    "##2019년\n",
    "temp_y = []\n",
    "temp_m = []\n",
    "\n",
    "for i in range(len(data_2019['연도월별'])):\n",
    "    temp_y.append(data_2019['연도월별'][i].split('-')[0])\n",
    "    temp_m.append(data_2019['연도월별'][i].split('-')[1])\n",
    "\n",
    "    \n",
    "data_2019['연도'] = temp_y\n",
    "data_2019['월별'] = temp_m\n",
    "\n",
    "##2020년\n",
    "\n",
    "temp_y = []\n",
    "temp_m = []\n",
    "\n",
    "for i in range(len(data_2020['연도월별'])):\n",
    "    temp_y.append(data_2020['연도월별'][i].split('-')[0])\n",
    "    temp_m.append(data_2020['연도월별'][i].split('-')[1])\n",
    "\n",
    "    \n",
    "data_2020['연도'] = temp_y\n",
    "data_2020['월별'] = temp_m\n",
    "\n",
    "##2021년\n",
    "temp_y = []\n",
    "temp_m = []\n",
    "\n",
    "for i in range(len(data_2021['연도월별'])):\n",
    "    temp_y.append(data_2021['연도월별'][i].split('-')[0])\n",
    "    temp_m.append(data_2021['연도월별'][i].split('-')[1])\n",
    "\n",
    "    \n",
    "data_2021['연도'] = temp_y\n",
    "data_2021['월별'] = temp_m"
   ]
  },
  {
   "cell_type": "code",
   "execution_count": 76,
   "id": "59738ad8",
   "metadata": {},
   "outputs": [],
   "source": [
    "data_2019.drop(['연도월별'], axis=1, inplace=True)\n",
    "data_2020.drop(['연도월별'], axis=1, inplace=True)\n",
    "data_2021.drop(['연도월별'], axis=1, inplace=True)\n",
    "data_2019 = data_2019[['연도','월별','개봉편수','상영편수','관객수','매출액']]\n",
    "data_2020 = data_2020[['연도','월별','개봉편수','상영편수','관객수','매출액']]\n",
    "data_2021 = data_2021[['연도','월별','개봉편수','상영편수','관객수','매출액']]"
   ]
  },
  {
   "cell_type": "code",
   "execution_count": 78,
   "id": "32159313",
   "metadata": {},
   "outputs": [],
   "source": [
    "tot_data = pd.concat([data_2020,data_2021])"
   ]
  },
  {
   "cell_type": "code",
   "execution_count": 87,
   "id": "567fb78a",
   "metadata": {},
   "outputs": [
    {
     "data": {
      "text/plain": [
       "<seaborn.axisgrid.FacetGrid at 0x221e838e760>"
      ]
     },
     "execution_count": 87,
     "metadata": {},
     "output_type": "execute_result"
    },
    {
     "data": {
      "text/plain": [
       "<AxesSubplot:xlabel='월별', ylabel='개봉편수'>"
      ]
     },
     "execution_count": 87,
     "metadata": {},
     "output_type": "execute_result"
    },
    {
     "data": {
      "text/plain": [
       "<matplotlib.collections.LineCollection at 0x221e80fb3a0>"
      ]
     },
     "execution_count": 87,
     "metadata": {},
     "output_type": "execute_result"
    },
    {
     "data": {
      "text/plain": [
       "<matplotlib.lines.Line2D at 0x221e7fa2880>"
      ]
     },
     "execution_count": 87,
     "metadata": {},
     "output_type": "execute_result"
    },
    {
     "data": {
      "text/plain": [
       "<matplotlib.legend.Legend at 0x221e83975e0>"
      ]
     },
     "execution_count": 87,
     "metadata": {},
     "output_type": "execute_result"
    },
    {
     "data": {
      "image/png": "[encoded data removed]",
      "text/plain": [
       "<Figure size 360x360 with 1 Axes>"
      ]
     },
     "metadata": {
      "needs_background": "light"
     },
     "output_type": "display_data"
    }
   ],
   "source": [
    "movies = tot_data.sort_values(by = ['월별','연도', '개봉편수'])\n",
    "sns.catplot(data = movies, x='월별', y='개봉편수', hue = '연도', kind = 'bar', palette = 'Greens', legend_out = False)\n",
    "\n",
    "movies_2019 = data_2019.sort_values(by = ['월별','연도', '개봉편수'])\n",
    "sns.lineplot(data = movies_2019, x='월별', y='개봉편수', hue = '연도')\n",
    "\n",
    "plt.hlines(200, 0,12, color='red', linestyle='solid', linewidth=3)\n",
    "plt.axhline(150, 0.05, 0.99, color='blue', linestyle='--', linewidth=2)\n",
    "plt.legend(loc='center left', bbox_to_anchor=(1, 0.5))"
   ]
  },
  {
   "cell_type": "code",
   "execution_count": 96,
   "id": "a635ef25",
   "metadata": {},
   "outputs": [
    {
     "data": {
      "text/plain": [
       "<seaborn.axisgrid.FacetGrid at 0x221e829d2e0>"
      ]
     },
     "execution_count": 96,
     "metadata": {},
     "output_type": "execute_result"
    },
    {
     "data": {
      "text/plain": [
       "<AxesSubplot:xlabel='월별', ylabel='개봉편수'>"
      ]
     },
     "execution_count": 96,
     "metadata": {},
     "output_type": "execute_result"
    },
    {
     "data": {
      "text/plain": [
       "<matplotlib.lines.Line2D at 0x221e86c0730>"
      ]
     },
     "execution_count": 96,
     "metadata": {},
     "output_type": "execute_result"
    },
    {
     "data": {
      "text/plain": [
       "<matplotlib.collections.LineCollection at 0x221e81b1790>"
      ]
     },
     "execution_count": 96,
     "metadata": {},
     "output_type": "execute_result"
    },
    {
     "data": {
      "text/plain": [
       "<matplotlib.collections.LineCollection at 0x221e9c99250>"
      ]
     },
     "execution_count": 96,
     "metadata": {},
     "output_type": "execute_result"
    },
    {
     "data": {
      "text/plain": [
       "<matplotlib.legend.Legend at 0x221e829d2e0>"
      ]
     },
     "execution_count": 96,
     "metadata": {},
     "output_type": "execute_result"
    },
    {
     "data": {
      "image/png": "[encoded data removed]",
      "text/plain": [
       "<Figure size 360x360 with 1 Axes>"
      ]
     },
     "metadata": {
      "needs_background": "light"
     },
     "output_type": "display_data"
    }
   ],
   "source": [
    "movies = tot_data.sort_values(by = ['월별','연도', '개봉편수'])\n",
    "sns.catplot(data = movies, x='월별', y='개봉편수', hue = '연도', kind = 'bar', palette = 'Greens', legend_out = False)\n",
    "\n",
    "movies_2019 = data_2019.sort_values(by = ['월별','연도', '개봉편수'])\n",
    "sns.lineplot(data = movies_2019, x='월별', y='개봉편수', hue = '연도')\n",
    "\n",
    "plt.axvline(1, 0.09, 0.9, color='red', linestyle='--', linewidth=2)\n",
    "# yaxvline(x값, y축 시작, y축 끝, #(y축은 0 ~ 1 사이의 소수갑으로 표현)\n",
    "plt.vlines(4, 10, 200, color='red', linestyle='solid', linewidth=3)\n",
    "plt.vlines(5, 10, 200, color='red', linestyle='solid', linewidth=3)\n",
    "\n",
    "plt.legend(loc='center left', bbox_to_anchor=(1, 0.5))"
   ]
  },
  {
   "cell_type": "code",
   "execution_count": null,
   "id": "66e75fc2",
   "metadata": {},
   "outputs": [],
   "source": []
  }
 ],
 "metadata": {
  "kernelspec": {
   "display_name": "Python 3",
   "language": "python",
   "name": "python3"
  },
  "language_info": {
   "codemirror_mode": {
    "name": "ipython",
    "version": 3
   },
   "file_extension": ".py",
   "mimetype": "text/x-python",
   "name": "python",
   "nbconvert_exporter": "python",
   "pygments_lexer": "ipython3",
   "version": "3.8.8"
  }
 },
 "nbformat": 4,
 "nbformat_minor": 5
}
