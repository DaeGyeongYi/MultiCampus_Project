{
 "cells": [
  {
   "cell_type": "code",
   "execution_count": 138,
   "id": "dddd1cd7",
   "metadata": {},
   "outputs": [],
   "source": [
    "import os \n",
    "import pandas as pd\n",
    "import numpy as np\n",
    "import matplotlib.pyplot as plt\n",
    "import seaborn as sns\n",
    "import matplotlib.font_manager as fm\n",
    "\n",
    "from IPython.core.interactiveshell import InteractiveShell\n",
    "InteractiveShell.ast_node_interactivity = \"all\""
   ]
  },
  {
   "cell_type": "code",
   "execution_count": 2,
   "id": "fcba4a83",
   "metadata": {},
   "outputs": [],
   "source": [
    "import platform\n",
    "\n",
    "from matplotlib import font_manager, rc\n",
    "plt.rcParams['axes.unicode_minus'] = False\n",
    "\n",
    "if platform.system() == 'Windows':  # 윈도우\n",
    "    path = \"c:/Windows/Fonts/malgun.ttf\"\n",
    "    font_name = font_manager.FontProperties(fname=path).get_name()\n",
    "    rc('font', family=font_name)\n",
    "else:\n",
    "    print('Unknown system...  sorry~~~')"
   ]
  },
  {
   "cell_type": "code",
   "execution_count": 27,
   "id": "0ea7bb92",
   "metadata": {},
   "outputs": [],
   "source": [
    "# 그래프의 크기와 해상도를 설정합니다.\n",
    "plt.rcParams['figure.figsize'] = (8, 4)\n",
    "plt.rcParams['figure.dpi'] = 100"
   ]
  },
  {
   "cell_type": "code",
   "execution_count": 3,
   "id": "9dfa4d35",
   "metadata": {},
   "outputs": [
    {
     "data": {
      "text/plain": [
       "'C:\\\\Users\\\\gg664\\\\AppData\\\\Local\\\\Programs\\\\Python\\\\Python38\\\\Scripts\\\\시각화프로젝트\\\\시각화'"
      ]
     },
     "execution_count": 3,
     "metadata": {},
     "output_type": "execute_result"
    }
   ],
   "source": [
    "curpath=os.getcwd()\n",
    "curpath"
   ]
  },
  {
   "cell_type": "code",
   "execution_count": 107,
   "id": "9f4f7a9a",
   "metadata": {},
   "outputs": [],
   "source": [
    "avg_movie = pd.read_csv(\"./data/2019_평균자료_영화.csv\", thousands=',', encoding='UTF-8')\n",
    "\n",
    "seoul_movie_2020 = pd.read_csv(\"./data/seoul_movie_2020.csv\", thousands=',', encoding='UTF-8')\n",
    "busan_movie_2020 = pd.read_csv(\"./data/busan_movie_2020.csv\", thousands=',', encoding='UTF-8')\n",
    "\n",
    "busan_movie_2020_012 = pd.read_csv(\"./data/2021_~02부산.csv\", thousands=',', encoding='UTF-8')\n",
    "busan_movie_2020_036 = pd.read_csv(\"./data/2021_03~06부산.csv\", thousands=',', encoding='UTF-8')\n",
    "\n",
    "seoul_movie_2020_012 = pd.read_csv(\"./data/2021_~02서울.csv\", thousands=',', encoding='UTF-8')\n",
    "seoul_movie_2020_036 = pd.read_csv(\"./data/2021_03~06서울.csv\", thousands=',', encoding='UTF-8')"
   ]
  },
  {
   "cell_type": "code",
   "execution_count": 108,
   "id": "10796962",
   "metadata": {},
   "outputs": [],
   "source": [
    "busan=pd.concat([busan_movie_2020,busan_movie_2020_012,busan_movie_2020_036])\n",
    "seoul=pd.concat([seoul_movie_2020,seoul_movie_2020_012,seoul_movie_2020_036])\n",
    "ALL=pd.concat([seoul,busan])"
   ]
  },
  {
   "cell_type": "code",
   "execution_count": 109,
   "id": "91edbc16",
   "metadata": {},
   "outputs": [
    {
     "data": {
      "text/html": [
       "<div>\n",
       "<style scoped>\n",
       "    .dataframe tbody tr th:only-of-type {\n",
       "        vertical-align: middle;\n",
       "    }\n",
       "\n",
       "    .dataframe tbody tr th {\n",
       "        vertical-align: top;\n",
       "    }\n",
       "\n",
       "    .dataframe thead th {\n",
       "        text-align: right;\n",
       "    }\n",
       "</style>\n",
       "<table border=\"1\" class=\"dataframe\">\n",
       "  <thead>\n",
       "    <tr style=\"text-align: right;\">\n",
       "      <th></th>\n",
       "      <th>Unnamed: 0</th>\n",
       "      <th>지역</th>\n",
       "      <th>매출액</th>\n",
       "      <th>관객수</th>\n",
       "      <th>주</th>\n",
       "    </tr>\n",
       "  </thead>\n",
       "  <tbody>\n",
       "    <tr>\n",
       "      <th>12</th>\n",
       "      <td>7</td>\n",
       "      <td>부산시</td>\n",
       "      <td>814105630</td>\n",
       "      <td>90495</td>\n",
       "      <td>2021-05-28</td>\n",
       "    </tr>\n",
       "    <tr>\n",
       "      <th>13</th>\n",
       "      <td>7</td>\n",
       "      <td>부산시</td>\n",
       "      <td>733089700</td>\n",
       "      <td>79243</td>\n",
       "      <td>2021-06-04</td>\n",
       "    </tr>\n",
       "    <tr>\n",
       "      <th>14</th>\n",
       "      <td>7</td>\n",
       "      <td>부산시</td>\n",
       "      <td>780069950</td>\n",
       "      <td>82722</td>\n",
       "      <td>2021-06-11</td>\n",
       "    </tr>\n",
       "    <tr>\n",
       "      <th>15</th>\n",
       "      <td>7</td>\n",
       "      <td>부산시</td>\n",
       "      <td>679511920</td>\n",
       "      <td>71450</td>\n",
       "      <td>2021-06-18</td>\n",
       "    </tr>\n",
       "    <tr>\n",
       "      <th>16</th>\n",
       "      <td>7</td>\n",
       "      <td>부산시</td>\n",
       "      <td>858280140</td>\n",
       "      <td>89771</td>\n",
       "      <td>2021-06-25</td>\n",
       "    </tr>\n",
       "  </tbody>\n",
       "</table>\n",
       "</div>"
      ],
      "text/plain": [
       "    Unnamed: 0   지역        매출액    관객수           주\n",
       "12           7  부산시  814105630  90495  2021-05-28\n",
       "13           7  부산시  733089700  79243  2021-06-04\n",
       "14           7  부산시  780069950  82722  2021-06-11\n",
       "15           7  부산시  679511920  71450  2021-06-18\n",
       "16           7  부산시  858280140  89771  2021-06-25"
      ]
     },
     "execution_count": 109,
     "metadata": {},
     "output_type": "execute_result"
    }
   ],
   "source": [
    "busan.tail()"
   ]
  },
  {
   "cell_type": "code",
   "execution_count": 110,
   "id": "214595a2",
   "metadata": {},
   "outputs": [],
   "source": [
    "## 백신기준\n",
    "def isvVC_date(x):\n",
    "    if x>='2021-03-11':\n",
    "         return True\n",
    "    else:\n",
    "         return False"
   ]
  },
  {
   "cell_type": "code",
   "execution_count": 111,
   "id": "9ed2ce22",
   "metadata": {},
   "outputs": [
    {
     "data": {
      "text/html": [
       "<div>\n",
       "<style scoped>\n",
       "    .dataframe tbody tr th:only-of-type {\n",
       "        vertical-align: middle;\n",
       "    }\n",
       "\n",
       "    .dataframe tbody tr th {\n",
       "        vertical-align: top;\n",
       "    }\n",
       "\n",
       "    .dataframe thead th {\n",
       "        text-align: right;\n",
       "    }\n",
       "</style>\n",
       "<table border=\"1\" class=\"dataframe\">\n",
       "  <thead>\n",
       "    <tr style=\"text-align: right;\">\n",
       "      <th></th>\n",
       "      <th>Unnamed: 0</th>\n",
       "      <th>지역</th>\n",
       "      <th>매출액</th>\n",
       "      <th>관객수</th>\n",
       "      <th>주</th>\n",
       "      <th>백신여부</th>\n",
       "    </tr>\n",
       "  </thead>\n",
       "  <tbody>\n",
       "    <tr>\n",
       "      <th>12</th>\n",
       "      <td>7</td>\n",
       "      <td>부산시</td>\n",
       "      <td>814105630</td>\n",
       "      <td>90495</td>\n",
       "      <td>2021-05-28</td>\n",
       "      <td>True</td>\n",
       "    </tr>\n",
       "    <tr>\n",
       "      <th>13</th>\n",
       "      <td>7</td>\n",
       "      <td>부산시</td>\n",
       "      <td>733089700</td>\n",
       "      <td>79243</td>\n",
       "      <td>2021-06-04</td>\n",
       "      <td>True</td>\n",
       "    </tr>\n",
       "    <tr>\n",
       "      <th>14</th>\n",
       "      <td>7</td>\n",
       "      <td>부산시</td>\n",
       "      <td>780069950</td>\n",
       "      <td>82722</td>\n",
       "      <td>2021-06-11</td>\n",
       "      <td>True</td>\n",
       "    </tr>\n",
       "    <tr>\n",
       "      <th>15</th>\n",
       "      <td>7</td>\n",
       "      <td>부산시</td>\n",
       "      <td>679511920</td>\n",
       "      <td>71450</td>\n",
       "      <td>2021-06-18</td>\n",
       "      <td>True</td>\n",
       "    </tr>\n",
       "    <tr>\n",
       "      <th>16</th>\n",
       "      <td>7</td>\n",
       "      <td>부산시</td>\n",
       "      <td>858280140</td>\n",
       "      <td>89771</td>\n",
       "      <td>2021-06-25</td>\n",
       "      <td>True</td>\n",
       "    </tr>\n",
       "  </tbody>\n",
       "</table>\n",
       "</div>"
      ],
      "text/plain": [
       "    Unnamed: 0   지역        매출액    관객수           주  백신여부\n",
       "12           7  부산시  814105630  90495  2021-05-28  True\n",
       "13           7  부산시  733089700  79243  2021-06-04  True\n",
       "14           7  부산시  780069950  82722  2021-06-11  True\n",
       "15           7  부산시  679511920  71450  2021-06-18  True\n",
       "16           7  부산시  858280140  89771  2021-06-25  True"
      ]
     },
     "execution_count": 111,
     "metadata": {},
     "output_type": "execute_result"
    }
   ],
   "source": [
    "busan['백신여부']=busan['주'].apply(isvVC_date)\n",
    "busan.tail()"
   ]
  },
  {
   "cell_type": "code",
   "execution_count": 142,
   "id": "885f5641",
   "metadata": {},
   "outputs": [
    {
     "data": {
      "text/plain": [
       "'\\n[부산 거리두기단계]\\n2020.08.23 ~ 09.12 : 2단계\\n2020.09.13 ~ 10.11 : 2단계\\n2020.10.12 ~ 11.30 : 1단계\\n2020.12.01 ~ 12.14 : 2단계\\n2020.12.15 ~ 2021.01.24 : 2.5단계\\n2021.01.25 ~ 02.14 : 2단계\\n2021.02.15 ~ 04.01 : 1.5단계\\n2021.04.02 ~ 05.23 : 2단계\\n2021.05.24 ~ : 1.5단계\\n'"
      ]
     },
     "execution_count": 142,
     "metadata": {},
     "output_type": "execute_result"
    }
   ],
   "source": [
    "## 거리두기 기준\n",
    "'''\n",
    "[부산 거리두기단계]\n",
    "2020.08.23 ~ 09.12 : 2단계\n",
    "2020.09.13 ~ 10.11 : 2단계\n",
    "2020.10.12 ~ 11.30 : 1단계\n",
    "2020.12.01 ~ 12.14 : 2단계\n",
    "2020.12.15 ~ 2021.01.24 : 2.5단계\n",
    "2021.01.25 ~ 02.14 : 2단계\n",
    "2021.02.15 ~ 04.01 : 1.5단계\n",
    "2021.04.02 ~ 05.23 : 2단계\n",
    "2021.05.24 ~ : 1.5단계\n",
    "'''\n",
    "\n",
    "def distance_date(x):\n",
    "    if x<='2020-09-12':\n",
    "         return 2\n",
    "    elif x<='2020-10-11':\n",
    "         return 2\n",
    "    elif x<='2020-11-30':\n",
    "        return 1\n",
    "    elif x<='2020-12-14':\n",
    "        return 2\n",
    "    elif x<='2021-01-24':\n",
    "        return 2.5\n",
    "    elif x<='2021-02-14':\n",
    "        return 2\n",
    "    elif x<=\"2021-04-01\":\n",
    "        return 1.5\n",
    "    elif x<=\"2021-05-23\":\n",
    "        return 2\n",
    "    else:\n",
    "        return 1.5"
   ]
  },
  {
   "cell_type": "code",
   "execution_count": 144,
   "id": "aa65aa41",
   "metadata": {},
   "outputs": [
    {
     "data": {
      "text/html": [
       "<div>\n",
       "<style scoped>\n",
       "    .dataframe tbody tr th:only-of-type {\n",
       "        vertical-align: middle;\n",
       "    }\n",
       "\n",
       "    .dataframe tbody tr th {\n",
       "        vertical-align: top;\n",
       "    }\n",
       "\n",
       "    .dataframe thead th {\n",
       "        text-align: right;\n",
       "    }\n",
       "</style>\n",
       "<table border=\"1\" class=\"dataframe\">\n",
       "  <thead>\n",
       "    <tr style=\"text-align: right;\">\n",
       "      <th></th>\n",
       "      <th>Unnamed: 0</th>\n",
       "      <th>지역</th>\n",
       "      <th>매출액</th>\n",
       "      <th>관객수</th>\n",
       "      <th>주</th>\n",
       "      <th>백신여부</th>\n",
       "      <th>거리두기</th>\n",
       "    </tr>\n",
       "  </thead>\n",
       "  <tbody>\n",
       "    <tr>\n",
       "      <th>0</th>\n",
       "      <td>7</td>\n",
       "      <td>부산시</td>\n",
       "      <td>1114537230</td>\n",
       "      <td>123943</td>\n",
       "      <td>2020-08-16</td>\n",
       "      <td>False</td>\n",
       "      <td>2.0</td>\n",
       "    </tr>\n",
       "    <tr>\n",
       "      <th>1</th>\n",
       "      <td>7</td>\n",
       "      <td>부산시</td>\n",
       "      <td>618924290</td>\n",
       "      <td>71890</td>\n",
       "      <td>2020-08-23</td>\n",
       "      <td>False</td>\n",
       "      <td>2.0</td>\n",
       "    </tr>\n",
       "    <tr>\n",
       "      <th>2</th>\n",
       "      <td>7</td>\n",
       "      <td>부산시</td>\n",
       "      <td>467448880</td>\n",
       "      <td>53630</td>\n",
       "      <td>2020-08-30</td>\n",
       "      <td>False</td>\n",
       "      <td>2.0</td>\n",
       "    </tr>\n",
       "    <tr>\n",
       "      <th>3</th>\n",
       "      <td>7</td>\n",
       "      <td>부산시</td>\n",
       "      <td>401747560</td>\n",
       "      <td>45878</td>\n",
       "      <td>2020-09-06</td>\n",
       "      <td>False</td>\n",
       "      <td>2.0</td>\n",
       "    </tr>\n",
       "    <tr>\n",
       "      <th>4</th>\n",
       "      <td>7</td>\n",
       "      <td>부산시</td>\n",
       "      <td>350543860</td>\n",
       "      <td>40374</td>\n",
       "      <td>2020-09-13</td>\n",
       "      <td>False</td>\n",
       "      <td>2.0</td>\n",
       "    </tr>\n",
       "  </tbody>\n",
       "</table>\n",
       "</div>"
      ],
      "text/plain": [
       "   Unnamed: 0   지역         매출액     관객수           주   백신여부  거리두기\n",
       "0           7  부산시  1114537230  123943  2020-08-16  False   2.0\n",
       "1           7  부산시   618924290   71890  2020-08-23  False   2.0\n",
       "2           7  부산시   467448880   53630  2020-08-30  False   2.0\n",
       "3           7  부산시   401747560   45878  2020-09-06  False   2.0\n",
       "4           7  부산시   350543860   40374  2020-09-13  False   2.0"
      ]
     },
     "execution_count": 144,
     "metadata": {},
     "output_type": "execute_result"
    }
   ],
   "source": [
    "busan['거리두기']=busan['주'].apply(distance_date)\n",
    "busan.head()"
   ]
  },
  {
   "cell_type": "code",
   "execution_count": 145,
   "id": "f7f38f4e",
   "metadata": {},
   "outputs": [],
   "source": [
    "busan_vc_atfer= busan[busan['백신여부'] == True]\n",
    "busan_vc_before = busan[busan['백신여부'] == False]"
   ]
  },
  {
   "cell_type": "code",
   "execution_count": 146,
   "id": "6781059c",
   "metadata": {},
   "outputs": [
    {
     "data": {
      "text/plain": [
       "Unnamed: 0      int64\n",
       "지역             object\n",
       "매출액             int64\n",
       "관객수             int64\n",
       "주              object\n",
       "백신여부             bool\n",
       "거리두기          float64\n",
       "dtype: object"
      ]
     },
     "execution_count": 146,
     "metadata": {},
     "output_type": "execute_result"
    }
   ],
   "source": [
    "busan_vc_before.dtypes #백신접종 이전"
   ]
  },
  {
   "cell_type": "code",
   "execution_count": 173,
   "id": "5f4b2829",
   "metadata": {},
   "outputs": [
    {
     "data": {
      "text/plain": [
       "Unnamed: 0      int64\n",
       "지역             object\n",
       "매출액             int64\n",
       "관객수             int64\n",
       "주              object\n",
       "백신여부             bool\n",
       "거리두기          float64\n",
       "dtype: object"
      ]
     },
     "execution_count": 173,
     "metadata": {},
     "output_type": "execute_result"
    }
   ],
   "source": [
    "busan_vc_atfer.dtypes #백신접종 이후"
   ]
  },
  {
   "cell_type": "markdown",
   "id": "149ab421",
   "metadata": {},
   "source": [
    "## matplotlib.pyplot 버전 그래프"
   ]
  },
  {
   "cell_type": "markdown",
   "id": "e9eb859d",
   "metadata": {},
   "source": [
    "### busan_vc_before 시각화 : 백신접종 이전"
   ]
  },
  {
   "cell_type": "code",
   "execution_count": 207,
   "id": "53c103cc",
   "metadata": {},
   "outputs": [
    {
     "data": {
      "text/plain": [
       "Text(0.5, 0, '백신접종 이전 기간 (단위 : 주)')"
      ]
     },
     "execution_count": 207,
     "metadata": {},
     "output_type": "execute_result"
    },
    {
     "data": {
      "text/plain": [
       "Text(0, 0.5, '매출액')"
      ]
     },
     "execution_count": 207,
     "metadata": {},
     "output_type": "execute_result"
    },
    {
     "data": {
      "text/plain": [
       "Text(0, 0.5, '거리두기')"
      ]
     },
     "execution_count": 207,
     "metadata": {},
     "output_type": "execute_result"
    },
    {
     "data": {
      "text/plain": [
       "Text(0.5, 1.0, '백신접종 이전 영화 매출액 및 거리두기(부산)')"
      ]
     },
     "execution_count": 207,
     "metadata": {},
     "output_type": "execute_result"
    },
    {
     "data": {
      "text/plain": [
       "(0.0, 3.0)"
      ]
     },
     "execution_count": 207,
     "metadata": {},
     "output_type": "execute_result"
    },
    {
     "data": {
      "text/plain": [
       "[Text(0, 0, '2020-08-16'),\n",
       " Text(1, 0, '2020-08-23'),\n",
       " Text(2, 0, '2020-08-30'),\n",
       " Text(3, 0, '2020-09-06'),\n",
       " Text(4, 0, '2020-09-13'),\n",
       " Text(5, 0, '2020-09-20'),\n",
       " Text(6, 0, '2020-09-27'),\n",
       " Text(7, 0, '2020-10-04'),\n",
       " Text(8, 0, '2020-10-11'),\n",
       " Text(9, 0, '2020-10-18'),\n",
       " Text(10, 0, '2020-10-25'),\n",
       " Text(11, 0, '2020-11-01'),\n",
       " Text(12, 0, '2020-11-08'),\n",
       " Text(13, 0, '2020-11-15'),\n",
       " Text(14, 0, '2020-11-22'),\n",
       " Text(15, 0, '2020-11-29'),\n",
       " Text(16, 0, '2020-12-06'),\n",
       " Text(17, 0, '2020-12-13'),\n",
       " Text(18, 0, '2020-12-20'),\n",
       " Text(19, 0, '2020-12-27'),\n",
       " Text(20, 0, '2021-01-01'),\n",
       " Text(21, 0, '2021-01-08'),\n",
       " Text(22, 0, '2021-01-15'),\n",
       " Text(23, 0, '2021-01-22'),\n",
       " Text(24, 0, '2021-01-29'),\n",
       " Text(25, 0, '2021-02-05'),\n",
       " Text(26, 0, '2021-02-12'),\n",
       " Text(27, 0, '2021-02-19'),\n",
       " Text(28, 0, '2021-02-26'),\n",
       " Text(29, 0, '2021-03-05')]"
      ]
     },
     "execution_count": 207,
     "metadata": {},
     "output_type": "execute_result"
    },
    {
     "data": {
      "image/png": "[encoded data removed]",
      "text/plain": [
       "<Figure size 1600x800 with 2 Axes>"
      ]
     },
     "metadata": {
      "needs_background": "light"
     },
     "output_type": "display_data"
    }
   ],
   "source": [
    "\n",
    "ax=busan_vc_before.plot(kind='bar', x='주', y='매출액')\n",
    "ax2=busan_vc_before.plot(kind='line', x='주', y='거리두기', secondary_y=True,color='Red', ax=ax)\n",
    "\n",
    "ax.set_xlabel('백신접종 이전 기간 (단위 : 주)')\n",
    "ax.set_ylabel('매출액')\n",
    "ax2.set_ylabel('거리두기')\n",
    "\n",
    "#plt.tight_layout()\n",
    "\n",
    "plt.title(\"백신접종 이전 영화 매출액 및 거리두기(부산)\")\n",
    "plt.gcf().set_size_inches(16, 8)\n",
    "plt.ylim([0, 3])\n",
    "ax.set_xticklabels(busan_vc_before['주'], rotation=45, ha='right')\n",
    "plt.show()"
   ]
  },
  {
   "cell_type": "markdown",
   "id": "ef8eb1d5",
   "metadata": {},
   "source": [
    "### busan_vc_atfer 시각화 : 백신접종 이후"
   ]
  },
  {
   "cell_type": "code",
   "execution_count": 209,
   "id": "723f3335",
   "metadata": {},
   "outputs": [
    {
     "data": {
      "text/plain": [
       "Text(0.5, 0, '백신접종 이후 기간 (단위 : 주)')"
      ]
     },
     "execution_count": 209,
     "metadata": {},
     "output_type": "execute_result"
    },
    {
     "data": {
      "text/plain": [
       "Text(0, 0.5, '매출액')"
      ]
     },
     "execution_count": 209,
     "metadata": {},
     "output_type": "execute_result"
    },
    {
     "data": {
      "text/plain": [
       "Text(0, 0.5, '거리두기')"
      ]
     },
     "execution_count": 209,
     "metadata": {},
     "output_type": "execute_result"
    },
    {
     "data": {
      "text/plain": [
       "Text(0.5, 1.0, '백신접종 이후 영화 매출액 및 거리두기(부산)')"
      ]
     },
     "execution_count": 209,
     "metadata": {},
     "output_type": "execute_result"
    },
    {
     "data": {
      "text/plain": [
       "(0.0, 3.0)"
      ]
     },
     "execution_count": 209,
     "metadata": {},
     "output_type": "execute_result"
    },
    {
     "data": {
      "text/plain": [
       "[Text(0, 0, '2021-03-12'),\n",
       " Text(1, 0, '2021-03-12'),\n",
       " Text(2, 0, '2021-03-19'),\n",
       " Text(3, 0, '2021-03-26'),\n",
       " Text(4, 0, '2021-04-02'),\n",
       " Text(5, 0, '2021-04-09'),\n",
       " Text(6, 0, '2021-04-16'),\n",
       " Text(7, 0, '2021-04-23'),\n",
       " Text(8, 0, '2021-04-30'),\n",
       " Text(9, 0, '2021-05-07'),\n",
       " Text(10, 0, '2021-05-14'),\n",
       " Text(11, 0, '2021-05-21'),\n",
       " Text(12, 0, '2021-05-28'),\n",
       " Text(13, 0, '2021-06-04'),\n",
       " Text(14, 0, '2021-06-11'),\n",
       " Text(15, 0, '2021-06-18'),\n",
       " Text(16, 0, '2021-06-25')]"
      ]
     },
     "execution_count": 209,
     "metadata": {},
     "output_type": "execute_result"
    },
    {
     "data": {
      "image/png": "[encoded data removed]",
      "text/plain": [
       "<Figure size 1600x800 with 2 Axes>"
      ]
     },
     "metadata": {
      "needs_background": "light"
     },
     "output_type": "display_data"
    }
   ],
   "source": [
    "ax=busan_vc_atfer.plot(kind='bar', x='주', y='매출액')\n",
    "ax2=busan_vc_atfer.plot(kind='line', x='주', y='거리두기', secondary_y=True,color='Red', ax=ax)\n",
    "\n",
    "ax.set_xlabel('백신접종 이후 기간 (단위 : 주)')\n",
    "ax.set_ylabel('매출액')\n",
    "ax2.set_ylabel('거리두기')\n",
    "\n",
    "plt.tight_layout()\n",
    "\n",
    "plt.title(\"백신접종 이후 영화 매출액 및 거리두기(부산)\")\n",
    "plt.gcf().set_size_inches(16, 8)\n",
    "plt.ylim([0, 3])\n",
    "ax.set_xticklabels(busan_vc_atfer['주'], rotation=45, ha='right')\n",
    "plt.show()"
   ]
  },
  {
   "cell_type": "markdown",
   "id": "fcd335e6",
   "metadata": {},
   "source": [
    "## 추가. seaborn 버전"
   ]
  },
  {
   "cell_type": "code",
   "execution_count": 219,
   "id": "e0af0f90",
   "metadata": {},
   "outputs": [
    {
     "data": {
      "image/png": "[encoded data removed]",
      "text/plain": [
       "<Figure size 1600x800 with 2 Axes>"
      ]
     },
     "metadata": {
      "needs_background": "light"
     },
     "output_type": "display_data"
    }
   ],
   "source": [
    "# These lines generate the data to be plotted\n",
    "x = busan_vc_before['주']\n",
    "y = busan_vc_before['매출액']\n",
    "y1 =busan_vc_before['거리두기']\n",
    "\n",
    "fig, ax1 = plt.subplots() # initializes figure and plots\n",
    "\n",
    "ax2 = ax1.twinx() # applies twinx to ax2, which is the second y axis. \n",
    "\n",
    "sns.barplot(x = x, y = y, ax = ax1, color = 'blue') # plots the first set of data, and sets it to ax1. \n",
    "sns.lineplot(x = x, y = y1, color = 'red', ax = ax2) # plots the second set, and sets to ax2. \n",
    "\n",
    "# these lines add the annotations for the plot. \n",
    "ax1.set_xlabel('주')\n",
    "ax1.set_ylabel('매출액')\n",
    "ax2.set_ylabel('거리두기 단계')\n",
    "\n",
    "plt.gcf().set_size_inches(16, 8)\n",
    "plt.ylim([0, 3])\n",
    "plt.xticks(rotation=45)\n",
    "\n",
    "plt.show(); # shows the plot. "
   ]
  },
  {
   "cell_type": "code",
   "execution_count": 218,
   "id": "7c925f81",
   "metadata": {},
   "outputs": [],
   "source": [
    "# 지역별 전체 비교그래프\n",
    "#ALL2 = ALL.sort_values(by = ['주', '지역'])\n",
    "#sns.catplot(data = ALL2, x = '주', y = '매출액', col = '지역', kind = 'bar', palette = 'Blues', legend_out = False);\n",
    "\n",
    "#plt.gcf().set_size_inches(24, 8)"
   ]
  },
  {
   "cell_type": "code",
   "execution_count": null,
   "id": "6f0176fd",
   "metadata": {},
   "outputs": [],
   "source": []
  }
 ],
 "metadata": {
  "kernelspec": {
   "display_name": "Python 3 (ipykernel)",
   "language": "python",
   "name": "python3"
  },
  "language_info": {
   "codemirror_mode": {
    "name": "ipython",
    "version": 3
   },
   "file_extension": ".py",
   "mimetype": "text/x-python",
   "name": "python",
   "nbconvert_exporter": "python",
   "pygments_lexer": "ipython3",
   "version": "3.8.7"
  }
 },
 "nbformat": 4,
 "nbformat_minor": 5
}
