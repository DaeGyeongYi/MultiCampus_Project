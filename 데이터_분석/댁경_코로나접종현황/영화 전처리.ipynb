{
 "cells": [
  {
   "cell_type": "code",
   "execution_count": 150,
   "id": "cb00e4da",
   "metadata": {},
   "outputs": [],
   "source": [
    "import os\n",
    "import pandas as pd"
   ]
  },
  {
   "cell_type": "code",
   "execution_count": 151,
   "id": "a8545c00",
   "metadata": {},
   "outputs": [
    {
     "ename": "FileNotFoundError",
     "evalue": "[WinError 3] 지정된 경로를 찾을 수 없습니다: '../댁경_코로나접종현황/csv/'",
     "output_type": "error",
     "traceback": [
      "\u001b[1;31m---------------------------------------------------------------------------\u001b[0m",
      "\u001b[1;31mFileNotFoundError\u001b[0m                         Traceback (most recent call last)",
      "\u001b[1;32m<ipython-input-151-34afc04c6820>\u001b[0m in \u001b[0;36m<module>\u001b[1;34m\u001b[0m\n\u001b[1;32m----> 1\u001b[1;33m \u001b[0mos\u001b[0m\u001b[1;33m.\u001b[0m\u001b[0mchdir\u001b[0m\u001b[1;33m(\u001b[0m\u001b[0mpath\u001b[0m \u001b[1;33m=\u001b[0m \u001b[1;34m'../댁경_코로나접종현황/csv/'\u001b[0m\u001b[1;33m)\u001b[0m\u001b[1;33m\u001b[0m\u001b[1;33m\u001b[0m\u001b[0m\n\u001b[0m",
      "\u001b[1;31mFileNotFoundError\u001b[0m: [WinError 3] 지정된 경로를 찾을 수 없습니다: '../댁경_코로나접종현황/csv/'"
     ]
    }
   ],
   "source": [
    "os.chdir(path = '../댁경_코로나접종현황/csv/')\n"
   ]
  },
  {
   "cell_type": "code",
   "execution_count": 178,
   "id": "72c56f8a",
   "metadata": {},
   "outputs": [
    {
     "data": {
      "text/plain": [
       "'C:\\\\Users\\\\DAEGYEONGLEE\\\\00_Jupyter notebook_workspace\\\\4조_DataProject\\\\데이터_분석\\\\댁경_코로나접종현황\\\\csv'"
      ]
     },
     "execution_count": 178,
     "metadata": {},
     "output_type": "execute_result"
    }
   ],
   "source": [
    "curpath=os.getcwd()\n",
    "curpath"
   ]
  },
  {
   "cell_type": "code",
   "execution_count": 179,
   "id": "f17a895b",
   "metadata": {},
   "outputs": [
    {
     "data": {
      "text/plain": [
       "['KOBIS_지역별_점유율_2021-08-18 (36).xls.csv',\n",
       " 'KOBIS_지역별_점유율_2021-08-18 (37).xls.csv',\n",
       " 'KOBIS_지역별_점유율_2021-08-18 (38).xls.csv',\n",
       " 'KOBIS_지역별_점유율_2021-08-18 (39).xls.csv',\n",
       " 'KOBIS_지역별_점유율_2021-08-18 (40).xls.csv',\n",
       " 'KOBIS_지역별_점유율_2021-08-18 (41).xls.csv',\n",
       " 'KOBIS_지역별_점유율_2021-08-18 (42).xls.csv',\n",
       " 'KOBIS_지역별_점유율_2021-08-18 (43).xls.csv',\n",
       " 'KOBIS_지역별_점유율_2021-08-18 (44).xls.csv',\n",
       " 'KOBIS_지역별_점유율_2021-08-18 (45).xls.csv',\n",
       " 'KOBIS_지역별_점유율_2021-08-18 (46).xls.csv',\n",
       " 'KOBIS_지역별_점유율_2021-08-18 (47).xls.csv',\n",
       " 'KOBIS_지역별_점유율_2021-08-18 (48).xls.csv',\n",
       " 'KOBIS_지역별_점유율_2021-08-18 (49).xls.csv',\n",
       " 'KOBIS_지역별_점유율_2021-08-18 (50).xls.csv',\n",
       " 'KOBIS_지역별_점유율_2021-08-18 (51).xls.csv',\n",
       " 'KOBIS_지역별_점유율_2021-08-18 (52).xls.csv',\n",
       " 'KOBIS_지역별_점유율_2021-08-18 (53).xls.csv',\n",
       " 'KOBIS_지역별_점유율_2021-08-18 (54).xls.csv',\n",
       " 'KOBIS_지역별_점유율_2021-08-18 (55).xls.csv',\n",
       " 'KOBIS_지역별_점유율_2021-08-18 (56).xls.csv',\n",
       " 'KOBIS_지역별_점유율_2021-08-18 (57).xls.csv',\n",
       " 'KOBIS_지역별_점유율_2021-08-18 (58).xls.csv',\n",
       " 'KOBIS_지역별_점유율_2021-08-18 (59).xls.csv',\n",
       " 'KOBIS_지역별_점유율_2021-08-18 (60).xls.csv',\n",
       " 'KOBIS_지역별_점유율_2021-08-18 (63).xls.csv']"
      ]
     },
     "execution_count": 179,
     "metadata": {},
     "output_type": "execute_result"
    }
   ],
   "source": [
    " os.listdir()"
   ]
  },
  {
   "cell_type": "code",
   "execution_count": 180,
   "id": "3103a873",
   "metadata": {
    "scrolled": true
   },
   "outputs": [
    {
     "data": {
      "text/plain": [
       "['KOBIS_지역별_점유율_2021-08-18 (36).xls.csv',\n",
       " 'KOBIS_지역별_점유율_2021-08-18 (37).xls.csv',\n",
       " 'KOBIS_지역별_점유율_2021-08-18 (38).xls.csv',\n",
       " 'KOBIS_지역별_점유율_2021-08-18 (39).xls.csv',\n",
       " 'KOBIS_지역별_점유율_2021-08-18 (40).xls.csv',\n",
       " 'KOBIS_지역별_점유율_2021-08-18 (41).xls.csv',\n",
       " 'KOBIS_지역별_점유율_2021-08-18 (42).xls.csv',\n",
       " 'KOBIS_지역별_점유율_2021-08-18 (43).xls.csv',\n",
       " 'KOBIS_지역별_점유율_2021-08-18 (44).xls.csv',\n",
       " 'KOBIS_지역별_점유율_2021-08-18 (45).xls.csv',\n",
       " 'KOBIS_지역별_점유율_2021-08-18 (46).xls.csv',\n",
       " 'KOBIS_지역별_점유율_2021-08-18 (47).xls.csv',\n",
       " 'KOBIS_지역별_점유율_2021-08-18 (48).xls.csv',\n",
       " 'KOBIS_지역별_점유율_2021-08-18 (49).xls.csv',\n",
       " 'KOBIS_지역별_점유율_2021-08-18 (50).xls.csv',\n",
       " 'KOBIS_지역별_점유율_2021-08-18 (51).xls.csv',\n",
       " 'KOBIS_지역별_점유율_2021-08-18 (52).xls.csv',\n",
       " 'KOBIS_지역별_점유율_2021-08-18 (53).xls.csv',\n",
       " 'KOBIS_지역별_점유율_2021-08-18 (54).xls.csv',\n",
       " 'KOBIS_지역별_점유율_2021-08-18 (55).xls.csv',\n",
       " 'KOBIS_지역별_점유율_2021-08-18 (56).xls.csv',\n",
       " 'KOBIS_지역별_점유율_2021-08-18 (57).xls.csv',\n",
       " 'KOBIS_지역별_점유율_2021-08-18 (58).xls.csv',\n",
       " 'KOBIS_지역별_점유율_2021-08-18 (59).xls.csv',\n",
       " 'KOBIS_지역별_점유율_2021-08-18 (60).xls.csv',\n",
       " 'KOBIS_지역별_점유율_2021-08-18 (63).xls.csv']"
      ]
     },
     "execution_count": 180,
     "metadata": {},
     "output_type": "execute_result"
    }
   ],
   "source": [
    "csv_list = os.listdir()\n",
    "csv_list"
   ]
  },
  {
   "cell_type": "code",
   "execution_count": 181,
   "id": "1b738c8b",
   "metadata": {},
   "outputs": [],
   "source": [
    "sdate_range = pd.date_range('2021-01-01','2021-03-03',freq = '7D')\n",
    "sdate_range=pd.Series(sdate_range.format())"
   ]
  },
  {
   "cell_type": "code",
   "execution_count": 182,
   "id": "c0b78846",
   "metadata": {},
   "outputs": [
    {
     "data": {
      "text/plain": [
       "0    2021-01-01\n",
       "1    2021-01-08\n",
       "2    2021-01-15\n",
       "3    2021-01-22\n",
       "4    2021-01-29\n",
       "5    2021-02-05\n",
       "6    2021-02-12\n",
       "7    2021-02-19\n",
       "8    2021-02-26\n",
       "dtype: object"
      ]
     },
     "execution_count": 182,
     "metadata": {},
     "output_type": "execute_result"
    }
   ],
   "source": [
    "sdate_range"
   ]
  },
  {
   "cell_type": "code",
   "execution_count": 183,
   "id": "e4ba2fd9",
   "metadata": {},
   "outputs": [],
   "source": [
    "for i in range(9):\n",
    "    globals()['list_{}'.format(i)] = pd.read_csv(csv_list[i])\n",
    "    globals()['list_{}'.format(i)] = globals()['list_{}'.format(i)].loc[[5,7],['■ 지역별 점유율','Unnamed: 10','Unnamed: 11']]\n",
    "    globals()['list_{}'.format(i)]['주'] = sdate_range[i]\n",
    "    globals()['list_{}'.format(i)].rename({'■ 지역별 점유율':'지역','Unnamed: 10':'매출액','Unnamed: 11':'관객수'},axis='columns',inplace=True)"
   ]
  },
  {
   "cell_type": "code",
   "execution_count": 184,
   "id": "ed491e12",
   "metadata": {},
   "outputs": [
    {
     "data": {
      "text/html": [
       "<div>\n",
       "<style scoped>\n",
       "    .dataframe tbody tr th:only-of-type {\n",
       "        vertical-align: middle;\n",
       "    }\n",
       "\n",
       "    .dataframe tbody tr th {\n",
       "        vertical-align: top;\n",
       "    }\n",
       "\n",
       "    .dataframe thead th {\n",
       "        text-align: right;\n",
       "    }\n",
       "</style>\n",
       "<table border=\"1\" class=\"dataframe\">\n",
       "  <thead>\n",
       "    <tr style=\"text-align: right;\">\n",
       "      <th></th>\n",
       "      <th>지역</th>\n",
       "      <th>매출액</th>\n",
       "      <th>관객수</th>\n",
       "      <th>주</th>\n",
       "    </tr>\n",
       "  </thead>\n",
       "  <tbody>\n",
       "    <tr>\n",
       "      <th>5</th>\n",
       "      <td>서울시</td>\n",
       "      <td>625,176,800</td>\n",
       "      <td>71,052</td>\n",
       "      <td>2021-01-01</td>\n",
       "    </tr>\n",
       "    <tr>\n",
       "      <th>7</th>\n",
       "      <td>부산시</td>\n",
       "      <td>133,154,520</td>\n",
       "      <td>15,720</td>\n",
       "      <td>2021-01-01</td>\n",
       "    </tr>\n",
       "  </tbody>\n",
       "</table>\n",
       "</div>"
      ],
      "text/plain": [
       "    지역          매출액     관객수           주\n",
       "5  서울시  625,176,800  71,052  2021-01-01\n",
       "7  부산시  133,154,520  15,720  2021-01-01"
      ]
     },
     "execution_count": 184,
     "metadata": {},
     "output_type": "execute_result"
    }
   ],
   "source": [
    "list_0"
   ]
  },
  {
   "cell_type": "code",
   "execution_count": 185,
   "id": "3fdf98e1",
   "metadata": {},
   "outputs": [],
   "source": [
    "for i in range(9):   \n",
    "    list_0 = pd.concat([list_0,globals()['list_{}'.format(i)]])"
   ]
  },
  {
   "cell_type": "code",
   "execution_count": 186,
   "id": "6e66adc9",
   "metadata": {
    "scrolled": true
   },
   "outputs": [],
   "source": [
    "list_2021_sbv = list_0[list_0['지역']=='서울시']"
   ]
  },
  {
   "cell_type": "code",
   "execution_count": 187,
   "id": "d9cbf5cd",
   "metadata": {},
   "outputs": [],
   "source": [
    "list_2021_bbv = list_0[list_0['지역']=='부산시']"
   ]
  },
  {
   "cell_type": "code",
   "execution_count": 188,
   "id": "6578e618",
   "metadata": {},
   "outputs": [],
   "source": [
    "list_2021_sbv = list_2021_sbv.reset_index(drop=True)"
   ]
  },
  {
   "cell_type": "code",
   "execution_count": 189,
   "id": "ed95e948",
   "metadata": {},
   "outputs": [],
   "source": [
    "list_2021_bbv = list_2021_bbv.reset_index(drop=True)"
   ]
  },
  {
   "cell_type": "code",
   "execution_count": 190,
   "id": "edd856b8",
   "metadata": {},
   "outputs": [],
   "source": [
    "list_2021_bbv.to_csv('./2021_~02부산.csv',encoding='utf-8')"
   ]
  },
  {
   "cell_type": "code",
   "execution_count": 191,
   "id": "efd871e2",
   "metadata": {},
   "outputs": [],
   "source": [
    "list_2021_sbv.to_csv('./2021_~02서울.csv',encoding='utf-8')"
   ]
  },
  {
   "cell_type": "code",
   "execution_count": 192,
   "id": "886a6e3f",
   "metadata": {},
   "outputs": [],
   "source": [
    "sdate_range = pd.date_range('2021-03-11','2021-06-30',freq = '7D')\n",
    "sdate_range = pd.Series(sdate_range.format())"
   ]
  },
  {
   "cell_type": "code",
   "execution_count": 193,
   "id": "be6cbff8",
   "metadata": {},
   "outputs": [
    {
     "data": {
      "text/plain": [
       "0     2021-03-11\n",
       "1     2021-03-18\n",
       "2     2021-03-25\n",
       "3     2021-04-01\n",
       "4     2021-04-08\n",
       "5     2021-04-15\n",
       "6     2021-04-22\n",
       "7     2021-04-29\n",
       "8     2021-05-06\n",
       "9     2021-05-13\n",
       "10    2021-05-20\n",
       "11    2021-05-27\n",
       "12    2021-06-03\n",
       "13    2021-06-10\n",
       "14    2021-06-17\n",
       "15    2021-06-24\n",
       "dtype: object"
      ]
     },
     "execution_count": 193,
     "metadata": {},
     "output_type": "execute_result"
    }
   ],
   "source": [
    "sdate_range"
   ]
  },
  {
   "cell_type": "code",
   "execution_count": 194,
   "id": "4c53b5c9",
   "metadata": {},
   "outputs": [],
   "source": [
    "for i in range(16):\n",
    "    globals()['list_{}'.format(i)] = pd.read_csv(csv_list[i])\n",
    "    globals()['list_{}'.format(i)] = globals()['list_{}'.format(i)].loc[[5,7],['■ 지역별 점유율','Unnamed: 10','Unnamed: 11']]\n",
    "    globals()['list_{}'.format(i)]['주'] = sdate_range[i]\n",
    "    globals()['list_{}'.format(i)].rename({'■ 지역별 점유율':'지역','Unnamed: 10':'매출액','Unnamed: 11':'관객수'},axis='columns',inplace=True)"
   ]
  },
  {
   "cell_type": "code",
   "execution_count": 195,
   "id": "75fbd926",
   "metadata": {},
   "outputs": [],
   "source": [
    "for i in range(16):   \n",
    "    list_0 = pd.concat([list_0,globals()['list_{}'.format(i)]])"
   ]
  },
  {
   "cell_type": "code",
   "execution_count": 196,
   "id": "e467e862",
   "metadata": {},
   "outputs": [],
   "source": [
    "list_2021_sbv = list_0[list_0['지역']=='서울시']"
   ]
  },
  {
   "cell_type": "code",
   "execution_count": 197,
   "id": "7591da1b",
   "metadata": {},
   "outputs": [],
   "source": [
    "list_2021_bbv = list_0[list_0['지역']=='부산시']"
   ]
  },
  {
   "cell_type": "code",
   "execution_count": 198,
   "id": "483d4331",
   "metadata": {},
   "outputs": [],
   "source": [
    "list_2021_bbv.to_csv('./2021_03~06부산.csv',encoding='utf-8')"
   ]
  },
  {
   "cell_type": "code",
   "execution_count": 199,
   "id": "ce27ca3b",
   "metadata": {},
   "outputs": [],
   "source": [
    "list_2021_sbv.to_csv('./2021_03~06서울.csv',encoding='utf-8')"
   ]
  },
  {
   "cell_type": "code",
   "execution_count": null,
   "id": "a21ab4bb",
   "metadata": {},
   "outputs": [],
   "source": []
  }
 ],
 "metadata": {
  "kernelspec": {
   "display_name": "Python 3",
   "language": "python",
   "name": "python3"
  },
  "language_info": {
   "codemirror_mode": {
    "name": "ipython",
    "version": 3
   },
   "file_extension": ".py",
   "mimetype": "text/x-python",
   "name": "python",
   "nbconvert_exporter": "python",
   "pygments_lexer": "ipython3",
   "version": "3.8.8"
  }
 },
 "nbformat": 4,
 "nbformat_minor": 5
}
