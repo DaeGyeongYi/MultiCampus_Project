{
 "cells": [
  {
   "cell_type": "code",
   "execution_count": 228,
   "id": "3c98f9dd",
   "metadata": {},
   "outputs": [],
   "source": [
    "import requests\n",
    "from bs4 import BeautifulSoup\n",
    "from urllib.parse import urlencode,quote\n",
    "import urllib.request\n",
    "import requests\n",
    "import json\n",
    "\n",
    "import pandas as pd\n",
    "import numpy as np\n",
    "import datetime\n",
    "\n",
    "\n",
    "import seaborn as sns\n",
    "import matplotlib.pyplot as plt\n",
    "%matplotlib inline\n",
    "import warnings \n",
    "warnings.filterwarnings('ignore')\n",
    "from IPython.core.interactiveshell import InteractiveShell\n",
    "InteractiveShell.ast_node_interactivity=\"all\" "
   ]
  },
  {
   "cell_type": "code",
   "execution_count": 229,
   "id": "fe941759",
   "metadata": {},
   "outputs": [],
   "source": [
    "# 한글 문제\n",
    "# matplotlit의 기본 폰트에서 한글 지원되지 않기 때문에\n",
    "# matplotlib의 폰트 변경 필요\n",
    "import platform\n",
    "\n",
    "from matplotlib import font_manager, rc\n",
    "plt.rcParams['axes.unicode_minus'] = False\n",
    "\n",
    "if platform.system() == 'Windows':  # 윈도우\n",
    "    path = \"c:/Windows/Fonts/malgun.ttf\"\n",
    "    font_name = font_manager.FontProperties(fname=path).get_name()\n",
    "    rc('font', family=font_name)\n",
    "else:\n",
    "    print('Unknown system...  sorry~~~')\n"
   ]
  },
  {
   "cell_type": "code",
   "execution_count": 230,
   "id": "e9b97830",
   "metadata": {},
   "outputs": [],
   "source": [
    "#필요하지 않은 부분 제외\n",
    "seoul_vc = pd.read_csv('result/vc_seoul.csv').iloc[:112,3:]\n",
    "busan_vc = pd.read_csv('result/vc_busan.csv').iloc[:112,3:]\n",
    "daegu_vc = pd.read_csv('result/vc_daegu.csv').iloc[:112,3:]"
   ]
  },
  {
   "cell_type": "code",
   "execution_count": 231,
   "id": "ca753d2f",
   "metadata": {},
   "outputs": [],
   "source": [
    "#날짜변경\n",
    "date_lis = []\n",
    "for date in seoul_vc['baseDate']:\n",
    "    date_lis.append(int(date[:10].replace(\"-\",\"\")))\n",
    "\n",
    "    \n",
    "seoul_vc['baseDate'] = date_lis\n",
    "busan_vc['baseDate'] = date_lis\n",
    "daegu_vc['baseDate'] = date_lis"
   ]
  },
  {
   "cell_type": "code",
   "execution_count": 232,
   "id": "d612f79c",
   "metadata": {},
   "outputs": [
    {
     "data": {
      "text/html": [
       "<div>\n",
       "<style scoped>\n",
       "    .dataframe tbody tr th:only-of-type {\n",
       "        vertical-align: middle;\n",
       "    }\n",
       "\n",
       "    .dataframe tbody tr th {\n",
       "        vertical-align: top;\n",
       "    }\n",
       "\n",
       "    .dataframe thead th {\n",
       "        text-align: right;\n",
       "    }\n",
       "</style>\n",
       "<table border=\"1\" class=\"dataframe\">\n",
       "  <thead>\n",
       "    <tr style=\"text-align: right;\">\n",
       "      <th></th>\n",
       "      <th>baseDate</th>\n",
       "      <th>firstCnt</th>\n",
       "      <th>secondCnt</th>\n",
       "      <th>sido</th>\n",
       "      <th>totalFirstCnt</th>\n",
       "      <th>totalSecondCnt</th>\n",
       "    </tr>\n",
       "  </thead>\n",
       "  <tbody>\n",
       "    <tr>\n",
       "      <th>0</th>\n",
       "      <td>20210311</td>\n",
       "      <td>12595</td>\n",
       "      <td>0</td>\n",
       "      <td>서울특별시</td>\n",
       "      <td>73827</td>\n",
       "      <td>0</td>\n",
       "    </tr>\n",
       "    <tr>\n",
       "      <th>1</th>\n",
       "      <td>20210312</td>\n",
       "      <td>10972</td>\n",
       "      <td>0</td>\n",
       "      <td>서울특별시</td>\n",
       "      <td>85864</td>\n",
       "      <td>0</td>\n",
       "    </tr>\n",
       "    <tr>\n",
       "      <th>2</th>\n",
       "      <td>20210313</td>\n",
       "      <td>9654</td>\n",
       "      <td>0</td>\n",
       "      <td>서울특별시</td>\n",
       "      <td>95996</td>\n",
       "      <td>0</td>\n",
       "    </tr>\n",
       "    <tr>\n",
       "      <th>3</th>\n",
       "      <td>20210314</td>\n",
       "      <td>1704</td>\n",
       "      <td>0</td>\n",
       "      <td>서울특별시</td>\n",
       "      <td>97777</td>\n",
       "      <td>0</td>\n",
       "    </tr>\n",
       "    <tr>\n",
       "      <th>4</th>\n",
       "      <td>20210315</td>\n",
       "      <td>900</td>\n",
       "      <td>0</td>\n",
       "      <td>서울특별시</td>\n",
       "      <td>98677</td>\n",
       "      <td>0</td>\n",
       "    </tr>\n",
       "    <tr>\n",
       "      <th>...</th>\n",
       "      <td>...</td>\n",
       "      <td>...</td>\n",
       "      <td>...</td>\n",
       "      <td>...</td>\n",
       "      <td>...</td>\n",
       "      <td>...</td>\n",
       "    </tr>\n",
       "    <tr>\n",
       "      <th>107</th>\n",
       "      <td>20210626</td>\n",
       "      <td>7635</td>\n",
       "      <td>22720</td>\n",
       "      <td>서울특별시</td>\n",
       "      <td>2821282</td>\n",
       "      <td>858697</td>\n",
       "    </tr>\n",
       "    <tr>\n",
       "      <th>108</th>\n",
       "      <td>20210627</td>\n",
       "      <td>2216</td>\n",
       "      <td>6655</td>\n",
       "      <td>서울특별시</td>\n",
       "      <td>2825885</td>\n",
       "      <td>865395</td>\n",
       "    </tr>\n",
       "    <tr>\n",
       "      <th>109</th>\n",
       "      <td>20210628</td>\n",
       "      <td>0</td>\n",
       "      <td>0</td>\n",
       "      <td>서울특별시</td>\n",
       "      <td>2825862</td>\n",
       "      <td>865395</td>\n",
       "    </tr>\n",
       "    <tr>\n",
       "      <th>110</th>\n",
       "      <td>20210629</td>\n",
       "      <td>3278</td>\n",
       "      <td>21853</td>\n",
       "      <td>서울특별시</td>\n",
       "      <td>2829341</td>\n",
       "      <td>887508</td>\n",
       "    </tr>\n",
       "    <tr>\n",
       "      <th>111</th>\n",
       "      <td>20210630</td>\n",
       "      <td>3321</td>\n",
       "      <td>22407</td>\n",
       "      <td>서울특별시</td>\n",
       "      <td>2833050</td>\n",
       "      <td>914519</td>\n",
       "    </tr>\n",
       "  </tbody>\n",
       "</table>\n",
       "<p>112 rows × 6 columns</p>\n",
       "</div>"
      ],
      "text/plain": [
       "     baseDate  firstCnt  secondCnt   sido  totalFirstCnt  totalSecondCnt\n",
       "0    20210311     12595          0  서울특별시          73827               0\n",
       "1    20210312     10972          0  서울특별시          85864               0\n",
       "2    20210313      9654          0  서울특별시          95996               0\n",
       "3    20210314      1704          0  서울특별시          97777               0\n",
       "4    20210315       900          0  서울특별시          98677               0\n",
       "..        ...       ...        ...    ...            ...             ...\n",
       "107  20210626      7635      22720  서울특별시        2821282          858697\n",
       "108  20210627      2216       6655  서울특별시        2825885          865395\n",
       "109  20210628         0          0  서울특별시        2825862          865395\n",
       "110  20210629      3278      21853  서울특별시        2829341          887508\n",
       "111  20210630      3321      22407  서울특별시        2833050          914519\n",
       "\n",
       "[112 rows x 6 columns]"
      ]
     },
     "execution_count": 232,
     "metadata": {},
     "output_type": "execute_result"
    },
    {
     "data": {
      "text/html": [
       "<div>\n",
       "<style scoped>\n",
       "    .dataframe tbody tr th:only-of-type {\n",
       "        vertical-align: middle;\n",
       "    }\n",
       "\n",
       "    .dataframe tbody tr th {\n",
       "        vertical-align: top;\n",
       "    }\n",
       "\n",
       "    .dataframe thead th {\n",
       "        text-align: right;\n",
       "    }\n",
       "</style>\n",
       "<table border=\"1\" class=\"dataframe\">\n",
       "  <thead>\n",
       "    <tr style=\"text-align: right;\">\n",
       "      <th></th>\n",
       "      <th>baseDate</th>\n",
       "      <th>firstCnt</th>\n",
       "      <th>secondCnt</th>\n",
       "      <th>sido</th>\n",
       "      <th>totalFirstCnt</th>\n",
       "      <th>totalSecondCnt</th>\n",
       "    </tr>\n",
       "  </thead>\n",
       "  <tbody>\n",
       "    <tr>\n",
       "      <th>0</th>\n",
       "      <td>20210311</td>\n",
       "      <td>3311</td>\n",
       "      <td>0</td>\n",
       "      <td>부산광역시</td>\n",
       "      <td>40045</td>\n",
       "      <td>0</td>\n",
       "    </tr>\n",
       "    <tr>\n",
       "      <th>1</th>\n",
       "      <td>20210312</td>\n",
       "      <td>2620</td>\n",
       "      <td>0</td>\n",
       "      <td>부산광역시</td>\n",
       "      <td>42779</td>\n",
       "      <td>0</td>\n",
       "    </tr>\n",
       "    <tr>\n",
       "      <th>2</th>\n",
       "      <td>20210313</td>\n",
       "      <td>2748</td>\n",
       "      <td>0</td>\n",
       "      <td>부산광역시</td>\n",
       "      <td>45611</td>\n",
       "      <td>0</td>\n",
       "    </tr>\n",
       "    <tr>\n",
       "      <th>3</th>\n",
       "      <td>20210314</td>\n",
       "      <td>187</td>\n",
       "      <td>0</td>\n",
       "      <td>부산광역시</td>\n",
       "      <td>45868</td>\n",
       "      <td>0</td>\n",
       "    </tr>\n",
       "    <tr>\n",
       "      <th>4</th>\n",
       "      <td>20210315</td>\n",
       "      <td>0</td>\n",
       "      <td>0</td>\n",
       "      <td>부산광역시</td>\n",
       "      <td>45868</td>\n",
       "      <td>0</td>\n",
       "    </tr>\n",
       "    <tr>\n",
       "      <th>...</th>\n",
       "      <td>...</td>\n",
       "      <td>...</td>\n",
       "      <td>...</td>\n",
       "      <td>...</td>\n",
       "      <td>...</td>\n",
       "      <td>...</td>\n",
       "    </tr>\n",
       "    <tr>\n",
       "      <th>107</th>\n",
       "      <td>20210626</td>\n",
       "      <td>2879</td>\n",
       "      <td>9589</td>\n",
       "      <td>부산광역시</td>\n",
       "      <td>1096862</td>\n",
       "      <td>304334</td>\n",
       "    </tr>\n",
       "    <tr>\n",
       "      <th>108</th>\n",
       "      <td>20210627</td>\n",
       "      <td>336</td>\n",
       "      <td>1119</td>\n",
       "      <td>부산광역시</td>\n",
       "      <td>1098007</td>\n",
       "      <td>305453</td>\n",
       "    </tr>\n",
       "    <tr>\n",
       "      <th>109</th>\n",
       "      <td>20210628</td>\n",
       "      <td>0</td>\n",
       "      <td>0</td>\n",
       "      <td>부산광역시</td>\n",
       "      <td>1098001</td>\n",
       "      <td>305453</td>\n",
       "    </tr>\n",
       "    <tr>\n",
       "      <th>110</th>\n",
       "      <td>20210629</td>\n",
       "      <td>700</td>\n",
       "      <td>9246</td>\n",
       "      <td>부산광역시</td>\n",
       "      <td>1098748</td>\n",
       "      <td>314830</td>\n",
       "    </tr>\n",
       "    <tr>\n",
       "      <th>111</th>\n",
       "      <td>20210630</td>\n",
       "      <td>1636</td>\n",
       "      <td>10349</td>\n",
       "      <td>부산광역시</td>\n",
       "      <td>1100426</td>\n",
       "      <td>326829</td>\n",
       "    </tr>\n",
       "  </tbody>\n",
       "</table>\n",
       "<p>112 rows × 6 columns</p>\n",
       "</div>"
      ],
      "text/plain": [
       "     baseDate  firstCnt  secondCnt   sido  totalFirstCnt  totalSecondCnt\n",
       "0    20210311      3311          0  부산광역시          40045               0\n",
       "1    20210312      2620          0  부산광역시          42779               0\n",
       "2    20210313      2748          0  부산광역시          45611               0\n",
       "3    20210314       187          0  부산광역시          45868               0\n",
       "4    20210315         0          0  부산광역시          45868               0\n",
       "..        ...       ...        ...    ...            ...             ...\n",
       "107  20210626      2879       9589  부산광역시        1096862          304334\n",
       "108  20210627       336       1119  부산광역시        1098007          305453\n",
       "109  20210628         0          0  부산광역시        1098001          305453\n",
       "110  20210629       700       9246  부산광역시        1098748          314830\n",
       "111  20210630      1636      10349  부산광역시        1100426          326829\n",
       "\n",
       "[112 rows x 6 columns]"
      ]
     },
     "execution_count": 232,
     "metadata": {},
     "output_type": "execute_result"
    },
    {
     "data": {
      "text/html": [
       "<div>\n",
       "<style scoped>\n",
       "    .dataframe tbody tr th:only-of-type {\n",
       "        vertical-align: middle;\n",
       "    }\n",
       "\n",
       "    .dataframe tbody tr th {\n",
       "        vertical-align: top;\n",
       "    }\n",
       "\n",
       "    .dataframe thead th {\n",
       "        text-align: right;\n",
       "    }\n",
       "</style>\n",
       "<table border=\"1\" class=\"dataframe\">\n",
       "  <thead>\n",
       "    <tr style=\"text-align: right;\">\n",
       "      <th></th>\n",
       "      <th>baseDate</th>\n",
       "      <th>firstCnt</th>\n",
       "      <th>secondCnt</th>\n",
       "      <th>sido</th>\n",
       "      <th>totalFirstCnt</th>\n",
       "      <th>totalSecondCnt</th>\n",
       "    </tr>\n",
       "  </thead>\n",
       "  <tbody>\n",
       "    <tr>\n",
       "      <th>0</th>\n",
       "      <td>20210311</td>\n",
       "      <td>2310</td>\n",
       "      <td>0</td>\n",
       "      <td>대구광역시</td>\n",
       "      <td>25411</td>\n",
       "      <td>0</td>\n",
       "    </tr>\n",
       "    <tr>\n",
       "      <th>1</th>\n",
       "      <td>20210312</td>\n",
       "      <td>1834</td>\n",
       "      <td>0</td>\n",
       "      <td>대구광역시</td>\n",
       "      <td>27334</td>\n",
       "      <td>0</td>\n",
       "    </tr>\n",
       "    <tr>\n",
       "      <th>2</th>\n",
       "      <td>20210313</td>\n",
       "      <td>1435</td>\n",
       "      <td>0</td>\n",
       "      <td>대구광역시</td>\n",
       "      <td>28884</td>\n",
       "      <td>0</td>\n",
       "    </tr>\n",
       "    <tr>\n",
       "      <th>3</th>\n",
       "      <td>20210314</td>\n",
       "      <td>134</td>\n",
       "      <td>0</td>\n",
       "      <td>대구광역시</td>\n",
       "      <td>29018</td>\n",
       "      <td>0</td>\n",
       "    </tr>\n",
       "    <tr>\n",
       "      <th>4</th>\n",
       "      <td>20210315</td>\n",
       "      <td>10</td>\n",
       "      <td>0</td>\n",
       "      <td>대구광역시</td>\n",
       "      <td>29028</td>\n",
       "      <td>0</td>\n",
       "    </tr>\n",
       "    <tr>\n",
       "      <th>...</th>\n",
       "      <td>...</td>\n",
       "      <td>...</td>\n",
       "      <td>...</td>\n",
       "      <td>...</td>\n",
       "      <td>...</td>\n",
       "      <td>...</td>\n",
       "    </tr>\n",
       "    <tr>\n",
       "      <th>107</th>\n",
       "      <td>20210626</td>\n",
       "      <td>3196</td>\n",
       "      <td>5087</td>\n",
       "      <td>대구광역시</td>\n",
       "      <td>648172</td>\n",
       "      <td>192191</td>\n",
       "    </tr>\n",
       "    <tr>\n",
       "      <th>108</th>\n",
       "      <td>20210627</td>\n",
       "      <td>484</td>\n",
       "      <td>512</td>\n",
       "      <td>대구광역시</td>\n",
       "      <td>649524</td>\n",
       "      <td>192736</td>\n",
       "    </tr>\n",
       "    <tr>\n",
       "      <th>109</th>\n",
       "      <td>20210628</td>\n",
       "      <td>0</td>\n",
       "      <td>0</td>\n",
       "      <td>대구광역시</td>\n",
       "      <td>649515</td>\n",
       "      <td>192736</td>\n",
       "    </tr>\n",
       "    <tr>\n",
       "      <th>110</th>\n",
       "      <td>20210629</td>\n",
       "      <td>633</td>\n",
       "      <td>4402</td>\n",
       "      <td>대구광역시</td>\n",
       "      <td>650165</td>\n",
       "      <td>197191</td>\n",
       "    </tr>\n",
       "    <tr>\n",
       "      <th>111</th>\n",
       "      <td>20210630</td>\n",
       "      <td>1004</td>\n",
       "      <td>4552</td>\n",
       "      <td>대구광역시</td>\n",
       "      <td>651187</td>\n",
       "      <td>203101</td>\n",
       "    </tr>\n",
       "  </tbody>\n",
       "</table>\n",
       "<p>112 rows × 6 columns</p>\n",
       "</div>"
      ],
      "text/plain": [
       "     baseDate  firstCnt  secondCnt   sido  totalFirstCnt  totalSecondCnt\n",
       "0    20210311      2310          0  대구광역시          25411               0\n",
       "1    20210312      1834          0  대구광역시          27334               0\n",
       "2    20210313      1435          0  대구광역시          28884               0\n",
       "3    20210314       134          0  대구광역시          29018               0\n",
       "4    20210315        10          0  대구광역시          29028               0\n",
       "..        ...       ...        ...    ...            ...             ...\n",
       "107  20210626      3196       5087  대구광역시         648172          192191\n",
       "108  20210627       484        512  대구광역시         649524          192736\n",
       "109  20210628         0          0  대구광역시         649515          192736\n",
       "110  20210629       633       4402  대구광역시         650165          197191\n",
       "111  20210630      1004       4552  대구광역시         651187          203101\n",
       "\n",
       "[112 rows x 6 columns]"
      ]
     },
     "execution_count": 232,
     "metadata": {},
     "output_type": "execute_result"
    }
   ],
   "source": [
    "seoul_vc\n",
    "busan_vc\n",
    "daegu_vc\n",
    "\n",
    "#9시 35분에 갱신 내용이 반영되므로, 8시부터 ~9시 35분까지 접종한 데이터는 "
   ]
  },
  {
   "cell_type": "code",
   "execution_count": 233,
   "id": "6006f709",
   "metadata": {},
   "outputs": [],
   "source": [
    "# 지역별 주간 누적\n",
    "tmp_s = seoul_vc[\n",
    "         (seoul_vc['baseDate']==20210317) | \n",
    "         (seoul_vc['baseDate']==20210324) |\n",
    "         (seoul_vc['baseDate']==20210331) |\n",
    "         (seoul_vc['baseDate']==20210317) | \n",
    "         (seoul_vc['baseDate']==20210323) |\n",
    "         (seoul_vc['baseDate']==20210407) | \n",
    "         (seoul_vc['baseDate']==20210414) |\n",
    "         (seoul_vc['baseDate']==20210421) |\n",
    "         (seoul_vc['baseDate']==20210428) | \n",
    "         (seoul_vc['baseDate']==20210505) |\n",
    "         (seoul_vc['baseDate']==20210512) |\n",
    "         (seoul_vc['baseDate']==20210519) |\n",
    "         (seoul_vc['baseDate']==20210526) |\n",
    "         (seoul_vc['baseDate']==20210602) | \n",
    "         (seoul_vc['baseDate']==20210609) |\n",
    "         (seoul_vc['baseDate']==20210616) |\n",
    "         (seoul_vc['baseDate']==20210623) |\n",
    "         (seoul_vc['baseDate']==20210630)    \n",
    "        ]\n",
    "\n",
    "tmp_b = busan_vc[\n",
    "         (busan_vc['baseDate']==20210317) | \n",
    "         (busan_vc['baseDate']==20210324) |\n",
    "         (busan_vc['baseDate']==20210331) |\n",
    "         (busan_vc['baseDate']==20210317) | \n",
    "         (busan_vc['baseDate']==20210323) |\n",
    "         (busan_vc['baseDate']==20210407) | \n",
    "         (busan_vc['baseDate']==20210414) |\n",
    "         (busan_vc['baseDate']==20210421) |\n",
    "         (busan_vc['baseDate']==20210428) | \n",
    "         (busan_vc['baseDate']==20210505) |\n",
    "         (busan_vc['baseDate']==20210512) |\n",
    "         (busan_vc['baseDate']==20210519) |\n",
    "         (busan_vc['baseDate']==20210526) |\n",
    "         (busan_vc['baseDate']==20210602) | \n",
    "         (busan_vc['baseDate']==20210609) |\n",
    "         (busan_vc['baseDate']==20210616) |\n",
    "         (busan_vc['baseDate']==20210623) |\n",
    "         (busan_vc['baseDate']==20210630)    \n",
    "        ]\n",
    "\n",
    "tmp_d = daegu_vc[\n",
    "         (daegu_vc['baseDate']==20210317) | \n",
    "         (daegu_vc['baseDate']==20210324) |\n",
    "         (daegu_vc['baseDate']==20210331) |\n",
    "         (daegu_vc['baseDate']==20210317) | \n",
    "         (daegu_vc['baseDate']==20210323) |\n",
    "         (daegu_vc['baseDate']==20210407) | \n",
    "         (daegu_vc['baseDate']==20210414) |\n",
    "         (daegu_vc['baseDate']==20210421) |\n",
    "         (daegu_vc['baseDate']==20210428) | \n",
    "         (daegu_vc['baseDate']==20210505) |\n",
    "         (daegu_vc['baseDate']==20210512) |\n",
    "         (daegu_vc['baseDate']==20210519) |\n",
    "         (daegu_vc['baseDate']==20210526) |\n",
    "         (daegu_vc['baseDate']==20210602) | \n",
    "         (daegu_vc['baseDate']==20210609) |\n",
    "         (daegu_vc['baseDate']==20210616) |\n",
    "         (daegu_vc['baseDate']==20210623) |\n",
    "         (daegu_vc['baseDate']==20210630)    \n",
    "        ]"
   ]
  },
  {
   "cell_type": "code",
   "execution_count": 234,
   "id": "bfd35ccc",
   "metadata": {},
   "outputs": [],
   "source": [
    "tmp_s = tmp_s.reset_index(drop=True)\n",
    "tmp_b = tmp_b.reset_index(drop=True)\n",
    "tmp_d = tmp_d.reset_index(drop=True)\n"
   ]
  },
  {
   "cell_type": "code",
   "execution_count": 235,
   "id": "56ee599e",
   "metadata": {},
   "outputs": [],
   "source": [
    "#주간 접종자 수 계산\n",
    "s_week_1 = [0]\n",
    "d_week_1 = [0]\n",
    "b_week_1 = [0]\n",
    "s_week_2 = [0]\n",
    "d_week_2 = [0]\n",
    "b_week_2 = [0]\n",
    "\n",
    "for i in range(16):\n",
    "    try:\n",
    "        s_week_2.append(tmp_s['totalSecondCnt'][i+1]-tmp_s['totalSecondCnt'][i])\n",
    "        b_week_2.append(tmp_b['totalSecondCnt'][i+1]-tmp_b['totalSecondCnt'][i])\n",
    "        d_week_2.append(tmp_d['totalSecondCnt'][i+1]-tmp_d['totalSecondCnt'][i])\n",
    "        s_week_1.append(tmp_s['totalFirstCnt'][i+1]-tmp_s['totalFirstCnt'][i])\n",
    "        b_week_1.append(tmp_b['totalFirstCnt'][i+1]-tmp_b['totalFirstCnt'][i])\n",
    "        d_week_1.append(tmp_d['totalFirstCnt'][i+1]-tmp_d['totalFirstCnt'][i])\n",
    "        \n",
    "    except:\n",
    "        pass\n",
    "    \n",
    "    \n"
   ]
  },
  {
   "cell_type": "code",
   "execution_count": 236,
   "id": "f37f5d5d",
   "metadata": {},
   "outputs": [],
   "source": [
    "#지역별 주간 누적 dict: 날짜,1차누계,2차\n",
    "seoul_3_6 = {\"일자\":tmp_s['baseDate'].astype(str).values,\n",
    "             \"1차접종누계\":tmp_s['totalFirstCnt'].values,\n",
    "             \"2차접종누계\":tmp_s['totalSecondCnt'].values,\n",
    "             \"주간1차접종자수\": np.array(s_week_1),\n",
    "             \"주간2차접종자수\": np.array(s_week_2)\n",
    "            }\n",
    "\n",
    "busan_3_6 = {\"일자\":tmp_b['baseDate'].astype(str).values,\n",
    "             \"1차접종누계\":tmp_b['totalFirstCnt'].values,\n",
    "             \"2차접종누계\":tmp_b['totalSecondCnt'].values,\n",
    "             \"주간1차접종자수\": np.array(b_week_1),\n",
    "             \"주간2차접종자수\": np.array(b_week_2)\n",
    "               }\n",
    "\n",
    "daegu_3_6 = {\"일자\":tmp_d['baseDate'].astype(str).values,\n",
    "             \"1차접종누계\":tmp_d['totalFirstCnt'].values,\n",
    "             \"2차접종누계\":tmp_d['totalSecondCnt'].values,\n",
    "             \"주간1차접종자수\": np.array(d_week_1),\n",
    "             \"주간2차접종자수\": np.array(d_week_2)\n",
    "}"
   ]
  },
  {
   "cell_type": "code",
   "execution_count": 237,
   "id": "c894125a",
   "metadata": {},
   "outputs": [
    {
     "data": {
      "text/plain": [
       "{'일자': array(['20210317', '20210323', '20210324', '20210331', '20210407',\n",
       "        '20210414', '20210421', '20210428', '20210505', '20210512',\n",
       "        '20210519', '20210526', '20210602', '20210609', '20210616',\n",
       "        '20210623', '20210630'], dtype=object),\n",
       " '1차접종누계': array([ 105966,  117112,  119118,  139440,  162501,  188646,  271027,\n",
       "         406009,  559605,  598266,  616699,  639483, 1092306, 1636992,\n",
       "        2437955, 2792660, 2833050], dtype=int64),\n",
       " '2차접종누계': array([     0,    764,   1283,   3399,  11777,  13500,  13518,  25635,\n",
       "         46290,  98810, 171720, 274749, 340624, 377030, 627708, 791467,\n",
       "        914519], dtype=int64),\n",
       " '주간1차접종자수': array([     0,  11146,   2006,  20322,  23061,  26145,  82381, 134982,\n",
       "        153596,  38661,  18433,  22784, 452823, 544686, 800963, 354705,\n",
       "         40390], dtype=int64),\n",
       " '주간2차접종자수': array([     0,    764,    519,   2116,   8378,   1723,     18,  12117,\n",
       "         20655,  52520,  72910, 103029,  65875,  36406, 250678, 163759,\n",
       "        123052], dtype=int64)}"
      ]
     },
     "execution_count": 237,
     "metadata": {},
     "output_type": "execute_result"
    },
    {
     "data": {
      "text/plain": [
       "{'일자': array(['20210317', '20210323', '20210324', '20210331', '20210407',\n",
       "        '20210414', '20210421', '20210428', '20210505', '20210512',\n",
       "        '20210519', '20210526', '20210602', '20210609', '20210616',\n",
       "        '20210623', '20210630'], dtype=object),\n",
       " '1차접종누계': array([  48880,   53961,   56813,   71383,   82247,   93110,  115622,\n",
       "         157866,  222957,  231031,  233484,  246466,  439138,  667015,\n",
       "         958173, 1086907, 1100426], dtype=int64),\n",
       " '2차접종누계': array([     0,      0,      0,    245,   1198,   4161,   4161,   7667,\n",
       "         16485,  29520,  52468, 114756, 130833, 139023, 211439, 275169,\n",
       "        326829], dtype=int64),\n",
       " '주간1차접종자수': array([     0,   5081,   2852,  14570,  10864,  10863,  22512,  42244,\n",
       "         65091,   8074,   2453,  12982, 192672, 227877, 291158, 128734,\n",
       "         13519], dtype=int64),\n",
       " '주간2차접종자수': array([    0,     0,     0,   245,   953,  2963,     0,  3506,  8818,\n",
       "        13035, 22948, 62288, 16077,  8190, 72416, 63730, 51660],\n",
       "       dtype=int64)}"
      ]
     },
     "execution_count": 237,
     "metadata": {},
     "output_type": "execute_result"
    },
    {
     "data": {
      "text/plain": [
       "{'일자': array(['20210317', '20210323', '20210324', '20210331', '20210407',\n",
       "        '20210414', '20210421', '20210428', '20210505', '20210512',\n",
       "        '20210519', '20210526', '20210602', '20210609', '20210616',\n",
       "        '20210623', '20210630'], dtype=object),\n",
       " '1차접종누계': array([ 30083,  33114,  34085,  39341,  45687,  54863,  74674, 108655,\n",
       "        150241, 157692, 158342, 163702, 258241, 376501, 555381, 638421,\n",
       "        651187], dtype=int64),\n",
       " '2차접종누계': array([     0,      0,      0,    659,    950,   2946,   2946,   5101,\n",
       "         12147,  25571,  46822,  83092,  98109, 101405, 142405, 176363,\n",
       "        203101], dtype=int64),\n",
       " '주간1차접종자수': array([     0,   3031,    971,   5256,   6346,   9176,  19811,  33981,\n",
       "         41586,   7451,    650,   5360,  94539, 118260, 178880,  83040,\n",
       "         12766], dtype=int64),\n",
       " '주간2차접종자수': array([    0,     0,     0,   659,   291,  1996,     0,  2155,  7046,\n",
       "        13424, 21251, 36270, 15017,  3296, 41000, 33958, 26738],\n",
       "       dtype=int64)}"
      ]
     },
     "execution_count": 237,
     "metadata": {},
     "output_type": "execute_result"
    }
   ],
   "source": [
    "seoul_3_6\n",
    "busan_3_6\n",
    "daegu_3_6"
   ]
  },
  {
   "cell_type": "code",
   "execution_count": 243,
   "id": "c35697d7",
   "metadata": {},
   "outputs": [
    {
     "data": {
      "text/plain": [
       "<Figure size 720x720 with 0 Axes>"
      ]
     },
     "execution_count": 243,
     "metadata": {},
     "output_type": "execute_result"
    },
    {
     "data": {
      "text/plain": [
       "[<matplotlib.lines.Line2D at 0x169c0ba5940>]"
      ]
     },
     "execution_count": 243,
     "metadata": {},
     "output_type": "execute_result"
    },
    {
     "data": {
      "text/plain": [
       "[<matplotlib.lines.Line2D at 0x169c0ba5640>]"
      ]
     },
     "execution_count": 243,
     "metadata": {},
     "output_type": "execute_result"
    },
    {
     "data": {
      "text/plain": [
       "[<matplotlib.lines.Line2D at 0x169c0ba53a0>]"
      ]
     },
     "execution_count": 243,
     "metadata": {},
     "output_type": "execute_result"
    },
    {
     "data": {
      "text/plain": [
       "Text(0.5, 1.0, '서울')"
      ]
     },
     "execution_count": 243,
     "metadata": {},
     "output_type": "execute_result"
    },
    {
     "data": {
      "text/plain": [
       "([0, 1, 2, 3, 4, 5, 6, 7, 8, 9, 10, 11, 12, 13, 14, 15, 16],\n",
       " [Text(0, 0, ''),\n",
       "  Text(0, 0, ''),\n",
       "  Text(0, 0, ''),\n",
       "  Text(0, 0, ''),\n",
       "  Text(0, 0, ''),\n",
       "  Text(0, 0, ''),\n",
       "  Text(0, 0, ''),\n",
       "  Text(0, 0, ''),\n",
       "  Text(0, 0, ''),\n",
       "  Text(0, 0, ''),\n",
       "  Text(0, 0, ''),\n",
       "  Text(0, 0, ''),\n",
       "  Text(0, 0, ''),\n",
       "  Text(0, 0, ''),\n",
       "  Text(0, 0, ''),\n",
       "  Text(0, 0, ''),\n",
       "  Text(0, 0, '')])"
      ]
     },
     "execution_count": 243,
     "metadata": {},
     "output_type": "execute_result"
    },
    {
     "data": {
      "text/plain": [
       "Text(0.5, 0, '일자')"
      ]
     },
     "execution_count": 243,
     "metadata": {},
     "output_type": "execute_result"
    },
    {
     "data": {
      "text/plain": [
       "Text(0, 0.5, '명')"
      ]
     },
     "execution_count": 243,
     "metadata": {},
     "output_type": "execute_result"
    },
    {
     "data": {
      "text/plain": [
       "<matplotlib.legend.Legend at 0x169bea6c160>"
      ]
     },
     "execution_count": 243,
     "metadata": {},
     "output_type": "execute_result"
    },
    {
     "data": {
      "image/png": "[encoded data removed]",
      "text/plain": [
       "<Figure size 720x720 with 1 Axes>"
      ]
     },
     "metadata": {
      "needs_background": "light"
     },
     "output_type": "display_data"
    }
   ],
   "source": [
    "plt.figure(figsize=(10,10))\n",
    "\n",
    "plt.plot(seoul_3_6['일자'], seoul_3_6['1차접종누계'], color='brown', label='1차 접종 누계')\n",
    "plt.plot(seoul_3_6['일자'], seoul_3_6['2차접종누계'], color='red', label='2차 접종 누계')\n",
    "plt.plot(seoul_3_6['일자'], seoul_3_6['주간1차접종자수'], color='blue', label='1주일 접종자수')\n",
    "\n",
    "\n",
    "plt.title('서울')\n",
    "plt.xticks(rotation=45)\n",
    "plt.xlabel('일자')\n",
    "plt.ylabel('명')\n",
    "plt.legend(loc='best')"
   ]
  },
  {
   "cell_type": "code",
   "execution_count": 244,
   "id": "e875b7e6",
   "metadata": {},
   "outputs": [
    {
     "data": {
      "text/plain": [
       "<Figure size 720x720 with 0 Axes>"
      ]
     },
     "execution_count": 244,
     "metadata": {},
     "output_type": "execute_result"
    },
    {
     "data": {
      "text/plain": [
       "[<matplotlib.lines.Line2D at 0x169bf09d250>]"
      ]
     },
     "execution_count": 244,
     "metadata": {},
     "output_type": "execute_result"
    },
    {
     "data": {
      "text/plain": [
       "[<matplotlib.lines.Line2D at 0x169bf09d070>]"
      ]
     },
     "execution_count": 244,
     "metadata": {},
     "output_type": "execute_result"
    },
    {
     "data": {
      "text/plain": [
       "[<matplotlib.lines.Line2D at 0x169bf09dee0>]"
      ]
     },
     "execution_count": 244,
     "metadata": {},
     "output_type": "execute_result"
    },
    {
     "data": {
      "text/plain": [
       "Text(0.5, 1.0, '부산')"
      ]
     },
     "execution_count": 244,
     "metadata": {},
     "output_type": "execute_result"
    },
    {
     "data": {
      "text/plain": [
       "([0, 1, 2, 3, 4, 5, 6, 7, 8, 9, 10, 11, 12, 13, 14, 15, 16],\n",
       " [Text(0, 0, ''),\n",
       "  Text(0, 0, ''),\n",
       "  Text(0, 0, ''),\n",
       "  Text(0, 0, ''),\n",
       "  Text(0, 0, ''),\n",
       "  Text(0, 0, ''),\n",
       "  Text(0, 0, ''),\n",
       "  Text(0, 0, ''),\n",
       "  Text(0, 0, ''),\n",
       "  Text(0, 0, ''),\n",
       "  Text(0, 0, ''),\n",
       "  Text(0, 0, ''),\n",
       "  Text(0, 0, ''),\n",
       "  Text(0, 0, ''),\n",
       "  Text(0, 0, ''),\n",
       "  Text(0, 0, ''),\n",
       "  Text(0, 0, '')])"
      ]
     },
     "execution_count": 244,
     "metadata": {},
     "output_type": "execute_result"
    },
    {
     "data": {
      "text/plain": [
       "Text(0.5, 0, '일자')"
      ]
     },
     "execution_count": 244,
     "metadata": {},
     "output_type": "execute_result"
    },
    {
     "data": {
      "text/plain": [
       "Text(0, 0.5, '명')"
      ]
     },
     "execution_count": 244,
     "metadata": {},
     "output_type": "execute_result"
    },
    {
     "data": {
      "text/plain": [
       "<matplotlib.legend.Legend at 0x169be6cd310>"
      ]
     },
     "execution_count": 244,
     "metadata": {},
     "output_type": "execute_result"
    },
    {
     "data": {
      "image/png": "[encoded data removed]",
      "text/plain": [
       "<Figure size 720x720 with 1 Axes>"
      ]
     },
     "metadata": {
      "needs_background": "light"
     },
     "output_type": "display_data"
    }
   ],
   "source": [
    "plt.figure(figsize=(10,10))\n",
    "\n",
    "plt.plot(busan_3_6['일자'], busan_3_6['1차접종누계'], color='brown', label='1차 접종 누계')\n",
    "plt.plot(busan_3_6['일자'], busan_3_6['2차접종누계'], color='red', label='2차 접종 누계')\n",
    "plt.plot(busan_3_6['일자'], busan_3_6['주간1차접종자수'], color='blue', label='1주일 접종자수')\n",
    "\n",
    "\n",
    "plt.title('부산')\n",
    "plt.xticks(rotation=45)\n",
    "plt.xlabel('일자')\n",
    "plt.ylabel('명')\n",
    "plt.legend(loc='best')"
   ]
  },
  {
   "cell_type": "code",
   "execution_count": 245,
   "id": "4763e8c2",
   "metadata": {},
   "outputs": [
    {
     "data": {
      "text/plain": [
       "<Figure size 720x720 with 0 Axes>"
      ]
     },
     "execution_count": 245,
     "metadata": {},
     "output_type": "execute_result"
    },
    {
     "data": {
      "text/plain": [
       "[<matplotlib.lines.Line2D at 0x169c207df70>]"
      ]
     },
     "execution_count": 245,
     "metadata": {},
     "output_type": "execute_result"
    },
    {
     "data": {
      "text/plain": [
       "[<matplotlib.lines.Line2D at 0x169c208a9d0>]"
      ]
     },
     "execution_count": 245,
     "metadata": {},
     "output_type": "execute_result"
    },
    {
     "data": {
      "text/plain": [
       "[<matplotlib.lines.Line2D at 0x169c208a4c0>]"
      ]
     },
     "execution_count": 245,
     "metadata": {},
     "output_type": "execute_result"
    },
    {
     "data": {
      "text/plain": [
       "Text(0.5, 1.0, '대구')"
      ]
     },
     "execution_count": 245,
     "metadata": {},
     "output_type": "execute_result"
    },
    {
     "data": {
      "text/plain": [
       "([0, 1, 2, 3, 4, 5, 6, 7, 8, 9, 10, 11, 12, 13, 14, 15, 16],\n",
       " [Text(0, 0, ''),\n",
       "  Text(0, 0, ''),\n",
       "  Text(0, 0, ''),\n",
       "  Text(0, 0, ''),\n",
       "  Text(0, 0, ''),\n",
       "  Text(0, 0, ''),\n",
       "  Text(0, 0, ''),\n",
       "  Text(0, 0, ''),\n",
       "  Text(0, 0, ''),\n",
       "  Text(0, 0, ''),\n",
       "  Text(0, 0, ''),\n",
       "  Text(0, 0, ''),\n",
       "  Text(0, 0, ''),\n",
       "  Text(0, 0, ''),\n",
       "  Text(0, 0, ''),\n",
       "  Text(0, 0, ''),\n",
       "  Text(0, 0, '')])"
      ]
     },
     "execution_count": 245,
     "metadata": {},
     "output_type": "execute_result"
    },
    {
     "data": {
      "text/plain": [
       "Text(0.5, 0, '일자')"
      ]
     },
     "execution_count": 245,
     "metadata": {},
     "output_type": "execute_result"
    },
    {
     "data": {
      "text/plain": [
       "Text(0, 0.5, '명')"
      ]
     },
     "execution_count": 245,
     "metadata": {},
     "output_type": "execute_result"
    },
    {
     "data": {
      "text/plain": [
       "<matplotlib.legend.Legend at 0x169c0dcd130>"
      ]
     },
     "execution_count": 245,
     "metadata": {},
     "output_type": "execute_result"
    },
    {
     "data": {
      "image/png": "[encoded data removed]",
      "text/plain": [
       "<Figure size 720x720 with 1 Axes>"
      ]
     },
     "metadata": {
      "needs_background": "light"
     },
     "output_type": "display_data"
    }
   ],
   "source": [
    "plt.figure(figsize=(10,10))\n",
    "\n",
    "plt.plot(daegu_3_6['일자'], daegu_3_6['1차접종누계'], color='brown', label='1차 접종 누계')\n",
    "plt.plot(daegu_3_6['일자'], daegu_3_6['2차접종누계'], color='red', label='2차 접종 누계')\n",
    "plt.plot(daegu_3_6['일자'], daegu_3_6['주간1차접종자수'], color='blue', label='1주일 접종자수')\n",
    "\n",
    "\n",
    "plt.title('대구')\n",
    "plt.xticks(rotation=45)\n",
    "plt.xlabel('일자')\n",
    "plt.ylabel('명')\n",
    "plt.legend(loc='best')"
   ]
  },
  {
   "cell_type": "code",
   "execution_count": null,
   "id": "dc540ed9",
   "metadata": {},
   "outputs": [],
   "source": []
  }
 ],
 "metadata": {
  "kernelspec": {
   "display_name": "Python 3",
   "language": "python",
   "name": "python3"
  },
  "language_info": {
   "codemirror_mode": {
    "name": "ipython",
    "version": 3
   },
   "file_extension": ".py",
   "mimetype": "text/x-python",
   "name": "python",
   "nbconvert_exporter": "python",
   "pygments_lexer": "ipython3",
   "version": "3.8.8"
  }
 },
 "nbformat": 4,
 "nbformat_minor": 5
}
