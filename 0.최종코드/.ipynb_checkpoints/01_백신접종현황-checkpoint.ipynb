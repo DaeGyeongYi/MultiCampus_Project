{
 "cells": [
  {
   "cell_type": "code",
   "execution_count": 25,
   "id": "3c98f9dd",
   "metadata": {},
   "outputs": [],
   "source": [
    "import requests\n",
    "from bs4 import BeautifulSoup\n",
    "from urllib.parse import urlencode,quote\n",
    "import urllib.request\n",
    "import requests\n",
    "import json\n",
    "\n",
    "import pandas as pd\n",
    "import numpy as np\n",
    "import datetime\n",
    "\n",
    "\n",
    "import seaborn as sns\n",
    "import matplotlib.pyplot as plt\n",
    "%matplotlib inline\n",
    "import warnings \n",
    "warnings.filterwarnings('ignore')\n",
    "from IPython.core.interactiveshell import InteractiveShell\n",
    "InteractiveShell.ast_node_interactivity=\"all\" "
   ]
  },
  {
   "cell_type": "code",
   "execution_count": 26,
   "id": "fe941759",
   "metadata": {},
   "outputs": [],
   "source": [
    "# 한글 문제\n",
    "# matplotlit의 기본 폰트에서 한글 지원되지 않기 때문에\n",
    "# matplotlib의 폰트 변경 필요\n",
    "import platform\n",
    "\n",
    "from matplotlib import font_manager, rc\n",
    "plt.rcParams['axes.unicode_minus'] = False\n",
    "\n",
    "if platform.system() == 'Windows':  # 윈도우\n",
    "    path = \"c:/Windows/Fonts/malgun.ttf\"\n",
    "    font_name = font_manager.FontProperties(fname=path).get_name()\n",
    "    rc('font', family=font_name)\n",
    "else:\n",
    "    print('Unknown system...  sorry~~~')\n"
   ]
  },
  {
   "cell_type": "code",
   "execution_count": 27,
   "id": "e9b97830",
   "metadata": {},
   "outputs": [],
   "source": [
    "#필요하지 않은 부분 제외\n",
    "seoul_vc = pd.read_csv('vc_result/vc_seoul.csv').iloc[:112,3:]\n",
    "busan_vc = pd.read_csv('vc_result/vc_busan.csv').iloc[:112,3:]\n",
    "daegu_vc = pd.read_csv('vc_result/vc_daegu.csv').iloc[:112,3:]"
   ]
  },
  {
   "cell_type": "code",
   "execution_count": 28,
   "id": "ca753d2f",
   "metadata": {},
   "outputs": [],
   "source": [
    "#날짜변경\n",
    "date_lis = []\n",
    "for date in seoul_vc['baseDate']:\n",
    "    date_lis.append(int(date[:10].replace(\"-\",\"\")))\n",
    "\n",
    "    \n",
    "seoul_vc['baseDate'] = date_lis\n",
    "busan_vc['baseDate'] = date_lis\n",
    "daegu_vc['baseDate'] = date_lis"
   ]
  },
  {
   "cell_type": "code",
   "execution_count": 29,
   "id": "d612f79c",
   "metadata": {},
   "outputs": [
    {
     "data": {
      "text/html": [
       "<div>\n",
       "<style scoped>\n",
       "    .dataframe tbody tr th:only-of-type {\n",
       "        vertical-align: middle;\n",
       "    }\n",
       "\n",
       "    .dataframe tbody tr th {\n",
       "        vertical-align: top;\n",
       "    }\n",
       "\n",
       "    .dataframe thead th {\n",
       "        text-align: right;\n",
       "    }\n",
       "</style>\n",
       "<table border=\"1\" class=\"dataframe\">\n",
       "  <thead>\n",
       "    <tr style=\"text-align: right;\">\n",
       "      <th></th>\n",
       "      <th>baseDate</th>\n",
       "      <th>firstCnt</th>\n",
       "      <th>secondCnt</th>\n",
       "      <th>sido</th>\n",
       "      <th>totalFirstCnt</th>\n",
       "      <th>totalSecondCnt</th>\n",
       "    </tr>\n",
       "  </thead>\n",
       "  <tbody>\n",
       "    <tr>\n",
       "      <th>0</th>\n",
       "      <td>20210311</td>\n",
       "      <td>12595</td>\n",
       "      <td>0</td>\n",
       "      <td>서울특별시</td>\n",
       "      <td>73827</td>\n",
       "      <td>0</td>\n",
       "    </tr>\n",
       "    <tr>\n",
       "      <th>1</th>\n",
       "      <td>20210312</td>\n",
       "      <td>10972</td>\n",
       "      <td>0</td>\n",
       "      <td>서울특별시</td>\n",
       "      <td>85864</td>\n",
       "      <td>0</td>\n",
       "    </tr>\n",
       "    <tr>\n",
       "      <th>2</th>\n",
       "      <td>20210313</td>\n",
       "      <td>9654</td>\n",
       "      <td>0</td>\n",
       "      <td>서울특별시</td>\n",
       "      <td>95996</td>\n",
       "      <td>0</td>\n",
       "    </tr>\n",
       "    <tr>\n",
       "      <th>3</th>\n",
       "      <td>20210314</td>\n",
       "      <td>1704</td>\n",
       "      <td>0</td>\n",
       "      <td>서울특별시</td>\n",
       "      <td>97777</td>\n",
       "      <td>0</td>\n",
       "    </tr>\n",
       "    <tr>\n",
       "      <th>4</th>\n",
       "      <td>20210315</td>\n",
       "      <td>900</td>\n",
       "      <td>0</td>\n",
       "      <td>서울특별시</td>\n",
       "      <td>98677</td>\n",
       "      <td>0</td>\n",
       "    </tr>\n",
       "    <tr>\n",
       "      <th>...</th>\n",
       "      <td>...</td>\n",
       "      <td>...</td>\n",
       "      <td>...</td>\n",
       "      <td>...</td>\n",
       "      <td>...</td>\n",
       "      <td>...</td>\n",
       "    </tr>\n",
       "    <tr>\n",
       "      <th>107</th>\n",
       "      <td>20210626</td>\n",
       "      <td>7635</td>\n",
       "      <td>22720</td>\n",
       "      <td>서울특별시</td>\n",
       "      <td>2821282</td>\n",
       "      <td>858697</td>\n",
       "    </tr>\n",
       "    <tr>\n",
       "      <th>108</th>\n",
       "      <td>20210627</td>\n",
       "      <td>2216</td>\n",
       "      <td>6655</td>\n",
       "      <td>서울특별시</td>\n",
       "      <td>2825885</td>\n",
       "      <td>865395</td>\n",
       "    </tr>\n",
       "    <tr>\n",
       "      <th>109</th>\n",
       "      <td>20210628</td>\n",
       "      <td>0</td>\n",
       "      <td>0</td>\n",
       "      <td>서울특별시</td>\n",
       "      <td>2825862</td>\n",
       "      <td>865395</td>\n",
       "    </tr>\n",
       "    <tr>\n",
       "      <th>110</th>\n",
       "      <td>20210629</td>\n",
       "      <td>3278</td>\n",
       "      <td>21853</td>\n",
       "      <td>서울특별시</td>\n",
       "      <td>2829341</td>\n",
       "      <td>887508</td>\n",
       "    </tr>\n",
       "    <tr>\n",
       "      <th>111</th>\n",
       "      <td>20210630</td>\n",
       "      <td>3321</td>\n",
       "      <td>22407</td>\n",
       "      <td>서울특별시</td>\n",
       "      <td>2833050</td>\n",
       "      <td>914519</td>\n",
       "    </tr>\n",
       "  </tbody>\n",
       "</table>\n",
       "<p>112 rows × 6 columns</p>\n",
       "</div>"
      ],
      "text/plain": [
       "     baseDate  firstCnt  secondCnt   sido  totalFirstCnt  totalSecondCnt\n",
       "0    20210311     12595          0  서울특별시          73827               0\n",
       "1    20210312     10972          0  서울특별시          85864               0\n",
       "2    20210313      9654          0  서울특별시          95996               0\n",
       "3    20210314      1704          0  서울특별시          97777               0\n",
       "4    20210315       900          0  서울특별시          98677               0\n",
       "..        ...       ...        ...    ...            ...             ...\n",
       "107  20210626      7635      22720  서울특별시        2821282          858697\n",
       "108  20210627      2216       6655  서울특별시        2825885          865395\n",
       "109  20210628         0          0  서울특별시        2825862          865395\n",
       "110  20210629      3278      21853  서울특별시        2829341          887508\n",
       "111  20210630      3321      22407  서울특별시        2833050          914519\n",
       "\n",
       "[112 rows x 6 columns]"
      ]
     },
     "execution_count": 29,
     "metadata": {},
     "output_type": "execute_result"
    },
    {
     "data": {
      "text/html": [
       "<div>\n",
       "<style scoped>\n",
       "    .dataframe tbody tr th:only-of-type {\n",
       "        vertical-align: middle;\n",
       "    }\n",
       "\n",
       "    .dataframe tbody tr th {\n",
       "        vertical-align: top;\n",
       "    }\n",
       "\n",
       "    .dataframe thead th {\n",
       "        text-align: right;\n",
       "    }\n",
       "</style>\n",
       "<table border=\"1\" class=\"dataframe\">\n",
       "  <thead>\n",
       "    <tr style=\"text-align: right;\">\n",
       "      <th></th>\n",
       "      <th>baseDate</th>\n",
       "      <th>firstCnt</th>\n",
       "      <th>secondCnt</th>\n",
       "      <th>sido</th>\n",
       "      <th>totalFirstCnt</th>\n",
       "      <th>totalSecondCnt</th>\n",
       "    </tr>\n",
       "  </thead>\n",
       "  <tbody>\n",
       "    <tr>\n",
       "      <th>0</th>\n",
       "      <td>20210311</td>\n",
       "      <td>3311</td>\n",
       "      <td>0</td>\n",
       "      <td>부산광역시</td>\n",
       "      <td>40045</td>\n",
       "      <td>0</td>\n",
       "    </tr>\n",
       "    <tr>\n",
       "      <th>1</th>\n",
       "      <td>20210312</td>\n",
       "      <td>2620</td>\n",
       "      <td>0</td>\n",
       "      <td>부산광역시</td>\n",
       "      <td>42779</td>\n",
       "      <td>0</td>\n",
       "    </tr>\n",
       "    <tr>\n",
       "      <th>2</th>\n",
       "      <td>20210313</td>\n",
       "      <td>2748</td>\n",
       "      <td>0</td>\n",
       "      <td>부산광역시</td>\n",
       "      <td>45611</td>\n",
       "      <td>0</td>\n",
       "    </tr>\n",
       "    <tr>\n",
       "      <th>3</th>\n",
       "      <td>20210314</td>\n",
       "      <td>187</td>\n",
       "      <td>0</td>\n",
       "      <td>부산광역시</td>\n",
       "      <td>45868</td>\n",
       "      <td>0</td>\n",
       "    </tr>\n",
       "    <tr>\n",
       "      <th>4</th>\n",
       "      <td>20210315</td>\n",
       "      <td>0</td>\n",
       "      <td>0</td>\n",
       "      <td>부산광역시</td>\n",
       "      <td>45868</td>\n",
       "      <td>0</td>\n",
       "    </tr>\n",
       "    <tr>\n",
       "      <th>...</th>\n",
       "      <td>...</td>\n",
       "      <td>...</td>\n",
       "      <td>...</td>\n",
       "      <td>...</td>\n",
       "      <td>...</td>\n",
       "      <td>...</td>\n",
       "    </tr>\n",
       "    <tr>\n",
       "      <th>107</th>\n",
       "      <td>20210626</td>\n",
       "      <td>2879</td>\n",
       "      <td>9589</td>\n",
       "      <td>부산광역시</td>\n",
       "      <td>1096862</td>\n",
       "      <td>304334</td>\n",
       "    </tr>\n",
       "    <tr>\n",
       "      <th>108</th>\n",
       "      <td>20210627</td>\n",
       "      <td>336</td>\n",
       "      <td>1119</td>\n",
       "      <td>부산광역시</td>\n",
       "      <td>1098007</td>\n",
       "      <td>305453</td>\n",
       "    </tr>\n",
       "    <tr>\n",
       "      <th>109</th>\n",
       "      <td>20210628</td>\n",
       "      <td>0</td>\n",
       "      <td>0</td>\n",
       "      <td>부산광역시</td>\n",
       "      <td>1098001</td>\n",
       "      <td>305453</td>\n",
       "    </tr>\n",
       "    <tr>\n",
       "      <th>110</th>\n",
       "      <td>20210629</td>\n",
       "      <td>700</td>\n",
       "      <td>9246</td>\n",
       "      <td>부산광역시</td>\n",
       "      <td>1098748</td>\n",
       "      <td>314830</td>\n",
       "    </tr>\n",
       "    <tr>\n",
       "      <th>111</th>\n",
       "      <td>20210630</td>\n",
       "      <td>1636</td>\n",
       "      <td>10349</td>\n",
       "      <td>부산광역시</td>\n",
       "      <td>1100426</td>\n",
       "      <td>326829</td>\n",
       "    </tr>\n",
       "  </tbody>\n",
       "</table>\n",
       "<p>112 rows × 6 columns</p>\n",
       "</div>"
      ],
      "text/plain": [
       "     baseDate  firstCnt  secondCnt   sido  totalFirstCnt  totalSecondCnt\n",
       "0    20210311      3311          0  부산광역시          40045               0\n",
       "1    20210312      2620          0  부산광역시          42779               0\n",
       "2    20210313      2748          0  부산광역시          45611               0\n",
       "3    20210314       187          0  부산광역시          45868               0\n",
       "4    20210315         0          0  부산광역시          45868               0\n",
       "..        ...       ...        ...    ...            ...             ...\n",
       "107  20210626      2879       9589  부산광역시        1096862          304334\n",
       "108  20210627       336       1119  부산광역시        1098007          305453\n",
       "109  20210628         0          0  부산광역시        1098001          305453\n",
       "110  20210629       700       9246  부산광역시        1098748          314830\n",
       "111  20210630      1636      10349  부산광역시        1100426          326829\n",
       "\n",
       "[112 rows x 6 columns]"
      ]
     },
     "execution_count": 29,
     "metadata": {},
     "output_type": "execute_result"
    },
    {
     "data": {
      "text/html": [
       "<div>\n",
       "<style scoped>\n",
       "    .dataframe tbody tr th:only-of-type {\n",
       "        vertical-align: middle;\n",
       "    }\n",
       "\n",
       "    .dataframe tbody tr th {\n",
       "        vertical-align: top;\n",
       "    }\n",
       "\n",
       "    .dataframe thead th {\n",
       "        text-align: right;\n",
       "    }\n",
       "</style>\n",
       "<table border=\"1\" class=\"dataframe\">\n",
       "  <thead>\n",
       "    <tr style=\"text-align: right;\">\n",
       "      <th></th>\n",
       "      <th>baseDate</th>\n",
       "      <th>firstCnt</th>\n",
       "      <th>secondCnt</th>\n",
       "      <th>sido</th>\n",
       "      <th>totalFirstCnt</th>\n",
       "      <th>totalSecondCnt</th>\n",
       "    </tr>\n",
       "  </thead>\n",
       "  <tbody>\n",
       "    <tr>\n",
       "      <th>0</th>\n",
       "      <td>20210311</td>\n",
       "      <td>2310</td>\n",
       "      <td>0</td>\n",
       "      <td>대구광역시</td>\n",
       "      <td>25411</td>\n",
       "      <td>0</td>\n",
       "    </tr>\n",
       "    <tr>\n",
       "      <th>1</th>\n",
       "      <td>20210312</td>\n",
       "      <td>1834</td>\n",
       "      <td>0</td>\n",
       "      <td>대구광역시</td>\n",
       "      <td>27334</td>\n",
       "      <td>0</td>\n",
       "    </tr>\n",
       "    <tr>\n",
       "      <th>2</th>\n",
       "      <td>20210313</td>\n",
       "      <td>1435</td>\n",
       "      <td>0</td>\n",
       "      <td>대구광역시</td>\n",
       "      <td>28884</td>\n",
       "      <td>0</td>\n",
       "    </tr>\n",
       "    <tr>\n",
       "      <th>3</th>\n",
       "      <td>20210314</td>\n",
       "      <td>134</td>\n",
       "      <td>0</td>\n",
       "      <td>대구광역시</td>\n",
       "      <td>29018</td>\n",
       "      <td>0</td>\n",
       "    </tr>\n",
       "    <tr>\n",
       "      <th>4</th>\n",
       "      <td>20210315</td>\n",
       "      <td>10</td>\n",
       "      <td>0</td>\n",
       "      <td>대구광역시</td>\n",
       "      <td>29028</td>\n",
       "      <td>0</td>\n",
       "    </tr>\n",
       "    <tr>\n",
       "      <th>...</th>\n",
       "      <td>...</td>\n",
       "      <td>...</td>\n",
       "      <td>...</td>\n",
       "      <td>...</td>\n",
       "      <td>...</td>\n",
       "      <td>...</td>\n",
       "    </tr>\n",
       "    <tr>\n",
       "      <th>107</th>\n",
       "      <td>20210626</td>\n",
       "      <td>3196</td>\n",
       "      <td>5087</td>\n",
       "      <td>대구광역시</td>\n",
       "      <td>648172</td>\n",
       "      <td>192191</td>\n",
       "    </tr>\n",
       "    <tr>\n",
       "      <th>108</th>\n",
       "      <td>20210627</td>\n",
       "      <td>484</td>\n",
       "      <td>512</td>\n",
       "      <td>대구광역시</td>\n",
       "      <td>649524</td>\n",
       "      <td>192736</td>\n",
       "    </tr>\n",
       "    <tr>\n",
       "      <th>109</th>\n",
       "      <td>20210628</td>\n",
       "      <td>0</td>\n",
       "      <td>0</td>\n",
       "      <td>대구광역시</td>\n",
       "      <td>649515</td>\n",
       "      <td>192736</td>\n",
       "    </tr>\n",
       "    <tr>\n",
       "      <th>110</th>\n",
       "      <td>20210629</td>\n",
       "      <td>633</td>\n",
       "      <td>4402</td>\n",
       "      <td>대구광역시</td>\n",
       "      <td>650165</td>\n",
       "      <td>197191</td>\n",
       "    </tr>\n",
       "    <tr>\n",
       "      <th>111</th>\n",
       "      <td>20210630</td>\n",
       "      <td>1004</td>\n",
       "      <td>4552</td>\n",
       "      <td>대구광역시</td>\n",
       "      <td>651187</td>\n",
       "      <td>203101</td>\n",
       "    </tr>\n",
       "  </tbody>\n",
       "</table>\n",
       "<p>112 rows × 6 columns</p>\n",
       "</div>"
      ],
      "text/plain": [
       "     baseDate  firstCnt  secondCnt   sido  totalFirstCnt  totalSecondCnt\n",
       "0    20210311      2310          0  대구광역시          25411               0\n",
       "1    20210312      1834          0  대구광역시          27334               0\n",
       "2    20210313      1435          0  대구광역시          28884               0\n",
       "3    20210314       134          0  대구광역시          29018               0\n",
       "4    20210315        10          0  대구광역시          29028               0\n",
       "..        ...       ...        ...    ...            ...             ...\n",
       "107  20210626      3196       5087  대구광역시         648172          192191\n",
       "108  20210627       484        512  대구광역시         649524          192736\n",
       "109  20210628         0          0  대구광역시         649515          192736\n",
       "110  20210629       633       4402  대구광역시         650165          197191\n",
       "111  20210630      1004       4552  대구광역시         651187          203101\n",
       "\n",
       "[112 rows x 6 columns]"
      ]
     },
     "execution_count": 29,
     "metadata": {},
     "output_type": "execute_result"
    }
   ],
   "source": [
    "seoul_vc\n",
    "busan_vc\n",
    "daegu_vc\n",
    "\n",
    "#9시 35분에 갱신 내용이 반영되므로, 8시부터 ~9시 35분까지 접종한 데이터는 "
   ]
  },
  {
   "cell_type": "code",
   "execution_count": 30,
   "id": "822f9350",
   "metadata": {},
   "outputs": [
    {
     "data": {
      "text/plain": [
       "0"
      ]
     },
     "execution_count": 30,
     "metadata": {},
     "output_type": "execute_result"
    },
    {
     "data": {
      "text/plain": [
       "0"
      ]
     },
     "execution_count": 30,
     "metadata": {},
     "output_type": "execute_result"
    },
    {
     "data": {
      "text/plain": [
       "0"
      ]
     },
     "execution_count": 30,
     "metadata": {},
     "output_type": "execute_result"
    }
   ],
   "source": [
    "seoul_vc['totalSecondCnt'][7]-seoul_vc['totalSecondCnt'][0]\n",
    "busan_vc['totalSecondCnt'][7]-busan_vc['totalSecondCnt'][0]\n",
    "daegu_vc['totalSecondCnt'][7]-daegu_vc['totalSecondCnt'][0]\n",
    "\n"
   ]
  },
  {
   "cell_type": "code",
   "execution_count": 31,
   "id": "6006f709",
   "metadata": {},
   "outputs": [],
   "source": [
    "# 지역별 주간 누적 (영화 기준 인덱스 수정)\n",
    "## 서울\n",
    "tmp_s = seoul_vc[\n",
    "         (seoul_vc['baseDate']==20210318) | \n",
    "         (seoul_vc['baseDate']==20210325) |\n",
    "         (seoul_vc['baseDate']==20210401) |\n",
    "         (seoul_vc['baseDate']==20210408) | \n",
    "         (seoul_vc['baseDate']==20210415) |\n",
    "         (seoul_vc['baseDate']==20210422) | \n",
    "         (seoul_vc['baseDate']==20210429) |\n",
    "         (seoul_vc['baseDate']==20210506) |\n",
    "         (seoul_vc['baseDate']==20210513) | \n",
    "         (seoul_vc['baseDate']==20210520) |\n",
    "         (seoul_vc['baseDate']==20210527) |\n",
    "         (seoul_vc['baseDate']==20210603) |\n",
    "         (seoul_vc['baseDate']==20210610) |\n",
    "         (seoul_vc['baseDate']==20210617) | \n",
    "         (seoul_vc['baseDate']==20210624) |\n",
    "         (seoul_vc['baseDate']==20210630) \n",
    "        ]\n",
    "\n",
    "## 부산\n",
    "tmp_b = busan_vc[\n",
    "         (busan_vc['baseDate']==20210318) | \n",
    "         (busan_vc['baseDate']==20210314) |\n",
    "         (busan_vc['baseDate']==20210401) |\n",
    "         (busan_vc['baseDate']==20210408) | \n",
    "         (busan_vc['baseDate']==20210415) |\n",
    "         (busan_vc['baseDate']==20210422) | \n",
    "         (busan_vc['baseDate']==20210429) |\n",
    "         (busan_vc['baseDate']==20210506) |\n",
    "         (busan_vc['baseDate']==20210513) | \n",
    "         (busan_vc['baseDate']==20210520) |\n",
    "         (busan_vc['baseDate']==20210527) |\n",
    "         (busan_vc['baseDate']==20210603) |\n",
    "         (busan_vc['baseDate']==20210610) |\n",
    "         (busan_vc['baseDate']==20210617) | \n",
    "         (busan_vc['baseDate']==20210624) |\n",
    "         (busan_vc['baseDate']==20210630)  \n",
    "        ]\n",
    "\n",
    "tmp_d = daegu_vc[\n",
    "         (daegu_vc['baseDate']==20210318) | \n",
    "         (daegu_vc['baseDate']==20210325) |\n",
    "         (daegu_vc['baseDate']==20210401) |\n",
    "         (daegu_vc['baseDate']==20210408) | \n",
    "         (daegu_vc['baseDate']==20210415) |\n",
    "         (daegu_vc['baseDate']==20210422) | \n",
    "         (daegu_vc['baseDate']==20210429) |\n",
    "         (daegu_vc['baseDate']==20210506) |\n",
    "         (daegu_vc['baseDate']==20210513) | \n",
    "         (daegu_vc['baseDate']==20210520) |\n",
    "         (daegu_vc['baseDate']==20210527) |\n",
    "         (daegu_vc['baseDate']==20210603) |\n",
    "         (daegu_vc['baseDate']==20210610) |\n",
    "         (daegu_vc['baseDate']==20210617) | \n",
    "         (daegu_vc['baseDate']==20210624) |\n",
    "         (daegu_vc['baseDate']==20210630) \n",
    "        ]"
   ]
  },
  {
   "cell_type": "code",
   "execution_count": 32,
   "id": "bfd35ccc",
   "metadata": {},
   "outputs": [],
   "source": [
    "tmp_s = tmp_s.reset_index(drop=True)\n",
    "tmp_b = tmp_b.reset_index(drop=True)\n",
    "tmp_d = tmp_d.reset_index(drop=True)\n"
   ]
  },
  {
   "cell_type": "code",
   "execution_count": 33,
   "id": "56ee599e",
   "metadata": {},
   "outputs": [],
   "source": [
    "#주간 접종자 수 계산\n",
    "s_week_1 = [35709]\n",
    "d_week_1 = [5729]\n",
    "b_week_1 = [10943]\n",
    "s_week_2 = [0]\n",
    "d_week_2 = [0]\n",
    "b_week_2 = [0]\n",
    "\n",
    "for i in range(16):\n",
    "    try:\n",
    "        s_week_2.append(tmp_s['totalSecondCnt'][i+1]-tmp_s['totalSecondCnt'][i])\n",
    "        b_week_2.append(tmp_b['totalSecondCnt'][i+1]-tmp_b['totalSecondCnt'][i])\n",
    "        d_week_2.append(tmp_d['totalSecondCnt'][i+1]-tmp_d['totalSecondCnt'][i])\n",
    "        s_week_1.append(tmp_s['totalFirstCnt'][i+1]-tmp_s['totalFirstCnt'][i])\n",
    "        b_week_1.append(tmp_b['totalFirstCnt'][i+1]-tmp_b['totalFirstCnt'][i])\n",
    "        d_week_1.append(tmp_d['totalFirstCnt'][i+1]-tmp_d['totalFirstCnt'][i])\n",
    "        \n",
    "    except:\n",
    "        pass\n",
    "    \n",
    "    \n"
   ]
  },
  {
   "cell_type": "code",
   "execution_count": 34,
   "id": "f37f5d5d",
   "metadata": {},
   "outputs": [],
   "source": [
    "#지역별 주간 누적 dict: 날짜,1차누계,2차\n",
    "seoul_3_6 = {\"일자\":tmp_s['baseDate'].astype(str).values,\n",
    "             \"1차접종누계\":tmp_s['totalFirstCnt'].values,\n",
    "             \"2차접종누계\":tmp_s['totalSecondCnt'].values,\n",
    "             \"주간1차접종자수\": np.array(s_week_1),\n",
    "             \"주간2차접종자수\": np.array(s_week_2)\n",
    "            }\n",
    "\n",
    "busan_3_6 = {\"일자\":tmp_b['baseDate'].astype(str).values,\n",
    "             \"1차접종누계\":tmp_b['totalFirstCnt'].values,\n",
    "             \"2차접종누계\":tmp_b['totalSecondCnt'].values,\n",
    "             \"주간1차접종자수\": np.array(b_week_1),\n",
    "             \"주간2차접종자수\": np.array(b_week_2)\n",
    "               }\n",
    "\n",
    "daegu_3_6 = {\"일자\":tmp_d['baseDate'].astype(str).values,\n",
    "             \"1차접종누계\":tmp_d['totalFirstCnt'].values,\n",
    "             \"2차접종누계\":tmp_d['totalSecondCnt'].values,\n",
    "             \"주간1차접종자수\": np.array(d_week_1),\n",
    "             \"주간2차접종자수\": np.array(d_week_2)\n",
    "}"
   ]
  },
  {
   "cell_type": "code",
   "execution_count": 35,
   "id": "c894125a",
   "metadata": {},
   "outputs": [
    {
     "data": {
      "text/plain": [
       "{'일자': array(['20210318', '20210325', '20210401', '20210408', '20210415',\n",
       "        '20210422', '20210429', '20210506', '20210513', '20210520',\n",
       "        '20210527', '20210603', '20210610', '20210617', '20210624',\n",
       "        '20210630'], dtype=object),\n",
       " '1차접종누계': array([ 109536,  122249,  141584,  166563,  195071,  294555,  438269,\n",
       "         563044,  600548,  616705,  650432, 1165736, 1746392, 2554809,\n",
       "        2802006, 2833050], dtype=int64),\n",
       " '2차접종누계': array([     0,   1725,   6227,  12397,  13502,  13543,  27699,  47940,\n",
       "        112781, 175445, 291118, 346936, 380200, 685532, 813666, 914519],\n",
       "       dtype=int64),\n",
       " '주간1차접종자수': array([ 35709,  12713,  19335,  24979,  28508,  99484, 143714, 124775,\n",
       "         37504,  16157,  33727, 515304, 580656, 808417, 247197,  31044],\n",
       "       dtype=int64),\n",
       " '주간2차접종자수': array([     0,   1725,   4502,   6170,   1105,     41,  14156,  20241,\n",
       "         64841,  62664, 115673,  55818,  33264, 305332, 128134, 100853],\n",
       "       dtype=int64)}"
      ]
     },
     "execution_count": 35,
     "metadata": {},
     "output_type": "execute_result"
    },
    {
     "data": {
      "text/plain": [
       "{'일자': array(['20210314', '20210318', '20210401', '20210408', '20210415',\n",
       "        '20210422', '20210429', '20210506', '20210513', '20210520',\n",
       "        '20210527', '20210603', '20210610', '20210617', '20210624',\n",
       "        '20210630'], dtype=object),\n",
       " '1차접종누계': array([  45868,   50988,   73571,   83895,   96082,  121702,  174943,\n",
       "         223997,  231495,  233540,  254350,  470503,  713446,  996171,\n",
       "        1089840, 1100426], dtype=int64),\n",
       " '2차접종누계': array([     0,      0,    245,   2388,   4161,   4161,   8592,  18249,\n",
       "         32353,  60033, 118935, 132160, 141696, 230090, 285163, 326829],\n",
       "       dtype=int64),\n",
       " '주간1차접종자수': array([ 10943,   5120,  22583,  10324,  12187,  25620,  53241,  49054,\n",
       "          7498,   2045,  20810, 216153, 242943, 282725,  93669,  10586],\n",
       "       dtype=int64),\n",
       " '주간2차접종자수': array([    0,     0,   245,  2143,  1773,     0,  4431,  9657, 14104,\n",
       "        27680, 58902, 13225,  9536, 88394, 55073, 41666], dtype=int64)}"
      ]
     },
     "execution_count": 35,
     "metadata": {},
     "output_type": "execute_result"
    },
    {
     "data": {
      "text/plain": [
       "{'일자': array(['20210318', '20210325', '20210401', '20210408', '20210415',\n",
       "        '20210422', '20210429', '20210506', '20210513', '20210520',\n",
       "        '20210527', '20210603', '20210610', '20210617', '20210624',\n",
       "        '20210630'], dtype=object),\n",
       " '1차접종누계': array([ 31140,  35268,  40298,  46922,  56430,  78721, 117794, 151913,\n",
       "        157874, 158351, 167685, 274006, 402177, 582909, 641113, 651187],\n",
       "       dtype=int64),\n",
       " '2차접종누계': array([     0,    217,    659,   1387,   2946,   2946,   5637,  13251,\n",
       "         27705,  51465,  86997,  99038, 102403, 153267, 181795, 203101],\n",
       "       dtype=int64),\n",
       " '주간1차접종자수': array([  5729,   4128,   5030,   6624,   9508,  22291,  39073,  34119,\n",
       "          5961,    477,   9334, 106321, 128171, 180732,  58204,  10074],\n",
       "       dtype=int64),\n",
       " '주간2차접종자수': array([    0,   217,   442,   728,  1559,     0,  2691,  7614, 14454,\n",
       "        23760, 35532, 12041,  3365, 50864, 28528, 21306], dtype=int64)}"
      ]
     },
     "execution_count": 35,
     "metadata": {},
     "output_type": "execute_result"
    }
   ],
   "source": [
    "seoul_3_6\n",
    "busan_3_6\n",
    "daegu_3_6"
   ]
  },
  {
   "cell_type": "code",
   "execution_count": 36,
   "id": "c35697d7",
   "metadata": {},
   "outputs": [
    {
     "data": {
      "text/plain": [
       "<Figure size 720x720 with 0 Axes>"
      ]
     },
     "execution_count": 36,
     "metadata": {},
     "output_type": "execute_result"
    },
    {
     "data": {
      "text/plain": [
       "[<matplotlib.lines.Line2D at 0x263879138b0>]"
      ]
     },
     "execution_count": 36,
     "metadata": {},
     "output_type": "execute_result"
    },
    {
     "data": {
      "text/plain": [
       "[<matplotlib.lines.Line2D at 0x26387913ca0>]"
      ]
     },
     "execution_count": 36,
     "metadata": {},
     "output_type": "execute_result"
    },
    {
     "data": {
      "text/plain": [
       "[<matplotlib.lines.Line2D at 0x26387921040>]"
      ]
     },
     "execution_count": 36,
     "metadata": {},
     "output_type": "execute_result"
    },
    {
     "data": {
      "text/plain": [
       "[<matplotlib.lines.Line2D at 0x263879213a0>]"
      ]
     },
     "execution_count": 36,
     "metadata": {},
     "output_type": "execute_result"
    },
    {
     "data": {
      "text/plain": [
       "Text(0.5, 1.0, '서울')"
      ]
     },
     "execution_count": 36,
     "metadata": {},
     "output_type": "execute_result"
    },
    {
     "data": {
      "text/plain": [
       "([0, 1, 2, 3, 4, 5, 6, 7, 8, 9, 10, 11, 12, 13, 14, 15],\n",
       " [Text(0, 0, ''),\n",
       "  Text(0, 0, ''),\n",
       "  Text(0, 0, ''),\n",
       "  Text(0, 0, ''),\n",
       "  Text(0, 0, ''),\n",
       "  Text(0, 0, ''),\n",
       "  Text(0, 0, ''),\n",
       "  Text(0, 0, ''),\n",
       "  Text(0, 0, ''),\n",
       "  Text(0, 0, ''),\n",
       "  Text(0, 0, ''),\n",
       "  Text(0, 0, ''),\n",
       "  Text(0, 0, ''),\n",
       "  Text(0, 0, ''),\n",
       "  Text(0, 0, ''),\n",
       "  Text(0, 0, '')])"
      ]
     },
     "execution_count": 36,
     "metadata": {},
     "output_type": "execute_result"
    },
    {
     "data": {
      "text/plain": [
       "Text(0.5, 0, '일자')"
      ]
     },
     "execution_count": 36,
     "metadata": {},
     "output_type": "execute_result"
    },
    {
     "data": {
      "text/plain": [
       "Text(0, 0.5, '명')"
      ]
     },
     "execution_count": 36,
     "metadata": {},
     "output_type": "execute_result"
    },
    {
     "data": {
      "text/plain": [
       "<matplotlib.legend.Legend at 0x26387913ac0>"
      ]
     },
     "execution_count": 36,
     "metadata": {},
     "output_type": "execute_result"
    },
    {
     "data": {
      "image/png": "[encoded data removed]",
      "text/plain": [
       "<Figure size 720x720 with 1 Axes>"
      ]
     },
     "metadata": {
      "needs_background": "light"
     },
     "output_type": "display_data"
    }
   ],
   "source": [
    "plt.figure(figsize=(10,10))\n",
    "\n",
    "plt.plot(seoul_3_6['일자'], seoul_3_6['1차접종누계'], color='brown', label='1차 접종 누계')\n",
    "plt.plot(seoul_3_6['일자'], seoul_3_6['2차접종누계'], color='red', label='2차 접종 누계')\n",
    "plt.plot(seoul_3_6['일자'], seoul_3_6['주간1차접종자수'], color='blue', label='1주일 접종자수')\n",
    "plt.plot(seoul_3_6['일자'], seoul_3_6['주간2차접종자수'], color='black', label='주간2차접종자수')\n",
    "\n",
    "\n",
    "plt.title('서울')\n",
    "plt.xticks(rotation=45)\n",
    "plt.xlabel('일자')\n",
    "plt.ylabel('명')\n",
    "plt.legend(loc='best')"
   ]
  },
  {
   "cell_type": "code",
   "execution_count": 37,
   "id": "e875b7e6",
   "metadata": {},
   "outputs": [
    {
     "data": {
      "text/plain": [
       "<Figure size 720x720 with 0 Axes>"
      ]
     },
     "execution_count": 37,
     "metadata": {},
     "output_type": "execute_result"
    },
    {
     "data": {
      "text/plain": [
       "[<matplotlib.lines.Line2D at 0x2638795b430>]"
      ]
     },
     "execution_count": 37,
     "metadata": {},
     "output_type": "execute_result"
    },
    {
     "data": {
      "text/plain": [
       "[<matplotlib.lines.Line2D at 0x2638795b820>]"
      ]
     },
     "execution_count": 37,
     "metadata": {},
     "output_type": "execute_result"
    },
    {
     "data": {
      "text/plain": [
       "[<matplotlib.lines.Line2D at 0x2638795b940>]"
      ]
     },
     "execution_count": 37,
     "metadata": {},
     "output_type": "execute_result"
    },
    {
     "data": {
      "text/plain": [
       "[<matplotlib.lines.Line2D at 0x2638795beb0>]"
      ]
     },
     "execution_count": 37,
     "metadata": {},
     "output_type": "execute_result"
    },
    {
     "data": {
      "text/plain": [
       "Text(0.5, 1.0, '부산')"
      ]
     },
     "execution_count": 37,
     "metadata": {},
     "output_type": "execute_result"
    },
    {
     "data": {
      "text/plain": [
       "([0, 1, 2, 3, 4, 5, 6, 7, 8, 9, 10, 11, 12, 13, 14, 15],\n",
       " [Text(0, 0, ''),\n",
       "  Text(0, 0, ''),\n",
       "  Text(0, 0, ''),\n",
       "  Text(0, 0, ''),\n",
       "  Text(0, 0, ''),\n",
       "  Text(0, 0, ''),\n",
       "  Text(0, 0, ''),\n",
       "  Text(0, 0, ''),\n",
       "  Text(0, 0, ''),\n",
       "  Text(0, 0, ''),\n",
       "  Text(0, 0, ''),\n",
       "  Text(0, 0, ''),\n",
       "  Text(0, 0, ''),\n",
       "  Text(0, 0, ''),\n",
       "  Text(0, 0, ''),\n",
       "  Text(0, 0, '')])"
      ]
     },
     "execution_count": 37,
     "metadata": {},
     "output_type": "execute_result"
    },
    {
     "data": {
      "text/plain": [
       "Text(0.5, 0, '일자')"
      ]
     },
     "execution_count": 37,
     "metadata": {},
     "output_type": "execute_result"
    },
    {
     "data": {
      "text/plain": [
       "Text(0, 0.5, '명')"
      ]
     },
     "execution_count": 37,
     "metadata": {},
     "output_type": "execute_result"
    },
    {
     "data": {
      "text/plain": [
       "<matplotlib.legend.Legend at 0x2638795bcd0>"
      ]
     },
     "execution_count": 37,
     "metadata": {},
     "output_type": "execute_result"
    },
    {
     "data": {
      "image/png": "[encoded data removed]",
      "text/plain": [
       "<Figure size 720x720 with 1 Axes>"
      ]
     },
     "metadata": {
      "needs_background": "light"
     },
     "output_type": "display_data"
    }
   ],
   "source": [
    "plt.figure(figsize=(10,10))\n",
    "\n",
    "plt.plot(busan_3_6['일자'], busan_3_6['1차접종누계'], color='brown', label='1차 접종 누계')\n",
    "plt.plot(busan_3_6['일자'], busan_3_6['2차접종누계'], color='red', label='2차 접종 누계')\n",
    "plt.plot(busan_3_6['일자'], busan_3_6['주간1차접종자수'], color='blue', label='1주일 접종자수')\n",
    "plt.plot(busan_3_6['일자'], busan_3_6['주간2차접종자수'], color='black', label='주간2차접종자수')\n",
    "\n",
    "\n",
    "plt.title('부산')\n",
    "plt.xticks(rotation=45)\n",
    "plt.xlabel('일자')\n",
    "plt.ylabel('명')\n",
    "plt.legend(loc='best')"
   ]
  },
  {
   "cell_type": "code",
   "execution_count": 38,
   "id": "4763e8c2",
   "metadata": {},
   "outputs": [
    {
     "data": {
      "text/plain": [
       "<Figure size 720x720 with 0 Axes>"
      ]
     },
     "execution_count": 38,
     "metadata": {},
     "output_type": "execute_result"
    },
    {
     "data": {
      "text/plain": [
       "[<matplotlib.lines.Line2D at 0x26387d2af40>]"
      ]
     },
     "execution_count": 38,
     "metadata": {},
     "output_type": "execute_result"
    },
    {
     "data": {
      "text/plain": [
       "[<matplotlib.lines.Line2D at 0x26387d373d0>]"
      ]
     },
     "execution_count": 38,
     "metadata": {},
     "output_type": "execute_result"
    },
    {
     "data": {
      "text/plain": [
       "[<matplotlib.lines.Line2D at 0x26387d37790>]"
      ]
     },
     "execution_count": 38,
     "metadata": {},
     "output_type": "execute_result"
    },
    {
     "data": {
      "text/plain": [
       "[<matplotlib.lines.Line2D at 0x26387d37820>]"
      ]
     },
     "execution_count": 38,
     "metadata": {},
     "output_type": "execute_result"
    },
    {
     "data": {
      "text/plain": [
       "Text(0.5, 1.0, '대구')"
      ]
     },
     "execution_count": 38,
     "metadata": {},
     "output_type": "execute_result"
    },
    {
     "data": {
      "text/plain": [
       "([0, 1, 2, 3, 4, 5, 6, 7, 8, 9, 10, 11, 12, 13, 14, 15],\n",
       " [Text(0, 0, ''),\n",
       "  Text(0, 0, ''),\n",
       "  Text(0, 0, ''),\n",
       "  Text(0, 0, ''),\n",
       "  Text(0, 0, ''),\n",
       "  Text(0, 0, ''),\n",
       "  Text(0, 0, ''),\n",
       "  Text(0, 0, ''),\n",
       "  Text(0, 0, ''),\n",
       "  Text(0, 0, ''),\n",
       "  Text(0, 0, ''),\n",
       "  Text(0, 0, ''),\n",
       "  Text(0, 0, ''),\n",
       "  Text(0, 0, ''),\n",
       "  Text(0, 0, ''),\n",
       "  Text(0, 0, '')])"
      ]
     },
     "execution_count": 38,
     "metadata": {},
     "output_type": "execute_result"
    },
    {
     "data": {
      "text/plain": [
       "Text(0.5, 0, '일자')"
      ]
     },
     "execution_count": 38,
     "metadata": {},
     "output_type": "execute_result"
    },
    {
     "data": {
      "text/plain": [
       "Text(0, 0.5, '명')"
      ]
     },
     "execution_count": 38,
     "metadata": {},
     "output_type": "execute_result"
    },
    {
     "data": {
      "text/plain": [
       "<matplotlib.legend.Legend at 0x26387d51070>"
      ]
     },
     "execution_count": 38,
     "metadata": {},
     "output_type": "execute_result"
    },
    {
     "data": {
      "image/png": "[encoded data removed]",
      "text/plain": [
       "<Figure size 720x720 with 1 Axes>"
      ]
     },
     "metadata": {
      "needs_background": "light"
     },
     "output_type": "display_data"
    }
   ],
   "source": [
    "plt.figure(figsize=(10,10))\n",
    "\n",
    "plt.plot(daegu_3_6['일자'], daegu_3_6['1차접종누계'], color='brown', label='1차 접종 누계')\n",
    "plt.plot(daegu_3_6['일자'], daegu_3_6['2차접종누계'], color='red', label='2차 접종 누계')\n",
    "plt.plot(daegu_3_6['일자'], daegu_3_6['주간1차접종자수'], color='blue', label='주간1차접종자수')\n",
    "plt.plot(daegu_3_6['일자'], daegu_3_6['주간2차접종자수'], color='black', label='주간2차접종자수')\n",
    "\n",
    "plt.title('대구')\n",
    "plt.xticks(rotation=45)\n",
    "plt.xlabel('일자')\n",
    "plt.ylabel('명')\n",
    "plt.legend(loc='best')"
   ]
  },
  {
   "cell_type": "code",
   "execution_count": 41,
   "id": "dc540ed9",
   "metadata": {},
   "outputs": [],
   "source": [
    "df_s = pd.DataFrame(seoul_3_6)\n",
    "df_b = pd.DataFrame(busan_3_6)\n",
    "df_d = pd.DataFrame(daegu_3_6)"
   ]
  },
  {
   "cell_type": "code",
   "execution_count": 47,
   "id": "99ba737c",
   "metadata": {
    "scrolled": false
   },
   "outputs": [
    {
     "data": {
      "text/html": [
       "<div>\n",
       "<style scoped>\n",
       "    .dataframe tbody tr th:only-of-type {\n",
       "        vertical-align: middle;\n",
       "    }\n",
       "\n",
       "    .dataframe tbody tr th {\n",
       "        vertical-align: top;\n",
       "    }\n",
       "\n",
       "    .dataframe thead th {\n",
       "        text-align: right;\n",
       "    }\n",
       "</style>\n",
       "<table border=\"1\" class=\"dataframe\">\n",
       "  <thead>\n",
       "    <tr style=\"text-align: right;\">\n",
       "      <th></th>\n",
       "      <th>일자</th>\n",
       "      <th>1차접종누계</th>\n",
       "      <th>2차접종누계</th>\n",
       "      <th>주간1차접종자수</th>\n",
       "      <th>주간2차접종자수</th>\n",
       "    </tr>\n",
       "  </thead>\n",
       "  <tbody>\n",
       "    <tr>\n",
       "      <th>0</th>\n",
       "      <td>20210318</td>\n",
       "      <td>109536</td>\n",
       "      <td>0</td>\n",
       "      <td>35709</td>\n",
       "      <td>0</td>\n",
       "    </tr>\n",
       "    <tr>\n",
       "      <th>1</th>\n",
       "      <td>20210325</td>\n",
       "      <td>122249</td>\n",
       "      <td>1725</td>\n",
       "      <td>12713</td>\n",
       "      <td>1725</td>\n",
       "    </tr>\n",
       "    <tr>\n",
       "      <th>2</th>\n",
       "      <td>20210401</td>\n",
       "      <td>141584</td>\n",
       "      <td>6227</td>\n",
       "      <td>19335</td>\n",
       "      <td>4502</td>\n",
       "    </tr>\n",
       "    <tr>\n",
       "      <th>3</th>\n",
       "      <td>20210408</td>\n",
       "      <td>166563</td>\n",
       "      <td>12397</td>\n",
       "      <td>24979</td>\n",
       "      <td>6170</td>\n",
       "    </tr>\n",
       "    <tr>\n",
       "      <th>4</th>\n",
       "      <td>20210415</td>\n",
       "      <td>195071</td>\n",
       "      <td>13502</td>\n",
       "      <td>28508</td>\n",
       "      <td>1105</td>\n",
       "    </tr>\n",
       "    <tr>\n",
       "      <th>5</th>\n",
       "      <td>20210422</td>\n",
       "      <td>294555</td>\n",
       "      <td>13543</td>\n",
       "      <td>99484</td>\n",
       "      <td>41</td>\n",
       "    </tr>\n",
       "    <tr>\n",
       "      <th>6</th>\n",
       "      <td>20210429</td>\n",
       "      <td>438269</td>\n",
       "      <td>27699</td>\n",
       "      <td>143714</td>\n",
       "      <td>14156</td>\n",
       "    </tr>\n",
       "    <tr>\n",
       "      <th>7</th>\n",
       "      <td>20210506</td>\n",
       "      <td>563044</td>\n",
       "      <td>47940</td>\n",
       "      <td>124775</td>\n",
       "      <td>20241</td>\n",
       "    </tr>\n",
       "    <tr>\n",
       "      <th>8</th>\n",
       "      <td>20210513</td>\n",
       "      <td>600548</td>\n",
       "      <td>112781</td>\n",
       "      <td>37504</td>\n",
       "      <td>64841</td>\n",
       "    </tr>\n",
       "    <tr>\n",
       "      <th>9</th>\n",
       "      <td>20210520</td>\n",
       "      <td>616705</td>\n",
       "      <td>175445</td>\n",
       "      <td>16157</td>\n",
       "      <td>62664</td>\n",
       "    </tr>\n",
       "    <tr>\n",
       "      <th>10</th>\n",
       "      <td>20210527</td>\n",
       "      <td>650432</td>\n",
       "      <td>291118</td>\n",
       "      <td>33727</td>\n",
       "      <td>115673</td>\n",
       "    </tr>\n",
       "    <tr>\n",
       "      <th>11</th>\n",
       "      <td>20210603</td>\n",
       "      <td>1165736</td>\n",
       "      <td>346936</td>\n",
       "      <td>515304</td>\n",
       "      <td>55818</td>\n",
       "    </tr>\n",
       "    <tr>\n",
       "      <th>12</th>\n",
       "      <td>20210610</td>\n",
       "      <td>1746392</td>\n",
       "      <td>380200</td>\n",
       "      <td>580656</td>\n",
       "      <td>33264</td>\n",
       "    </tr>\n",
       "    <tr>\n",
       "      <th>13</th>\n",
       "      <td>20210617</td>\n",
       "      <td>2554809</td>\n",
       "      <td>685532</td>\n",
       "      <td>808417</td>\n",
       "      <td>305332</td>\n",
       "    </tr>\n",
       "    <tr>\n",
       "      <th>14</th>\n",
       "      <td>20210624</td>\n",
       "      <td>2802006</td>\n",
       "      <td>813666</td>\n",
       "      <td>247197</td>\n",
       "      <td>128134</td>\n",
       "    </tr>\n",
       "    <tr>\n",
       "      <th>15</th>\n",
       "      <td>20210630</td>\n",
       "      <td>2833050</td>\n",
       "      <td>914519</td>\n",
       "      <td>31044</td>\n",
       "      <td>100853</td>\n",
       "    </tr>\n",
       "  </tbody>\n",
       "</table>\n",
       "</div>"
      ],
      "text/plain": [
       "          일자   1차접종누계  2차접종누계  주간1차접종자수  주간2차접종자수\n",
       "0   20210318   109536       0     35709         0\n",
       "1   20210325   122249    1725     12713      1725\n",
       "2   20210401   141584    6227     19335      4502\n",
       "3   20210408   166563   12397     24979      6170\n",
       "4   20210415   195071   13502     28508      1105\n",
       "5   20210422   294555   13543     99484        41\n",
       "6   20210429   438269   27699    143714     14156\n",
       "7   20210506   563044   47940    124775     20241\n",
       "8   20210513   600548  112781     37504     64841\n",
       "9   20210520   616705  175445     16157     62664\n",
       "10  20210527   650432  291118     33727    115673\n",
       "11  20210603  1165736  346936    515304     55818\n",
       "12  20210610  1746392  380200    580656     33264\n",
       "13  20210617  2554809  685532    808417    305332\n",
       "14  20210624  2802006  813666    247197    128134\n",
       "15  20210630  2833050  914519     31044    100853"
      ]
     },
     "execution_count": 47,
     "metadata": {},
     "output_type": "execute_result"
    },
    {
     "data": {
      "text/html": [
       "<div>\n",
       "<style scoped>\n",
       "    .dataframe tbody tr th:only-of-type {\n",
       "        vertical-align: middle;\n",
       "    }\n",
       "\n",
       "    .dataframe tbody tr th {\n",
       "        vertical-align: top;\n",
       "    }\n",
       "\n",
       "    .dataframe thead th {\n",
       "        text-align: right;\n",
       "    }\n",
       "</style>\n",
       "<table border=\"1\" class=\"dataframe\">\n",
       "  <thead>\n",
       "    <tr style=\"text-align: right;\">\n",
       "      <th></th>\n",
       "      <th>일자</th>\n",
       "      <th>1차접종누계</th>\n",
       "      <th>2차접종누계</th>\n",
       "      <th>주간1차접종자수</th>\n",
       "      <th>주간2차접종자수</th>\n",
       "    </tr>\n",
       "  </thead>\n",
       "  <tbody>\n",
       "    <tr>\n",
       "      <th>0</th>\n",
       "      <td>20210314</td>\n",
       "      <td>45868</td>\n",
       "      <td>0</td>\n",
       "      <td>10943</td>\n",
       "      <td>0</td>\n",
       "    </tr>\n",
       "    <tr>\n",
       "      <th>1</th>\n",
       "      <td>20210318</td>\n",
       "      <td>50988</td>\n",
       "      <td>0</td>\n",
       "      <td>5120</td>\n",
       "      <td>0</td>\n",
       "    </tr>\n",
       "    <tr>\n",
       "      <th>2</th>\n",
       "      <td>20210401</td>\n",
       "      <td>73571</td>\n",
       "      <td>245</td>\n",
       "      <td>22583</td>\n",
       "      <td>245</td>\n",
       "    </tr>\n",
       "    <tr>\n",
       "      <th>3</th>\n",
       "      <td>20210408</td>\n",
       "      <td>83895</td>\n",
       "      <td>2388</td>\n",
       "      <td>10324</td>\n",
       "      <td>2143</td>\n",
       "    </tr>\n",
       "    <tr>\n",
       "      <th>4</th>\n",
       "      <td>20210415</td>\n",
       "      <td>96082</td>\n",
       "      <td>4161</td>\n",
       "      <td>12187</td>\n",
       "      <td>1773</td>\n",
       "    </tr>\n",
       "    <tr>\n",
       "      <th>5</th>\n",
       "      <td>20210422</td>\n",
       "      <td>121702</td>\n",
       "      <td>4161</td>\n",
       "      <td>25620</td>\n",
       "      <td>0</td>\n",
       "    </tr>\n",
       "    <tr>\n",
       "      <th>6</th>\n",
       "      <td>20210429</td>\n",
       "      <td>174943</td>\n",
       "      <td>8592</td>\n",
       "      <td>53241</td>\n",
       "      <td>4431</td>\n",
       "    </tr>\n",
       "    <tr>\n",
       "      <th>7</th>\n",
       "      <td>20210506</td>\n",
       "      <td>223997</td>\n",
       "      <td>18249</td>\n",
       "      <td>49054</td>\n",
       "      <td>9657</td>\n",
       "    </tr>\n",
       "    <tr>\n",
       "      <th>8</th>\n",
       "      <td>20210513</td>\n",
       "      <td>231495</td>\n",
       "      <td>32353</td>\n",
       "      <td>7498</td>\n",
       "      <td>14104</td>\n",
       "    </tr>\n",
       "    <tr>\n",
       "      <th>9</th>\n",
       "      <td>20210520</td>\n",
       "      <td>233540</td>\n",
       "      <td>60033</td>\n",
       "      <td>2045</td>\n",
       "      <td>27680</td>\n",
       "    </tr>\n",
       "    <tr>\n",
       "      <th>10</th>\n",
       "      <td>20210527</td>\n",
       "      <td>254350</td>\n",
       "      <td>118935</td>\n",
       "      <td>20810</td>\n",
       "      <td>58902</td>\n",
       "    </tr>\n",
       "    <tr>\n",
       "      <th>11</th>\n",
       "      <td>20210603</td>\n",
       "      <td>470503</td>\n",
       "      <td>132160</td>\n",
       "      <td>216153</td>\n",
       "      <td>13225</td>\n",
       "    </tr>\n",
       "    <tr>\n",
       "      <th>12</th>\n",
       "      <td>20210610</td>\n",
       "      <td>713446</td>\n",
       "      <td>141696</td>\n",
       "      <td>242943</td>\n",
       "      <td>9536</td>\n",
       "    </tr>\n",
       "    <tr>\n",
       "      <th>13</th>\n",
       "      <td>20210617</td>\n",
       "      <td>996171</td>\n",
       "      <td>230090</td>\n",
       "      <td>282725</td>\n",
       "      <td>88394</td>\n",
       "    </tr>\n",
       "    <tr>\n",
       "      <th>14</th>\n",
       "      <td>20210624</td>\n",
       "      <td>1089840</td>\n",
       "      <td>285163</td>\n",
       "      <td>93669</td>\n",
       "      <td>55073</td>\n",
       "    </tr>\n",
       "    <tr>\n",
       "      <th>15</th>\n",
       "      <td>20210630</td>\n",
       "      <td>1100426</td>\n",
       "      <td>326829</td>\n",
       "      <td>10586</td>\n",
       "      <td>41666</td>\n",
       "    </tr>\n",
       "  </tbody>\n",
       "</table>\n",
       "</div>"
      ],
      "text/plain": [
       "          일자   1차접종누계  2차접종누계  주간1차접종자수  주간2차접종자수\n",
       "0   20210314    45868       0     10943         0\n",
       "1   20210318    50988       0      5120         0\n",
       "2   20210401    73571     245     22583       245\n",
       "3   20210408    83895    2388     10324      2143\n",
       "4   20210415    96082    4161     12187      1773\n",
       "5   20210422   121702    4161     25620         0\n",
       "6   20210429   174943    8592     53241      4431\n",
       "7   20210506   223997   18249     49054      9657\n",
       "8   20210513   231495   32353      7498     14104\n",
       "9   20210520   233540   60033      2045     27680\n",
       "10  20210527   254350  118935     20810     58902\n",
       "11  20210603   470503  132160    216153     13225\n",
       "12  20210610   713446  141696    242943      9536\n",
       "13  20210617   996171  230090    282725     88394\n",
       "14  20210624  1089840  285163     93669     55073\n",
       "15  20210630  1100426  326829     10586     41666"
      ]
     },
     "execution_count": 47,
     "metadata": {},
     "output_type": "execute_result"
    },
    {
     "data": {
      "text/html": [
       "<div>\n",
       "<style scoped>\n",
       "    .dataframe tbody tr th:only-of-type {\n",
       "        vertical-align: middle;\n",
       "    }\n",
       "\n",
       "    .dataframe tbody tr th {\n",
       "        vertical-align: top;\n",
       "    }\n",
       "\n",
       "    .dataframe thead th {\n",
       "        text-align: right;\n",
       "    }\n",
       "</style>\n",
       "<table border=\"1\" class=\"dataframe\">\n",
       "  <thead>\n",
       "    <tr style=\"text-align: right;\">\n",
       "      <th></th>\n",
       "      <th>일자</th>\n",
       "      <th>1차접종누계</th>\n",
       "      <th>2차접종누계</th>\n",
       "      <th>주간1차접종자수</th>\n",
       "      <th>주간2차접종자수</th>\n",
       "    </tr>\n",
       "  </thead>\n",
       "  <tbody>\n",
       "    <tr>\n",
       "      <th>0</th>\n",
       "      <td>20210318</td>\n",
       "      <td>31140</td>\n",
       "      <td>0</td>\n",
       "      <td>5729</td>\n",
       "      <td>0</td>\n",
       "    </tr>\n",
       "    <tr>\n",
       "      <th>1</th>\n",
       "      <td>20210325</td>\n",
       "      <td>35268</td>\n",
       "      <td>217</td>\n",
       "      <td>4128</td>\n",
       "      <td>217</td>\n",
       "    </tr>\n",
       "    <tr>\n",
       "      <th>2</th>\n",
       "      <td>20210401</td>\n",
       "      <td>40298</td>\n",
       "      <td>659</td>\n",
       "      <td>5030</td>\n",
       "      <td>442</td>\n",
       "    </tr>\n",
       "    <tr>\n",
       "      <th>3</th>\n",
       "      <td>20210408</td>\n",
       "      <td>46922</td>\n",
       "      <td>1387</td>\n",
       "      <td>6624</td>\n",
       "      <td>728</td>\n",
       "    </tr>\n",
       "    <tr>\n",
       "      <th>4</th>\n",
       "      <td>20210415</td>\n",
       "      <td>56430</td>\n",
       "      <td>2946</td>\n",
       "      <td>9508</td>\n",
       "      <td>1559</td>\n",
       "    </tr>\n",
       "    <tr>\n",
       "      <th>5</th>\n",
       "      <td>20210422</td>\n",
       "      <td>78721</td>\n",
       "      <td>2946</td>\n",
       "      <td>22291</td>\n",
       "      <td>0</td>\n",
       "    </tr>\n",
       "    <tr>\n",
       "      <th>6</th>\n",
       "      <td>20210429</td>\n",
       "      <td>117794</td>\n",
       "      <td>5637</td>\n",
       "      <td>39073</td>\n",
       "      <td>2691</td>\n",
       "    </tr>\n",
       "    <tr>\n",
       "      <th>7</th>\n",
       "      <td>20210506</td>\n",
       "      <td>151913</td>\n",
       "      <td>13251</td>\n",
       "      <td>34119</td>\n",
       "      <td>7614</td>\n",
       "    </tr>\n",
       "    <tr>\n",
       "      <th>8</th>\n",
       "      <td>20210513</td>\n",
       "      <td>157874</td>\n",
       "      <td>27705</td>\n",
       "      <td>5961</td>\n",
       "      <td>14454</td>\n",
       "    </tr>\n",
       "    <tr>\n",
       "      <th>9</th>\n",
       "      <td>20210520</td>\n",
       "      <td>158351</td>\n",
       "      <td>51465</td>\n",
       "      <td>477</td>\n",
       "      <td>23760</td>\n",
       "    </tr>\n",
       "    <tr>\n",
       "      <th>10</th>\n",
       "      <td>20210527</td>\n",
       "      <td>167685</td>\n",
       "      <td>86997</td>\n",
       "      <td>9334</td>\n",
       "      <td>35532</td>\n",
       "    </tr>\n",
       "    <tr>\n",
       "      <th>11</th>\n",
       "      <td>20210603</td>\n",
       "      <td>274006</td>\n",
       "      <td>99038</td>\n",
       "      <td>106321</td>\n",
       "      <td>12041</td>\n",
       "    </tr>\n",
       "    <tr>\n",
       "      <th>12</th>\n",
       "      <td>20210610</td>\n",
       "      <td>402177</td>\n",
       "      <td>102403</td>\n",
       "      <td>128171</td>\n",
       "      <td>3365</td>\n",
       "    </tr>\n",
       "    <tr>\n",
       "      <th>13</th>\n",
       "      <td>20210617</td>\n",
       "      <td>582909</td>\n",
       "      <td>153267</td>\n",
       "      <td>180732</td>\n",
       "      <td>50864</td>\n",
       "    </tr>\n",
       "    <tr>\n",
       "      <th>14</th>\n",
       "      <td>20210624</td>\n",
       "      <td>641113</td>\n",
       "      <td>181795</td>\n",
       "      <td>58204</td>\n",
       "      <td>28528</td>\n",
       "    </tr>\n",
       "    <tr>\n",
       "      <th>15</th>\n",
       "      <td>20210630</td>\n",
       "      <td>651187</td>\n",
       "      <td>203101</td>\n",
       "      <td>10074</td>\n",
       "      <td>21306</td>\n",
       "    </tr>\n",
       "  </tbody>\n",
       "</table>\n",
       "</div>"
      ],
      "text/plain": [
       "          일자  1차접종누계  2차접종누계  주간1차접종자수  주간2차접종자수\n",
       "0   20210318   31140       0      5729         0\n",
       "1   20210325   35268     217      4128       217\n",
       "2   20210401   40298     659      5030       442\n",
       "3   20210408   46922    1387      6624       728\n",
       "4   20210415   56430    2946      9508      1559\n",
       "5   20210422   78721    2946     22291         0\n",
       "6   20210429  117794    5637     39073      2691\n",
       "7   20210506  151913   13251     34119      7614\n",
       "8   20210513  157874   27705      5961     14454\n",
       "9   20210520  158351   51465       477     23760\n",
       "10  20210527  167685   86997      9334     35532\n",
       "11  20210603  274006   99038    106321     12041\n",
       "12  20210610  402177  102403    128171      3365\n",
       "13  20210617  582909  153267    180732     50864\n",
       "14  20210624  641113  181795     58204     28528\n",
       "15  20210630  651187  203101     10074     21306"
      ]
     },
     "execution_count": 47,
     "metadata": {},
     "output_type": "execute_result"
    }
   ],
   "source": [
    "df_s \n",
    "df_b\n",
    "df_d"
   ]
  },
  {
   "cell_type": "code",
   "execution_count": 48,
   "id": "f2b14f9e",
   "metadata": {},
   "outputs": [],
   "source": [
    "df_s.to_csv('./vc_result/서울주간백신정보.csv')\n",
    "df_b.to_csv('./vc_result/부산주간백신정보.csv')\n",
    "df_d.to_csv('./vc_result/대구주간백신정보.csv')"
   ]
  },
  {
   "cell_type": "code",
   "execution_count": null,
   "id": "4ae29e1a",
   "metadata": {},
   "outputs": [],
   "source": []
  }
 ],
 "metadata": {
  "kernelspec": {
   "display_name": "Python 3",
   "language": "python",
   "name": "python3"
  },
  "language_info": {
   "codemirror_mode": {
    "name": "ipython",
    "version": 3
   },
   "file_extension": ".py",
   "mimetype": "text/x-python",
   "name": "python",
   "nbconvert_exporter": "python",
   "pygments_lexer": "ipython3",
   "version": "3.8.8"
  }
 },
 "nbformat": 4,
 "nbformat_minor": 5
}
