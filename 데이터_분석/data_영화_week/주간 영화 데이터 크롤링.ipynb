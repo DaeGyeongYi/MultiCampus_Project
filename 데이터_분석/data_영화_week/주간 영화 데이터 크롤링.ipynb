{
 "cells": [
  {
   "cell_type": "code",
   "execution_count": 77,
   "id": "b398ccee",
   "metadata": {},
   "outputs": [],
   "source": [
    "import time\n",
    "import pandas as pd\n",
    "from selenium import webdriver\n",
    "from selenium.webdriver.support.wait import WebDriverWait\n",
    "\n",
    "from IPython.core.interactiveshell import InteractiveShell\n",
    "InteractiveShell.ast_node_interactivity = \"all\""
   ]
  },
  {
   "cell_type": "code",
   "execution_count": 92,
   "id": "b3a46658",
   "metadata": {},
   "outputs": [
    {
     "data": {
      "text/plain": [
       "DatetimeIndex(['2020-08-16', '2020-08-23', '2020-08-30', '2020-09-06',\n",
       "               '2020-09-13', '2020-09-20', '2020-09-27', '2020-10-04',\n",
       "               '2020-10-11', '2020-10-18', '2020-10-25', '2020-11-01',\n",
       "               '2020-11-08', '2020-11-15', '2020-11-22', '2020-11-29',\n",
       "               '2020-12-06', '2020-12-13', '2020-12-20'],\n",
       "              dtype='datetime64[ns]', freq='7D')"
      ]
     },
     "execution_count": 92,
     "metadata": {},
     "output_type": "execute_result"
    },
    {
     "data": {
      "text/plain": [
       "['2020-08-16',\n",
       " '2020-08-23',\n",
       " '2020-08-30',\n",
       " '2020-09-06',\n",
       " '2020-09-13',\n",
       " '2020-09-20',\n",
       " '2020-09-27',\n",
       " '2020-10-04',\n",
       " '2020-10-11',\n",
       " '2020-10-18',\n",
       " '2020-10-25',\n",
       " '2020-11-01',\n",
       " '2020-11-08',\n",
       " '2020-11-15',\n",
       " '2020-11-22',\n",
       " '2020-11-29',\n",
       " '2020-12-06',\n",
       " '2020-12-13',\n",
       " '2020-12-20']"
      ]
     },
     "execution_count": 92,
     "metadata": {},
     "output_type": "execute_result"
    }
   ],
   "source": [
    "sdate_range=pd.date_range('2020-08-16','2020-08-30',freq = '7D') #real : 2020-12-26\n",
    "sdate_range\n",
    "\n",
    "sdate_range=pd.Series(sdate_range.format())\n",
    "list(sdate_range)"
   ]
  },
  {
   "cell_type": "code",
   "execution_count": 93,
   "id": "da764959",
   "metadata": {},
   "outputs": [
    {
     "data": {
      "text/plain": [
       "DatetimeIndex(['2020-08-22', '2020-08-29', '2020-09-05', '2020-09-12',\n",
       "               '2020-09-19', '2020-09-26', '2020-10-03', '2020-10-10',\n",
       "               '2020-10-17', '2020-10-24', '2020-10-31', '2020-11-07',\n",
       "               '2020-11-14', '2020-11-21', '2020-11-28', '2020-12-05',\n",
       "               '2020-12-12', '2020-12-19', '2020-12-26'],\n",
       "              dtype='datetime64[ns]', freq='7D')"
      ]
     },
     "execution_count": 93,
     "metadata": {},
     "output_type": "execute_result"
    },
    {
     "data": {
      "text/plain": [
       "['2020-08-22',\n",
       " '2020-08-29',\n",
       " '2020-09-05',\n",
       " '2020-09-12',\n",
       " '2020-09-19',\n",
       " '2020-09-26',\n",
       " '2020-10-03',\n",
       " '2020-10-10',\n",
       " '2020-10-17',\n",
       " '2020-10-24',\n",
       " '2020-10-31',\n",
       " '2020-11-07',\n",
       " '2020-11-14',\n",
       " '2020-11-21',\n",
       " '2020-11-28',\n",
       " '2020-12-05',\n",
       " '2020-12-12',\n",
       " '2020-12-19',\n",
       " '2020-12-26']"
      ]
     },
     "execution_count": 93,
     "metadata": {},
     "output_type": "execute_result"
    }
   ],
   "source": [
    "edate_range=pd.date_range('2020-08-22','2020-09-05',freq = '7D') #real :   2020-12-31\n",
    "edate_range\n",
    "\n",
    "edate_range=pd.Series(edate_range.format())\n",
    "list(edate_range)"
   ]
  },
  {
   "cell_type": "code",
   "execution_count": 94,
   "id": "ad8a0c46",
   "metadata": {},
   "outputs": [
    {
     "data": {
      "text/plain": [
       "[('2020-08-16', '2020-08-22'),\n",
       " ('2020-08-23', '2020-08-29'),\n",
       " ('2020-08-30', '2020-09-05'),\n",
       " ('2020-09-06', '2020-09-12'),\n",
       " ('2020-09-13', '2020-09-19'),\n",
       " ('2020-09-20', '2020-09-26'),\n",
       " ('2020-09-27', '2020-10-03'),\n",
       " ('2020-10-04', '2020-10-10'),\n",
       " ('2020-10-11', '2020-10-17'),\n",
       " ('2020-10-18', '2020-10-24'),\n",
       " ('2020-10-25', '2020-10-31'),\n",
       " ('2020-11-01', '2020-11-07'),\n",
       " ('2020-11-08', '2020-11-14'),\n",
       " ('2020-11-15', '2020-11-21'),\n",
       " ('2020-11-22', '2020-11-28'),\n",
       " ('2020-11-29', '2020-12-05'),\n",
       " ('2020-12-06', '2020-12-12'),\n",
       " ('2020-12-13', '2020-12-19'),\n",
       " ('2020-12-20', '2020-12-26')]"
      ]
     },
     "execution_count": 94,
     "metadata": {},
     "output_type": "execute_result"
    }
   ],
   "source": [
    "date_range = list(zip(sdate_range,edate_range))\n",
    "date_range"
   ]
  },
  {
   "cell_type": "code",
   "execution_count": 91,
   "id": "9d785c4a",
   "metadata": {},
   "outputs": [],
   "source": [
    "for start,end in date_range:\n",
    "    browser = webdriver.Chrome(\"./chromedriver.exe\")\n",
    "    browser.get(\"https://www.kobis.or.kr/kobis/business/stat/them/findAreaShareList.do\")\n",
    "    #browser\n",
    "    \n",
    "    # 시작날짜 변경\n",
    "    sdate_element = browser.find_element_by_name(\"sSearchFrom\")\n",
    "    sdate_element.clear()\n",
    "    sdate_element.send_keys(start)\n",
    "    \n",
    "    # 끝날짜 변경 \n",
    "    edate_element = browser.find_element_by_name(\"sSearchTo\")\n",
    "    edate_element.clear()\n",
    "    edate_element.send_keys(end)\n",
    "    \n",
    "    # 조회선택\n",
    "    search_button = browser.find_element_by_xpath('//*[@id=\"searchForm\"]/div/div[2]')\n",
    "    search_button.click()\n",
    "    \n",
    "    # 엑셀 다운로드\n",
    "    excel_button = browser.find_element_by_xpath('//*[@id=\"content\"]/div[3]/div/a')\n",
    "    excel_button.click()\n",
    "    \n",
    "    \n",
    "# date_range 에 들어가지 않는 날짜범위(구간이 7일이 아닌 경우) 는 직접: 2020-12-27 ~ 2020-12-31"
   ]
  },
  {
   "cell_type": "code",
   "execution_count": null,
   "id": "01fdca1e",
   "metadata": {},
   "outputs": [],
   "source": []
  },
  {
   "cell_type": "code",
   "execution_count": null,
   "id": "ace904ab",
   "metadata": {},
   "outputs": [],
   "source": []
  },
  {
   "cell_type": "code",
   "execution_count": 54,
   "id": "89f98361",
   "metadata": {},
   "outputs": [],
   "source": [
    "browser = webdriver.Chrome(\"./chromedriver.exe\")\n",
    "browser.get(\"https://www.kobis.or.kr/kobis/business/stat/them/findAreaShareList.do\")\n",
    "#browser\""
   ]
  },
  {
   "cell_type": "code",
   "execution_count": 51,
   "id": "6c43f14d",
   "metadata": {},
   "outputs": [],
   "source": [
    "# 시작날짜 변경\n",
    "# copy element : <input type=\"text\" id=\"sSearchFrom\" name=\"sSearchFrom\" class=\"tf tf_cal hasDatepicker\" value=\"2021-08-09\" autocomplete=\"off\">\n",
    "sdate_element = browser.find_element_by_name(\"sSearchFrom\")\n",
    "sdate_element.clear()\n",
    "sdate_element.send_keys(\"2020-08-16\")"
   ]
  },
  {
   "cell_type": "code",
   "execution_count": 52,
   "id": "f6a67be1",
   "metadata": {},
   "outputs": [],
   "source": [
    "# 끝날짜 변경 \n",
    "# copy element : <input type=\"text\" id=\"sSearchTo\" name=\"sSearchTo\" class=\"tf tf_cal hasDatepicker\" value=\"2021-08-15\" autocomplete=\"off\">\n",
    "edate_element = browser.find_element_by_name(\"sSearchTo\")\n",
    "edate_element.clear()\n",
    "edate_element.send_keys(\"2020-08-22\")"
   ]
  },
  {
   "cell_type": "code",
   "execution_count": 53,
   "id": "e5dcbca5",
   "metadata": {},
   "outputs": [],
   "source": [
    "# 조회 선택 \n",
    "# copy Xpath : //*[@id=\"searchForm\"]/div/div[2]/button\n",
    "search_button = browser.find_element_by_xpath('//*[@id=\"searchForm\"]/div/div[2]')\n",
    "search_button.click()"
   ]
  },
  {
   "cell_type": "code",
   "execution_count": 59,
   "id": "bc303e88",
   "metadata": {},
   "outputs": [],
   "source": [
    "# 엑셀 다운선택 \n",
    "# copy Xpath : //*[@id=\"content\"]/div[3]/div/a\n",
    "excel_button = browser.find_element_by_xpath('//*[@id=\"content\"]/div[3]/div/a')\n",
    "excel_button.click()"
   ]
  },
  {
   "cell_type": "code",
   "execution_count": 58,
   "id": "fa798045",
   "metadata": {},
   "outputs": [
    {
     "data": {
      "text/plain": [
       "<selenium.webdriver.remote.webelement.WebElement (session=\"7c8263aa9be713842682049de761e466\", element=\"4324e43a-df0a-4d7d-af8a-9dc05a850fd2\")>"
      ]
     },
     "execution_count": 58,
     "metadata": {},
     "output_type": "execute_result"
    }
   ],
   "source": [
    "# copy table Xpath : //*[@id=\"content\"]/div[4]/table/tbody\n",
    "# copy seletor : content > div.rst_sch > table > tbody\n",
    "kyonggi = browser.find_element_by_xpath('//*[@id=\"content\"]/div[4]/table/tbody')\n",
    "kyonggi"
   ]
  },
  {
   "cell_type": "code",
   "execution_count": null,
   "id": "c4186a64",
   "metadata": {},
   "outputs": [],
   "source": []
  }
 ],
 "metadata": {
  "kernelspec": {
   "display_name": "Python 3 (ipykernel)",
   "language": "python",
   "name": "python3"
  },
  "language_info": {
   "codemirror_mode": {
    "name": "ipython",
    "version": 3
   },
   "file_extension": ".py",
   "mimetype": "text/x-python",
   "name": "python",
   "nbconvert_exporter": "python",
   "pygments_lexer": "ipython3",
   "version": "3.8.7"
  }
 },
 "nbformat": 4,
 "nbformat_minor": 5
}
