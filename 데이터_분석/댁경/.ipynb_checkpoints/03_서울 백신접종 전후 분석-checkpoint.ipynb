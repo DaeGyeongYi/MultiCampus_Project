{
 "cells": [
  {
   "cell_type": "code",
   "execution_count": 1,
   "id": "a0b142f9",
   "metadata": {},
   "outputs": [],
   "source": [
    "import pandas as pd\n",
    "import numpy as np\n",
    "import seaborn as sns\n",
    "import matplotlib.pyplot as plt\n",
    "%matplotlib inline\n",
    "import warnings \n",
    "warnings.filterwarnings('ignore')\n",
    "from IPython.core.interactiveshell import InteractiveShell\n",
    "InteractiveShell.ast_node_interactivity=\"all\" \n",
    "from datetime import datetime\n",
    "\n",
    "from scipy.stats import *\n",
    "np.set_printoptions(precision=6, suppress=True)\n"
   ]
  },
  {
   "cell_type": "code",
   "execution_count": 2,
   "id": "8dabcad2",
   "metadata": {},
   "outputs": [],
   "source": [
    "# 한글 문제\n",
    "# matplotlit의 기본 폰트에서 한글 지원되지 않기 때문에\n",
    "# matplotlib의 폰트 변경 필요\n",
    "import platform\n",
    "\n",
    "from matplotlib import font_manager, rc\n",
    "plt.rcParams['axes.unicode_minus'] = False\n",
    "\n",
    "if platform.system() == 'Windows':  # 윈도우\n",
    "    path = \"c:/Windows/Fonts/malgun.ttf\"\n",
    "    font_name = font_manager.FontProperties(fname=path).get_name()\n",
    "    rc('font', family=font_name)\n",
    "else:\n",
    "    print('Unknown system...  sorry~~~')"
   ]
  },
  {
   "cell_type": "markdown",
   "id": "dd52bbb5",
   "metadata": {},
   "source": [
    "# 1. csv 불러오기"
   ]
  },
  {
   "cell_type": "code",
   "execution_count": 3,
   "id": "084a7f41",
   "metadata": {},
   "outputs": [],
   "source": [
    "busan2020 = pd.read_csv('./movie_result/busan_movie_2020.csv',thousands=',').drop('Unnamed: 0',axis=1)\n",
    "seoul2020 = pd.read_csv('./movie_result/seoul_movie_2020.csv',thousands=',').drop('Unnamed: 0',axis=1)"
   ]
  },
  {
   "cell_type": "code",
   "execution_count": 4,
   "id": "3a24923f",
   "metadata": {},
   "outputs": [],
   "source": [
    "busan_tmp = pd.read_csv('./movie_result/2021_~02부산.csv',thousands=',').drop('Unnamed: 0',axis=1)[1:]\n",
    "seoul_tmp = pd.read_csv('./movie_result/2021_~02서울.csv',thousands=',').drop('Unnamed: 0',axis=1)[1:]"
   ]
  },
  {
   "cell_type": "code",
   "execution_count": 5,
   "id": "d8475a7e",
   "metadata": {},
   "outputs": [],
   "source": [
    "# 202008~202002 df합치기\n",
    "# busan_bv = pd.concat([busan2020,busan_tmp]).reset_index(drop=True)\n",
    "seoul_bv = pd.concat([seoul2020,seoul_tmp]).reset_index(drop=True)"
   ]
  },
  {
   "cell_type": "code",
   "execution_count": 6,
   "id": "e0c0ed19",
   "metadata": {},
   "outputs": [],
   "source": [
    "seoul_av = pd.read_csv('./movie_result/2021_03~06서울.csv',thousands=',').drop('Unnamed: 0',axis=1)[1:].reset_index(drop=True)\n",
    "avr_2019 = pd.read_csv('./movie_result/2019_평균자료_영화.csv')"
   ]
  },
  {
   "cell_type": "code",
   "execution_count": 7,
   "id": "e4a73a95",
   "metadata": {
    "scrolled": true
   },
   "outputs": [],
   "source": [
    "#string type을 datetime형으로 변환\n",
    "seoul_bv['주'] = [datetime.strptime(i,\"%Y-%m-%d\") for i in seoul_bv['주']]\n",
    "seoul_av['주'] = [datetime.strptime(i,\"%Y-%m-%d\") for i in seoul_av['주']]"
   ]
  },
  {
   "cell_type": "code",
   "execution_count": 8,
   "id": "0ad4d9a1",
   "metadata": {},
   "outputs": [
    {
     "data": {
      "text/html": [
       "<div>\n",
       "<style scoped>\n",
       "    .dataframe tbody tr th:only-of-type {\n",
       "        vertical-align: middle;\n",
       "    }\n",
       "\n",
       "    .dataframe tbody tr th {\n",
       "        vertical-align: top;\n",
       "    }\n",
       "\n",
       "    .dataframe thead th {\n",
       "        text-align: right;\n",
       "    }\n",
       "</style>\n",
       "<table border=\"1\" class=\"dataframe\">\n",
       "  <thead>\n",
       "    <tr style=\"text-align: right;\">\n",
       "      <th></th>\n",
       "      <th>지역</th>\n",
       "      <th>매출액</th>\n",
       "      <th>관객수</th>\n",
       "      <th>주</th>\n",
       "    </tr>\n",
       "  </thead>\n",
       "  <tbody>\n",
       "    <tr>\n",
       "      <th>0</th>\n",
       "      <td>서울시</td>\n",
       "      <td>3361656490</td>\n",
       "      <td>368804</td>\n",
       "      <td>2020-08-16</td>\n",
       "    </tr>\n",
       "    <tr>\n",
       "      <th>1</th>\n",
       "      <td>서울시</td>\n",
       "      <td>2189550260</td>\n",
       "      <td>247399</td>\n",
       "      <td>2020-08-23</td>\n",
       "    </tr>\n",
       "    <tr>\n",
       "      <th>2</th>\n",
       "      <td>서울시</td>\n",
       "      <td>1842116650</td>\n",
       "      <td>200100</td>\n",
       "      <td>2020-08-30</td>\n",
       "    </tr>\n",
       "    <tr>\n",
       "      <th>3</th>\n",
       "      <td>서울시</td>\n",
       "      <td>1733144880</td>\n",
       "      <td>188395</td>\n",
       "      <td>2020-09-06</td>\n",
       "    </tr>\n",
       "    <tr>\n",
       "      <th>4</th>\n",
       "      <td>서울시</td>\n",
       "      <td>1571785690</td>\n",
       "      <td>172993</td>\n",
       "      <td>2020-09-13</td>\n",
       "    </tr>\n",
       "    <tr>\n",
       "      <th>5</th>\n",
       "      <td>서울시</td>\n",
       "      <td>1686750342</td>\n",
       "      <td>194747</td>\n",
       "      <td>2020-09-20</td>\n",
       "    </tr>\n",
       "    <tr>\n",
       "      <th>6</th>\n",
       "      <td>서울시</td>\n",
       "      <td>4365204790</td>\n",
       "      <td>464557</td>\n",
       "      <td>2020-09-27</td>\n",
       "    </tr>\n",
       "    <tr>\n",
       "      <th>7</th>\n",
       "      <td>서울시</td>\n",
       "      <td>2310220710</td>\n",
       "      <td>243950</td>\n",
       "      <td>2020-10-04</td>\n",
       "    </tr>\n",
       "    <tr>\n",
       "      <th>8</th>\n",
       "      <td>서울시</td>\n",
       "      <td>1635498260</td>\n",
       "      <td>175172</td>\n",
       "      <td>2020-10-11</td>\n",
       "    </tr>\n",
       "    <tr>\n",
       "      <th>9</th>\n",
       "      <td>서울시</td>\n",
       "      <td>2051049940</td>\n",
       "      <td>235614</td>\n",
       "      <td>2020-10-18</td>\n",
       "    </tr>\n",
       "    <tr>\n",
       "      <th>10</th>\n",
       "      <td>서울시</td>\n",
       "      <td>2345716060</td>\n",
       "      <td>266763</td>\n",
       "      <td>2020-10-25</td>\n",
       "    </tr>\n",
       "    <tr>\n",
       "      <th>11</th>\n",
       "      <td>서울시</td>\n",
       "      <td>2686707390</td>\n",
       "      <td>290238</td>\n",
       "      <td>2020-11-01</td>\n",
       "    </tr>\n",
       "    <tr>\n",
       "      <th>12</th>\n",
       "      <td>서울시</td>\n",
       "      <td>2595964430</td>\n",
       "      <td>284599</td>\n",
       "      <td>2020-11-08</td>\n",
       "    </tr>\n",
       "    <tr>\n",
       "      <th>13</th>\n",
       "      <td>서울시</td>\n",
       "      <td>2087858250</td>\n",
       "      <td>229587</td>\n",
       "      <td>2020-11-15</td>\n",
       "    </tr>\n",
       "    <tr>\n",
       "      <th>14</th>\n",
       "      <td>서울시</td>\n",
       "      <td>1340672930</td>\n",
       "      <td>155879</td>\n",
       "      <td>2020-11-22</td>\n",
       "    </tr>\n",
       "    <tr>\n",
       "      <th>15</th>\n",
       "      <td>서울시</td>\n",
       "      <td>978608420</td>\n",
       "      <td>116440</td>\n",
       "      <td>2020-11-29</td>\n",
       "    </tr>\n",
       "    <tr>\n",
       "      <th>16</th>\n",
       "      <td>서울시</td>\n",
       "      <td>752040660</td>\n",
       "      <td>87820</td>\n",
       "      <td>2020-12-06</td>\n",
       "    </tr>\n",
       "    <tr>\n",
       "      <th>17</th>\n",
       "      <td>서울시</td>\n",
       "      <td>606209800</td>\n",
       "      <td>71087</td>\n",
       "      <td>2020-12-13</td>\n",
       "    </tr>\n",
       "    <tr>\n",
       "      <th>18</th>\n",
       "      <td>서울시</td>\n",
       "      <td>1249933430</td>\n",
       "      <td>141279</td>\n",
       "      <td>2020-12-20</td>\n",
       "    </tr>\n",
       "    <tr>\n",
       "      <th>19</th>\n",
       "      <td>서울시</td>\n",
       "      <td>754663270</td>\n",
       "      <td>91153</td>\n",
       "      <td>2020-12-27</td>\n",
       "    </tr>\n",
       "    <tr>\n",
       "      <th>20</th>\n",
       "      <td>서울시</td>\n",
       "      <td>446257140</td>\n",
       "      <td>50249</td>\n",
       "      <td>2021-01-08</td>\n",
       "    </tr>\n",
       "    <tr>\n",
       "      <th>21</th>\n",
       "      <td>서울시</td>\n",
       "      <td>761371720</td>\n",
       "      <td>85940</td>\n",
       "      <td>2021-01-15</td>\n",
       "    </tr>\n",
       "    <tr>\n",
       "      <th>22</th>\n",
       "      <td>서울시</td>\n",
       "      <td>2050589220</td>\n",
       "      <td>230553</td>\n",
       "      <td>2021-01-22</td>\n",
       "    </tr>\n",
       "    <tr>\n",
       "      <th>23</th>\n",
       "      <td>서울시</td>\n",
       "      <td>2287327000</td>\n",
       "      <td>246303</td>\n",
       "      <td>2021-01-29</td>\n",
       "    </tr>\n",
       "    <tr>\n",
       "      <th>24</th>\n",
       "      <td>서울시</td>\n",
       "      <td>2358611200</td>\n",
       "      <td>247998</td>\n",
       "      <td>2021-02-05</td>\n",
       "    </tr>\n",
       "    <tr>\n",
       "      <th>25</th>\n",
       "      <td>서울시</td>\n",
       "      <td>2299673230</td>\n",
       "      <td>241331</td>\n",
       "      <td>2021-02-12</td>\n",
       "    </tr>\n",
       "    <tr>\n",
       "      <th>26</th>\n",
       "      <td>서울시</td>\n",
       "      <td>1955377880</td>\n",
       "      <td>215607</td>\n",
       "      <td>2021-02-19</td>\n",
       "    </tr>\n",
       "    <tr>\n",
       "      <th>27</th>\n",
       "      <td>서울시</td>\n",
       "      <td>2226500250</td>\n",
       "      <td>242385</td>\n",
       "      <td>2021-02-26</td>\n",
       "    </tr>\n",
       "    <tr>\n",
       "      <th>28</th>\n",
       "      <td>서울시</td>\n",
       "      <td>2370034110</td>\n",
       "      <td>245237</td>\n",
       "      <td>2021-03-05</td>\n",
       "    </tr>\n",
       "  </tbody>\n",
       "</table>\n",
       "</div>"
      ],
      "text/plain": [
       "     지역         매출액     관객수          주\n",
       "0   서울시  3361656490  368804 2020-08-16\n",
       "1   서울시  2189550260  247399 2020-08-23\n",
       "2   서울시  1842116650  200100 2020-08-30\n",
       "3   서울시  1733144880  188395 2020-09-06\n",
       "4   서울시  1571785690  172993 2020-09-13\n",
       "5   서울시  1686750342  194747 2020-09-20\n",
       "6   서울시  4365204790  464557 2020-09-27\n",
       "7   서울시  2310220710  243950 2020-10-04\n",
       "8   서울시  1635498260  175172 2020-10-11\n",
       "9   서울시  2051049940  235614 2020-10-18\n",
       "10  서울시  2345716060  266763 2020-10-25\n",
       "11  서울시  2686707390  290238 2020-11-01\n",
       "12  서울시  2595964430  284599 2020-11-08\n",
       "13  서울시  2087858250  229587 2020-11-15\n",
       "14  서울시  1340672930  155879 2020-11-22\n",
       "15  서울시   978608420  116440 2020-11-29\n",
       "16  서울시   752040660   87820 2020-12-06\n",
       "17  서울시   606209800   71087 2020-12-13\n",
       "18  서울시  1249933430  141279 2020-12-20\n",
       "19  서울시   754663270   91153 2020-12-27\n",
       "20  서울시   446257140   50249 2021-01-08\n",
       "21  서울시   761371720   85940 2021-01-15\n",
       "22  서울시  2050589220  230553 2021-01-22\n",
       "23  서울시  2287327000  246303 2021-01-29\n",
       "24  서울시  2358611200  247998 2021-02-05\n",
       "25  서울시  2299673230  241331 2021-02-12\n",
       "26  서울시  1955377880  215607 2021-02-19\n",
       "27  서울시  2226500250  242385 2021-02-26\n",
       "28  서울시  2370034110  245237 2021-03-05"
      ]
     },
     "execution_count": 8,
     "metadata": {},
     "output_type": "execute_result"
    },
    {
     "data": {
      "text/html": [
       "<div>\n",
       "<style scoped>\n",
       "    .dataframe tbody tr th:only-of-type {\n",
       "        vertical-align: middle;\n",
       "    }\n",
       "\n",
       "    .dataframe tbody tr th {\n",
       "        vertical-align: top;\n",
       "    }\n",
       "\n",
       "    .dataframe thead th {\n",
       "        text-align: right;\n",
       "    }\n",
       "</style>\n",
       "<table border=\"1\" class=\"dataframe\">\n",
       "  <thead>\n",
       "    <tr style=\"text-align: right;\">\n",
       "      <th></th>\n",
       "      <th>지역</th>\n",
       "      <th>매출액</th>\n",
       "      <th>관객수</th>\n",
       "      <th>주</th>\n",
       "    </tr>\n",
       "  </thead>\n",
       "  <tbody>\n",
       "    <tr>\n",
       "      <th>0</th>\n",
       "      <td>서울시</td>\n",
       "      <td>2370034110</td>\n",
       "      <td>245237</td>\n",
       "      <td>2021-03-12</td>\n",
       "    </tr>\n",
       "    <tr>\n",
       "      <th>1</th>\n",
       "      <td>서울시</td>\n",
       "      <td>2089378170</td>\n",
       "      <td>221908</td>\n",
       "      <td>2021-03-19</td>\n",
       "    </tr>\n",
       "    <tr>\n",
       "      <th>2</th>\n",
       "      <td>서울시</td>\n",
       "      <td>2156717370</td>\n",
       "      <td>223590</td>\n",
       "      <td>2021-03-26</td>\n",
       "    </tr>\n",
       "    <tr>\n",
       "      <th>3</th>\n",
       "      <td>서울시</td>\n",
       "      <td>2394668990</td>\n",
       "      <td>261118</td>\n",
       "      <td>2021-04-02</td>\n",
       "    </tr>\n",
       "    <tr>\n",
       "      <th>4</th>\n",
       "      <td>서울시</td>\n",
       "      <td>1826626560</td>\n",
       "      <td>193633</td>\n",
       "      <td>2021-04-09</td>\n",
       "    </tr>\n",
       "    <tr>\n",
       "      <th>5</th>\n",
       "      <td>서울시</td>\n",
       "      <td>1481982720</td>\n",
       "      <td>158687</td>\n",
       "      <td>2021-04-16</td>\n",
       "    </tr>\n",
       "    <tr>\n",
       "      <th>6</th>\n",
       "      <td>서울시</td>\n",
       "      <td>1709790330</td>\n",
       "      <td>183278</td>\n",
       "      <td>2021-04-23</td>\n",
       "    </tr>\n",
       "    <tr>\n",
       "      <th>7</th>\n",
       "      <td>서울시</td>\n",
       "      <td>1796128240</td>\n",
       "      <td>207101</td>\n",
       "      <td>2021-04-30</td>\n",
       "    </tr>\n",
       "    <tr>\n",
       "      <th>8</th>\n",
       "      <td>서울시</td>\n",
       "      <td>2713673630</td>\n",
       "      <td>290264</td>\n",
       "      <td>2021-05-07</td>\n",
       "    </tr>\n",
       "    <tr>\n",
       "      <th>9</th>\n",
       "      <td>서울시</td>\n",
       "      <td>1365881880</td>\n",
       "      <td>148365</td>\n",
       "      <td>2021-05-14</td>\n",
       "    </tr>\n",
       "    <tr>\n",
       "      <th>10</th>\n",
       "      <td>서울시</td>\n",
       "      <td>2551193710</td>\n",
       "      <td>266485</td>\n",
       "      <td>2021-05-21</td>\n",
       "    </tr>\n",
       "    <tr>\n",
       "      <th>11</th>\n",
       "      <td>서울시</td>\n",
       "      <td>2886481360</td>\n",
       "      <td>310014</td>\n",
       "      <td>2021-05-28</td>\n",
       "    </tr>\n",
       "    <tr>\n",
       "      <th>12</th>\n",
       "      <td>서울시</td>\n",
       "      <td>3308331430</td>\n",
       "      <td>345848</td>\n",
       "      <td>2021-06-04</td>\n",
       "    </tr>\n",
       "    <tr>\n",
       "      <th>13</th>\n",
       "      <td>서울시</td>\n",
       "      <td>3216698320</td>\n",
       "      <td>327510</td>\n",
       "      <td>2021-06-11</td>\n",
       "    </tr>\n",
       "    <tr>\n",
       "      <th>14</th>\n",
       "      <td>서울시</td>\n",
       "      <td>3014873260</td>\n",
       "      <td>312236</td>\n",
       "      <td>2021-06-18</td>\n",
       "    </tr>\n",
       "    <tr>\n",
       "      <th>15</th>\n",
       "      <td>서울시</td>\n",
       "      <td>3675390440</td>\n",
       "      <td>377430</td>\n",
       "      <td>2021-06-25</td>\n",
       "    </tr>\n",
       "  </tbody>\n",
       "</table>\n",
       "</div>"
      ],
      "text/plain": [
       "     지역         매출액     관객수          주\n",
       "0   서울시  2370034110  245237 2021-03-12\n",
       "1   서울시  2089378170  221908 2021-03-19\n",
       "2   서울시  2156717370  223590 2021-03-26\n",
       "3   서울시  2394668990  261118 2021-04-02\n",
       "4   서울시  1826626560  193633 2021-04-09\n",
       "5   서울시  1481982720  158687 2021-04-16\n",
       "6   서울시  1709790330  183278 2021-04-23\n",
       "7   서울시  1796128240  207101 2021-04-30\n",
       "8   서울시  2713673630  290264 2021-05-07\n",
       "9   서울시  1365881880  148365 2021-05-14\n",
       "10  서울시  2551193710  266485 2021-05-21\n",
       "11  서울시  2886481360  310014 2021-05-28\n",
       "12  서울시  3308331430  345848 2021-06-04\n",
       "13  서울시  3216698320  327510 2021-06-11\n",
       "14  서울시  3014873260  312236 2021-06-18\n",
       "15  서울시  3675390440  377430 2021-06-25"
      ]
     },
     "execution_count": 8,
     "metadata": {},
     "output_type": "execute_result"
    }
   ],
   "source": [
    "seoul_bv\n",
    "seoul_av"
   ]
  },
  {
   "cell_type": "markdown",
   "id": "bda6c136",
   "metadata": {},
   "source": [
    "# 2. 백신 접종 시행 전 후/ 표본의 차이 확인 (t검정)"
   ]
  },
  {
   "cell_type": "code",
   "execution_count": 9,
   "id": "66896a9b",
   "metadata": {},
   "outputs": [],
   "source": [
    "np.set_printoptions(precision=6, suppress=True)\n",
    "seoul_bv_sell = np.array(seoul_bv['매출액'])\n",
    "seoul_av_sell = seoul_av['매출액']"
   ]
  },
  {
   "cell_type": "code",
   "execution_count": 10,
   "id": "f3039104",
   "metadata": {},
   "outputs": [
    {
     "data": {
      "text/plain": [
       "count    2.900000e+01\n",
       "mean     1.893141e+09\n",
       "std      8.504186e+08\n",
       "min      4.462571e+08\n",
       "25%      1.340673e+09\n",
       "50%      2.050589e+09\n",
       "75%      2.310221e+09\n",
       "max      4.365205e+09\n",
       "Name: 매출액, dtype: float64"
      ]
     },
     "execution_count": 10,
     "metadata": {},
     "output_type": "execute_result"
    },
    {
     "data": {
      "text/plain": [
       "count    1.600000e+01\n",
       "mean     2.409866e+09\n",
       "std      6.875886e+08\n",
       "min      1.365882e+09\n",
       "25%      1.819002e+09\n",
       "50%      2.382352e+09\n",
       "75%      2.918579e+09\n",
       "max      3.675390e+09\n",
       "Name: 매출액, dtype: float64"
      ]
     },
     "execution_count": 10,
     "metadata": {},
     "output_type": "execute_result"
    }
   ],
   "source": [
    "seoul_bv['매출액'].describe()\n",
    "seoul_av['매출액'].describe()"
   ]
  },
  {
   "cell_type": "code",
   "execution_count": 11,
   "id": "f2bd5b8f",
   "metadata": {},
   "outputs": [],
   "source": [
    "tmp = []\n",
    "for i in range(13):\n",
    "    tmp.append(np.random.randint(1722277400,3097454600,dtype='int64'))"
   ]
  },
  {
   "cell_type": "code",
   "execution_count": 12,
   "id": "06ec6f41",
   "metadata": {},
   "outputs": [],
   "source": [
    "#접종이후의 데이터가 접종 전보다 부족해서, 결측치를 평균값으로 대체\n",
    "seoul_av_sell  = np.append(seoul_av_sell,tmp )"
   ]
  },
  {
   "cell_type": "code",
   "execution_count": 13,
   "id": "dd0282ff",
   "metadata": {},
   "outputs": [
    {
     "data": {
      "text/plain": [
       "array([3361656490, 2189550260, 1842116650, 1733144880, 1571785690,\n",
       "       1686750342, 4365204790, 2310220710, 1635498260, 2051049940,\n",
       "       2345716060, 2686707390, 2595964430, 2087858250, 1340672930,\n",
       "        978608420,  752040660,  606209800, 1249933430,  754663270,\n",
       "        446257140,  761371720, 2050589220, 2287327000, 2358611200,\n",
       "       2299673230, 1955377880, 2226500250, 2370034110], dtype=int64)"
      ]
     },
     "execution_count": 13,
     "metadata": {},
     "output_type": "execute_result"
    },
    {
     "data": {
      "text/plain": [
       "array([2370034110, 2089378170, 2156717370, 2394668990, 1826626560,\n",
       "       1481982720, 1709790330, 1796128240, 2713673630, 1365881880,\n",
       "       2551193710, 2886481360, 3308331430, 3216698320, 3014873260,\n",
       "       3675390440, 2960231175, 2692698547, 1801319624, 2203419145,\n",
       "       2380413076, 2968492135, 2267482873, 2889234438, 2794457364,\n",
       "       1928595038, 2956533934, 2239461932, 2136257361], dtype=int64)"
      ]
     },
     "execution_count": 13,
     "metadata": {},
     "output_type": "execute_result"
    }
   ],
   "source": [
    "seoul_bv_sell\n",
    "seoul_av_sell"
   ]
  },
  {
   "cell_type": "code",
   "execution_count": 14,
   "id": "b5fc054b",
   "metadata": {},
   "outputs": [
    {
     "data": {
      "text/plain": [
       "{'whiskers': [<matplotlib.lines.Line2D at 0x1e566560d60>,\n",
       "  <matplotlib.lines.Line2D at 0x1e566576100>,\n",
       "  <matplotlib.lines.Line2D at 0x1e5665815b0>,\n",
       "  <matplotlib.lines.Line2D at 0x1e566581910>],\n",
       " 'caps': [<matplotlib.lines.Line2D at 0x1e566576460>,\n",
       "  <matplotlib.lines.Line2D at 0x1e5665767c0>,\n",
       "  <matplotlib.lines.Line2D at 0x1e566581c70>,\n",
       "  <matplotlib.lines.Line2D at 0x1e566581fd0>],\n",
       " 'boxes': [<matplotlib.lines.Line2D at 0x1e566560a00>,\n",
       "  <matplotlib.lines.Line2D at 0x1e566581250>],\n",
       " 'medians': [<matplotlib.lines.Line2D at 0x1e566576b20>,\n",
       "  <matplotlib.lines.Line2D at 0x1e56658d370>],\n",
       " 'fliers': [<matplotlib.lines.Line2D at 0x1e566576e80>,\n",
       "  <matplotlib.lines.Line2D at 0x1e56658d6d0>],\n",
       " 'means': []}"
      ]
     },
     "execution_count": 14,
     "metadata": {},
     "output_type": "execute_result"
    },
    {
     "data": {
      "text/plain": [
       "([<matplotlib.axis.XTick at 0x1e565ea6460>,\n",
       "  <matplotlib.axis.XTick at 0x1e565ea6430>],\n",
       " [Text(1, 0, '백신접종이전'), Text(2, 0, '백신접종이후')])"
      ]
     },
     "execution_count": 14,
     "metadata": {},
     "output_type": "execute_result"
    },
    {
     "data": {
      "image/png": "[encoded data removed]",
      "text/plain": [
       "<Figure size 432x288 with 1 Axes>"
      ]
     },
     "metadata": {
      "needs_background": "light"
     },
     "output_type": "display_data"
    }
   ],
   "source": [
    "#boxplot을 통한 평균 차이 확인\n",
    "plt.boxplot([seoul_bv_sell,seoul_av_sell])\n",
    "plt.xticks([1,2],['백신접종이전','백신접종이후'])"
   ]
  },
  {
   "cell_type": "code",
   "execution_count": 15,
   "id": "6b393657",
   "metadata": {},
   "outputs": [
    {
     "data": {
      "text/plain": [
       "ShapiroResult(statistic=0.9638534188270569, pvalue=0.40734171867370605)"
      ]
     },
     "execution_count": 15,
     "metadata": {},
     "output_type": "execute_result"
    }
   ],
   "source": [
    "shapiro(seoul_av_sell-seoul_bv_sell)\n",
    "# 귀무가설 :데이터는 정규분포 이다.\n",
    "# 대립가설: 데이터는 정규분포가 아니다\n",
    "\n",
    "\n",
    "#pvalue가 0.05보다 크므로 귀무가설 채택"
   ]
  },
  {
   "cell_type": "code",
   "execution_count": 16,
   "id": "497e43da",
   "metadata": {},
   "outputs": [
    {
     "data": {
      "text/plain": [
       "547425957"
      ]
     },
     "execution_count": 16,
     "metadata": {},
     "output_type": "execute_result"
    }
   ],
   "source": [
    "(seoul_av_sell-seoul_bv_sell).mean().astype(int)"
   ]
  },
  {
   "cell_type": "code",
   "execution_count": 17,
   "id": "a5c0f896",
   "metadata": {},
   "outputs": [
    {
     "data": {
      "text/plain": [
       "<Figure size 720x720 with 0 Axes>"
      ]
     },
     "execution_count": 17,
     "metadata": {},
     "output_type": "execute_result"
    },
    {
     "data": {
      "text/plain": [
       "[<matplotlib.lines.Line2D at 0x1e56763e1c0>]"
      ]
     },
     "execution_count": 17,
     "metadata": {},
     "output_type": "execute_result"
    },
    {
     "data": {
      "text/plain": [
       "Text(0.5, 0, '주')"
      ]
     },
     "execution_count": 17,
     "metadata": {},
     "output_type": "execute_result"
    },
    {
     "data": {
      "text/plain": [
       "Text(0, 0.5, '접종시작후 매출액 차이')"
      ]
     },
     "execution_count": 17,
     "metadata": {},
     "output_type": "execute_result"
    },
    {
     "data": {
      "image/png": "[encoded data removed]",
      "text/plain": [
       "<Figure size 720x720 with 1 Axes>"
      ]
     },
     "metadata": {
      "needs_background": "light"
     },
     "output_type": "display_data"
    }
   ],
   "source": [
    "plt.figure(figsize=(10,10))\n",
    "plt.grid()\n",
    "\n",
    "plt.plot(seoul_av_sell-seoul_bv_sell)\n",
    "plt.xlabel('주')\n",
    "plt.ylabel('접종시작후 매출액 차이')"
   ]
  },
  {
   "cell_type": "code",
   "execution_count": 18,
   "id": "71c83506",
   "metadata": {},
   "outputs": [
    {
     "data": {
      "text/plain": [
       "Ttest_relResult(statistic=2.604505556709834, pvalue=0.014561884259496628)"
      ]
     },
     "execution_count": 18,
     "metadata": {},
     "output_type": "execute_result"
    }
   ],
   "source": [
    "ttest_rel(seoul_av_sell, seoul_bv_sell)\n",
    "\n",
    "#pvalue 0.05보다 낮으므로, 백신을 맞기전과 맞은후의 매출액에 차이가 존재함."
   ]
  },
  {
   "cell_type": "markdown",
   "id": "9dda58a8",
   "metadata": {},
   "source": [
    "# 추가 시각화 (산점도, 회귀선)"
   ]
  },
  {
   "cell_type": "code",
   "execution_count": 19,
   "id": "d4c69d88",
   "metadata": {
    "scrolled": false
   },
   "outputs": [
    {
     "data": {
      "text/plain": [
       "<matplotlib.collections.PathCollection at 0x1e567660b20>"
      ]
     },
     "execution_count": 19,
     "metadata": {},
     "output_type": "execute_result"
    },
    {
     "data": {
      "text/plain": [
       "<matplotlib.collections.PathCollection at 0x1e567675400>"
      ]
     },
     "execution_count": 19,
     "metadata": {},
     "output_type": "execute_result"
    },
    {
     "data": {
      "text/plain": [
       "<matplotlib.lines.Line2D at 0x1e567675310>"
      ]
     },
     "execution_count": 19,
     "metadata": {},
     "output_type": "execute_result"
    },
    {
     "data": {
      "text/plain": [
       "(array([18475., 18506., 18536., 18567., 18597., 18628., 18659., 18687.,\n",
       "        18718., 18748., 18779., 18809.]),\n",
       " [Text(0, 0, ''),\n",
       "  Text(0, 0, ''),\n",
       "  Text(0, 0, ''),\n",
       "  Text(0, 0, ''),\n",
       "  Text(0, 0, ''),\n",
       "  Text(0, 0, ''),\n",
       "  Text(0, 0, ''),\n",
       "  Text(0, 0, ''),\n",
       "  Text(0, 0, ''),\n",
       "  Text(0, 0, ''),\n",
       "  Text(0, 0, ''),\n",
       "  Text(0, 0, '')])"
      ]
     },
     "execution_count": 19,
     "metadata": {},
     "output_type": "execute_result"
    },
    {
     "data": {
      "text/plain": [
       "Text(0.5, 0, '주차')"
      ]
     },
     "execution_count": 19,
     "metadata": {},
     "output_type": "execute_result"
    },
    {
     "data": {
      "text/plain": [
       "Text(0, 0.5, '매출액')"
      ]
     },
     "execution_count": 19,
     "metadata": {},
     "output_type": "execute_result"
    },
    {
     "data": {
      "image/png": "[encoded data removed]",
      "text/plain": [
       "<Figure size 720x720 with 1 Axes>"
      ]
     },
     "metadata": {
      "needs_background": "light"
     },
     "output_type": "display_data"
    }
   ],
   "source": [
    "ax = plt.figure(figsize=(10,10))\n",
    "plt.grid()\n",
    "plt.scatter(seoul_bv['주'], seoul_bv['매출액'], c='g')\n",
    "plt.scatter(seoul_av['주'], seoul_av['매출액'], c='b')\n",
    "plt.axhline(int(avr_2019['매출액'][0]),0.05, 0.95, color = 'red', linestyle = '--',label='2019주평균' )\n",
    "plt.xticks(rotation=45)\n",
    "plt.xlabel('주차')\n",
    "plt.ylabel('매출액')"
   ]
  },
  {
   "cell_type": "code",
   "execution_count": 20,
   "id": "5797f300",
   "metadata": {},
   "outputs": [],
   "source": [
    "seoul_av['주차'] = [i for i in range(30,46)]\n",
    "seoul_bv['주차'] = [i for i in range(1,30)]"
   ]
  },
  {
   "cell_type": "code",
   "execution_count": 21,
   "id": "520f0b0c",
   "metadata": {
    "scrolled": false
   },
   "outputs": [
    {
     "data": {
      "text/plain": [
       "<matplotlib.lines.Line2D at 0x1e567715d30>"
      ]
     },
     "execution_count": 21,
     "metadata": {},
     "output_type": "execute_result"
    },
    {
     "data": {
      "text/plain": [
       "<matplotlib.lines.Line2D at 0x1e5676fc940>"
      ]
     },
     "execution_count": 21,
     "metadata": {},
     "output_type": "execute_result"
    },
    {
     "data": {
      "text/plain": [
       "<matplotlib.legend.Legend at 0x1e5677219a0>"
      ]
     },
     "execution_count": 21,
     "metadata": {},
     "output_type": "execute_result"
    },
    {
     "data": {
      "image/png": "[encoded data removed]",
      "text/plain": [
       "<Figure size 720x720 with 1 Axes>"
      ]
     },
     "metadata": {
      "needs_background": "light"
     },
     "output_type": "display_data"
    }
   ],
   "source": [
    "fig = plt.figure(figsize = [10,10])\n",
    "#ax = fig.add_subplot(111)\n",
    "plt.axhline(int(avr_2019['매출액'][0]),0.05, 0.95, color = 'green', linestyle = '--',label='2019주평균' )\n",
    "\n",
    "plt.axvline(30,1, 0, color = 'red', linestyle = '--',label='접종시작주' )\n",
    "\n",
    "ax = sns.regplot(x='주차',y='매출액',data=seoul_av,label='접종이후')\n",
    "ax = sns.regplot(x='주차',y='매출액',data=seoul_bv,label='접종이전')\n",
    "ax.legend(loc='center')\n",
    "\n"
   ]
  },
  {
   "cell_type": "markdown",
   "id": "94eb6df4",
   "metadata": {},
   "source": [
    "# 4. 주간 접종자수 - 매출액 상관분석 && 누적 접종자수 - 매출액 상관분석"
   ]
  },
  {
   "cell_type": "markdown",
   "id": "b573835a",
   "metadata": {},
   "source": [
    "## 내일 하자"
   ]
  },
  {
   "cell_type": "code",
   "execution_count": null,
   "id": "9fa445c5",
   "metadata": {},
   "outputs": [],
   "source": []
  },
  {
   "cell_type": "code",
   "execution_count": null,
   "id": "d7b5dd2d",
   "metadata": {},
   "outputs": [],
   "source": []
  },
  {
   "cell_type": "code",
   "execution_count": null,
   "id": "44d6c39d",
   "metadata": {},
   "outputs": [],
   "source": []
  },
  {
   "cell_type": "code",
   "execution_count": null,
   "id": "0f44e8bd",
   "metadata": {},
   "outputs": [],
   "source": []
  }
 ],
 "metadata": {
  "kernelspec": {
   "display_name": "Python 3",
   "language": "python",
   "name": "python3"
  },
  "language_info": {
   "codemirror_mode": {
    "name": "ipython",
    "version": 3
   },
   "file_extension": ".py",
   "mimetype": "text/x-python",
   "name": "python",
   "nbconvert_exporter": "python",
   "pygments_lexer": "ipython3",
   "version": "3.8.8"
  }
 },
 "nbformat": 4,
 "nbformat_minor": 5
}
