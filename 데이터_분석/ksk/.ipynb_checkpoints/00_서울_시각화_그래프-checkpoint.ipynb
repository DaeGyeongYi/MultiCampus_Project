{
 "cells": [
  {
   "cell_type": "code",
   "execution_count": 1,
   "metadata": {},
   "outputs": [],
   "source": [
    "import pandas as pd"
   ]
  },
  {
   "cell_type": "code",
   "execution_count": 2,
   "metadata": {},
   "outputs": [],
   "source": [
    "seoul_data_2021bv = pd.read_csv('2021_vcbefore_seoul.csv',thousands=\",\", encoding=\"utf-8\")"
   ]
  },
  {
   "cell_type": "code",
   "execution_count": 3,
   "metadata": {
    "scrolled": true
   },
   "outputs": [
    {
     "data": {
      "text/html": [
       "<div>\n",
       "<style scoped>\n",
       "    .dataframe tbody tr th:only-of-type {\n",
       "        vertical-align: middle;\n",
       "    }\n",
       "\n",
       "    .dataframe tbody tr th {\n",
       "        vertical-align: top;\n",
       "    }\n",
       "\n",
       "    .dataframe thead th {\n",
       "        text-align: right;\n",
       "    }\n",
       "</style>\n",
       "<table border=\"1\" class=\"dataframe\">\n",
       "  <thead>\n",
       "    <tr style=\"text-align: right;\">\n",
       "      <th></th>\n",
       "      <th>Unnamed: 0</th>\n",
       "      <th>Unnamed: 0.1</th>\n",
       "      <th>지역</th>\n",
       "      <th>매출액</th>\n",
       "      <th>관객수</th>\n",
       "      <th>주</th>\n",
       "      <th>거리두기</th>\n",
       "    </tr>\n",
       "  </thead>\n",
       "  <tbody>\n",
       "    <tr>\n",
       "      <th>0</th>\n",
       "      <td>0</td>\n",
       "      <td>5</td>\n",
       "      <td>서울시</td>\n",
       "      <td>625176800</td>\n",
       "      <td>71052</td>\n",
       "      <td>2021-01-01</td>\n",
       "      <td>2.5</td>\n",
       "    </tr>\n",
       "    <tr>\n",
       "      <th>1</th>\n",
       "      <td>1</td>\n",
       "      <td>5</td>\n",
       "      <td>서울시</td>\n",
       "      <td>446257140</td>\n",
       "      <td>50249</td>\n",
       "      <td>2021-01-08</td>\n",
       "      <td>2.5</td>\n",
       "    </tr>\n",
       "    <tr>\n",
       "      <th>2</th>\n",
       "      <td>2</td>\n",
       "      <td>5</td>\n",
       "      <td>서울시</td>\n",
       "      <td>761371720</td>\n",
       "      <td>85940</td>\n",
       "      <td>2021-01-15</td>\n",
       "      <td>2.5</td>\n",
       "    </tr>\n",
       "    <tr>\n",
       "      <th>3</th>\n",
       "      <td>3</td>\n",
       "      <td>5</td>\n",
       "      <td>서울시</td>\n",
       "      <td>2050589220</td>\n",
       "      <td>230553</td>\n",
       "      <td>2021-01-22</td>\n",
       "      <td>2.5</td>\n",
       "    </tr>\n",
       "    <tr>\n",
       "      <th>4</th>\n",
       "      <td>4</td>\n",
       "      <td>5</td>\n",
       "      <td>서울시</td>\n",
       "      <td>2287327000</td>\n",
       "      <td>246303</td>\n",
       "      <td>2021-01-29</td>\n",
       "      <td>2.5</td>\n",
       "    </tr>\n",
       "    <tr>\n",
       "      <th>5</th>\n",
       "      <td>5</td>\n",
       "      <td>5</td>\n",
       "      <td>서울시</td>\n",
       "      <td>2358611200</td>\n",
       "      <td>247998</td>\n",
       "      <td>2021-02-05</td>\n",
       "      <td>2.5</td>\n",
       "    </tr>\n",
       "    <tr>\n",
       "      <th>6</th>\n",
       "      <td>6</td>\n",
       "      <td>5</td>\n",
       "      <td>서울시</td>\n",
       "      <td>2299673230</td>\n",
       "      <td>241331</td>\n",
       "      <td>2021-02-12</td>\n",
       "      <td>2.5</td>\n",
       "    </tr>\n",
       "    <tr>\n",
       "      <th>7</th>\n",
       "      <td>7</td>\n",
       "      <td>5</td>\n",
       "      <td>서울시</td>\n",
       "      <td>1955377880</td>\n",
       "      <td>215607</td>\n",
       "      <td>2021-02-19</td>\n",
       "      <td>2.0</td>\n",
       "    </tr>\n",
       "    <tr>\n",
       "      <th>8</th>\n",
       "      <td>8</td>\n",
       "      <td>5</td>\n",
       "      <td>서울시</td>\n",
       "      <td>2226500250</td>\n",
       "      <td>242385</td>\n",
       "      <td>2021-02-26</td>\n",
       "      <td>2.0</td>\n",
       "    </tr>\n",
       "    <tr>\n",
       "      <th>9</th>\n",
       "      <td>9</td>\n",
       "      <td>5</td>\n",
       "      <td>서울시</td>\n",
       "      <td>2370034110</td>\n",
       "      <td>245237</td>\n",
       "      <td>2021-03-05</td>\n",
       "      <td>2.0</td>\n",
       "    </tr>\n",
       "  </tbody>\n",
       "</table>\n",
       "</div>"
      ],
      "text/plain": [
       "   Unnamed: 0  Unnamed: 0.1   지역         매출액     관객수           주  거리두기\n",
       "0           0             5  서울시   625176800   71052  2021-01-01   2.5\n",
       "1           1             5  서울시   446257140   50249  2021-01-08   2.5\n",
       "2           2             5  서울시   761371720   85940  2021-01-15   2.5\n",
       "3           3             5  서울시  2050589220  230553  2021-01-22   2.5\n",
       "4           4             5  서울시  2287327000  246303  2021-01-29   2.5\n",
       "5           5             5  서울시  2358611200  247998  2021-02-05   2.5\n",
       "6           6             5  서울시  2299673230  241331  2021-02-12   2.5\n",
       "7           7             5  서울시  1955377880  215607  2021-02-19   2.0\n",
       "8           8             5  서울시  2226500250  242385  2021-02-26   2.0\n",
       "9           9             5  서울시  2370034110  245237  2021-03-05   2.0"
      ]
     },
     "execution_count": 3,
     "metadata": {},
     "output_type": "execute_result"
    }
   ],
   "source": [
    "seoul_data_2021bv"
   ]
  },
  {
   "cell_type": "code",
   "execution_count": 4,
   "metadata": {},
   "outputs": [],
   "source": [
    "seoul_data_2021av = pd.read_csv('2021_vcafter_seoul.csv',thousands=\",\", encoding=\"utf-8\")"
   ]
  },
  {
   "cell_type": "code",
   "execution_count": 5,
   "metadata": {},
   "outputs": [],
   "source": [
    "seoul_data_2021av = seoul_data_2021av.drop([0])"
   ]
  },
  {
   "cell_type": "code",
   "execution_count": 6,
   "metadata": {},
   "outputs": [],
   "source": [
    "seoul_data_2021av['거리두기']='2'"
   ]
  },
  {
   "cell_type": "code",
   "execution_count": 7,
   "metadata": {},
   "outputs": [
    {
     "data": {
      "text/html": [
       "<div>\n",
       "<style scoped>\n",
       "    .dataframe tbody tr th:only-of-type {\n",
       "        vertical-align: middle;\n",
       "    }\n",
       "\n",
       "    .dataframe tbody tr th {\n",
       "        vertical-align: top;\n",
       "    }\n",
       "\n",
       "    .dataframe thead th {\n",
       "        text-align: right;\n",
       "    }\n",
       "</style>\n",
       "<table border=\"1\" class=\"dataframe\">\n",
       "  <thead>\n",
       "    <tr style=\"text-align: right;\">\n",
       "      <th></th>\n",
       "      <th>Unnamed: 0</th>\n",
       "      <th>Unnamed: 0.1</th>\n",
       "      <th>지역</th>\n",
       "      <th>매출액</th>\n",
       "      <th>관객수</th>\n",
       "      <th>주</th>\n",
       "      <th>거리두기</th>\n",
       "    </tr>\n",
       "  </thead>\n",
       "  <tbody>\n",
       "    <tr>\n",
       "      <th>1</th>\n",
       "      <td>2</td>\n",
       "      <td>5</td>\n",
       "      <td>서울시</td>\n",
       "      <td>2089378170</td>\n",
       "      <td>221908</td>\n",
       "      <td>2021-03-19</td>\n",
       "      <td>2</td>\n",
       "    </tr>\n",
       "    <tr>\n",
       "      <th>2</th>\n",
       "      <td>3</td>\n",
       "      <td>5</td>\n",
       "      <td>서울시</td>\n",
       "      <td>2156717370</td>\n",
       "      <td>223590</td>\n",
       "      <td>2021-03-26</td>\n",
       "      <td>2</td>\n",
       "    </tr>\n",
       "    <tr>\n",
       "      <th>3</th>\n",
       "      <td>4</td>\n",
       "      <td>5</td>\n",
       "      <td>서울시</td>\n",
       "      <td>2394668990</td>\n",
       "      <td>261118</td>\n",
       "      <td>2021-04-02</td>\n",
       "      <td>2</td>\n",
       "    </tr>\n",
       "    <tr>\n",
       "      <th>4</th>\n",
       "      <td>5</td>\n",
       "      <td>5</td>\n",
       "      <td>서울시</td>\n",
       "      <td>1826626560</td>\n",
       "      <td>193633</td>\n",
       "      <td>2021-04-09</td>\n",
       "      <td>2</td>\n",
       "    </tr>\n",
       "    <tr>\n",
       "      <th>5</th>\n",
       "      <td>6</td>\n",
       "      <td>5</td>\n",
       "      <td>서울시</td>\n",
       "      <td>1481982720</td>\n",
       "      <td>158687</td>\n",
       "      <td>2021-04-16</td>\n",
       "      <td>2</td>\n",
       "    </tr>\n",
       "    <tr>\n",
       "      <th>6</th>\n",
       "      <td>7</td>\n",
       "      <td>5</td>\n",
       "      <td>서울시</td>\n",
       "      <td>1709790330</td>\n",
       "      <td>183278</td>\n",
       "      <td>2021-04-23</td>\n",
       "      <td>2</td>\n",
       "    </tr>\n",
       "    <tr>\n",
       "      <th>7</th>\n",
       "      <td>8</td>\n",
       "      <td>5</td>\n",
       "      <td>서울시</td>\n",
       "      <td>1796128240</td>\n",
       "      <td>207101</td>\n",
       "      <td>2021-04-30</td>\n",
       "      <td>2</td>\n",
       "    </tr>\n",
       "    <tr>\n",
       "      <th>8</th>\n",
       "      <td>9</td>\n",
       "      <td>5</td>\n",
       "      <td>서울시</td>\n",
       "      <td>2713673630</td>\n",
       "      <td>290264</td>\n",
       "      <td>2021-05-07</td>\n",
       "      <td>2</td>\n",
       "    </tr>\n",
       "    <tr>\n",
       "      <th>9</th>\n",
       "      <td>10</td>\n",
       "      <td>5</td>\n",
       "      <td>서울시</td>\n",
       "      <td>1365881880</td>\n",
       "      <td>148365</td>\n",
       "      <td>2021-05-14</td>\n",
       "      <td>2</td>\n",
       "    </tr>\n",
       "    <tr>\n",
       "      <th>10</th>\n",
       "      <td>11</td>\n",
       "      <td>5</td>\n",
       "      <td>서울시</td>\n",
       "      <td>2551193710</td>\n",
       "      <td>266485</td>\n",
       "      <td>2021-05-21</td>\n",
       "      <td>2</td>\n",
       "    </tr>\n",
       "    <tr>\n",
       "      <th>11</th>\n",
       "      <td>12</td>\n",
       "      <td>5</td>\n",
       "      <td>서울시</td>\n",
       "      <td>2886481360</td>\n",
       "      <td>310014</td>\n",
       "      <td>2021-05-28</td>\n",
       "      <td>2</td>\n",
       "    </tr>\n",
       "    <tr>\n",
       "      <th>12</th>\n",
       "      <td>13</td>\n",
       "      <td>5</td>\n",
       "      <td>서울시</td>\n",
       "      <td>3308331430</td>\n",
       "      <td>345848</td>\n",
       "      <td>2021-06-04</td>\n",
       "      <td>2</td>\n",
       "    </tr>\n",
       "    <tr>\n",
       "      <th>13</th>\n",
       "      <td>14</td>\n",
       "      <td>5</td>\n",
       "      <td>서울시</td>\n",
       "      <td>3216698320</td>\n",
       "      <td>327510</td>\n",
       "      <td>2021-06-11</td>\n",
       "      <td>2</td>\n",
       "    </tr>\n",
       "    <tr>\n",
       "      <th>14</th>\n",
       "      <td>15</td>\n",
       "      <td>5</td>\n",
       "      <td>서울시</td>\n",
       "      <td>3014873260</td>\n",
       "      <td>312236</td>\n",
       "      <td>2021-06-18</td>\n",
       "      <td>2</td>\n",
       "    </tr>\n",
       "    <tr>\n",
       "      <th>15</th>\n",
       "      <td>16</td>\n",
       "      <td>5</td>\n",
       "      <td>서울시</td>\n",
       "      <td>3675390440</td>\n",
       "      <td>377430</td>\n",
       "      <td>2021-06-25</td>\n",
       "      <td>2</td>\n",
       "    </tr>\n",
       "  </tbody>\n",
       "</table>\n",
       "</div>"
      ],
      "text/plain": [
       "    Unnamed: 0  Unnamed: 0.1   지역         매출액     관객수           주 거리두기\n",
       "1            2             5  서울시  2089378170  221908  2021-03-19    2\n",
       "2            3             5  서울시  2156717370  223590  2021-03-26    2\n",
       "3            4             5  서울시  2394668990  261118  2021-04-02    2\n",
       "4            5             5  서울시  1826626560  193633  2021-04-09    2\n",
       "5            6             5  서울시  1481982720  158687  2021-04-16    2\n",
       "6            7             5  서울시  1709790330  183278  2021-04-23    2\n",
       "7            8             5  서울시  1796128240  207101  2021-04-30    2\n",
       "8            9             5  서울시  2713673630  290264  2021-05-07    2\n",
       "9           10             5  서울시  1365881880  148365  2021-05-14    2\n",
       "10          11             5  서울시  2551193710  266485  2021-05-21    2\n",
       "11          12             5  서울시  2886481360  310014  2021-05-28    2\n",
       "12          13             5  서울시  3308331430  345848  2021-06-04    2\n",
       "13          14             5  서울시  3216698320  327510  2021-06-11    2\n",
       "14          15             5  서울시  3014873260  312236  2021-06-18    2\n",
       "15          16             5  서울시  3675390440  377430  2021-06-25    2"
      ]
     },
     "execution_count": 7,
     "metadata": {},
     "output_type": "execute_result"
    }
   ],
   "source": [
    "seoul_data_2021av"
   ]
  },
  {
   "cell_type": "code",
   "execution_count": 8,
   "metadata": {},
   "outputs": [],
   "source": [
    "seoul_data_2021bv['거리두기']='2.5'"
   ]
  },
  {
   "cell_type": "code",
   "execution_count": 9,
   "metadata": {},
   "outputs": [
    {
     "data": {
      "text/html": [
       "<div>\n",
       "<style scoped>\n",
       "    .dataframe tbody tr th:only-of-type {\n",
       "        vertical-align: middle;\n",
       "    }\n",
       "\n",
       "    .dataframe tbody tr th {\n",
       "        vertical-align: top;\n",
       "    }\n",
       "\n",
       "    .dataframe thead th {\n",
       "        text-align: right;\n",
       "    }\n",
       "</style>\n",
       "<table border=\"1\" class=\"dataframe\">\n",
       "  <thead>\n",
       "    <tr style=\"text-align: right;\">\n",
       "      <th></th>\n",
       "      <th>Unnamed: 0</th>\n",
       "      <th>Unnamed: 0.1</th>\n",
       "      <th>지역</th>\n",
       "      <th>매출액</th>\n",
       "      <th>관객수</th>\n",
       "      <th>주</th>\n",
       "      <th>거리두기</th>\n",
       "    </tr>\n",
       "  </thead>\n",
       "  <tbody>\n",
       "    <tr>\n",
       "      <th>0</th>\n",
       "      <td>0</td>\n",
       "      <td>5</td>\n",
       "      <td>서울시</td>\n",
       "      <td>625176800</td>\n",
       "      <td>71052</td>\n",
       "      <td>2021-01-01</td>\n",
       "      <td>2.5</td>\n",
       "    </tr>\n",
       "    <tr>\n",
       "      <th>1</th>\n",
       "      <td>1</td>\n",
       "      <td>5</td>\n",
       "      <td>서울시</td>\n",
       "      <td>446257140</td>\n",
       "      <td>50249</td>\n",
       "      <td>2021-01-08</td>\n",
       "      <td>2.5</td>\n",
       "    </tr>\n",
       "    <tr>\n",
       "      <th>2</th>\n",
       "      <td>2</td>\n",
       "      <td>5</td>\n",
       "      <td>서울시</td>\n",
       "      <td>761371720</td>\n",
       "      <td>85940</td>\n",
       "      <td>2021-01-15</td>\n",
       "      <td>2.5</td>\n",
       "    </tr>\n",
       "    <tr>\n",
       "      <th>3</th>\n",
       "      <td>3</td>\n",
       "      <td>5</td>\n",
       "      <td>서울시</td>\n",
       "      <td>2050589220</td>\n",
       "      <td>230553</td>\n",
       "      <td>2021-01-22</td>\n",
       "      <td>2.5</td>\n",
       "    </tr>\n",
       "    <tr>\n",
       "      <th>4</th>\n",
       "      <td>4</td>\n",
       "      <td>5</td>\n",
       "      <td>서울시</td>\n",
       "      <td>2287327000</td>\n",
       "      <td>246303</td>\n",
       "      <td>2021-01-29</td>\n",
       "      <td>2.5</td>\n",
       "    </tr>\n",
       "    <tr>\n",
       "      <th>5</th>\n",
       "      <td>5</td>\n",
       "      <td>5</td>\n",
       "      <td>서울시</td>\n",
       "      <td>2358611200</td>\n",
       "      <td>247998</td>\n",
       "      <td>2021-02-05</td>\n",
       "      <td>2.5</td>\n",
       "    </tr>\n",
       "    <tr>\n",
       "      <th>6</th>\n",
       "      <td>6</td>\n",
       "      <td>5</td>\n",
       "      <td>서울시</td>\n",
       "      <td>2299673230</td>\n",
       "      <td>241331</td>\n",
       "      <td>2021-02-12</td>\n",
       "      <td>2.5</td>\n",
       "    </tr>\n",
       "    <tr>\n",
       "      <th>7</th>\n",
       "      <td>7</td>\n",
       "      <td>5</td>\n",
       "      <td>서울시</td>\n",
       "      <td>1955377880</td>\n",
       "      <td>215607</td>\n",
       "      <td>2021-02-19</td>\n",
       "      <td>2.5</td>\n",
       "    </tr>\n",
       "    <tr>\n",
       "      <th>8</th>\n",
       "      <td>8</td>\n",
       "      <td>5</td>\n",
       "      <td>서울시</td>\n",
       "      <td>2226500250</td>\n",
       "      <td>242385</td>\n",
       "      <td>2021-02-26</td>\n",
       "      <td>2.5</td>\n",
       "    </tr>\n",
       "    <tr>\n",
       "      <th>9</th>\n",
       "      <td>9</td>\n",
       "      <td>5</td>\n",
       "      <td>서울시</td>\n",
       "      <td>2370034110</td>\n",
       "      <td>245237</td>\n",
       "      <td>2021-03-05</td>\n",
       "      <td>2.5</td>\n",
       "    </tr>\n",
       "  </tbody>\n",
       "</table>\n",
       "</div>"
      ],
      "text/plain": [
       "   Unnamed: 0  Unnamed: 0.1   지역         매출액     관객수           주 거리두기\n",
       "0           0             5  서울시   625176800   71052  2021-01-01  2.5\n",
       "1           1             5  서울시   446257140   50249  2021-01-08  2.5\n",
       "2           2             5  서울시   761371720   85940  2021-01-15  2.5\n",
       "3           3             5  서울시  2050589220  230553  2021-01-22  2.5\n",
       "4           4             5  서울시  2287327000  246303  2021-01-29  2.5\n",
       "5           5             5  서울시  2358611200  247998  2021-02-05  2.5\n",
       "6           6             5  서울시  2299673230  241331  2021-02-12  2.5\n",
       "7           7             5  서울시  1955377880  215607  2021-02-19  2.5\n",
       "8           8             5  서울시  2226500250  242385  2021-02-26  2.5\n",
       "9           9             5  서울시  2370034110  245237  2021-03-05  2.5"
      ]
     },
     "execution_count": 9,
     "metadata": {},
     "output_type": "execute_result"
    }
   ],
   "source": [
    "seoul_data_2021bv"
   ]
  },
  {
   "cell_type": "code",
   "execution_count": 10,
   "metadata": {},
   "outputs": [
    {
     "name": "stderr",
     "output_type": "stream",
     "text": [
      "<ipython-input-10-48ffb8c3741c>:1: SettingWithCopyWarning: \n",
      "A value is trying to be set on a copy of a slice from a DataFrame\n",
      "\n",
      "See the caveats in the documentation: https://pandas.pydata.org/pandas-docs/stable/user_guide/indexing.html#returning-a-view-versus-a-copy\n",
      "  seoul_data_2021bv['거리두기'][7:10]='2'\n",
      "C:\\Users\\82104\\Anaconda3\\lib\\site-packages\\pandas\\core\\indexing.py:670: SettingWithCopyWarning: \n",
      "A value is trying to be set on a copy of a slice from a DataFrame\n",
      "\n",
      "See the caveats in the documentation: https://pandas.pydata.org/pandas-docs/stable/user_guide/indexing.html#returning-a-view-versus-a-copy\n",
      "  iloc._setitem_with_indexer(indexer, value)\n"
     ]
    }
   ],
   "source": [
    "seoul_data_2021bv['거리두기'][7:10]='2'"
   ]
  },
  {
   "cell_type": "code",
   "execution_count": 11,
   "metadata": {},
   "outputs": [],
   "source": [
    "a = pd.read_csv('2021_vcbefore_seoul.csv',thousands=\",\", encoding=\"utf-8\")\n",
    "b = pd.read_csv('2021_vcafter_seoul.csv',thousands=\",\", encoding=\"utf-8\")\n",
    "c = pd.read_csv('2020_vcbefore_seoul.csv',thousands=\",\", encoding=\"utf-8\")"
   ]
  },
  {
   "cell_type": "code",
   "execution_count": 12,
   "metadata": {
    "scrolled": true
   },
   "outputs": [],
   "source": [
    "bb = pd.concat([c,a])\n",
    "# bb.drop(['Unnamed: 0','Unnamed: 0.1'],axis=1)\n",
    "\n"
   ]
  },
  {
   "cell_type": "code",
   "execution_count": 13,
   "metadata": {},
   "outputs": [
    {
     "data": {
      "text/html": [
       "<div>\n",
       "<style scoped>\n",
       "    .dataframe tbody tr th:only-of-type {\n",
       "        vertical-align: middle;\n",
       "    }\n",
       "\n",
       "    .dataframe tbody tr th {\n",
       "        vertical-align: top;\n",
       "    }\n",
       "\n",
       "    .dataframe thead th {\n",
       "        text-align: right;\n",
       "    }\n",
       "</style>\n",
       "<table border=\"1\" class=\"dataframe\">\n",
       "  <thead>\n",
       "    <tr style=\"text-align: right;\">\n",
       "      <th></th>\n",
       "      <th>지역</th>\n",
       "      <th>매출액</th>\n",
       "      <th>관객수</th>\n",
       "      <th>주</th>\n",
       "      <th>거리두기</th>\n",
       "    </tr>\n",
       "  </thead>\n",
       "  <tbody>\n",
       "    <tr>\n",
       "      <th>0</th>\n",
       "      <td>서울시</td>\n",
       "      <td>3361656490</td>\n",
       "      <td>368804</td>\n",
       "      <td>2020-08-16</td>\n",
       "      <td>2.0</td>\n",
       "    </tr>\n",
       "    <tr>\n",
       "      <th>1</th>\n",
       "      <td>서울시</td>\n",
       "      <td>2189550260</td>\n",
       "      <td>247399</td>\n",
       "      <td>2020-08-23</td>\n",
       "      <td>2.0</td>\n",
       "    </tr>\n",
       "    <tr>\n",
       "      <th>2</th>\n",
       "      <td>서울시</td>\n",
       "      <td>1842116650</td>\n",
       "      <td>200100</td>\n",
       "      <td>2020-08-30</td>\n",
       "      <td>2.5</td>\n",
       "    </tr>\n",
       "    <tr>\n",
       "      <th>3</th>\n",
       "      <td>서울시</td>\n",
       "      <td>1733144880</td>\n",
       "      <td>188395</td>\n",
       "      <td>2020-09-06</td>\n",
       "      <td>2.5</td>\n",
       "    </tr>\n",
       "    <tr>\n",
       "      <th>4</th>\n",
       "      <td>서울시</td>\n",
       "      <td>1571785690</td>\n",
       "      <td>172993</td>\n",
       "      <td>2020-09-13</td>\n",
       "      <td>2.0</td>\n",
       "    </tr>\n",
       "    <tr>\n",
       "      <th>5</th>\n",
       "      <td>서울시</td>\n",
       "      <td>1686750342</td>\n",
       "      <td>194747</td>\n",
       "      <td>2020-09-20</td>\n",
       "      <td>2.0</td>\n",
       "    </tr>\n",
       "    <tr>\n",
       "      <th>6</th>\n",
       "      <td>서울시</td>\n",
       "      <td>4365204790</td>\n",
       "      <td>464557</td>\n",
       "      <td>2020-09-27</td>\n",
       "      <td>2.0</td>\n",
       "    </tr>\n",
       "    <tr>\n",
       "      <th>7</th>\n",
       "      <td>서울시</td>\n",
       "      <td>2310220710</td>\n",
       "      <td>243950</td>\n",
       "      <td>2020-10-04</td>\n",
       "      <td>2.0</td>\n",
       "    </tr>\n",
       "    <tr>\n",
       "      <th>8</th>\n",
       "      <td>서울시</td>\n",
       "      <td>1635498260</td>\n",
       "      <td>175172</td>\n",
       "      <td>2020-10-11</td>\n",
       "      <td>1.0</td>\n",
       "    </tr>\n",
       "    <tr>\n",
       "      <th>9</th>\n",
       "      <td>서울시</td>\n",
       "      <td>2051049940</td>\n",
       "      <td>235614</td>\n",
       "      <td>2020-10-18</td>\n",
       "      <td>1.0</td>\n",
       "    </tr>\n",
       "    <tr>\n",
       "      <th>10</th>\n",
       "      <td>서울시</td>\n",
       "      <td>2345716060</td>\n",
       "      <td>266763</td>\n",
       "      <td>2020-10-25</td>\n",
       "      <td>1.0</td>\n",
       "    </tr>\n",
       "    <tr>\n",
       "      <th>11</th>\n",
       "      <td>서울시</td>\n",
       "      <td>2686707390</td>\n",
       "      <td>290238</td>\n",
       "      <td>2020-11-01</td>\n",
       "      <td>1.0</td>\n",
       "    </tr>\n",
       "    <tr>\n",
       "      <th>12</th>\n",
       "      <td>서울시</td>\n",
       "      <td>2595964430</td>\n",
       "      <td>284599</td>\n",
       "      <td>2020-11-08</td>\n",
       "      <td>1.5</td>\n",
       "    </tr>\n",
       "    <tr>\n",
       "      <th>13</th>\n",
       "      <td>서울시</td>\n",
       "      <td>2087858250</td>\n",
       "      <td>229587</td>\n",
       "      <td>2020-11-15</td>\n",
       "      <td>1.5</td>\n",
       "    </tr>\n",
       "    <tr>\n",
       "      <th>14</th>\n",
       "      <td>서울시</td>\n",
       "      <td>1340672930</td>\n",
       "      <td>155879</td>\n",
       "      <td>2020-11-22</td>\n",
       "      <td>2.0</td>\n",
       "    </tr>\n",
       "    <tr>\n",
       "      <th>15</th>\n",
       "      <td>서울시</td>\n",
       "      <td>978608420</td>\n",
       "      <td>116440</td>\n",
       "      <td>2020-11-29</td>\n",
       "      <td>2.0</td>\n",
       "    </tr>\n",
       "    <tr>\n",
       "      <th>16</th>\n",
       "      <td>서울시</td>\n",
       "      <td>752040660</td>\n",
       "      <td>87820</td>\n",
       "      <td>2020-12-06</td>\n",
       "      <td>2.5</td>\n",
       "    </tr>\n",
       "    <tr>\n",
       "      <th>17</th>\n",
       "      <td>서울시</td>\n",
       "      <td>606209800</td>\n",
       "      <td>71087</td>\n",
       "      <td>2020-12-13</td>\n",
       "      <td>2.5</td>\n",
       "    </tr>\n",
       "    <tr>\n",
       "      <th>18</th>\n",
       "      <td>서울시</td>\n",
       "      <td>1249933430</td>\n",
       "      <td>141279</td>\n",
       "      <td>2020-12-20</td>\n",
       "      <td>2.5</td>\n",
       "    </tr>\n",
       "    <tr>\n",
       "      <th>19</th>\n",
       "      <td>서울시</td>\n",
       "      <td>754663270</td>\n",
       "      <td>91153</td>\n",
       "      <td>2020-12-27</td>\n",
       "      <td>2.5</td>\n",
       "    </tr>\n",
       "    <tr>\n",
       "      <th>20</th>\n",
       "      <td>서울시</td>\n",
       "      <td>625176800</td>\n",
       "      <td>71052</td>\n",
       "      <td>2021-01-01</td>\n",
       "      <td>2.5</td>\n",
       "    </tr>\n",
       "    <tr>\n",
       "      <th>21</th>\n",
       "      <td>서울시</td>\n",
       "      <td>446257140</td>\n",
       "      <td>50249</td>\n",
       "      <td>2021-01-08</td>\n",
       "      <td>2.5</td>\n",
       "    </tr>\n",
       "    <tr>\n",
       "      <th>22</th>\n",
       "      <td>서울시</td>\n",
       "      <td>761371720</td>\n",
       "      <td>85940</td>\n",
       "      <td>2021-01-15</td>\n",
       "      <td>2.5</td>\n",
       "    </tr>\n",
       "    <tr>\n",
       "      <th>23</th>\n",
       "      <td>서울시</td>\n",
       "      <td>2050589220</td>\n",
       "      <td>230553</td>\n",
       "      <td>2021-01-22</td>\n",
       "      <td>2.5</td>\n",
       "    </tr>\n",
       "    <tr>\n",
       "      <th>24</th>\n",
       "      <td>서울시</td>\n",
       "      <td>2287327000</td>\n",
       "      <td>246303</td>\n",
       "      <td>2021-01-29</td>\n",
       "      <td>2.5</td>\n",
       "    </tr>\n",
       "    <tr>\n",
       "      <th>25</th>\n",
       "      <td>서울시</td>\n",
       "      <td>2358611200</td>\n",
       "      <td>247998</td>\n",
       "      <td>2021-02-05</td>\n",
       "      <td>2.5</td>\n",
       "    </tr>\n",
       "    <tr>\n",
       "      <th>26</th>\n",
       "      <td>서울시</td>\n",
       "      <td>2299673230</td>\n",
       "      <td>241331</td>\n",
       "      <td>2021-02-12</td>\n",
       "      <td>2.5</td>\n",
       "    </tr>\n",
       "    <tr>\n",
       "      <th>27</th>\n",
       "      <td>서울시</td>\n",
       "      <td>1955377880</td>\n",
       "      <td>215607</td>\n",
       "      <td>2021-02-19</td>\n",
       "      <td>2.0</td>\n",
       "    </tr>\n",
       "    <tr>\n",
       "      <th>28</th>\n",
       "      <td>서울시</td>\n",
       "      <td>2226500250</td>\n",
       "      <td>242385</td>\n",
       "      <td>2021-02-26</td>\n",
       "      <td>2.0</td>\n",
       "    </tr>\n",
       "    <tr>\n",
       "      <th>29</th>\n",
       "      <td>서울시</td>\n",
       "      <td>2370034110</td>\n",
       "      <td>245237</td>\n",
       "      <td>2021-03-05</td>\n",
       "      <td>2.0</td>\n",
       "    </tr>\n",
       "  </tbody>\n",
       "</table>\n",
       "</div>"
      ],
      "text/plain": [
       "     지역         매출액     관객수           주  거리두기\n",
       "0   서울시  3361656490  368804  2020-08-16   2.0\n",
       "1   서울시  2189550260  247399  2020-08-23   2.0\n",
       "2   서울시  1842116650  200100  2020-08-30   2.5\n",
       "3   서울시  1733144880  188395  2020-09-06   2.5\n",
       "4   서울시  1571785690  172993  2020-09-13   2.0\n",
       "5   서울시  1686750342  194747  2020-09-20   2.0\n",
       "6   서울시  4365204790  464557  2020-09-27   2.0\n",
       "7   서울시  2310220710  243950  2020-10-04   2.0\n",
       "8   서울시  1635498260  175172  2020-10-11   1.0\n",
       "9   서울시  2051049940  235614  2020-10-18   1.0\n",
       "10  서울시  2345716060  266763  2020-10-25   1.0\n",
       "11  서울시  2686707390  290238  2020-11-01   1.0\n",
       "12  서울시  2595964430  284599  2020-11-08   1.5\n",
       "13  서울시  2087858250  229587  2020-11-15   1.5\n",
       "14  서울시  1340672930  155879  2020-11-22   2.0\n",
       "15  서울시   978608420  116440  2020-11-29   2.0\n",
       "16  서울시   752040660   87820  2020-12-06   2.5\n",
       "17  서울시   606209800   71087  2020-12-13   2.5\n",
       "18  서울시  1249933430  141279  2020-12-20   2.5\n",
       "19  서울시   754663270   91153  2020-12-27   2.5\n",
       "20  서울시   625176800   71052  2021-01-01   2.5\n",
       "21  서울시   446257140   50249  2021-01-08   2.5\n",
       "22  서울시   761371720   85940  2021-01-15   2.5\n",
       "23  서울시  2050589220  230553  2021-01-22   2.5\n",
       "24  서울시  2287327000  246303  2021-01-29   2.5\n",
       "25  서울시  2358611200  247998  2021-02-05   2.5\n",
       "26  서울시  2299673230  241331  2021-02-12   2.5\n",
       "27  서울시  1955377880  215607  2021-02-19   2.0\n",
       "28  서울시  2226500250  242385  2021-02-26   2.0\n",
       "29  서울시  2370034110  245237  2021-03-05   2.0"
      ]
     },
     "execution_count": 13,
     "metadata": {},
     "output_type": "execute_result"
    }
   ],
   "source": [
    "bb= bb.reset_index(drop=True).drop(['Unnamed: 0','Unnamed: 0.1'],axis=1)\n",
    "bb"
   ]
  },
  {
   "cell_type": "code",
   "execution_count": 14,
   "metadata": {},
   "outputs": [],
   "source": [
    "import matplotlib.pyplot as plt"
   ]
  },
  {
   "cell_type": "code",
   "execution_count": 15,
   "metadata": {},
   "outputs": [],
   "source": [
    "# 한글 문제 해결\n",
    "import platform\n",
    "\n",
    "from matplotlib import font_manager, rc\n",
    "plt.rcParams['axes.unicode_minus'] = False\n",
    "\n",
    "if platform.system() == 'Darwin':  # 맥OS \n",
    "    rc('font', family='AppleGothic')\n",
    "elif platform.system() == 'Windows':  # 윈도우\n",
    "    path = \"c:/Windows/Fonts/malgun.ttf\"\n",
    "    font_name = font_manager.FontProperties(fname=path).get_name()\n",
    "    rc('font', family=font_name)\n",
    "else:\n",
    "    print('Unknown system...  sorry~~~')"
   ]
  },
  {
   "cell_type": "code",
   "execution_count": 16,
   "metadata": {},
   "outputs": [],
   "source": [
    "# 동시 출력\n",
    "from IPython.core.interactiveshell import InteractiveShell\n",
    "InteractiveShell.ast_node_interactivity=\"all\""
   ]
  },
  {
   "cell_type": "code",
   "execution_count": 17,
   "metadata": {},
   "outputs": [
    {
     "data": {
      "text/plain": [
       "Text(0, 0.5, '매출액')"
      ]
     },
     "execution_count": 17,
     "metadata": {},
     "output_type": "execute_result"
    },
    {
     "data": {
      "text/plain": [
       "Text(0, 0.5, '거리두기')"
      ]
     },
     "execution_count": 17,
     "metadata": {},
     "output_type": "execute_result"
    },
    {
     "data": {
      "text/plain": [
       "(0.0, 3.0)"
      ]
     },
     "execution_count": 17,
     "metadata": {},
     "output_type": "execute_result"
    },
    {
     "data": {
      "text/plain": [
       "[Text(0, 0, '2020-08-16'),\n",
       " Text(1, 0, '2020-08-23'),\n",
       " Text(2, 0, '2020-08-30'),\n",
       " Text(3, 0, '2020-09-06'),\n",
       " Text(4, 0, '2020-09-13'),\n",
       " Text(5, 0, '2020-09-20'),\n",
       " Text(6, 0, '2020-09-27'),\n",
       " Text(7, 0, '2020-10-04'),\n",
       " Text(8, 0, '2020-10-11'),\n",
       " Text(9, 0, '2020-10-18'),\n",
       " Text(10, 0, '2020-10-25'),\n",
       " Text(11, 0, '2020-11-01'),\n",
       " Text(12, 0, '2020-11-08'),\n",
       " Text(13, 0, '2020-11-15'),\n",
       " Text(14, 0, '2020-11-22'),\n",
       " Text(15, 0, '2020-11-29'),\n",
       " Text(16, 0, '2020-12-06'),\n",
       " Text(17, 0, '2020-12-13'),\n",
       " Text(18, 0, '2020-12-20'),\n",
       " Text(19, 0, '2020-12-27'),\n",
       " Text(20, 0, '2021-01-01'),\n",
       " Text(21, 0, '2021-01-08'),\n",
       " Text(22, 0, '2021-01-15'),\n",
       " Text(23, 0, '2021-01-22'),\n",
       " Text(24, 0, '2021-01-29'),\n",
       " Text(25, 0, '2021-02-05'),\n",
       " Text(26, 0, '2021-02-12'),\n",
       " Text(27, 0, '2021-02-19'),\n",
       " Text(28, 0, '2021-02-26'),\n",
       " Text(29, 0, '2021-03-05')]"
      ]
     },
     "execution_count": 17,
     "metadata": {},
     "output_type": "execute_result"
    },
    {
     "data": {
      "text/plain": [
       "<function matplotlib.pyplot.show(close=None, block=None)>"
      ]
     },
     "execution_count": 17,
     "metadata": {},
     "output_type": "execute_result"
    },
    {
     "data": {
      "text/plain": [
       "Text(0, 0.5, '매출액')"
      ]
     },
     "execution_count": 17,
     "metadata": {},
     "output_type": "execute_result"
    },
    {
     "data": {
      "text/plain": [
       "Text(0, 0.5, '거리두기')"
      ]
     },
     "execution_count": 17,
     "metadata": {},
     "output_type": "execute_result"
    },
    {
     "data": {
      "text/plain": [
       "(0.0, 3.0)"
      ]
     },
     "execution_count": 17,
     "metadata": {},
     "output_type": "execute_result"
    },
    {
     "data": {
      "text/plain": [
       "[Text(0, 0, '2021-03-12'),\n",
       " Text(1, 0, '2021-03-19'),\n",
       " Text(2, 0, '2021-03-26'),\n",
       " Text(3, 0, '2021-04-02'),\n",
       " Text(4, 0, '2021-04-09'),\n",
       " Text(5, 0, '2021-04-16'),\n",
       " Text(6, 0, '2021-04-23'),\n",
       " Text(7, 0, '2021-04-30'),\n",
       " Text(8, 0, '2021-05-07'),\n",
       " Text(9, 0, '2021-05-14'),\n",
       " Text(10, 0, '2021-05-21'),\n",
       " Text(11, 0, '2021-05-28'),\n",
       " Text(12, 0, '2021-06-04'),\n",
       " Text(13, 0, '2021-06-11'),\n",
       " Text(14, 0, '2021-06-18'),\n",
       " Text(15, 0, '2021-06-25')]"
      ]
     },
     "execution_count": 17,
     "metadata": {},
     "output_type": "execute_result"
    },
    {
     "data": {
      "text/plain": [
       "<function matplotlib.pyplot.show(close=None, block=None)>"
      ]
     },
     "execution_count": 17,
     "metadata": {},
     "output_type": "execute_result"
    },
    {
     "data": {
      "text/plain": [
       "Text(0, 0.5, '매출액')"
      ]
     },
     "execution_count": 17,
     "metadata": {},
     "output_type": "execute_result"
    },
    {
     "data": {
      "text/plain": [
       "Text(0, 0.5, '거리두기')"
      ]
     },
     "execution_count": 17,
     "metadata": {},
     "output_type": "execute_result"
    },
    {
     "data": {
      "text/plain": [
       "(0.0, 3.0)"
      ]
     },
     "execution_count": 17,
     "metadata": {},
     "output_type": "execute_result"
    },
    {
     "data": {
      "text/plain": [
       "[Text(0, 0, '2020-08-16'),\n",
       " Text(1, 0, '2020-08-23'),\n",
       " Text(2, 0, '2020-08-30'),\n",
       " Text(3, 0, '2020-09-06'),\n",
       " Text(4, 0, '2020-09-13'),\n",
       " Text(5, 0, '2020-09-20'),\n",
       " Text(6, 0, '2020-09-27'),\n",
       " Text(7, 0, '2020-10-04'),\n",
       " Text(8, 0, '2020-10-11'),\n",
       " Text(9, 0, '2020-10-18'),\n",
       " Text(10, 0, '2020-10-25'),\n",
       " Text(11, 0, '2020-11-01'),\n",
       " Text(12, 0, '2020-11-08'),\n",
       " Text(13, 0, '2020-11-15'),\n",
       " Text(14, 0, '2020-11-22'),\n",
       " Text(15, 0, '2020-11-29'),\n",
       " Text(16, 0, '2020-12-06'),\n",
       " Text(17, 0, '2020-12-13'),\n",
       " Text(18, 0, '2020-12-20'),\n",
       " Text(19, 0, '2020-12-27')]"
      ]
     },
     "execution_count": 17,
     "metadata": {},
     "output_type": "execute_result"
    },
    {
     "data": {
      "text/plain": [
       "<function matplotlib.pyplot.show(close=None, block=None)>"
      ]
     },
     "execution_count": 17,
     "metadata": {},
     "output_type": "execute_result"
    },
    {
     "data": {
      "image/png": "[encoded data removed]",
      "text/plain": [
       "<Figure size 1080x504 with 2 Axes>"
      ]
     },
     "metadata": {
      "needs_background": "light"
     },
     "output_type": "display_data"
    },
    {
     "data": {
      "image/png": "[encoded data removed]",
      "text/plain": [
       "<Figure size 1152x576 with 2 Axes>"
      ]
     },
     "metadata": {
      "needs_background": "light"
     },
     "output_type": "display_data"
    },
    {
     "data": {
      "image/png": "[encoded data removed]",
      "text/plain": [
       "<Figure size 1080x504 with 2 Axes>"
      ]
     },
     "metadata": {
      "needs_background": "light"
     },
     "output_type": "display_data"
    }
   ],
   "source": [
    "bbx = bb.plot(kind='bar', x='주',y='매출액', color='Red')\n",
    "\n",
    "bbx1 = bb.plot(kind='line', x='주', y= '거리두기', secondary_y=True, color='Blue', ax=bbx)\n",
    "plt.gcf().set_size_inches(15, 7)\n",
    "bbx.set_ylabel('매출액')\n",
    "bbx1.set_ylabel('거리두기')\n",
    "plt.ylim([0, 3])\n",
    "bbx.set_xticklabels(bb['주'],rotation=45)\n",
    "plt.tight_layout()\n",
    "plt.show\n",
    "\n",
    "bx = b.plot(kind='bar', x='주',y='매출액', color='Red')\n",
    "bx1 = b.plot(kind='line', x='주', y= '거리두기', secondary_y=True, color='Blue', ax=bx)\n",
    "plt.gcf().set_size_inches(16, 8)\n",
    "bx.set_ylabel('매출액')\n",
    "bx1.set_ylabel('거리두기')\n",
    "plt.ylim([0, 3])\n",
    "bx.set_xticklabels(b['주'],rotation=45,ha='right')\n",
    "plt.tight_layout()\n",
    "plt.show\n",
    "\n",
    "cx = c.plot(kind='bar', x='주',y='매출액', color='Red')\n",
    "cx1 = c.plot(kind='line', x='주', y= '거리두기', secondary_y=True, color='Blue', ax=cx)\n",
    "plt.gcf().set_size_inches(15, 7)\n",
    "cx.set_ylabel('매출액')\n",
    "cx1.set_ylabel('거리두기')\n",
    "plt.ylim([0, 3])\n",
    "cx.set_xticklabels(c['주'],rotation=45,ha='right')\n",
    "plt.tight_layout()\n",
    "plt.show"
   ]
  },
  {
   "cell_type": "code",
   "execution_count": 19,
   "metadata": {},
   "outputs": [],
   "source": [
    "import seaborn as sns"
   ]
  },
  {
   "cell_type": "code",
   "execution_count": 22,
   "metadata": {},
   "outputs": [
    {
     "data": {
      "text/plain": [
       "Text(0.5, 0, '백신접종 이전 기간 (단위 : 주)')"
      ]
     },
     "execution_count": 22,
     "metadata": {},
     "output_type": "execute_result"
    },
    {
     "data": {
      "text/plain": [
       "Text(0, 0.5, '매출액')"
      ]
     },
     "execution_count": 22,
     "metadata": {},
     "output_type": "execute_result"
    },
    {
     "data": {
      "text/plain": [
       "Text(0, 0.5, '거리두기')"
      ]
     },
     "execution_count": 22,
     "metadata": {},
     "output_type": "execute_result"
    },
    {
     "data": {
      "text/plain": [
       "Text(0.5, 1.0, '백신접종 이전 영화 매출액 및 거리두기(서울)')"
      ]
     },
     "execution_count": 22,
     "metadata": {},
     "output_type": "execute_result"
    },
    {
     "data": {
      "text/plain": [
       "(0.0, 3.0)"
      ]
     },
     "execution_count": 22,
     "metadata": {},
     "output_type": "execute_result"
    },
    {
     "name": "stderr",
     "output_type": "stream",
     "text": [
      "<ipython-input-22-3a509a9eecaa>:24: UserWarning: FixedFormatter should only be used together with FixedLocator\n",
      "  ax.set_xticklabels(bb['주'], rotation=45, ha='right')\n"
     ]
    },
    {
     "data": {
      "text/plain": [
       "[Text(0, 0, '2020-08-16'),\n",
       " Text(1, 0, '2020-08-23'),\n",
       " Text(2, 0, '2020-08-30'),\n",
       " Text(3, 0, '2020-09-06'),\n",
       " Text(4, 0, '2020-09-13'),\n",
       " Text(5, 0, '2020-09-20'),\n",
       " Text(6, 0, '2020-09-27'),\n",
       " Text(7, 0, '2020-10-04'),\n",
       " Text(8, 0, '2020-10-11'),\n",
       " Text(9, 0, '2020-10-18'),\n",
       " Text(10, 0, '2020-10-25'),\n",
       " Text(11, 0, '2020-11-01'),\n",
       " Text(12, 0, '2020-11-08'),\n",
       " Text(13, 0, '2020-11-15'),\n",
       " Text(14, 0, '2020-11-22'),\n",
       " Text(15, 0, '2020-11-29'),\n",
       " Text(16, 0, '2020-12-06'),\n",
       " Text(17, 0, '2020-12-13'),\n",
       " Text(18, 0, '2020-12-20'),\n",
       " Text(19, 0, '2020-12-27'),\n",
       " Text(20, 0, '2021-01-01'),\n",
       " Text(21, 0, '2021-01-08'),\n",
       " Text(22, 0, '2021-01-15'),\n",
       " Text(23, 0, '2021-01-22'),\n",
       " Text(24, 0, '2021-01-29'),\n",
       " Text(25, 0, '2021-02-05'),\n",
       " Text(26, 0, '2021-02-12'),\n",
       " Text(27, 0, '2021-02-19'),\n",
       " Text(28, 0, '2021-02-26'),\n",
       " Text(29, 0, '2021-03-05')]"
      ]
     },
     "execution_count": 22,
     "metadata": {},
     "output_type": "execute_result"
    },
    {
     "data": {
      "image/png": "[encoded data removed]",
      "text/plain": [
       "<Figure size 1152x576 with 2 Axes>"
      ]
     },
     "metadata": {
      "needs_background": "light"
     },
     "output_type": "display_data"
    }
   ],
   "source": [
    "# 2020년 8월 ~2021년 3월5일\n",
    "x = bb['주']\n",
    "y = bb['매출액']\n",
    "y1 = bb['거리두기']\n",
    "\n",
    "fig, ax1 = plt.subplots()\n",
    "\n",
    "ax = plt.gca()\n",
    "ax2 = ax1.twinx()\n",
    "\n",
    "fig1 = sns.barplot(x=x, y=y, ax=ax1, color='Red')\n",
    "fig2 = sns.lineplot(x=x, y=y1, drawstyle='steps-pre', ax=ax2)\n",
    "\n",
    "\n",
    "#ax2=busan_vc_before.plot(kind='line', x='주', y='거리두기', secondary_y=True,color='Red', ax=ax)\n",
    "ax.set_xlabel('백신접종 이전 기간 (단위 : 주)')\n",
    "ax.set_ylabel('매출액')\n",
    "ax2.set_ylabel('거리두기')\n",
    "\n",
    "#plt.tight_layout()\n",
    "\n",
    "plt.title(\"백신접종 이전 영화 매출액 및 거리두기(서울)\")\n",
    "plt.gcf().set_size_inches(16, 8)\n",
    "plt.ylim([0, 3])\n",
    "ax.set_xticklabels(bb['주'], rotation=45, ha='right')\n",
    "plt.show()"
   ]
  },
  {
   "cell_type": "code",
   "execution_count": 24,
   "metadata": {},
   "outputs": [
    {
     "data": {
      "text/plain": [
       "Text(0.5, 0, '백신접종 이전 기간 (단위 : 주)')"
      ]
     },
     "execution_count": 24,
     "metadata": {},
     "output_type": "execute_result"
    },
    {
     "data": {
      "text/plain": [
       "Text(0, 0.5, '매출액')"
      ]
     },
     "execution_count": 24,
     "metadata": {},
     "output_type": "execute_result"
    },
    {
     "data": {
      "text/plain": [
       "Text(0, 0.5, '거리두기')"
      ]
     },
     "execution_count": 24,
     "metadata": {},
     "output_type": "execute_result"
    },
    {
     "data": {
      "text/plain": [
       "Text(0.5, 1.0, '백신접종 이전 영화 매출액 및 거리두기(서울)')"
      ]
     },
     "execution_count": 24,
     "metadata": {},
     "output_type": "execute_result"
    },
    {
     "data": {
      "text/plain": [
       "(0.0, 3.0)"
      ]
     },
     "execution_count": 24,
     "metadata": {},
     "output_type": "execute_result"
    },
    {
     "name": "stderr",
     "output_type": "stream",
     "text": [
      "<ipython-input-24-17cef963d6cd>:24: UserWarning: FixedFormatter should only be used together with FixedLocator\n",
      "  ax.set_xticklabels(b['주'], rotation=45, ha='right')\n"
     ]
    },
    {
     "data": {
      "text/plain": [
       "[Text(0, 0, '2021-03-12'),\n",
       " Text(1, 0, '2021-03-19'),\n",
       " Text(2, 0, '2021-03-26'),\n",
       " Text(3, 0, '2021-04-02'),\n",
       " Text(4, 0, '2021-04-09'),\n",
       " Text(5, 0, '2021-04-16'),\n",
       " Text(6, 0, '2021-04-23'),\n",
       " Text(7, 0, '2021-04-30'),\n",
       " Text(8, 0, '2021-05-07'),\n",
       " Text(9, 0, '2021-05-14'),\n",
       " Text(10, 0, '2021-05-21'),\n",
       " Text(11, 0, '2021-05-28'),\n",
       " Text(12, 0, '2021-06-04'),\n",
       " Text(13, 0, '2021-06-11'),\n",
       " Text(14, 0, '2021-06-18'),\n",
       " Text(15, 0, '2021-06-25')]"
      ]
     },
     "execution_count": 24,
     "metadata": {},
     "output_type": "execute_result"
    },
    {
     "data": {
      "image/png": "[encoded data removed]",
      "text/plain": [
       "<Figure size 1152x576 with 2 Axes>"
      ]
     },
     "metadata": {
      "needs_background": "light"
     },
     "output_type": "display_data"
    }
   ],
   "source": [
    "# 2021년 3월 5일 이후\n",
    "x = b['주']\n",
    "y = b['매출액']\n",
    "y1 = b['거리두기']\n",
    "\n",
    "fig, ax1 = plt.subplots()\n",
    "\n",
    "ax = plt.gca()\n",
    "ax2 = ax1.twinx()\n",
    "\n",
    "fig1 = sns.barplot(x=x, y=y, ax=ax1, color='Red')\n",
    "fig2 = sns.lineplot(x=x, y=y1, drawstyle='steps-pre', ax=ax2)\n",
    "\n",
    "\n",
    "#ax2=busan_vc_before.plot(kind='line', x='주', y='거리두기', secondary_y=True,color='Red', ax=ax)\n",
    "ax.set_xlabel('백신접종 이전 기간 (단위 : 주)')\n",
    "ax.set_ylabel('매출액')\n",
    "ax2.set_ylabel('거리두기')\n",
    "\n",
    "#plt.tight_layout()\n",
    "\n",
    "plt.title(\"백신접종 이전 영화 매출액 및 거리두기(서울)\")\n",
    "plt.gcf().set_size_inches(16, 8)\n",
    "plt.ylim([0, 3])\n",
    "ax.set_xticklabels(b['주'], rotation=45, ha='right')\n",
    "plt.show()"
   ]
  },
  {
   "cell_type": "code",
   "execution_count": null,
   "metadata": {},
   "outputs": [],
   "source": []
  }
 ],
 "metadata": {
  "kernelspec": {
   "display_name": "Python 3",
   "language": "python",
   "name": "python3"
  },
  "language_info": {
   "codemirror_mode": {
    "name": "ipython",
    "version": 3
   },
   "file_extension": ".py",
   "mimetype": "text/x-python",
   "name": "python",
   "nbconvert_exporter": "python",
   "pygments_lexer": "ipython3",
   "version": "3.8.5"
  }
 },
 "nbformat": 4,
 "nbformat_minor": 4
}
