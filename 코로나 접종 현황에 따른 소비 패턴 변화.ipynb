{
 "cells": [
  {
   "cell_type": "markdown",
   "id": "9da76493",
   "metadata": {},
   "source": [
    "## 210806 회의록\n",
    "\n",
    "- 회의 목표  :  주제 선정 \n",
    "\n",
    "- 주제 : 코로나 접종 현황에 따른 소비 패턴 변화!\n",
    "- 전제 : 월 별 접종 현황을 나누고\n",
    "\n",
    "- 전국 코로나 접종 현황 따른 변화 \n",
    "  - 소비내역 분석\n",
    "  - 이동량 변화 (카드내역, 대중교통, 통신사)\n",
    "  - 확산 (대구/ 여름 / 연말 )  /  제 4차 확산  (백신차이)"
   ]
  },
  {
   "cell_type": "code",
   "execution_count": 5,
   "id": "1b79e6ec",
   "metadata": {
    "scrolled": true
   },
   "outputs": [],
   "source": [
    "import requests\n",
    "from bs4 import BeautifulSoup\n",
    "\n",
    "import pandas as pd\n",
    "\n",
    "\n",
    "import matplotlib.pyplot as plt\n",
    "%matplotlib inline\n",
    "import warnings \n",
    "warnings.filterwarnings('ignore')\n",
    "from IPython.core.interactiveshell import InteractiveShell\n",
    "InteractiveShell.ast_node_interactivity=\"all\" "
   ]
  },
  {
   "cell_type": "code",
   "execution_count": 6,
   "id": "f98be736",
   "metadata": {},
   "outputs": [],
   "source": [
    "# 한글 문제\n",
    "# matplotlit의 기본 폰트에서 한글 지원되지 않기 때문에\n",
    "# matplotlib의 폰트 변경 필요\n",
    "import platform\n",
    "\n",
    "from matplotlib import font_manager, rc\n",
    "plt.rcParams['axes.unicode_minus'] = False\n",
    "\n",
    "if platform.system() == 'Windows':  # 윈도우\n",
    "    path = \"c:/Windows/Fonts/malgun.ttf\"\n",
    "    font_name = font_manager.FontProperties(fname=path).get_name()\n",
    "    rc('font', family=font_name)\n",
    "else:\n",
    "    print('Unknown system...  sorry~~~')\n"
   ]
  },
  {
   "cell_type": "markdown",
   "id": "d293c472",
   "metadata": {},
   "source": [
    "# 1. 일일 접종현황 ~ "
   ]
  },
  {
   "cell_type": "code",
   "execution_count": 379,
   "id": "e1af85c6",
   "metadata": {},
   "outputs": [],
   "source": [
    "vaccinated = pd.read_csv('./Data/owid-covid-data.csv')"
   ]
  },
  {
   "cell_type": "code",
   "execution_count": 380,
   "id": "cde896d8",
   "metadata": {},
   "outputs": [],
   "source": [
    "vaccinated_kor = vaccinated[vaccinated['iso_code']=='KOR']"
   ]
  },
  {
   "cell_type": "code",
   "execution_count": 381,
   "id": "31c76734",
   "metadata": {},
   "outputs": [],
   "source": [
    "vaccinated_kor = vaccinated_kor.reset_index(drop=True)"
   ]
  },
  {
   "cell_type": "code",
   "execution_count": 382,
   "id": "e6ee023f",
   "metadata": {},
   "outputs": [],
   "source": [
    "vaccinated_kor = vaccinated_kor.loc[:,['date',\n",
    "                      'people_vaccinated',\n",
    "                      'people_fully_vaccinated']]\n",
    "\n",
    "\n",
    "vaccinated_kor = vaccinated_kor.dropna()"
   ]
  },
  {
   "cell_type": "code",
   "execution_count": 383,
   "id": "a1c7b973",
   "metadata": {
    "scrolled": true
   },
   "outputs": [],
   "source": [
    "#str형태 날짜 다루기 쉽게 int로 변경\n",
    "date_list = []\n",
    "for i in vaccinated_kor['date']:\n",
    "    date = i.replace('-',\"\")\n",
    "    date_list.append(date)\n",
    "\n",
    "\n",
    "vaccinated_kor['date']=date_list\n",
    "\n",
    "vaccinated_kor = vaccinated_kor.rename(columns={\"date\":'날짜',\n",
    "                               \"people_vaccinated\":'전체접종',\n",
    "                               \"people_fully_vaccinated\":'2차접종'})\n"
   ]
  },
  {
   "cell_type": "code",
   "execution_count": 384,
   "id": "4cc6cc98",
   "metadata": {},
   "outputs": [],
   "source": [
    "vaccinated_kor = vaccinated_kor.reset_index(drop=True)"
   ]
  },
  {
   "cell_type": "code",
   "execution_count": 385,
   "id": "d30f8f91",
   "metadata": {},
   "outputs": [],
   "source": [
    "first_vc = []\n",
    "for i in range(144):\n",
    "    first_vc.append(vaccinated_kor['전체접종'][i] - vaccinated_kor['2차접종'][i])"
   ]
  },
  {
   "cell_type": "code",
   "execution_count": 386,
   "id": "3c65532e",
   "metadata": {},
   "outputs": [],
   "source": [
    "vaccinated_kor['1차접종'] = first_vc\n",
    "vaccinated_kor = vaccinated_kor[['날짜','1차접종','2차접종','전체접종']]\n",
    "#vaccinated_kor = vaccinated_kor.astype(int)"
   ]
  },
  {
   "cell_type": "code",
   "execution_count": 398,
   "id": "7d0d21a4",
   "metadata": {},
   "outputs": [
    {
     "data": {
      "text/html": [
       "<div>\n",
       "<style scoped>\n",
       "    .dataframe tbody tr th:only-of-type {\n",
       "        vertical-align: middle;\n",
       "    }\n",
       "\n",
       "    .dataframe tbody tr th {\n",
       "        vertical-align: top;\n",
       "    }\n",
       "\n",
       "    .dataframe thead th {\n",
       "        text-align: right;\n",
       "    }\n",
       "</style>\n",
       "<table border=\"1\" class=\"dataframe\">\n",
       "  <thead>\n",
       "    <tr style=\"text-align: right;\">\n",
       "      <th></th>\n",
       "      <th>날짜</th>\n",
       "      <th>1차접종</th>\n",
       "      <th>2차접종</th>\n",
       "      <th>전체접종</th>\n",
       "    </tr>\n",
       "  </thead>\n",
       "  <tbody>\n",
       "    <tr>\n",
       "      <th>0</th>\n",
       "      <td>20210320</td>\n",
       "      <td>681224.0</td>\n",
       "      <td>313.0</td>\n",
       "      <td>681537.0</td>\n",
       "    </tr>\n",
       "    <tr>\n",
       "      <th>1</th>\n",
       "      <td>20210321</td>\n",
       "      <td>680944.0</td>\n",
       "      <td>593.0</td>\n",
       "      <td>681537.0</td>\n",
       "    </tr>\n",
       "    <tr>\n",
       "      <th>2</th>\n",
       "      <td>20210322</td>\n",
       "      <td>684324.0</td>\n",
       "      <td>883.0</td>\n",
       "      <td>685207.0</td>\n",
       "    </tr>\n",
       "    <tr>\n",
       "      <th>3</th>\n",
       "      <td>20210323</td>\n",
       "      <td>705472.0</td>\n",
       "      <td>1498.0</td>\n",
       "      <td>706970.0</td>\n",
       "    </tr>\n",
       "    <tr>\n",
       "      <th>4</th>\n",
       "      <td>20210324</td>\n",
       "      <td>734784.0</td>\n",
       "      <td>2692.0</td>\n",
       "      <td>737476.0</td>\n",
       "    </tr>\n",
       "    <tr>\n",
       "      <th>...</th>\n",
       "      <td>...</td>\n",
       "      <td>...</td>\n",
       "      <td>...</td>\n",
       "      <td>...</td>\n",
       "    </tr>\n",
       "    <tr>\n",
       "      <th>139</th>\n",
       "      <td>20210806</td>\n",
       "      <td>13105480.0</td>\n",
       "      <td>7683371.0</td>\n",
       "      <td>20788851.0</td>\n",
       "    </tr>\n",
       "    <tr>\n",
       "      <th>140</th>\n",
       "      <td>20210807</td>\n",
       "      <td>13191006.0</td>\n",
       "      <td>7719219.0</td>\n",
       "      <td>20910225.0</td>\n",
       "    </tr>\n",
       "    <tr>\n",
       "      <th>141</th>\n",
       "      <td>20210808</td>\n",
       "      <td>13216416.0</td>\n",
       "      <td>7721457.0</td>\n",
       "      <td>20937873.0</td>\n",
       "    </tr>\n",
       "    <tr>\n",
       "      <th>142</th>\n",
       "      <td>20210809</td>\n",
       "      <td>13479011.0</td>\n",
       "      <td>7894715.0</td>\n",
       "      <td>21373726.0</td>\n",
       "    </tr>\n",
       "    <tr>\n",
       "      <th>143</th>\n",
       "      <td>20210810</td>\n",
       "      <td>13572126.0</td>\n",
       "      <td>8062980.0</td>\n",
       "      <td>21635106.0</td>\n",
       "    </tr>\n",
       "  </tbody>\n",
       "</table>\n",
       "<p>144 rows × 4 columns</p>\n",
       "</div>"
      ],
      "text/plain": [
       "           날짜        1차접종       2차접종        전체접종\n",
       "0    20210320    681224.0      313.0    681537.0\n",
       "1    20210321    680944.0      593.0    681537.0\n",
       "2    20210322    684324.0      883.0    685207.0\n",
       "3    20210323    705472.0     1498.0    706970.0\n",
       "4    20210324    734784.0     2692.0    737476.0\n",
       "..        ...         ...        ...         ...\n",
       "139  20210806  13105480.0  7683371.0  20788851.0\n",
       "140  20210807  13191006.0  7719219.0  20910225.0\n",
       "141  20210808  13216416.0  7721457.0  20937873.0\n",
       "142  20210809  13479011.0  7894715.0  21373726.0\n",
       "143  20210810  13572126.0  8062980.0  21635106.0\n",
       "\n",
       "[144 rows x 4 columns]"
      ]
     },
     "execution_count": 398,
     "metadata": {},
     "output_type": "execute_result"
    }
   ],
   "source": [
    "vaccinated_kor"
   ]
  },
  {
   "cell_type": "code",
   "execution_count": 399,
   "id": "92fb77c6",
   "metadata": {},
   "outputs": [
    {
     "data": {
      "text/plain": [
       "<Figure size 720x720 with 0 Axes>"
      ]
     },
     "execution_count": 399,
     "metadata": {},
     "output_type": "execute_result"
    },
    {
     "data": {
      "text/plain": [
       "[<matplotlib.lines.Line2D at 0x1ca5d704310>]"
      ]
     },
     "execution_count": 399,
     "metadata": {},
     "output_type": "execute_result"
    },
    {
     "data": {
      "text/plain": [
       "[<matplotlib.lines.Line2D at 0x1ca023c31c0>]"
      ]
     },
     "execution_count": 399,
     "metadata": {},
     "output_type": "execute_result"
    },
    {
     "data": {
      "text/plain": [
       "Text(0.5, 0, '접종일자')"
      ]
     },
     "execution_count": 399,
     "metadata": {},
     "output_type": "execute_result"
    },
    {
     "data": {
      "text/plain": [
       "Text(0, 0.5, '접종률')"
      ]
     },
     "execution_count": 399,
     "metadata": {},
     "output_type": "execute_result"
    },
    {
     "data": {
      "text/plain": [
       "([<matplotlib.axis.XTick at 0x1ca01f077f0>,\n",
       "  <matplotlib.axis.XTick at 0x1ca01f075e0>,\n",
       "  <matplotlib.axis.XTick at 0x1ca01c74970>,\n",
       "  <matplotlib.axis.XTick at 0x1ca01f13430>,\n",
       "  <matplotlib.axis.XTick at 0x1ca01f11790>,\n",
       "  <matplotlib.axis.XTick at 0x1ca01f0f880>,\n",
       "  <matplotlib.axis.XTick at 0x1ca01f0dfd0>,\n",
       "  <matplotlib.axis.XTick at 0x1ca01f0dbb0>,\n",
       "  <matplotlib.axis.XTick at 0x1ca01f0d0d0>,\n",
       "  <matplotlib.axis.XTick at 0x1ca01f0df70>,\n",
       "  <matplotlib.axis.XTick at 0x1ca01f11cd0>],\n",
       " [Text(0, 0, ''),\n",
       "  Text(0, 0, ''),\n",
       "  Text(0, 0, ''),\n",
       "  Text(0, 0, ''),\n",
       "  Text(0, 0, ''),\n",
       "  Text(0, 0, ''),\n",
       "  Text(0, 0, ''),\n",
       "  Text(0, 0, ''),\n",
       "  Text(0, 0, ''),\n",
       "  Text(0, 0, ''),\n",
       "  Text(0, 0, '')])"
      ]
     },
     "execution_count": 399,
     "metadata": {},
     "output_type": "execute_result"
    },
    {
     "data": {
      "text/plain": [
       "<matplotlib.legend.Legend at 0x1ca01f13ee0>"
      ]
     },
     "execution_count": 399,
     "metadata": {},
     "output_type": "execute_result"
    },
    {
     "data": {
      "image/png": "[encoded data removed]",
      "text/plain": [
       "<Figure size 720x720 with 1 Axes>"
      ]
     },
     "metadata": {
      "needs_background": "light"
     },
     "output_type": "display_data"
    }
   ],
   "source": [
    "plt.figure(figsize=(10,10))\n",
    "plt.plot(vaccinated_kor['날짜'], vaccinated_kor['1차접종'], color='green', label='1차접종')\n",
    "plt.plot(vaccinated_kor['날짜'], vaccinated_kor['2차접종'], color='red',label='2차접종')\n",
    "\n",
    "plt.xlabel('접종일자')\n",
    "plt.ylabel('접종률')\n",
    "plt.xticks([vaccinated_kor['날짜'][14*i] for i in range(11)],rotation=45)\n",
    "plt.legend(loc='best')"
   ]
  },
  {
   "cell_type": "code",
   "execution_count": null,
   "id": "c01b3949",
   "metadata": {},
   "outputs": [],
   "source": []
  }
 ],
 "metadata": {
  "kernelspec": {
   "display_name": "Python 3",
   "language": "python",
   "name": "python3"
  },
  "language_info": {
   "codemirror_mode": {
    "name": "ipython",
    "version": 3
   },
   "file_extension": ".py",
   "mimetype": "text/x-python",
   "name": "python",
   "nbconvert_exporter": "python",
   "pygments_lexer": "ipython3",
   "version": "3.8.8"
  }
 },
 "nbformat": 4,
 "nbformat_minor": 5
}
