{
 "cells": [
  {
   "cell_type": "markdown",
   "id": "9da76493",
   "metadata": {},
   "source": [
    "## 210806 회의록\n",
    "\n",
    "- 회의 목표  :  주제 선정 \n",
    "\n",
    "- 주제 : 코로나 접종 현황에 따른 소비 패턴 변화!\n",
    "- 전제 : 월 별 접종 현황을 나누고\n",
    "\n",
    "- 전국 코로나 접종 현황 따른 변화 \n",
    "  - 소비내역 분석\n",
    "  - 이동량 변화 (카드내역, 대중교통, 통신사)\n",
    "  - 확산 (대구/ 여름 / 연말 )  /  제 4차 확산  (백신차이)"
   ]
  },
  {
   "cell_type": "code",
   "execution_count": 1,
   "id": "1b79e6ec",
   "metadata": {
    "scrolled": true
   },
   "outputs": [],
   "source": [
    "import requests\n",
    "from bs4 import BeautifulSoup\n",
    "\n",
    "import pandas as pd\n",
    "\n",
    "\n",
    "import matplotlib.pyplot as plt\n",
    "%matplotlib inline\n",
    "import warnings \n",
    "warnings.filterwarnings('ignore')\n",
    "from IPython.core.interactiveshell import InteractiveShell\n",
    "InteractiveShell.ast_node_interactivity=\"all\" "
   ]
  },
  {
   "cell_type": "code",
   "execution_count": 2,
   "id": "f98be736",
   "metadata": {},
   "outputs": [],
   "source": [
    "# 한글 문제\n",
    "# matplotlit의 기본 폰트에서 한글 지원되지 않기 때문에\n",
    "# matplotlib의 폰트 변경 필요\n",
    "import platform\n",
    "\n",
    "from matplotlib import font_manager, rc\n",
    "plt.rcParams['axes.unicode_minus'] = False\n",
    "\n",
    "if platform.system() == 'Windows':  # 윈도우\n",
    "    path = \"c:/Windows/Fonts/malgun.ttf\"\n",
    "    font_name = font_manager.FontProperties(fname=path).get_name()\n",
    "    rc('font', family=font_name)\n",
    "else:\n",
    "    print('Unknown system...  sorry~~~')\n"
   ]
  },
  {
   "cell_type": "markdown",
   "id": "abb71b98",
   "metadata": {},
   "source": [
    "# 1. 백신 접종률을 api를 통해 받아오기"
   ]
  },
  {
   "cell_type": "code",
   "execution_count": 3,
   "id": "40411383",
   "metadata": {},
   "outputs": [],
   "source": [
    "# KEY = \"634d526578776f6f3632585548614d\"\n",
    "# TYPE = \"json\"\n",
    "# SERVICE = \"tvCorona19VaccinestatNew\"\n",
    "# START_INDEX = \"1\"\n",
    "# END_INDEX = \"5\"\n",
    "url = 'http://openapi.seoul.go.kr:8088/634d526578776f6f3632585548614d/json/tvCorona19VaccinestatNew/1/108/'"
   ]
  },
  {
   "cell_type": "code",
   "execution_count": 4,
   "id": "bdf77baa",
   "metadata": {
    "scrolled": true
   },
   "outputs": [],
   "source": [
    "result = requests.get(url)\n",
    "vaccine_info = result.json()['tvCorona19VaccinestatNew']['row']"
   ]
  },
  {
   "cell_type": "code",
   "execution_count": 5,
   "id": "01379ff5",
   "metadata": {},
   "outputs": [],
   "source": [
    "first_rate = []\n",
    "second_rate = []\n",
    "date = []\n",
    "\n",
    "\n",
    "for i in range(len(vaccine_info)-1,-1,-1):\n",
    "    date.append(vaccine_info[i]['S_VC_DT'])\n",
    "    first_rate.append(vaccine_info[i]['FIR_INC_RATE'])\n",
    "    second_rate.append(vaccine_info[i]['SCD_INC_RATE'])\n",
    "    "
   ]
  },
  {
   "cell_type": "code",
   "execution_count": 6,
   "id": "48cda5de",
   "metadata": {},
   "outputs": [],
   "source": [
    "vaccine_df = pd.DataFrame({\"접종일자\":date, \"1차접종률\":first_rate,\"2차접종률\":second_rate})\n",
    "vaccine_df['1차접종률'] = vaccine_df['1차접종률'].astype(float)\n",
    "vaccine_df['2차접종률'] = vaccine_df['2차접종률'].astype(float)"
   ]
  },
  {
   "cell_type": "code",
   "execution_count": 7,
   "id": "7c6ddf99",
   "metadata": {
    "scrolled": false
   },
   "outputs": [
    {
     "data": {
      "text/plain": [
       "<Figure size 720x720 with 0 Axes>"
      ]
     },
     "execution_count": 7,
     "metadata": {},
     "output_type": "execute_result"
    },
    {
     "data": {
      "text/plain": [
       "[<matplotlib.lines.Line2D at 0x25ab45eef70>]"
      ]
     },
     "execution_count": 7,
     "metadata": {},
     "output_type": "execute_result"
    },
    {
     "data": {
      "text/plain": [
       "[<matplotlib.lines.Line2D at 0x25ab4c945e0>]"
      ]
     },
     "execution_count": 7,
     "metadata": {},
     "output_type": "execute_result"
    },
    {
     "data": {
      "text/plain": [
       "Text(0.5, 0, '접종일자')"
      ]
     },
     "execution_count": 7,
     "metadata": {},
     "output_type": "execute_result"
    },
    {
     "data": {
      "text/plain": [
       "Text(0, 0.5, '접종률')"
      ]
     },
     "execution_count": 7,
     "metadata": {},
     "output_type": "execute_result"
    },
    {
     "data": {
      "text/plain": [
       "([<matplotlib.axis.XTick at 0x25ab45c4ac0>,\n",
       "  <matplotlib.axis.XTick at 0x25ab45c4a90>,\n",
       "  <matplotlib.axis.XTick at 0x25ab45b7d00>,\n",
       "  <matplotlib.axis.XTick at 0x25ab4c94cd0>,\n",
       "  <matplotlib.axis.XTick at 0x25ab4cb1100>,\n",
       "  <matplotlib.axis.XTick at 0x25ab4cb1640>,\n",
       "  <matplotlib.axis.XTick at 0x25ab4cb1b50>,\n",
       "  <matplotlib.axis.XTick at 0x25ab4cb40a0>],\n",
       " [Text(0, 0, ''),\n",
       "  Text(0, 0, ''),\n",
       "  Text(0, 0, ''),\n",
       "  Text(0, 0, ''),\n",
       "  Text(0, 0, ''),\n",
       "  Text(0, 0, ''),\n",
       "  Text(0, 0, ''),\n",
       "  Text(0, 0, '')])"
      ]
     },
     "execution_count": 7,
     "metadata": {},
     "output_type": "execute_result"
    },
    {
     "data": {
      "text/plain": [
       "<matplotlib.legend.Legend at 0x25ab4c947f0>"
      ]
     },
     "execution_count": 7,
     "metadata": {},
     "output_type": "execute_result"
    },
    {
     "data": {
      "image/png": "[encoded data removed]",
      "text/plain": [
       "<Figure size 720x720 with 1 Axes>"
      ]
     },
     "metadata": {
      "needs_background": "light"
     },
     "output_type": "display_data"
    }
   ],
   "source": [
    "plt.figure(figsize=(10,10))\n",
    "plt.plot(vaccine_df['접종일자'], vaccine_df['1차접종률'], color='green', label='1차접종률')\n",
    "plt.plot(vaccine_df['접종일자'], vaccine_df['2차접종률'], color='red',label='2차접종률')\n",
    "\n",
    "plt.xlabel('접종일자')\n",
    "plt.ylabel('접종률')\n",
    "plt.xticks([vaccine_df['접종일자'][15*i] for i in range(8)],rotation=45)\n",
    "\n",
    "plt.legend(loc='best')"
   ]
  },
  {
   "cell_type": "markdown",
   "id": "8846166f",
   "metadata": {},
   "source": [
    "# 2. 소비내역 체크 (코로나이전, 코로나 발생이후 데이터)\n",
    "\n",
    "### 백신접종 시작 이후 데이터는 따로 구해야함!"
   ]
  },
  {
   "cell_type": "code",
   "execution_count": 8,
   "id": "d0f9ce58",
   "metadata": {},
   "outputs": [],
   "source": [
    "card_use = pd.read_excel('./Data/신한카드_코로나19_카드이용건수.xlsx')"
   ]
  },
  {
   "cell_type": "code",
   "execution_count": 9,
   "id": "2375affa",
   "metadata": {},
   "outputs": [
    {
     "data": {
      "text/plain": [
       "0       20190101\n",
       "1       20190101\n",
       "2       20190101\n",
       "3       20190101\n",
       "4       20190101\n",
       "          ...   \n",
       "5533    20200630\n",
       "5534    20200630\n",
       "5535    20200630\n",
       "5536    20200630\n",
       "5537    20200630\n",
       "Name: 이용일자, Length: 5538, dtype: int64"
      ]
     },
     "execution_count": 9,
     "metadata": {},
     "output_type": "execute_result"
    }
   ],
   "source": [
    "card_use['이용일자']"
   ]
  },
  {
   "cell_type": "code",
   "execution_count": 10,
   "id": "2458e7a7",
   "metadata": {},
   "outputs": [
    {
     "data": {
      "text/html": [
       "<div>\n",
       "<style scoped>\n",
       "    .dataframe tbody tr th:only-of-type {\n",
       "        vertical-align: middle;\n",
       "    }\n",
       "\n",
       "    .dataframe tbody tr th {\n",
       "        vertical-align: top;\n",
       "    }\n",
       "\n",
       "    .dataframe thead th {\n",
       "        text-align: right;\n",
       "    }\n",
       "</style>\n",
       "<table border=\"1\" class=\"dataframe\">\n",
       "  <thead>\n",
       "    <tr style=\"text-align: right;\">\n",
       "      <th></th>\n",
       "      <th>이용일자</th>\n",
       "      <th>업종대분류</th>\n",
       "      <th>카드결제건수(천건)</th>\n",
       "    </tr>\n",
       "  </thead>\n",
       "  <tbody>\n",
       "    <tr>\n",
       "      <th>0</th>\n",
       "      <td>20190101</td>\n",
       "      <td>가전/가구</td>\n",
       "      <td>149</td>\n",
       "    </tr>\n",
       "    <tr>\n",
       "      <th>1</th>\n",
       "      <td>20190101</td>\n",
       "      <td>가정생활/서비스</td>\n",
       "      <td>189</td>\n",
       "    </tr>\n",
       "    <tr>\n",
       "      <th>2</th>\n",
       "      <td>20190101</td>\n",
       "      <td>교육/학원</td>\n",
       "      <td>142</td>\n",
       "    </tr>\n",
       "    <tr>\n",
       "      <th>3</th>\n",
       "      <td>20190101</td>\n",
       "      <td>미용</td>\n",
       "      <td>464</td>\n",
       "    </tr>\n",
       "    <tr>\n",
       "      <th>4</th>\n",
       "      <td>20190101</td>\n",
       "      <td>스포츠/문화/레저</td>\n",
       "      <td>1752</td>\n",
       "    </tr>\n",
       "    <tr>\n",
       "      <th>...</th>\n",
       "      <td>...</td>\n",
       "      <td>...</td>\n",
       "      <td>...</td>\n",
       "    </tr>\n",
       "    <tr>\n",
       "      <th>3167</th>\n",
       "      <td>20190901</td>\n",
       "      <td>음/식료품</td>\n",
       "      <td>1459</td>\n",
       "    </tr>\n",
       "    <tr>\n",
       "      <th>3168</th>\n",
       "      <td>20190901</td>\n",
       "      <td>의료</td>\n",
       "      <td>473</td>\n",
       "    </tr>\n",
       "    <tr>\n",
       "      <th>3169</th>\n",
       "      <td>20190901</td>\n",
       "      <td>자동차</td>\n",
       "      <td>267</td>\n",
       "    </tr>\n",
       "    <tr>\n",
       "      <th>3170</th>\n",
       "      <td>20190901</td>\n",
       "      <td>주유</td>\n",
       "      <td>1874</td>\n",
       "    </tr>\n",
       "    <tr>\n",
       "      <th>3171</th>\n",
       "      <td>20190901</td>\n",
       "      <td>패션/잡화</td>\n",
       "      <td>519</td>\n",
       "    </tr>\n",
       "  </tbody>\n",
       "</table>\n",
       "<p>3172 rows × 3 columns</p>\n",
       "</div>"
      ],
      "text/plain": [
       "          이용일자      업종대분류  카드결제건수(천건)\n",
       "0     20190101      가전/가구         149\n",
       "1     20190101   가정생활/서비스         189\n",
       "2     20190101      교육/학원         142\n",
       "3     20190101         미용         464\n",
       "4     20190101  스포츠/문화/레저        1752\n",
       "...        ...        ...         ...\n",
       "3167  20190901      음/식료품        1459\n",
       "3168  20190901         의료         473\n",
       "3169  20190901        자동차         267\n",
       "3170  20190901         주유        1874\n",
       "3171  20190901      패션/잡화         519\n",
       "\n",
       "[3172 rows x 3 columns]"
      ]
     },
     "execution_count": 10,
     "metadata": {},
     "output_type": "execute_result"
    }
   ],
   "source": [
    "pre_corona = card_use[card_use['이용일자']<20200000]\n",
    "pre_corona"
   ]
  },
  {
   "cell_type": "code",
   "execution_count": 11,
   "id": "2f7347d5",
   "metadata": {},
   "outputs": [
    {
     "data": {
      "text/html": [
       "<div>\n",
       "<style scoped>\n",
       "    .dataframe tbody tr th:only-of-type {\n",
       "        vertical-align: middle;\n",
       "    }\n",
       "\n",
       "    .dataframe tbody tr th {\n",
       "        vertical-align: top;\n",
       "    }\n",
       "\n",
       "    .dataframe thead th {\n",
       "        text-align: right;\n",
       "    }\n",
       "</style>\n",
       "<table border=\"1\" class=\"dataframe\">\n",
       "  <thead>\n",
       "    <tr style=\"text-align: right;\">\n",
       "      <th></th>\n",
       "      <th>이용일자</th>\n",
       "      <th>업종대분류</th>\n",
       "      <th>카드결제건수(천건)</th>\n",
       "    </tr>\n",
       "  </thead>\n",
       "  <tbody>\n",
       "    <tr>\n",
       "      <th>3172</th>\n",
       "      <td>20200101</td>\n",
       "      <td>가전/가구</td>\n",
       "      <td>158</td>\n",
       "    </tr>\n",
       "    <tr>\n",
       "      <th>3173</th>\n",
       "      <td>20200101</td>\n",
       "      <td>가정생활/서비스</td>\n",
       "      <td>197</td>\n",
       "    </tr>\n",
       "    <tr>\n",
       "      <th>3174</th>\n",
       "      <td>20200101</td>\n",
       "      <td>교육/학원</td>\n",
       "      <td>145</td>\n",
       "    </tr>\n",
       "    <tr>\n",
       "      <th>3175</th>\n",
       "      <td>20200101</td>\n",
       "      <td>미용</td>\n",
       "      <td>464</td>\n",
       "    </tr>\n",
       "    <tr>\n",
       "      <th>3176</th>\n",
       "      <td>20200101</td>\n",
       "      <td>스포츠/문화/레저</td>\n",
       "      <td>1969</td>\n",
       "    </tr>\n",
       "    <tr>\n",
       "      <th>...</th>\n",
       "      <td>...</td>\n",
       "      <td>...</td>\n",
       "      <td>...</td>\n",
       "    </tr>\n",
       "    <tr>\n",
       "      <th>5533</th>\n",
       "      <td>20200630</td>\n",
       "      <td>음/식료품</td>\n",
       "      <td>1549</td>\n",
       "    </tr>\n",
       "    <tr>\n",
       "      <th>5534</th>\n",
       "      <td>20200630</td>\n",
       "      <td>의료</td>\n",
       "      <td>2887</td>\n",
       "    </tr>\n",
       "    <tr>\n",
       "      <th>5535</th>\n",
       "      <td>20200630</td>\n",
       "      <td>자동차</td>\n",
       "      <td>418</td>\n",
       "    </tr>\n",
       "    <tr>\n",
       "      <th>5536</th>\n",
       "      <td>20200630</td>\n",
       "      <td>주유</td>\n",
       "      <td>2008</td>\n",
       "    </tr>\n",
       "    <tr>\n",
       "      <th>5537</th>\n",
       "      <td>20200630</td>\n",
       "      <td>패션/잡화</td>\n",
       "      <td>360</td>\n",
       "    </tr>\n",
       "  </tbody>\n",
       "</table>\n",
       "<p>2366 rows × 3 columns</p>\n",
       "</div>"
      ],
      "text/plain": [
       "          이용일자      업종대분류  카드결제건수(천건)\n",
       "3172  20200101      가전/가구         158\n",
       "3173  20200101   가정생활/서비스         197\n",
       "3174  20200101      교육/학원         145\n",
       "3175  20200101         미용         464\n",
       "3176  20200101  스포츠/문화/레저        1969\n",
       "...        ...        ...         ...\n",
       "5533  20200630      음/식료품        1549\n",
       "5534  20200630         의료        2887\n",
       "5535  20200630        자동차         418\n",
       "5536  20200630         주유        2008\n",
       "5537  20200630      패션/잡화         360\n",
       "\n",
       "[2366 rows x 3 columns]"
      ]
     },
     "execution_count": 11,
     "metadata": {},
     "output_type": "execute_result"
    }
   ],
   "source": [
    "post_corona = card_use[card_use['이용일자']>20200000]\n",
    "post_corona"
   ]
  },
  {
   "cell_type": "code",
   "execution_count": null,
   "id": "1898e845",
   "metadata": {},
   "outputs": [],
   "source": []
  },
  {
   "cell_type": "markdown",
   "id": "1d17a39a",
   "metadata": {},
   "source": [
    "# 3. 질병관리청 통계 크롤링"
   ]
  },
  {
   "cell_type": "code",
   "execution_count": 82,
   "id": "0ff4d5ab",
   "metadata": {},
   "outputs": [],
   "source": [
    "url = \"https://ncv.kdca.go.kr/mainStatus.es?mid=a11702000000\"\n",
    "\n",
    "res = requests.get(url)"
   ]
  },
  {
   "cell_type": "code",
   "execution_count": 83,
   "id": "5022f003",
   "metadata": {},
   "outputs": [],
   "source": [
    "html = res.text\n",
    "soup = BeautifulSoup(html, 'html.parser')"
   ]
  },
  {
   "cell_type": "code",
   "execution_count": 89,
   "id": "be3fecb5",
   "metadata": {},
   "outputs": [
    {
     "data": {
      "text/html": [
       "<div>\n",
       "<style scoped>\n",
       "    .dataframe tbody tr th:only-of-type {\n",
       "        vertical-align: middle;\n",
       "    }\n",
       "\n",
       "    .dataframe tbody tr th {\n",
       "        vertical-align: top;\n",
       "    }\n",
       "\n",
       "    .dataframe thead th {\n",
       "        text-align: right;\n",
       "    }\n",
       "</style>\n",
       "<table border=\"1\" class=\"dataframe\">\n",
       "  <thead>\n",
       "    <tr style=\"text-align: right;\">\n",
       "      <th></th>\n",
       "      <th>서울</th>\n",
       "    </tr>\n",
       "  </thead>\n",
       "  <tbody>\n",
       "    <tr>\n",
       "      <th>당일실적_1</th>\n",
       "      <td>48625</td>\n",
       "    </tr>\n",
       "    <tr>\n",
       "      <th>당일누계_1</th>\n",
       "      <td>4010500</td>\n",
       "    </tr>\n",
       "    <tr>\n",
       "      <th>당일실적_2</th>\n",
       "      <td>34387</td>\n",
       "    </tr>\n",
       "    <tr>\n",
       "      <th>당일누계_2</th>\n",
       "      <td>1515914</td>\n",
       "    </tr>\n",
       "  </tbody>\n",
       "</table>\n",
       "</div>"
      ],
      "text/plain": [
       "             서울\n",
       "당일실적_1    48625\n",
       "당일누계_1  4010500\n",
       "당일실적_2    34387\n",
       "당일누계_2  1515914"
      ]
     },
     "execution_count": 89,
     "metadata": {},
     "output_type": "execute_result"
    }
   ],
   "source": [
    "a = soup.select('tbody tr')\n",
    "seoul = a[4]\n",
    "\n",
    "name = seoul.find('th', {\"scope\":'row'}).text\n",
    "first_day = seoul.find_all('td', {\"class\":'ta_r'})[0].text.replace(',',\"\")\n",
    "first_sum = seoul.find_all('td', {\"class\":'ta_r'})[1].text.replace(',',\"\")\n",
    "second_day = seoul.find_all('td', {\"class\":'ta_r'})[2].text.replace(',',\"\")\n",
    "second_sum = seoul.find_all('td', {\"class\":'ta_r'})[3].text.replace(',',\"\")\n",
    "\n",
    "seoul_data =[int(first_day), int(first_sum), int(second_day), int(second_sum)]\n",
    "\n",
    "seoul_df = pd.DataFrame(seoul_data,index=[\"당일실적_1\",\"당일누계_1\",\"당일실적_2\",\"당일누계_2\"],columns=['서울'])\n",
    "seoul_df\n",
    "\n",
    "\n",
    "seoul_df.to_csv('./Data/질병관리청통계크롤링.csv',encoding='euc-kr')"
   ]
  },
  {
   "cell_type": "code",
   "execution_count": null,
   "id": "065af15c",
   "metadata": {},
   "outputs": [],
   "source": []
  }
 ],
 "metadata": {
  "kernelspec": {
   "display_name": "Python 3",
   "language": "python",
   "name": "python3"
  },
  "language_info": {
   "codemirror_mode": {
    "name": "ipython",
    "version": 3
   },
   "file_extension": ".py",
   "mimetype": "text/x-python",
   "name": "python",
   "nbconvert_exporter": "python",
   "pygments_lexer": "ipython3",
   "version": "3.8.8"
  }
 },
 "nbformat": 4,
 "nbformat_minor": 5
}
