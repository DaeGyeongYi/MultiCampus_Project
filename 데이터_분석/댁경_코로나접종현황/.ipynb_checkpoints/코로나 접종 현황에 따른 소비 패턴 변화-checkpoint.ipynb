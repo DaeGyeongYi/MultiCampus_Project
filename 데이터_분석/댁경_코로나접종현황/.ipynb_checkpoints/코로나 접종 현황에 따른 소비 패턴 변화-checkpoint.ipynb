{
 "cells": [
  {
   "cell_type": "markdown",
   "id": "9da76493",
   "metadata": {},
   "source": [
    "## 210806 회의록\n",
    "\n",
    "- 회의 목표  :  주제 선정 \n",
    "\n",
    "- 주제 : 코로나 접종 현황에 따른 소비 패턴 변화!\n",
    "- 전제 : 월 별 접종 현황을 나누고\n",
    "\n",
    "- 전국 코로나 접종 현황 따른 변화 \n",
    "  - 소비내역 분석\n",
    "  - 이동량 변화 (카드내역, 대중교통, 통신사)\n",
    "  - 확산 (대구/ 여름 / 연말 )  /  제 4차 확산  (백신차이)"
   ]
  },
  {
   "cell_type": "code",
   "execution_count": 2,
   "id": "1b79e6ec",
   "metadata": {
    "scrolled": true
   },
   "outputs": [],
   "source": [
    "import requests\n",
    "from bs4 import BeautifulSoup\n",
    "from urllib.parse import urlencode,quote\n",
    "import urllib.request\n",
    "import requests\n",
    "import json\n",
    "\n",
    "import pandas as pd\n",
    "\n",
    "\n",
    "\n",
    "import seaborn as sns\n",
    "import matplotlib.pyplot as plt\n",
    "%matplotlib inline\n",
    "import warnings \n",
    "warnings.filterwarnings('ignore')\n",
    "from IPython.core.interactiveshell import InteractiveShell\n",
    "InteractiveShell.ast_node_interactivity=\"all\" "
   ]
  },
  {
   "cell_type": "code",
   "execution_count": 43,
   "id": "f98be736",
   "metadata": {},
   "outputs": [],
   "source": [
    "# 한글 문제\n",
    "# matplotlit의 기본 폰트에서 한글 지원되지 않기 때문에\n",
    "# matplotlib의 폰트 변경 필요\n",
    "import platform\n",
    "\n",
    "from matplotlib import font_manager, rc\n",
    "plt.rcParams['axes.unicode_minus'] = False\n",
    "\n",
    "if platform.system() == 'Windows':  # 윈도우\n",
    "    path = \"c:/Windows/Fonts/malgun.ttf\"\n",
    "    font_name = font_manager.FontProperties(fname=path).get_name()\n",
    "    rc('font', family=font_name)\n",
    "else:\n",
    "    print('Unknown system...  sorry~~~')\n"
   ]
  },
  {
   "cell_type": "markdown",
   "id": "d293c472",
   "metadata": {},
   "source": [
    "# 1. 일일 접종현황 ~ "
   ]
  },
  {
   "cell_type": "code",
   "execution_count": 44,
   "id": "e1af85c6",
   "metadata": {},
   "outputs": [],
   "source": [
    "vaccinated = pd.read_csv('./Data/owid-covid-data.csv')"
   ]
  },
  {
   "cell_type": "code",
   "execution_count": 45,
   "id": "2de9fae8",
   "metadata": {},
   "outputs": [
    {
     "data": {
      "text/plain": [
       "Index(['iso_code', 'continent', 'location', 'date', 'total_cases', 'new_cases',\n",
       "       'new_cases_smoothed', 'total_deaths', 'new_deaths',\n",
       "       'new_deaths_smoothed', 'total_cases_per_million',\n",
       "       'new_cases_per_million', 'new_cases_smoothed_per_million',\n",
       "       'total_deaths_per_million', 'new_deaths_per_million',\n",
       "       'new_deaths_smoothed_per_million', 'reproduction_rate', 'icu_patients',\n",
       "       'icu_patients_per_million', 'hosp_patients',\n",
       "       'hosp_patients_per_million', 'weekly_icu_admissions',\n",
       "       'weekly_icu_admissions_per_million', 'weekly_hosp_admissions',\n",
       "       'weekly_hosp_admissions_per_million', 'new_tests', 'total_tests',\n",
       "       'total_tests_per_thousand', 'new_tests_per_thousand',\n",
       "       'new_tests_smoothed', 'new_tests_smoothed_per_thousand',\n",
       "       'positive_rate', 'tests_per_case', 'tests_units', 'total_vaccinations',\n",
       "       'people_vaccinated', 'people_fully_vaccinated', 'new_vaccinations',\n",
       "       'new_vaccinations_smoothed', 'total_vaccinations_per_hundred',\n",
       "       'people_vaccinated_per_hundred', 'people_fully_vaccinated_per_hundred',\n",
       "       'new_vaccinations_smoothed_per_million', 'stringency_index',\n",
       "       'population', 'population_density', 'median_age', 'aged_65_older',\n",
       "       'aged_70_older', 'gdp_per_capita', 'extreme_poverty',\n",
       "       'cardiovasc_death_rate', 'diabetes_prevalence', 'female_smokers',\n",
       "       'male_smokers', 'handwashing_facilities', 'hospital_beds_per_thousand',\n",
       "       'life_expectancy', 'human_development_index', 'excess_mortality'],\n",
       "      dtype='object')"
      ]
     },
     "execution_count": 45,
     "metadata": {},
     "output_type": "execute_result"
    }
   ],
   "source": [
    "vaccinated.columns"
   ]
  },
  {
   "cell_type": "code",
   "execution_count": 46,
   "id": "cde896d8",
   "metadata": {},
   "outputs": [],
   "source": [
    "vaccinated_kor = vaccinated[vaccinated['iso_code']=='KOR']"
   ]
  },
  {
   "cell_type": "code",
   "execution_count": 47,
   "id": "31c76734",
   "metadata": {},
   "outputs": [],
   "source": [
    "vaccinated_kor = vaccinated_kor.reset_index(drop=True)"
   ]
  },
  {
   "cell_type": "code",
   "execution_count": null,
   "id": "f8563525",
   "metadata": {},
   "outputs": [],
   "source": []
  },
  {
   "cell_type": "code",
   "execution_count": 48,
   "id": "e6ee023f",
   "metadata": {},
   "outputs": [],
   "source": [
    "vaccinated_kor = vaccinated_kor.loc[:,['date',\n",
    "                      'people_vaccinated',\n",
    "                      'people_fully_vaccinated']]\n",
    "\n",
    "#nan값 처리\n",
    "vaccinated_kor = vaccinated_kor.dropna()"
   ]
  },
  {
   "cell_type": "code",
   "execution_count": 49,
   "id": "a1c7b973",
   "metadata": {
    "scrolled": true
   },
   "outputs": [],
   "source": [
    "#str형태 날짜 다루기 쉽게 int로 변경\n",
    "date_list = []\n",
    "for i in vaccinated_kor['date']:\n",
    "    date = i.replace('-',\"\")\n",
    "    date_list.append(date)\n",
    "\n",
    "#날짜 column 추가\n",
    "vaccinated_kor['date']=date_list\n",
    "\n",
    "#column 순서 재조정\n",
    "vaccinated_kor = vaccinated_kor.rename(columns={\"date\":'날짜',\n",
    "                               \"people_vaccinated\":'전체접종',\n",
    "                               \"people_fully_vaccinated\":'2차접종'})\n"
   ]
  },
  {
   "cell_type": "code",
   "execution_count": 50,
   "id": "4cc6cc98",
   "metadata": {},
   "outputs": [],
   "source": [
    "#index 재조정\"\n",
    "vaccinated_kor = vaccinated_kor.reset_index(drop=True)"
   ]
  },
  {
   "cell_type": "code",
   "execution_count": 51,
   "id": "d30f8f91",
   "metadata": {},
   "outputs": [],
   "source": [
    "#1차 접종자 계산 후 column으로 추가\n",
    "first_vc = vaccinated_kor['전체접종'] - vaccinated_kor['2차접종']"
   ]
  },
  {
   "cell_type": "code",
   "execution_count": 52,
   "id": "3c65532e",
   "metadata": {
    "scrolled": true
   },
   "outputs": [
    {
     "data": {
      "text/html": [
       "<div>\n",
       "<style scoped>\n",
       "    .dataframe tbody tr th:only-of-type {\n",
       "        vertical-align: middle;\n",
       "    }\n",
       "\n",
       "    .dataframe tbody tr th {\n",
       "        vertical-align: top;\n",
       "    }\n",
       "\n",
       "    .dataframe thead th {\n",
       "        text-align: right;\n",
       "    }\n",
       "</style>\n",
       "<table border=\"1\" class=\"dataframe\">\n",
       "  <thead>\n",
       "    <tr style=\"text-align: right;\">\n",
       "      <th></th>\n",
       "      <th>날짜</th>\n",
       "      <th>1차접종</th>\n",
       "      <th>2차접종</th>\n",
       "      <th>전체접종</th>\n",
       "    </tr>\n",
       "  </thead>\n",
       "  <tbody>\n",
       "    <tr>\n",
       "      <th>0</th>\n",
       "      <td>20210320</td>\n",
       "      <td>681224.0</td>\n",
       "      <td>313.0</td>\n",
       "      <td>681537.0</td>\n",
       "    </tr>\n",
       "    <tr>\n",
       "      <th>1</th>\n",
       "      <td>20210321</td>\n",
       "      <td>680944.0</td>\n",
       "      <td>593.0</td>\n",
       "      <td>681537.0</td>\n",
       "    </tr>\n",
       "    <tr>\n",
       "      <th>2</th>\n",
       "      <td>20210322</td>\n",
       "      <td>684324.0</td>\n",
       "      <td>883.0</td>\n",
       "      <td>685207.0</td>\n",
       "    </tr>\n",
       "    <tr>\n",
       "      <th>3</th>\n",
       "      <td>20210323</td>\n",
       "      <td>705472.0</td>\n",
       "      <td>1498.0</td>\n",
       "      <td>706970.0</td>\n",
       "    </tr>\n",
       "    <tr>\n",
       "      <th>4</th>\n",
       "      <td>20210324</td>\n",
       "      <td>734784.0</td>\n",
       "      <td>2692.0</td>\n",
       "      <td>737476.0</td>\n",
       "    </tr>\n",
       "    <tr>\n",
       "      <th>...</th>\n",
       "      <td>...</td>\n",
       "      <td>...</td>\n",
       "      <td>...</td>\n",
       "      <td>...</td>\n",
       "    </tr>\n",
       "    <tr>\n",
       "      <th>139</th>\n",
       "      <td>20210806</td>\n",
       "      <td>13105480.0</td>\n",
       "      <td>7683371.0</td>\n",
       "      <td>20788851.0</td>\n",
       "    </tr>\n",
       "    <tr>\n",
       "      <th>140</th>\n",
       "      <td>20210807</td>\n",
       "      <td>13191006.0</td>\n",
       "      <td>7719219.0</td>\n",
       "      <td>20910225.0</td>\n",
       "    </tr>\n",
       "    <tr>\n",
       "      <th>141</th>\n",
       "      <td>20210808</td>\n",
       "      <td>13216416.0</td>\n",
       "      <td>7721457.0</td>\n",
       "      <td>20937873.0</td>\n",
       "    </tr>\n",
       "    <tr>\n",
       "      <th>142</th>\n",
       "      <td>20210809</td>\n",
       "      <td>13479011.0</td>\n",
       "      <td>7894715.0</td>\n",
       "      <td>21373726.0</td>\n",
       "    </tr>\n",
       "    <tr>\n",
       "      <th>143</th>\n",
       "      <td>20210810</td>\n",
       "      <td>13572126.0</td>\n",
       "      <td>8062980.0</td>\n",
       "      <td>21635106.0</td>\n",
       "    </tr>\n",
       "  </tbody>\n",
       "</table>\n",
       "<p>144 rows × 4 columns</p>\n",
       "</div>"
      ],
      "text/plain": [
       "           날짜        1차접종       2차접종        전체접종\n",
       "0    20210320    681224.0      313.0    681537.0\n",
       "1    20210321    680944.0      593.0    681537.0\n",
       "2    20210322    684324.0      883.0    685207.0\n",
       "3    20210323    705472.0     1498.0    706970.0\n",
       "4    20210324    734784.0     2692.0    737476.0\n",
       "..        ...         ...        ...         ...\n",
       "139  20210806  13105480.0  7683371.0  20788851.0\n",
       "140  20210807  13191006.0  7719219.0  20910225.0\n",
       "141  20210808  13216416.0  7721457.0  20937873.0\n",
       "142  20210809  13479011.0  7894715.0  21373726.0\n",
       "143  20210810  13572126.0  8062980.0  21635106.0\n",
       "\n",
       "[144 rows x 4 columns]"
      ]
     },
     "execution_count": 52,
     "metadata": {},
     "output_type": "execute_result"
    }
   ],
   "source": [
    "vaccinated_kor['1차접종'] = first_vc\n",
    "vaccinated_kor = vaccinated_kor[['날짜','1차접종','2차접종','전체접종']]\n",
    "#vaccinated_kor = vaccinated_kor.astype(int)\n",
    "vaccinated_kor"
   ]
  },
  {
   "cell_type": "code",
   "execution_count": 53,
   "id": "4b776fa9",
   "metadata": {},
   "outputs": [
    {
     "data": {
      "text/html": [
       "<div>\n",
       "<style scoped>\n",
       "    .dataframe tbody tr th:only-of-type {\n",
       "        vertical-align: middle;\n",
       "    }\n",
       "\n",
       "    .dataframe tbody tr th {\n",
       "        vertical-align: top;\n",
       "    }\n",
       "\n",
       "    .dataframe thead th {\n",
       "        text-align: right;\n",
       "    }\n",
       "</style>\n",
       "<table border=\"1\" class=\"dataframe\">\n",
       "  <thead>\n",
       "    <tr style=\"text-align: right;\">\n",
       "      <th></th>\n",
       "      <th>날짜</th>\n",
       "      <th>1차접종</th>\n",
       "      <th>2차접종</th>\n",
       "      <th>전체접종</th>\n",
       "    </tr>\n",
       "  </thead>\n",
       "  <tbody>\n",
       "    <tr>\n",
       "      <th>67</th>\n",
       "      <td>20210526</td>\n",
       "      <td>2016409.0</td>\n",
       "      <td>2017866.0</td>\n",
       "      <td>4034275.0</td>\n",
       "    </tr>\n",
       "  </tbody>\n",
       "</table>\n",
       "</div>"
      ],
      "text/plain": [
       "          날짜       1차접종       2차접종       전체접종\n",
       "67  20210526  2016409.0  2017866.0  4034275.0"
      ]
     },
     "execution_count": 53,
     "metadata": {},
     "output_type": "execute_result"
    }
   ],
   "source": [
    "vaccinated_kor[vaccinated_kor['날짜']=='20210526']"
   ]
  },
  {
   "cell_type": "code",
   "execution_count": 54,
   "id": "c01b3949",
   "metadata": {},
   "outputs": [],
   "source": [
    "#접종률 데이터 프레임 생성\n",
    "\n",
    "vaccinated_per = pd.DataFrame()\n",
    "vaccinated_per['날짜'] = vaccinated_kor['날짜']\n",
    "vaccinated_per['1차접종률'] = ((vaccinated_kor['1차접종']/51671569)*100).round(2)\n",
    "vaccinated_per['2차접종률'] = ((vaccinated_kor['2차접종']/51671569)*100).round(2)\n"
   ]
  },
  {
   "cell_type": "code",
   "execution_count": 55,
   "id": "91963cdf",
   "metadata": {},
   "outputs": [
    {
     "data": {
      "text/html": [
       "<div>\n",
       "<style scoped>\n",
       "    .dataframe tbody tr th:only-of-type {\n",
       "        vertical-align: middle;\n",
       "    }\n",
       "\n",
       "    .dataframe tbody tr th {\n",
       "        vertical-align: top;\n",
       "    }\n",
       "\n",
       "    .dataframe thead th {\n",
       "        text-align: right;\n",
       "    }\n",
       "</style>\n",
       "<table border=\"1\" class=\"dataframe\">\n",
       "  <thead>\n",
       "    <tr style=\"text-align: right;\">\n",
       "      <th></th>\n",
       "      <th>날짜</th>\n",
       "      <th>1차접종률</th>\n",
       "      <th>2차접종률</th>\n",
       "    </tr>\n",
       "  </thead>\n",
       "  <tbody>\n",
       "    <tr>\n",
       "      <th>67</th>\n",
       "      <td>20210526</td>\n",
       "      <td>3.9</td>\n",
       "      <td>3.91</td>\n",
       "    </tr>\n",
       "  </tbody>\n",
       "</table>\n",
       "</div>"
      ],
      "text/plain": [
       "          날짜  1차접종률  2차접종률\n",
       "67  20210526    3.9   3.91"
      ]
     },
     "execution_count": 55,
     "metadata": {},
     "output_type": "execute_result"
    }
   ],
   "source": [
    "\n",
    "vaccinated_per[vaccinated_per['날짜']=='20210526']"
   ]
  },
  {
   "cell_type": "code",
   "execution_count": 56,
   "id": "c6a14dfd",
   "metadata": {
    "scrolled": true
   },
   "outputs": [
    {
     "data": {
      "text/plain": [
       "<Figure size 720x720 with 0 Axes>"
      ]
     },
     "execution_count": 56,
     "metadata": {},
     "output_type": "execute_result"
    },
    {
     "data": {
      "text/plain": [
       "[<matplotlib.lines.Line2D at 0x1a910751910>]"
      ]
     },
     "execution_count": 56,
     "metadata": {},
     "output_type": "execute_result"
    },
    {
     "data": {
      "text/plain": [
       "[<matplotlib.lines.Line2D at 0x1a910751310>]"
      ]
     },
     "execution_count": 56,
     "metadata": {},
     "output_type": "execute_result"
    },
    {
     "data": {
      "text/plain": [
       "Text(0.5, 0, '접종일자')"
      ]
     },
     "execution_count": 56,
     "metadata": {},
     "output_type": "execute_result"
    },
    {
     "data": {
      "text/plain": [
       "Text(0, 0.5, '접종률')"
      ]
     },
     "execution_count": 56,
     "metadata": {},
     "output_type": "execute_result"
    },
    {
     "data": {
      "text/plain": [
       "([<matplotlib.axis.XTick at 0x1a9104f5070>,\n",
       "  <matplotlib.axis.XTick at 0x1a9104f5ee0>,\n",
       "  <matplotlib.axis.XTick at 0x1a91074a5b0>,\n",
       "  <matplotlib.axis.XTick at 0x1a91052a100>,\n",
       "  <matplotlib.axis.XTick at 0x1a910635ac0>,\n",
       "  <matplotlib.axis.XTick at 0x1a910635070>,\n",
       "  <matplotlib.axis.XTick at 0x1a91052a880>,\n",
       "  <matplotlib.axis.XTick at 0x1a9106402e0>,\n",
       "  <matplotlib.axis.XTick at 0x1a9106408b0>,\n",
       "  <matplotlib.axis.XTick at 0x1a910640d90>,\n",
       "  <matplotlib.axis.XTick at 0x1a910645f70>],\n",
       " [Text(0, 0, ''),\n",
       "  Text(0, 0, ''),\n",
       "  Text(0, 0, ''),\n",
       "  Text(0, 0, ''),\n",
       "  Text(0, 0, ''),\n",
       "  Text(0, 0, ''),\n",
       "  Text(0, 0, ''),\n",
       "  Text(0, 0, ''),\n",
       "  Text(0, 0, ''),\n",
       "  Text(0, 0, ''),\n",
       "  Text(0, 0, '')])"
      ]
     },
     "execution_count": 56,
     "metadata": {},
     "output_type": "execute_result"
    },
    {
     "data": {
      "text/plain": [
       "<matplotlib.legend.Legend at 0x1a91052ac70>"
      ]
     },
     "execution_count": 56,
     "metadata": {},
     "output_type": "execute_result"
    },
    {
     "data": {
      "image/png": "[encoded data removed]",
      "text/plain": [
       "<Figure size 720x720 with 1 Axes>"
      ]
     },
     "metadata": {
      "needs_background": "light"
     },
     "output_type": "display_data"
    }
   ],
   "source": [
    "plt.figure(figsize=(10,10))\n",
    "plt.plot(vaccinated_per['날짜'], vaccinated_per['1차접종률'], color='blue', label='1차접종률')\n",
    "plt.plot(vaccinated_per['날짜'], vaccinated_per['2차접종률'], color='red',label='2차접종률')\n",
    "\n",
    "plt.xlabel('접종일자')\n",
    "plt.ylabel('접종률')\n",
    "plt.xticks([vaccinated_kor['날짜'][14*i] for i in range(11)],rotation=45)\n",
    "plt.legend(loc='best')"
   ]
  },
  {
   "cell_type": "markdown",
   "id": "d9cb7d1f",
   "metadata": {},
   "source": [
    "# 2. 해당월의 접종자 수 집계"
   ]
  },
  {
   "cell_type": "code",
   "execution_count": 57,
   "id": "679e81e8",
   "metadata": {},
   "outputs": [],
   "source": [
    "vc_month = vaccinated_kor\n",
    "vc_month = vc_month.drop('전체접종',axis=1)"
   ]
  },
  {
   "cell_type": "code",
   "execution_count": 58,
   "id": "6d598274",
   "metadata": {},
   "outputs": [],
   "source": [
    "vc_month['년'] = vc_month['날짜'].str[:4]\n",
    "vc_month['월'] = vc_month['날짜'].str[4:]\n",
    "vc_month['월'] = vc_month['월'].astype(int)"
   ]
  },
  {
   "cell_type": "code",
   "execution_count": 59,
   "id": "422fafd6",
   "metadata": {},
   "outputs": [],
   "source": [
    "vc_month = vc_month.drop('날짜',axis=1)\n"
   ]
  },
  {
   "cell_type": "code",
   "execution_count": 60,
   "id": "604cde66",
   "metadata": {},
   "outputs": [],
   "source": [
    "vc_month1 = vc_month.drop('2차접종',axis=1)\n",
    "vc_month2 = vc_month.drop('1차접종',axis=1)\n",
    "\n"
   ]
  },
  {
   "cell_type": "code",
   "execution_count": 61,
   "id": "70cd1c06",
   "metadata": {},
   "outputs": [],
   "source": [
    "vc_month1['차수'] = '1차'\n",
    "vc_month2['차수'] = '2차'\n",
    "vc_month1 = vc_month1.rename(columns={\"1차접종\":\"접종자수\"})\n",
    "vc_month2 = vc_month2.rename(columns={\"2차접종\":\"접종자수\"})"
   ]
  },
  {
   "cell_type": "code",
   "execution_count": 62,
   "id": "afd700f1",
   "metadata": {},
   "outputs": [],
   "source": [
    "vc_month2 = vc_month2[(vc_month2['월']==331) |\n",
    "          (vc_month2['월']==430) |\n",
    "          (vc_month2['월']==531) |\n",
    "          (vc_month2['월']==630) |\n",
    "          (vc_month2['월']==731) |\n",
    "          (vc_month2['월']==810) ]\n",
    "vc_month1 = vc_month1[(vc_month1['월']==331) |\n",
    "          (vc_month1['월']==430) |\n",
    "          (vc_month1['월']==531) |\n",
    "          (vc_month1['월']==630) |\n",
    "          (vc_month1['월']==731) |\n",
    "          (vc_month1['월']==810) ]\n",
    "\n",
    "\n"
   ]
  },
  {
   "cell_type": "code",
   "execution_count": 63,
   "id": "c49ace9d",
   "metadata": {},
   "outputs": [],
   "source": [
    "vc_month1 = vc_month1.reset_index(drop=True)\n",
    "vc_month2 = vc_month2.reset_index(drop=True)\n",
    "vc_month1['월'] = vc_month1['월']//100\n",
    "vc_month2['월'] = vc_month2['월']//100"
   ]
  },
  {
   "cell_type": "code",
   "execution_count": 64,
   "id": "49ddd37b",
   "metadata": {},
   "outputs": [
    {
     "data": {
      "text/html": [
       "<div>\n",
       "<style scoped>\n",
       "    .dataframe tbody tr th:only-of-type {\n",
       "        vertical-align: middle;\n",
       "    }\n",
       "\n",
       "    .dataframe tbody tr th {\n",
       "        vertical-align: top;\n",
       "    }\n",
       "\n",
       "    .dataframe thead th {\n",
       "        text-align: right;\n",
       "    }\n",
       "</style>\n",
       "<table border=\"1\" class=\"dataframe\">\n",
       "  <thead>\n",
       "    <tr style=\"text-align: right;\">\n",
       "      <th></th>\n",
       "      <th>접종자수</th>\n",
       "      <th>년</th>\n",
       "      <th>월</th>\n",
       "      <th>차수</th>\n",
       "    </tr>\n",
       "  </thead>\n",
       "  <tbody>\n",
       "    <tr>\n",
       "      <th>0</th>\n",
       "      <td>12977.0</td>\n",
       "      <td>2021</td>\n",
       "      <td>3</td>\n",
       "      <td>2차</td>\n",
       "    </tr>\n",
       "    <tr>\n",
       "      <th>1</th>\n",
       "      <td>228841.0</td>\n",
       "      <td>2021</td>\n",
       "      <td>4</td>\n",
       "      <td>2차</td>\n",
       "    </tr>\n",
       "    <tr>\n",
       "      <th>2</th>\n",
       "      <td>2174542.0</td>\n",
       "      <td>2021</td>\n",
       "      <td>5</td>\n",
       "      <td>2차</td>\n",
       "    </tr>\n",
       "    <tr>\n",
       "      <th>3</th>\n",
       "      <td>5073673.0</td>\n",
       "      <td>2021</td>\n",
       "      <td>6</td>\n",
       "      <td>2차</td>\n",
       "    </tr>\n",
       "    <tr>\n",
       "      <th>4</th>\n",
       "      <td>7147537.0</td>\n",
       "      <td>2021</td>\n",
       "      <td>7</td>\n",
       "      <td>2차</td>\n",
       "    </tr>\n",
       "    <tr>\n",
       "      <th>5</th>\n",
       "      <td>8062980.0</td>\n",
       "      <td>2021</td>\n",
       "      <td>8</td>\n",
       "      <td>2차</td>\n",
       "    </tr>\n",
       "  </tbody>\n",
       "</table>\n",
       "</div>"
      ],
      "text/plain": [
       "        접종자수     년  월  차수\n",
       "0    12977.0  2021  3  2차\n",
       "1   228841.0  2021  4  2차\n",
       "2  2174542.0  2021  5  2차\n",
       "3  5073673.0  2021  6  2차\n",
       "4  7147537.0  2021  7  2차\n",
       "5  8062980.0  2021  8  2차"
      ]
     },
     "execution_count": 64,
     "metadata": {},
     "output_type": "execute_result"
    },
    {
     "data": {
      "text/html": [
       "<div>\n",
       "<style scoped>\n",
       "    .dataframe tbody tr th:only-of-type {\n",
       "        vertical-align: middle;\n",
       "    }\n",
       "\n",
       "    .dataframe tbody tr th {\n",
       "        vertical-align: top;\n",
       "    }\n",
       "\n",
       "    .dataframe thead th {\n",
       "        text-align: right;\n",
       "    }\n",
       "</style>\n",
       "<table border=\"1\" class=\"dataframe\">\n",
       "  <thead>\n",
       "    <tr style=\"text-align: right;\">\n",
       "      <th></th>\n",
       "      <th>접종자수</th>\n",
       "      <th>년</th>\n",
       "      <th>월</th>\n",
       "      <th>차수</th>\n",
       "    </tr>\n",
       "  </thead>\n",
       "  <tbody>\n",
       "    <tr>\n",
       "      <th>0</th>\n",
       "      <td>866982.0</td>\n",
       "      <td>2021</td>\n",
       "      <td>3</td>\n",
       "      <td>1차</td>\n",
       "    </tr>\n",
       "    <tr>\n",
       "      <th>1</th>\n",
       "      <td>3133440.0</td>\n",
       "      <td>2021</td>\n",
       "      <td>4</td>\n",
       "      <td>1차</td>\n",
       "    </tr>\n",
       "    <tr>\n",
       "      <th>2</th>\n",
       "      <td>3622834.0</td>\n",
       "      <td>2021</td>\n",
       "      <td>5</td>\n",
       "      <td>1차</td>\n",
       "    </tr>\n",
       "    <tr>\n",
       "      <th>3</th>\n",
       "      <td>10266576.0</td>\n",
       "      <td>2021</td>\n",
       "      <td>6</td>\n",
       "      <td>1차</td>\n",
       "    </tr>\n",
       "    <tr>\n",
       "      <th>4</th>\n",
       "      <td>12299382.0</td>\n",
       "      <td>2021</td>\n",
       "      <td>7</td>\n",
       "      <td>1차</td>\n",
       "    </tr>\n",
       "    <tr>\n",
       "      <th>5</th>\n",
       "      <td>13572126.0</td>\n",
       "      <td>2021</td>\n",
       "      <td>8</td>\n",
       "      <td>1차</td>\n",
       "    </tr>\n",
       "  </tbody>\n",
       "</table>\n",
       "</div>"
      ],
      "text/plain": [
       "         접종자수     년  월  차수\n",
       "0    866982.0  2021  3  1차\n",
       "1   3133440.0  2021  4  1차\n",
       "2   3622834.0  2021  5  1차\n",
       "3  10266576.0  2021  6  1차\n",
       "4  12299382.0  2021  7  1차\n",
       "5  13572126.0  2021  8  1차"
      ]
     },
     "execution_count": 64,
     "metadata": {},
     "output_type": "execute_result"
    }
   ],
   "source": [
    "vc_month2\n",
    "vc_month1"
   ]
  },
  {
   "cell_type": "code",
   "execution_count": 65,
   "id": "d32fef35",
   "metadata": {},
   "outputs": [],
   "source": [
    "net_1 = [866982.0]\n",
    "net_2 = [12977.0]\n",
    "for i in range(6):\n",
    "    try:\n",
    "        net_1.append(vc_month1['접종자수'][i+1]-vc_month1['접종자수'][i])\n",
    "        net_2.append(vc_month2['접종자수'][i+1]-vc_month2['접종자수'][i])\n",
    "    except:\n",
    "        pass\n",
    "    \n",
    "    \n",
    "\n",
    " "
   ]
  },
  {
   "cell_type": "code",
   "execution_count": 66,
   "id": "54f01014",
   "metadata": {},
   "outputs": [],
   "source": [
    "vc_month1['접종자수'] = net_1\n",
    "vc_month2['접종자수'] = net_2\n"
   ]
  },
  {
   "cell_type": "code",
   "execution_count": 67,
   "id": "0b39bd1f",
   "metadata": {},
   "outputs": [
    {
     "data": {
      "text/html": [
       "<div>\n",
       "<style scoped>\n",
       "    .dataframe tbody tr th:only-of-type {\n",
       "        vertical-align: middle;\n",
       "    }\n",
       "\n",
       "    .dataframe tbody tr th {\n",
       "        vertical-align: top;\n",
       "    }\n",
       "\n",
       "    .dataframe thead th {\n",
       "        text-align: right;\n",
       "    }\n",
       "</style>\n",
       "<table border=\"1\" class=\"dataframe\">\n",
       "  <thead>\n",
       "    <tr style=\"text-align: right;\">\n",
       "      <th></th>\n",
       "      <th>접종자수</th>\n",
       "      <th>년</th>\n",
       "      <th>월</th>\n",
       "      <th>차수</th>\n",
       "    </tr>\n",
       "  </thead>\n",
       "  <tbody>\n",
       "    <tr>\n",
       "      <th>0</th>\n",
       "      <td>866982</td>\n",
       "      <td>2021</td>\n",
       "      <td>3</td>\n",
       "      <td>1차</td>\n",
       "    </tr>\n",
       "    <tr>\n",
       "      <th>1</th>\n",
       "      <td>2266458</td>\n",
       "      <td>2021</td>\n",
       "      <td>4</td>\n",
       "      <td>1차</td>\n",
       "    </tr>\n",
       "    <tr>\n",
       "      <th>2</th>\n",
       "      <td>489394</td>\n",
       "      <td>2021</td>\n",
       "      <td>5</td>\n",
       "      <td>1차</td>\n",
       "    </tr>\n",
       "    <tr>\n",
       "      <th>3</th>\n",
       "      <td>6643742</td>\n",
       "      <td>2021</td>\n",
       "      <td>6</td>\n",
       "      <td>1차</td>\n",
       "    </tr>\n",
       "    <tr>\n",
       "      <th>4</th>\n",
       "      <td>2032806</td>\n",
       "      <td>2021</td>\n",
       "      <td>7</td>\n",
       "      <td>1차</td>\n",
       "    </tr>\n",
       "    <tr>\n",
       "      <th>5</th>\n",
       "      <td>1272744</td>\n",
       "      <td>2021</td>\n",
       "      <td>8</td>\n",
       "      <td>1차</td>\n",
       "    </tr>\n",
       "    <tr>\n",
       "      <th>0</th>\n",
       "      <td>12977</td>\n",
       "      <td>2021</td>\n",
       "      <td>3</td>\n",
       "      <td>2차</td>\n",
       "    </tr>\n",
       "    <tr>\n",
       "      <th>1</th>\n",
       "      <td>215864</td>\n",
       "      <td>2021</td>\n",
       "      <td>4</td>\n",
       "      <td>2차</td>\n",
       "    </tr>\n",
       "    <tr>\n",
       "      <th>2</th>\n",
       "      <td>1945701</td>\n",
       "      <td>2021</td>\n",
       "      <td>5</td>\n",
       "      <td>2차</td>\n",
       "    </tr>\n",
       "    <tr>\n",
       "      <th>3</th>\n",
       "      <td>2899131</td>\n",
       "      <td>2021</td>\n",
       "      <td>6</td>\n",
       "      <td>2차</td>\n",
       "    </tr>\n",
       "    <tr>\n",
       "      <th>4</th>\n",
       "      <td>2073864</td>\n",
       "      <td>2021</td>\n",
       "      <td>7</td>\n",
       "      <td>2차</td>\n",
       "    </tr>\n",
       "    <tr>\n",
       "      <th>5</th>\n",
       "      <td>915443</td>\n",
       "      <td>2021</td>\n",
       "      <td>8</td>\n",
       "      <td>2차</td>\n",
       "    </tr>\n",
       "  </tbody>\n",
       "</table>\n",
       "</div>"
      ],
      "text/plain": [
       "      접종자수     년  월  차수\n",
       "0   866982  2021  3  1차\n",
       "1  2266458  2021  4  1차\n",
       "2   489394  2021  5  1차\n",
       "3  6643742  2021  6  1차\n",
       "4  2032806  2021  7  1차\n",
       "5  1272744  2021  8  1차\n",
       "0    12977  2021  3  2차\n",
       "1   215864  2021  4  2차\n",
       "2  1945701  2021  5  2차\n",
       "3  2899131  2021  6  2차\n",
       "4  2073864  2021  7  2차\n",
       "5   915443  2021  8  2차"
      ]
     },
     "execution_count": 67,
     "metadata": {},
     "output_type": "execute_result"
    }
   ],
   "source": [
    "vc_concat = pd.concat([vc_month1,vc_month2])\n",
    "\n",
    "\n",
    "vc_concat['접종자수'] = vc_concat['접종자수'].astype(int)\n",
    "\n",
    "vc_concat\n",
    "\n"
   ]
  },
  {
   "cell_type": "code",
   "execution_count": 68,
   "id": "e734980c",
   "metadata": {},
   "outputs": [
    {
     "data": {
      "text/plain": [
       "<Figure size 720x720 with 0 Axes>"
      ]
     },
     "execution_count": 68,
     "metadata": {},
     "output_type": "execute_result"
    },
    {
     "data": {
      "text/plain": [
       "[Text(0.5, 1.0, '월별 접종자수')]"
      ]
     },
     "execution_count": 68,
     "metadata": {},
     "output_type": "execute_result"
    },
    {
     "data": {
      "image/png": "[encoded data removed]",
      "text/plain": [
       "<Figure size 720x720 with 1 Axes>"
      ]
     },
     "metadata": {
      "needs_background": "light"
     },
     "output_type": "display_data"
    }
   ],
   "source": [
    "plt.figure(figsize = (10,10))\n",
    "\n",
    "sns.barplot(x=vc_concat['월'],y=vc_concat['접종자수'],hue=vc_concat['차수'],palette='Greens_r').set(title='월별 접종자수')\n"
   ]
  },
  {
   "cell_type": "code",
   "execution_count": 69,
   "id": "4ade4118",
   "metadata": {},
   "outputs": [
    {
     "data": {
      "text/plain": [
       "<Figure size 720x720 with 0 Axes>"
      ]
     },
     "execution_count": 69,
     "metadata": {},
     "output_type": "execute_result"
    },
    {
     "data": {
      "text/plain": [
       "[<matplotlib.lines.Line2D at 0x1a90f2bfac0>]"
      ]
     },
     "execution_count": 69,
     "metadata": {},
     "output_type": "execute_result"
    },
    {
     "data": {
      "text/plain": [
       "[<matplotlib.lines.Line2D at 0x1a90f2bfdf0>]"
      ]
     },
     "execution_count": 69,
     "metadata": {},
     "output_type": "execute_result"
    },
    {
     "data": {
      "text/plain": [
       "[<matplotlib.lines.Line2D at 0x1a90f2da160>]"
      ]
     },
     "execution_count": 69,
     "metadata": {},
     "output_type": "execute_result"
    },
    {
     "data": {
      "text/plain": [
       "Text(0.5, 0, '접종일자')"
      ]
     },
     "execution_count": 69,
     "metadata": {},
     "output_type": "execute_result"
    },
    {
     "data": {
      "text/plain": [
       "Text(0, 0.5, '접종률')"
      ]
     },
     "execution_count": 69,
     "metadata": {},
     "output_type": "execute_result"
    },
    {
     "data": {
      "text/plain": [
       "([<matplotlib.axis.XTick at 0x1a90f29c340>,\n",
       "  <matplotlib.axis.XTick at 0x1a90f29c310>,\n",
       "  <matplotlib.axis.XTick at 0x1a90f29b5b0>,\n",
       "  <matplotlib.axis.XTick at 0x1a90f2da8e0>,\n",
       "  <matplotlib.axis.XTick at 0x1a90f2dadf0>,\n",
       "  <matplotlib.axis.XTick at 0x1a90f2da610>,\n",
       "  <matplotlib.axis.XTick at 0x1a90f2e44f0>,\n",
       "  <matplotlib.axis.XTick at 0x1a90f2e4a00>,\n",
       "  <matplotlib.axis.XTick at 0x1a90f2e4f10>,\n",
       "  <matplotlib.axis.XTick at 0x1a90f2e9460>,\n",
       "  <matplotlib.axis.XTick at 0x1a90f2e9970>],\n",
       " [Text(0, 0, ''),\n",
       "  Text(0, 0, ''),\n",
       "  Text(0, 0, ''),\n",
       "  Text(0, 0, ''),\n",
       "  Text(0, 0, ''),\n",
       "  Text(0, 0, ''),\n",
       "  Text(0, 0, ''),\n",
       "  Text(0, 0, ''),\n",
       "  Text(0, 0, ''),\n",
       "  Text(0, 0, ''),\n",
       "  Text(0, 0, '')])"
      ]
     },
     "execution_count": 69,
     "metadata": {},
     "output_type": "execute_result"
    },
    {
     "data": {
      "text/plain": [
       "<matplotlib.legend.Legend at 0x1a90f2da520>"
      ]
     },
     "execution_count": 69,
     "metadata": {},
     "output_type": "execute_result"
    },
    {
     "data": {
      "image/png": "[encoded data removed]",
      "text/plain": [
       "<Figure size 720x720 with 1 Axes>"
      ]
     },
     "metadata": {
      "needs_background": "light"
     },
     "output_type": "display_data"
    }
   ],
   "source": [
    "plt.figure(figsize=(10,10))\n",
    "\n",
    "plt.plot(vaccinated_per['날짜'], vaccinated_per['1차접종률']+vaccinated_per['2차접종률'], color='brown', label='전체')\n",
    "plt.plot(vaccinated_per['날짜'], vaccinated_per['1차접종률'], color='royalblue', label='1차접종률')\n",
    "plt.plot(vaccinated_per['날짜'], vaccinated_per['2차접종률'], color='darkorange',label='2차접종률')\n",
    "\n",
    "\n",
    "\n",
    "plt.xlabel('접종일자')\n",
    "plt.ylabel('접종률')\n",
    "plt.xticks([vaccinated_kor['날짜'][14*i] for i in range(11)],rotation=45)\n",
    "plt.legend(loc='best')\n"
   ]
  },
  {
   "cell_type": "markdown",
   "id": "0709422c",
   "metadata": {},
   "source": [
    "# 4. 코로나 월별 확진자 동향"
   ]
  },
  {
   "cell_type": "code",
   "execution_count": 70,
   "id": "ef62008c",
   "metadata": {},
   "outputs": [],
   "source": [
    "vaccinated_kor = vaccinated[vaccinated['iso_code']=='KOR']"
   ]
  },
  {
   "cell_type": "code",
   "execution_count": 71,
   "id": "24f8d3c6",
   "metadata": {},
   "outputs": [
    {
     "data": {
      "text/plain": [
       "Index(['iso_code', 'continent', 'location', 'date', 'total_cases', 'new_cases',\n",
       "       'new_cases_smoothed', 'total_deaths', 'new_deaths',\n",
       "       'new_deaths_smoothed', 'total_cases_per_million',\n",
       "       'new_cases_per_million', 'new_cases_smoothed_per_million',\n",
       "       'total_deaths_per_million', 'new_deaths_per_million',\n",
       "       'new_deaths_smoothed_per_million', 'reproduction_rate', 'icu_patients',\n",
       "       'icu_patients_per_million', 'hosp_patients',\n",
       "       'hosp_patients_per_million', 'weekly_icu_admissions',\n",
       "       'weekly_icu_admissions_per_million', 'weekly_hosp_admissions',\n",
       "       'weekly_hosp_admissions_per_million', 'new_tests', 'total_tests',\n",
       "       'total_tests_per_thousand', 'new_tests_per_thousand',\n",
       "       'new_tests_smoothed', 'new_tests_smoothed_per_thousand',\n",
       "       'positive_rate', 'tests_per_case', 'tests_units', 'total_vaccinations',\n",
       "       'people_vaccinated', 'people_fully_vaccinated', 'new_vaccinations',\n",
       "       'new_vaccinations_smoothed', 'total_vaccinations_per_hundred',\n",
       "       'people_vaccinated_per_hundred', 'people_fully_vaccinated_per_hundred',\n",
       "       'new_vaccinations_smoothed_per_million', 'stringency_index',\n",
       "       'population', 'population_density', 'median_age', 'aged_65_older',\n",
       "       'aged_70_older', 'gdp_per_capita', 'extreme_poverty',\n",
       "       'cardiovasc_death_rate', 'diabetes_prevalence', 'female_smokers',\n",
       "       'male_smokers', 'handwashing_facilities', 'hospital_beds_per_thousand',\n",
       "       'life_expectancy', 'human_development_index', 'excess_mortality'],\n",
       "      dtype='object')"
      ]
     },
     "execution_count": 71,
     "metadata": {},
     "output_type": "execute_result"
    }
   ],
   "source": [
    "vaccinated_kor.columns"
   ]
  },
  {
   "cell_type": "code",
   "execution_count": 72,
   "id": "225e8262",
   "metadata": {},
   "outputs": [],
   "source": [
    "month_case = vaccinated_kor.loc[:,['date',\n",
    "                      'new_cases',\n",
    "                      'total_cases']]"
   ]
  },
  {
   "cell_type": "code",
   "execution_count": 73,
   "id": "d3f8d370",
   "metadata": {},
   "outputs": [],
   "source": [
    "month_case = month_case.dropna()"
   ]
  },
  {
   "cell_type": "code",
   "execution_count": 74,
   "id": "41a0605c",
   "metadata": {},
   "outputs": [],
   "source": [
    "month_case = month_case.reset_index(drop=True)"
   ]
  },
  {
   "cell_type": "code",
   "execution_count": 75,
   "id": "0a37c3d0",
   "metadata": {},
   "outputs": [],
   "source": [
    "for i in range(len(month_case['date'])):\n",
    "    month_case['date'][i] = month_case['date'][i].replace('-',\"\")"
   ]
  },
  {
   "cell_type": "code",
   "execution_count": 76,
   "id": "bead4e0d",
   "metadata": {},
   "outputs": [
    {
     "data": {
      "text/html": [
       "<div>\n",
       "<style scoped>\n",
       "    .dataframe tbody tr th:only-of-type {\n",
       "        vertical-align: middle;\n",
       "    }\n",
       "\n",
       "    .dataframe tbody tr th {\n",
       "        vertical-align: top;\n",
       "    }\n",
       "\n",
       "    .dataframe thead th {\n",
       "        text-align: right;\n",
       "    }\n",
       "</style>\n",
       "<table border=\"1\" class=\"dataframe\">\n",
       "  <thead>\n",
       "    <tr style=\"text-align: right;\">\n",
       "      <th></th>\n",
       "      <th>date</th>\n",
       "      <th>new_cases</th>\n",
       "      <th>total_cases</th>\n",
       "    </tr>\n",
       "  </thead>\n",
       "  <tbody>\n",
       "    <tr>\n",
       "      <th>0</th>\n",
       "      <td>20200123</td>\n",
       "      <td>0</td>\n",
       "      <td>1</td>\n",
       "    </tr>\n",
       "    <tr>\n",
       "      <th>1</th>\n",
       "      <td>20200124</td>\n",
       "      <td>1</td>\n",
       "      <td>2</td>\n",
       "    </tr>\n",
       "    <tr>\n",
       "      <th>2</th>\n",
       "      <td>20200125</td>\n",
       "      <td>0</td>\n",
       "      <td>2</td>\n",
       "    </tr>\n",
       "    <tr>\n",
       "      <th>3</th>\n",
       "      <td>20200126</td>\n",
       "      <td>1</td>\n",
       "      <td>3</td>\n",
       "    </tr>\n",
       "    <tr>\n",
       "      <th>4</th>\n",
       "      <td>20200127</td>\n",
       "      <td>1</td>\n",
       "      <td>4</td>\n",
       "    </tr>\n",
       "    <tr>\n",
       "      <th>...</th>\n",
       "      <td>...</td>\n",
       "      <td>...</td>\n",
       "      <td>...</td>\n",
       "    </tr>\n",
       "    <tr>\n",
       "      <th>562</th>\n",
       "      <td>20210807</td>\n",
       "      <td>1728</td>\n",
       "      <td>210956</td>\n",
       "    </tr>\n",
       "    <tr>\n",
       "      <th>563</th>\n",
       "      <td>20210808</td>\n",
       "      <td>1492</td>\n",
       "      <td>212448</td>\n",
       "    </tr>\n",
       "    <tr>\n",
       "      <th>564</th>\n",
       "      <td>20210809</td>\n",
       "      <td>1539</td>\n",
       "      <td>213987</td>\n",
       "    </tr>\n",
       "    <tr>\n",
       "      <th>565</th>\n",
       "      <td>20210810</td>\n",
       "      <td>2219</td>\n",
       "      <td>216206</td>\n",
       "    </tr>\n",
       "    <tr>\n",
       "      <th>566</th>\n",
       "      <td>20210811</td>\n",
       "      <td>1986</td>\n",
       "      <td>218192</td>\n",
       "    </tr>\n",
       "  </tbody>\n",
       "</table>\n",
       "<p>567 rows × 3 columns</p>\n",
       "</div>"
      ],
      "text/plain": [
       "         date  new_cases  total_cases\n",
       "0    20200123          0            1\n",
       "1    20200124          1            2\n",
       "2    20200125          0            2\n",
       "3    20200126          1            3\n",
       "4    20200127          1            4\n",
       "..        ...        ...          ...\n",
       "562  20210807       1728       210956\n",
       "563  20210808       1492       212448\n",
       "564  20210809       1539       213987\n",
       "565  20210810       2219       216206\n",
       "566  20210811       1986       218192\n",
       "\n",
       "[567 rows x 3 columns]"
      ]
     },
     "execution_count": 76,
     "metadata": {},
     "output_type": "execute_result"
    }
   ],
   "source": [
    "month_case.astype(int)"
   ]
  },
  {
   "cell_type": "code",
   "execution_count": 77,
   "id": "2a9d2e13",
   "metadata": {},
   "outputs": [],
   "source": [
    "tmp = []\n",
    "for i in month_case['date']:\n",
    "    tmp.append(int(i))\n",
    "    "
   ]
  },
  {
   "cell_type": "code",
   "execution_count": 78,
   "id": "a9dbad16",
   "metadata": {},
   "outputs": [],
   "source": [
    "month_case['date'] = tmp"
   ]
  },
  {
   "cell_type": "code",
   "execution_count": 79,
   "id": "2bf2b579",
   "metadata": {},
   "outputs": [
    {
     "data": {
      "text/plain": [
       "[10, 3139, 6636, 988, 729, 1347, 1486, 5846, 3707, 2746, 8017]"
      ]
     },
     "execution_count": 79,
     "metadata": {},
     "output_type": "execute_result"
    }
   ],
   "source": [
    "month_2020 = []\n",
    "\n",
    "for i in range(2,13):\n",
    "    date = 20200000+i*100\n",
    "\n",
    "    month_2020.append(int(month_case.loc[(month_case['date']>20200000+(i-1)*100) & (month_case['date']<date)].sum()[1]))\n",
    "    \n",
    "    \n",
    "    \n",
    "month_2020 #월별 확진자 수"
   ]
  },
  {
   "cell_type": "code",
   "execution_count": 80,
   "id": "6de5f86e",
   "metadata": {},
   "outputs": [
    {
     "data": {
      "text/plain": [
       "[16739, 11523, 13608, 18995, 18165, 16924, 42064]"
      ]
     },
     "execution_count": 80,
     "metadata": {},
     "output_type": "execute_result"
    }
   ],
   "source": [
    "month_2021 = []\n",
    "\n",
    "for i in range(2,9):\n",
    "    date = 20210000+i*100\n",
    "    month_2021.append(int(month_case.loc[(month_case['date']>20210000+(i-1)*100) & (month_case['date']<date)].sum()[1]))\n",
    "    \n",
    "    \n",
    "month_2021    #월별 확진자 수"
   ]
  },
  {
   "cell_type": "code",
   "execution_count": null,
   "id": "0518ec9b",
   "metadata": {},
   "outputs": [],
   "source": []
  },
  {
   "cell_type": "code",
   "execution_count": null,
   "id": "4bda78ce",
   "metadata": {},
   "outputs": [],
   "source": []
  },
  {
   "cell_type": "code",
   "execution_count": null,
   "id": "364c0af0",
   "metadata": {},
   "outputs": [],
   "source": []
  }
 ],
 "metadata": {
  "kernelspec": {
   "display_name": "Python 3",
   "language": "python",
   "name": "python3"
  },
  "language_info": {
   "codemirror_mode": {
    "name": "ipython",
    "version": 3
   },
   "file_extension": ".py",
   "mimetype": "text/x-python",
   "name": "python",
   "nbconvert_exporter": "python",
   "pygments_lexer": "ipython3",
   "version": "3.8.8"
  }
 },
 "nbformat": 4,
 "nbformat_minor": 5
}
