{
 "cells": [
  {
   "cell_type": "code",
   "execution_count": 1,
   "id": "3f5f63e0",
   "metadata": {},
   "outputs": [],
   "source": [
    "import pandas as pd\n",
    "import numpy as np\n",
    "import seaborn as sns"
   ]
  },
  {
   "cell_type": "code",
   "execution_count": 2,
   "id": "9c59c02a",
   "metadata": {},
   "outputs": [],
   "source": [
    "#그래프 패키지 \n",
    "import matplotlib.pyplot as plt \n",
    "%matplotlib inline "
   ]
  },
  {
   "cell_type": "code",
   "execution_count": 3,
   "id": "4a903bb2",
   "metadata": {},
   "outputs": [],
   "source": [
    "# 한글 문제 해결\n",
    "import platform\n",
    "\n",
    "from matplotlib import font_manager, rc\n",
    "plt.rcParams['axes.unicode_minus'] = False\n",
    "\n",
    "if platform.system() == 'Darwin':  # 맥OS \n",
    "    rc('font', family='AppleGothic')\n",
    "elif platform.system() == 'Windows':  # 윈도우\n",
    "    path = \"c:/Windows/Fonts/malgun.ttf\"\n",
    "    font_name = font_manager.FontProperties(fname=path).get_name()\n",
    "    rc('font', family=font_name)\n",
    "else:\n",
    "    print('Unknown system...  sorry~~~')"
   ]
  },
  {
   "cell_type": "code",
   "execution_count": 4,
   "id": "8aff1174",
   "metadata": {},
   "outputs": [],
   "source": [
    "# 동시 출력\n",
    "from IPython.core.interactiveshell import InteractiveShell\n",
    "InteractiveShell.ast_node_interactivity=\"all\""
   ]
  },
  {
   "cell_type": "code",
   "execution_count": 59,
   "id": "9ea455b7",
   "metadata": {},
   "outputs": [],
   "source": [
    "seuoul_test_data_2020 = pd.read_csv(\"./data/seoul_movie_2020.csv\", thousands=',', encoding='UTF-8')\n",
    "busan_test_data_2020 = pd.read_csv(\"./data/busan_movie_2020.csv\", thousands=',', encoding='UTF-8')\n",
    "avg_movie = pd.read_csv(\"./data/2019_평균자료_영화.csv\", thousands=',', encoding='UTF-8')"
   ]
  },
  {
   "cell_type": "code",
   "execution_count": 60,
   "id": "6075df75",
   "metadata": {},
   "outputs": [
    {
     "data": {
      "text/html": [
       "<div>\n",
       "<style scoped>\n",
       "    .dataframe tbody tr th:only-of-type {\n",
       "        vertical-align: middle;\n",
       "    }\n",
       "\n",
       "    .dataframe tbody tr th {\n",
       "        vertical-align: top;\n",
       "    }\n",
       "\n",
       "    .dataframe thead th {\n",
       "        text-align: right;\n",
       "    }\n",
       "</style>\n",
       "<table border=\"1\" class=\"dataframe\">\n",
       "  <thead>\n",
       "    <tr style=\"text-align: right;\">\n",
       "      <th></th>\n",
       "      <th>시작일</th>\n",
       "      <th>지역</th>\n",
       "      <th>매출액</th>\n",
       "      <th>관객수</th>\n",
       "      <th>기간</th>\n",
       "    </tr>\n",
       "  </thead>\n",
       "  <tbody>\n",
       "    <tr>\n",
       "      <th>0</th>\n",
       "      <td>2020-08-16</td>\n",
       "      <td>서울시</td>\n",
       "      <td>3361656490</td>\n",
       "      <td>368804</td>\n",
       "      <td>2020-08-16~2020-08-22</td>\n",
       "    </tr>\n",
       "    <tr>\n",
       "      <th>1</th>\n",
       "      <td>2020-08-23</td>\n",
       "      <td>서울시</td>\n",
       "      <td>2189550260</td>\n",
       "      <td>247399</td>\n",
       "      <td>2020-08-23~2020-08-29</td>\n",
       "    </tr>\n",
       "    <tr>\n",
       "      <th>2</th>\n",
       "      <td>2020-08-30</td>\n",
       "      <td>서울시</td>\n",
       "      <td>1842116650</td>\n",
       "      <td>200100</td>\n",
       "      <td>2020-08-30~2020-09-05</td>\n",
       "    </tr>\n",
       "    <tr>\n",
       "      <th>3</th>\n",
       "      <td>2020-09-06</td>\n",
       "      <td>서울시</td>\n",
       "      <td>1733144880</td>\n",
       "      <td>188395</td>\n",
       "      <td>2020-09-06~2020-09-12</td>\n",
       "    </tr>\n",
       "    <tr>\n",
       "      <th>4</th>\n",
       "      <td>2020-09-13</td>\n",
       "      <td>서울시</td>\n",
       "      <td>1571785690</td>\n",
       "      <td>172993</td>\n",
       "      <td>2020-09-13~2020-09-19</td>\n",
       "    </tr>\n",
       "  </tbody>\n",
       "</table>\n",
       "</div>"
      ],
      "text/plain": [
       "          시작일   지역         매출액     관객수                     기간\n",
       "0  2020-08-16  서울시  3361656490  368804  2020-08-16~2020-08-22\n",
       "1  2020-08-23  서울시  2189550260  247399  2020-08-23~2020-08-29\n",
       "2  2020-08-30  서울시  1842116650  200100  2020-08-30~2020-09-05\n",
       "3  2020-09-06  서울시  1733144880  188395  2020-09-06~2020-09-12\n",
       "4  2020-09-13  서울시  1571785690  172993  2020-09-13~2020-09-19"
      ]
     },
     "execution_count": 60,
     "metadata": {},
     "output_type": "execute_result"
    },
    {
     "data": {
      "text/html": [
       "<div>\n",
       "<style scoped>\n",
       "    .dataframe tbody tr th:only-of-type {\n",
       "        vertical-align: middle;\n",
       "    }\n",
       "\n",
       "    .dataframe tbody tr th {\n",
       "        vertical-align: top;\n",
       "    }\n",
       "\n",
       "    .dataframe thead th {\n",
       "        text-align: right;\n",
       "    }\n",
       "</style>\n",
       "<table border=\"1\" class=\"dataframe\">\n",
       "  <thead>\n",
       "    <tr style=\"text-align: right;\">\n",
       "      <th></th>\n",
       "      <th>기간</th>\n",
       "      <th>지역</th>\n",
       "      <th>매출액</th>\n",
       "      <th>관객수</th>\n",
       "      <th>시작일</th>\n",
       "    </tr>\n",
       "  </thead>\n",
       "  <tbody>\n",
       "    <tr>\n",
       "      <th>0</th>\n",
       "      <td>2020-08-16~2020-08-22</td>\n",
       "      <td>부산시</td>\n",
       "      <td>1114537230</td>\n",
       "      <td>123943</td>\n",
       "      <td>2020-08-16</td>\n",
       "    </tr>\n",
       "    <tr>\n",
       "      <th>1</th>\n",
       "      <td>2020-08-23~2020-08-29</td>\n",
       "      <td>부산시</td>\n",
       "      <td>618924290</td>\n",
       "      <td>71890</td>\n",
       "      <td>2020-08-23</td>\n",
       "    </tr>\n",
       "    <tr>\n",
       "      <th>2</th>\n",
       "      <td>2020-08-30~2020-09-05</td>\n",
       "      <td>부산시</td>\n",
       "      <td>467448880</td>\n",
       "      <td>53630</td>\n",
       "      <td>2020-08-30</td>\n",
       "    </tr>\n",
       "    <tr>\n",
       "      <th>3</th>\n",
       "      <td>2020-09-06~2020-09-12</td>\n",
       "      <td>부산시</td>\n",
       "      <td>401747560</td>\n",
       "      <td>45878</td>\n",
       "      <td>2020-09-06</td>\n",
       "    </tr>\n",
       "    <tr>\n",
       "      <th>4</th>\n",
       "      <td>2020-09-13~2020-09-19</td>\n",
       "      <td>부산시</td>\n",
       "      <td>350543860</td>\n",
       "      <td>40374</td>\n",
       "      <td>2020-09-13</td>\n",
       "    </tr>\n",
       "  </tbody>\n",
       "</table>\n",
       "</div>"
      ],
      "text/plain": [
       "                      기간   지역         매출액     관객수         시작일\n",
       "0  2020-08-16~2020-08-22  부산시  1114537230  123943  2020-08-16\n",
       "1  2020-08-23~2020-08-29  부산시   618924290   71890  2020-08-23\n",
       "2  2020-08-30~2020-09-05  부산시   467448880   53630  2020-08-30\n",
       "3  2020-09-06~2020-09-12  부산시   401747560   45878  2020-09-06\n",
       "4  2020-09-13~2020-09-19  부산시   350543860   40374  2020-09-13"
      ]
     },
     "execution_count": 60,
     "metadata": {},
     "output_type": "execute_result"
    },
    {
     "data": {
      "text/html": [
       "<div>\n",
       "<style scoped>\n",
       "    .dataframe tbody tr th:only-of-type {\n",
       "        vertical-align: middle;\n",
       "    }\n",
       "\n",
       "    .dataframe tbody tr th {\n",
       "        vertical-align: top;\n",
       "    }\n",
       "\n",
       "    .dataframe thead th {\n",
       "        text-align: right;\n",
       "    }\n",
       "</style>\n",
       "<table border=\"1\" class=\"dataframe\">\n",
       "  <thead>\n",
       "    <tr style=\"text-align: right;\">\n",
       "      <th></th>\n",
       "      <th>Unnamed: 0</th>\n",
       "      <th>상영편수</th>\n",
       "      <th>매출액</th>\n",
       "      <th>관객수</th>\n",
       "    </tr>\n",
       "  </thead>\n",
       "  <tbody>\n",
       "    <tr>\n",
       "      <th>0</th>\n",
       "      <td>서울</td>\n",
       "      <td>62.076923</td>\n",
       "      <td>9.735130e+09</td>\n",
       "      <td>1.111436e+06</td>\n",
       "    </tr>\n",
       "    <tr>\n",
       "      <th>1</th>\n",
       "      <td>부산</td>\n",
       "      <td>27.519231</td>\n",
       "      <td>2.929068e+09</td>\n",
       "      <td>3.491882e+05</td>\n",
       "    </tr>\n",
       "  </tbody>\n",
       "</table>\n",
       "</div>"
      ],
      "text/plain": [
       "  Unnamed: 0       상영편수           매출액           관객수\n",
       "0         서울  62.076923  9.735130e+09  1.111436e+06\n",
       "1         부산  27.519231  2.929068e+09  3.491882e+05"
      ]
     },
     "execution_count": 60,
     "metadata": {},
     "output_type": "execute_result"
    }
   ],
   "source": [
    "seuoul_test_data_2020.head()\n",
    "busan_test_data_2020.head()\n",
    "avg_movie.head()"
   ]
  },
  {
   "cell_type": "code",
   "execution_count": 91,
   "id": "d76f785a",
   "metadata": {},
   "outputs": [],
   "source": [
    "seuoul_test_data_2021_bv = pd.read_csv(\"./data/2021_~02서울.csv\", thousands=',', encoding='UTF-8')\n",
    "seuoul_test_data_2021_av = pd.read_csv(\"./data/2021_03~06서울.csv\", thousands=',', encoding='UTF-8')\n",
    "busan_test_data_2021_bv = pd.read_csv(\"./data/2021_~02부산.csv\", thousands=',', encoding='UTF-8')\n",
    "busan_test_data_2021_av = pd.read_csv(\"./data/2021_03~06부산.csv\", thousands=',', encoding='UTF-8')"
   ]
  },
  {
   "cell_type": "code",
   "execution_count": 92,
   "id": "137b6fa9",
   "metadata": {},
   "outputs": [
    {
     "data": {
      "text/html": [
       "<div>\n",
       "<style scoped>\n",
       "    .dataframe tbody tr th:only-of-type {\n",
       "        vertical-align: middle;\n",
       "    }\n",
       "\n",
       "    .dataframe tbody tr th {\n",
       "        vertical-align: top;\n",
       "    }\n",
       "\n",
       "    .dataframe thead th {\n",
       "        text-align: right;\n",
       "    }\n",
       "</style>\n",
       "<table border=\"1\" class=\"dataframe\">\n",
       "  <thead>\n",
       "    <tr style=\"text-align: right;\">\n",
       "      <th></th>\n",
       "      <th>Unnamed: 0</th>\n",
       "      <th>지역</th>\n",
       "      <th>매출액</th>\n",
       "      <th>관객수</th>\n",
       "      <th>주</th>\n",
       "    </tr>\n",
       "  </thead>\n",
       "  <tbody>\n",
       "    <tr>\n",
       "      <th>0</th>\n",
       "      <td>5</td>\n",
       "      <td>서울시</td>\n",
       "      <td>625176800</td>\n",
       "      <td>71052</td>\n",
       "      <td>2021-01-01</td>\n",
       "    </tr>\n",
       "    <tr>\n",
       "      <th>1</th>\n",
       "      <td>5</td>\n",
       "      <td>서울시</td>\n",
       "      <td>625176800</td>\n",
       "      <td>71052</td>\n",
       "      <td>2021-01-01</td>\n",
       "    </tr>\n",
       "    <tr>\n",
       "      <th>2</th>\n",
       "      <td>5</td>\n",
       "      <td>서울시</td>\n",
       "      <td>446257140</td>\n",
       "      <td>50249</td>\n",
       "      <td>2021-01-08</td>\n",
       "    </tr>\n",
       "    <tr>\n",
       "      <th>3</th>\n",
       "      <td>5</td>\n",
       "      <td>서울시</td>\n",
       "      <td>761371720</td>\n",
       "      <td>85940</td>\n",
       "      <td>2021-01-15</td>\n",
       "    </tr>\n",
       "    <tr>\n",
       "      <th>4</th>\n",
       "      <td>5</td>\n",
       "      <td>서울시</td>\n",
       "      <td>2050589220</td>\n",
       "      <td>230553</td>\n",
       "      <td>2021-01-22</td>\n",
       "    </tr>\n",
       "  </tbody>\n",
       "</table>\n",
       "</div>"
      ],
      "text/plain": [
       "   Unnamed: 0   지역         매출액     관객수           주\n",
       "0           5  서울시   625176800   71052  2021-01-01\n",
       "1           5  서울시   625176800   71052  2021-01-01\n",
       "2           5  서울시   446257140   50249  2021-01-08\n",
       "3           5  서울시   761371720   85940  2021-01-15\n",
       "4           5  서울시  2050589220  230553  2021-01-22"
      ]
     },
     "execution_count": 92,
     "metadata": {},
     "output_type": "execute_result"
    },
    {
     "data": {
      "text/html": [
       "<div>\n",
       "<style scoped>\n",
       "    .dataframe tbody tr th:only-of-type {\n",
       "        vertical-align: middle;\n",
       "    }\n",
       "\n",
       "    .dataframe tbody tr th {\n",
       "        vertical-align: top;\n",
       "    }\n",
       "\n",
       "    .dataframe thead th {\n",
       "        text-align: right;\n",
       "    }\n",
       "</style>\n",
       "<table border=\"1\" class=\"dataframe\">\n",
       "  <thead>\n",
       "    <tr style=\"text-align: right;\">\n",
       "      <th></th>\n",
       "      <th>Unnamed: 0</th>\n",
       "      <th>지역</th>\n",
       "      <th>매출액</th>\n",
       "      <th>관객수</th>\n",
       "      <th>주</th>\n",
       "    </tr>\n",
       "  </thead>\n",
       "  <tbody>\n",
       "    <tr>\n",
       "      <th>0</th>\n",
       "      <td>5</td>\n",
       "      <td>서울시</td>\n",
       "      <td>2370034110</td>\n",
       "      <td>245237</td>\n",
       "      <td>2021-03-11</td>\n",
       "    </tr>\n",
       "    <tr>\n",
       "      <th>1</th>\n",
       "      <td>5</td>\n",
       "      <td>서울시</td>\n",
       "      <td>2089378170</td>\n",
       "      <td>221908</td>\n",
       "      <td>2021-03-18</td>\n",
       "    </tr>\n",
       "    <tr>\n",
       "      <th>2</th>\n",
       "      <td>5</td>\n",
       "      <td>서울시</td>\n",
       "      <td>2156717370</td>\n",
       "      <td>223590</td>\n",
       "      <td>2021-03-25</td>\n",
       "    </tr>\n",
       "    <tr>\n",
       "      <th>3</th>\n",
       "      <td>5</td>\n",
       "      <td>서울시</td>\n",
       "      <td>2394668990</td>\n",
       "      <td>261118</td>\n",
       "      <td>2021-04-01</td>\n",
       "    </tr>\n",
       "    <tr>\n",
       "      <th>4</th>\n",
       "      <td>5</td>\n",
       "      <td>서울시</td>\n",
       "      <td>1826626560</td>\n",
       "      <td>193633</td>\n",
       "      <td>2021-04-08</td>\n",
       "    </tr>\n",
       "  </tbody>\n",
       "</table>\n",
       "</div>"
      ],
      "text/plain": [
       "   Unnamed: 0   지역         매출액     관객수           주\n",
       "0           5  서울시  2370034110  245237  2021-03-11\n",
       "1           5  서울시  2089378170  221908  2021-03-18\n",
       "2           5  서울시  2156717370  223590  2021-03-25\n",
       "3           5  서울시  2394668990  261118  2021-04-01\n",
       "4           5  서울시  1826626560  193633  2021-04-08"
      ]
     },
     "execution_count": 92,
     "metadata": {},
     "output_type": "execute_result"
    }
   ],
   "source": [
    "seuoul_test_data_2021_bv.head()\n",
    "seuoul_test_data_2021_av.head()"
   ]
  },
  {
   "cell_type": "code",
   "execution_count": 93,
   "id": "1b9dc497",
   "metadata": {},
   "outputs": [],
   "source": [
    "movie_seoul_2021 = seuoul_test_data_2021_bv.sort_values(by=['주', '매출액'])"
   ]
  },
  {
   "cell_type": "code",
   "execution_count": 94,
   "id": "d5a1ef79",
   "metadata": {},
   "outputs": [
    {
     "data": {
      "text/plain": [
       "<seaborn.axisgrid.FacetGrid at 0x224a93d22b0>"
      ]
     },
     "execution_count": 94,
     "metadata": {},
     "output_type": "execute_result"
    },
    {
     "data": {
      "text/plain": [
       "<matplotlib.lines.Line2D at 0x224a935dd30>"
      ]
     },
     "execution_count": 94,
     "metadata": {},
     "output_type": "execute_result"
    },
    {
     "data": {
      "image/png": "[encoded data removed]",
      "text/plain": [
       "<Figure size 360x360 with 1 Axes>"
      ]
     },
     "metadata": {
      "needs_background": "light"
     },
     "output_type": "display_data"
    }
   ],
   "source": [
    "sns.catplot(data = movie_seoul_2021, x='주', y='매출액', kind = 'bar', palette = 'Greens')\n",
    "plt.axhline(avg_movie['매출액'][0],0.05, 0.95, color = 'red', linestyle = '--' )"
   ]
  },
  {
   "cell_type": "code",
   "execution_count": 96,
   "id": "8c88c53a",
   "metadata": {},
   "outputs": [],
   "source": [
    "movie_seoul_2021 = seuoul_test_data_2021_av.sort_values(by=['주', '매출액'])"
   ]
  },
  {
   "cell_type": "code",
   "execution_count": 97,
   "id": "558aade9",
   "metadata": {},
   "outputs": [
    {
     "data": {
      "text/plain": [
       "<seaborn.axisgrid.FacetGrid at 0x224aa6e2fd0>"
      ]
     },
     "execution_count": 97,
     "metadata": {},
     "output_type": "execute_result"
    },
    {
     "data": {
      "text/plain": [
       "<matplotlib.lines.Line2D at 0x224aa6f0460>"
      ]
     },
     "execution_count": 97,
     "metadata": {},
     "output_type": "execute_result"
    },
    {
     "data": {
      "image/png": "[encoded data removed]",
      "text/plain": [
       "<Figure size 360x360 with 1 Axes>"
      ]
     },
     "metadata": {
      "needs_background": "light"
     },
     "output_type": "display_data"
    }
   ],
   "source": [
    "sns.catplot(data = movie_seoul_2021, x='주', y='매출액', kind = 'bar', palette = 'Greens')\n",
    "plt.axhline(avg_movie['매출액'][0],0.05, 0.95, color = 'red', linestyle = '--' )"
   ]
  },
  {
   "cell_type": "code",
   "execution_count": 61,
   "id": "c447195e",
   "metadata": {},
   "outputs": [],
   "source": [
    "movie_seoul_2020 = seuoul_test_data_2020.sort_values(by=['기간', '매출액'])"
   ]
  },
  {
   "cell_type": "code",
   "execution_count": 74,
   "id": "bc0ca2b9",
   "metadata": {},
   "outputs": [
    {
     "data": {
      "text/plain": [
       "<seaborn.axisgrid.FacetGrid at 0x224a94ca040>"
      ]
     },
     "execution_count": 74,
     "metadata": {},
     "output_type": "execute_result"
    },
    {
     "data": {
      "text/plain": [
       "<matplotlib.lines.Line2D at 0x224a941dc40>"
      ]
     },
     "execution_count": 74,
     "metadata": {},
     "output_type": "execute_result"
    },
    {
     "data": {
      "image/png": "[encoded data removed]",
      "text/plain": [
       "<Figure size 360x360 with 1 Axes>"
      ]
     },
     "metadata": {
      "needs_background": "light"
     },
     "output_type": "display_data"
    }
   ],
   "source": [
    "sns.catplot(data = movie_seoul_2020, x='기간', y='매출액', kind = 'bar', palette = 'Greens')\n",
    "plt.axhline(avg_movie['매출액'][0],0.05, 0.95, color = 'red', linestyle = '--' )"
   ]
  },
  {
   "cell_type": "code",
   "execution_count": 71,
   "id": "edc87088",
   "metadata": {},
   "outputs": [],
   "source": [
    "customer_seoul_2020 = seuoul_test_data_2020.sort_values(by=['기간', '관객수'])"
   ]
  },
  {
   "cell_type": "code",
   "execution_count": 72,
   "id": "dd3c433e",
   "metadata": {},
   "outputs": [
    {
     "data": {
      "text/plain": [
       "<seaborn.axisgrid.FacetGrid at 0x224a93d94f0>"
      ]
     },
     "execution_count": 72,
     "metadata": {},
     "output_type": "execute_result"
    },
    {
     "data": {
      "text/plain": [
       "<matplotlib.lines.Line2D at 0x224a93d9910>"
      ]
     },
     "execution_count": 72,
     "metadata": {},
     "output_type": "execute_result"
    },
    {
     "data": {
      "image/png": "[encoded data removed]",
      "text/plain": [
       "<Figure size 360x360 with 1 Axes>"
      ]
     },
     "metadata": {
      "needs_background": "light"
     },
     "output_type": "display_data"
    }
   ],
   "source": [
    "sns.catplot(data = customer_seoul_2020, x='기간', y='관객수', kind = 'bar', palette = 'Greens')\n",
    "plt.axhline(avg_movie['관객수'][0],0.05, 0.95, color = 'red', linestyle = '--' )"
   ]
  },
  {
   "cell_type": "code",
   "execution_count": null,
   "id": "fc33476d",
   "metadata": {},
   "outputs": [],
   "source": []
  },
  {
   "cell_type": "code",
   "execution_count": null,
   "id": "8deef205",
   "metadata": {},
   "outputs": [],
   "source": []
  }
 ],
 "metadata": {
  "kernelspec": {
   "display_name": "Python 3",
   "language": "python",
   "name": "python3"
  },
  "language_info": {
   "codemirror_mode": {
    "name": "ipython",
    "version": 3
   },
   "file_extension": ".py",
   "mimetype": "text/x-python",
   "name": "python",
   "nbconvert_exporter": "python",
   "pygments_lexer": "ipython3",
   "version": "3.8.8"
  }
 },
 "nbformat": 4,
 "nbformat_minor": 5
}
