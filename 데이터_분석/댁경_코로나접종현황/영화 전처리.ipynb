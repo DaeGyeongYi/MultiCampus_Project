{
 "cells": [
  {
   "cell_type": "code",
   "execution_count": 235,
   "id": "cb00e4da",
   "metadata": {},
   "outputs": [],
   "source": [
    "import os\n",
    "import pandas as pd"
   ]
  },
  {
   "cell_type": "code",
   "execution_count": 236,
   "id": "a8545c00",
   "metadata": {},
   "outputs": [
    {
     "ename": "FileNotFoundError",
     "evalue": "[WinError 3] 지정된 경로를 찾을 수 없습니다: '../댁경_코로나접종현황/csv/'",
     "output_type": "error",
     "traceback": [
      "\u001b[1;31m---------------------------------------------------------------------------\u001b[0m",
      "\u001b[1;31mFileNotFoundError\u001b[0m                         Traceback (most recent call last)",
      "\u001b[1;32m<ipython-input-236-34afc04c6820>\u001b[0m in \u001b[0;36m<module>\u001b[1;34m\u001b[0m\n\u001b[1;32m----> 1\u001b[1;33m \u001b[0mos\u001b[0m\u001b[1;33m.\u001b[0m\u001b[0mchdir\u001b[0m\u001b[1;33m(\u001b[0m\u001b[0mpath\u001b[0m \u001b[1;33m=\u001b[0m \u001b[1;34m'../댁경_코로나접종현황/csv/'\u001b[0m\u001b[1;33m)\u001b[0m\u001b[1;33m\u001b[0m\u001b[1;33m\u001b[0m\u001b[0m\n\u001b[0m",
      "\u001b[1;31mFileNotFoundError\u001b[0m: [WinError 3] 지정된 경로를 찾을 수 없습니다: '../댁경_코로나접종현황/csv/'"
     ]
    }
   ],
   "source": [
    "os.chdir(path = '../댁경_코로나접종현황/csv/')\n"
   ]
  },
  {
   "cell_type": "code",
   "execution_count": null,
   "id": "72c56f8a",
   "metadata": {},
   "outputs": [],
   "source": [
    "curpath=os.getcwd()\n",
    "curpath"
   ]
  },
  {
   "cell_type": "code",
   "execution_count": null,
   "id": "3103a873",
   "metadata": {
    "scrolled": true
   },
   "outputs": [],
   "source": [
    "csv_list = os.listdir()\n",
    "csv_list"
   ]
  },
  {
   "cell_type": "code",
   "execution_count": null,
   "id": "1b738c8b",
   "metadata": {},
   "outputs": [],
   "source": [
    "sdate_range = pd.date_range('2021-01-01','2021-03-03',freq = '7D')\n",
    "sdate_range=pd.Series(sdate_range.format())"
   ]
  },
  {
   "cell_type": "code",
   "execution_count": null,
   "id": "c0b78846",
   "metadata": {},
   "outputs": [],
   "source": [
    "sdate_range"
   ]
  },
  {
   "cell_type": "code",
   "execution_count": null,
   "id": "e4ba2fd9",
   "metadata": {},
   "outputs": [],
   "source": [
    "for i in range(9):\n",
    "    globals()['list_{}'.format(i)] = pd.read_csv(csv_list[i])\n",
    "    globals()['list_{}'.format(i)] = globals()['list_{}'.format(i)].loc[[5,7],['■ 지역별 점유율','Unnamed: 10','Unnamed: 11']]\n",
    "    globals()['list_{}'.format(i)]['주'] = sdate_range[i]\n",
    "    globals()['list_{}'.format(i)].rename({'■ 지역별 점유율':'지역','Unnamed: 10':'매출액','Unnamed: 11':'관객수'},axis='columns',inplace=True)"
   ]
  },
  {
   "cell_type": "code",
   "execution_count": null,
   "id": "ed491e12",
   "metadata": {},
   "outputs": [],
   "source": [
    "list_0"
   ]
  },
  {
   "cell_type": "code",
   "execution_count": null,
   "id": "3fdf98e1",
   "metadata": {},
   "outputs": [],
   "source": [
    "for i in range(9):   \n",
    "    list_0 = pd.concat([list_0,globals()['list_{}'.format(i)]])"
   ]
  },
  {
   "cell_type": "code",
   "execution_count": null,
   "id": "6e66adc9",
   "metadata": {
    "scrolled": true
   },
   "outputs": [],
   "source": [
    "list_2021_sbv = list_0[list_0['지역']=='서울시']"
   ]
  },
  {
   "cell_type": "code",
   "execution_count": null,
   "id": "d9cbf5cd",
   "metadata": {},
   "outputs": [],
   "source": [
    "list_2021_bbv = list_0[list_0['지역']=='부산시']"
   ]
  },
  {
   "cell_type": "code",
   "execution_count": null,
   "id": "6578e618",
   "metadata": {},
   "outputs": [],
   "source": [
    "list_2021_sbv = list_2021_sbv.reset_index(drop=True)"
   ]
  },
  {
   "cell_type": "code",
   "execution_count": null,
   "id": "ed95e948",
   "metadata": {},
   "outputs": [],
   "source": [
    "list_2021_bbv = list_2021_bbv.reset_index(drop=True)"
   ]
  },
  {
   "cell_type": "code",
   "execution_count": null,
   "id": "edd856b8",
   "metadata": {},
   "outputs": [],
   "source": [
    "list_2021_bbv.to_csv('./2021_~02부산.csv',encoding='utf-8')"
   ]
  },
  {
   "cell_type": "code",
   "execution_count": null,
   "id": "efd871e2",
   "metadata": {},
   "outputs": [],
   "source": [
    "list_2021_sbv.to_csv('./2021_~02서울.csv',encoding='utf-8')"
   ]
  },
  {
   "cell_type": "code",
   "execution_count": null,
   "id": "886a6e3f",
   "metadata": {},
   "outputs": [],
   "source": [
    "sdate_range = pd.date_range('2021-03-11','2021-06-30',freq = '7D')\n",
    "sdate_range = pd.Series(sdate_range.format())"
   ]
  },
  {
   "cell_type": "code",
   "execution_count": null,
   "id": "be6cbff8",
   "metadata": {},
   "outputs": [],
   "source": [
    "sdate_range"
   ]
  },
  {
   "cell_type": "code",
   "execution_count": 237,
   "id": "4c53b5c9",
   "metadata": {},
   "outputs": [],
   "source": [
    "for i in range(9,):\n",
    "    globals()['list_{}'.format(i)] = pd.read_csv(csv_list[i])\n",
    "    globals()['list_{}'.format(i)] = globals()['list_{}'.format(i)].loc[[5,7],['■ 지역별 점유율','Unnamed: 10','Unnamed: 11']]\n",
    "    globals()['list_{}'.format(i)]['주'] = sdate_range[i]\n",
    "    globals()['list_{}'.format(i)].rename({'■ 지역별 점유율':'지역','Unnamed: 10':'매출액','Unnamed: 11':'관객수'},axis='columns',inplace=True)"
   ]
  },
  {
   "cell_type": "code",
   "execution_count": 238,
   "id": "a7a50afa",
   "metadata": {},
   "outputs": [],
   "source": [
    "for i in range(9):   \n",
    "    list_0 = pd.concat([list_0,globals()['list_{}'.format(i)]])"
   ]
  },
  {
   "cell_type": "code",
   "execution_count": 239,
   "id": "e467e862",
   "metadata": {},
   "outputs": [],
   "source": [
    "list_2021_sbv = list_0[list_0['지역']=='서울시']"
   ]
  },
  {
   "cell_type": "code",
   "execution_count": 240,
   "id": "7591da1b",
   "metadata": {},
   "outputs": [],
   "source": [
    "list_2021_bbv = list_0[list_0['지역']=='부산시']"
   ]
  },
  {
   "cell_type": "code",
   "execution_count": 241,
   "id": "483d4331",
   "metadata": {},
   "outputs": [],
   "source": [
    "list_2021_bbv.to_csv('./2021_03~06부산.csv',encoding='utf-8')"
   ]
  },
  {
   "cell_type": "code",
   "execution_count": 242,
   "id": "ce27ca3b",
   "metadata": {},
   "outputs": [],
   "source": [
    "list_2021_sbv.to_csv('./2021_03~06서울.csv',encoding='utf-8')"
   ]
  },
  {
   "cell_type": "code",
   "execution_count": null,
   "id": "a21ab4bb",
   "metadata": {},
   "outputs": [],
   "source": []
  }
 ],
 "metadata": {
  "kernelspec": {
   "display_name": "Python 3",
   "language": "python",
   "name": "python3"
  },
  "language_info": {
   "codemirror_mode": {
    "name": "ipython",
    "version": 3
   },
   "file_extension": ".py",
   "mimetype": "text/x-python",
   "name": "python",
   "nbconvert_exporter": "python",
   "pygments_lexer": "ipython3",
   "version": "3.8.8"
  }
 },
 "nbformat": 4,
 "nbformat_minor": 5
}
